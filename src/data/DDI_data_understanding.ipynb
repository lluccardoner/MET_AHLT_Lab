{
 "cells": [
  {
   "cell_type": "code",
   "execution_count": 1,
   "metadata": {},
   "outputs": [],
   "source": [
    "import sys\n",
    "from os import listdir\n",
    "import os\n",
    "\n",
    "from xml.dom.minidom import parse\n",
    "import pandas as pd\n",
    "import nltk"
   ]
  },
  {
   "cell_type": "code",
   "execution_count": 2,
   "metadata": {},
   "outputs": [],
   "source": [
    "datadir_drugbank = \"/Users/lluccardoner/PycharmProjects/MET_AHLT_Lab_2019/data/Train/DrugBank/\"\n",
    "datadir_medline = \"/Users/lluccardoner/PycharmProjects/MET_AHLT_Lab_2019/data/Train/MedLine/\""
   ]
  },
  {
   "cell_type": "markdown",
   "metadata": {},
   "source": [
    "# Load data"
   ]
  },
  {
   "cell_type": "code",
   "execution_count": 3,
   "metadata": {},
   "outputs": [],
   "source": [
    "def parse_XML_file(datadir):\n",
    "    trees = []\n",
    "    for f in listdir(datadir):\n",
    "        # parse XML file\n",
    "        tree = parse(datadir + \"/\" + f)\n",
    "        trees.append(tree)\n",
    "    return trees\n",
    "\n",
    "def parsed_to_df(parsed):\n",
    "    items = []\n",
    "    for tree in parsed:\n",
    "        for s in tree.getElementsByTagName(\"sentence\"):\n",
    "            s_id = s.attributes[\"id\"].value\n",
    "            s_txt = s.attributes[\"text\"].value\n",
    "            for p in s.getElementsByTagName(\"pair\"):\n",
    "                p_id = p.attributes[\"id\"].value\n",
    "                p_ddi = p.attributes[\"ddi\"].value\n",
    "                if p_ddi==\"true\" and \"type\" in p.attributes:\n",
    "                    p_type = p.attributes[\"type\"].value\n",
    "                else:\n",
    "                    p_type = \"null\"\n",
    "                p_e1 = p.attributes[\"e1\"].value\n",
    "                p_e2 = p.attributes[\"e2\"].value\n",
    "                item = {\"s_id\": s_id, \"s_txt\": s_txt, \"p_id\": p_id, \"p_ddi\": p_ddi, \"p_type\": p_type, \"p_e1\": p_e1, \"p_e2\": p_e2}\n",
    "                items.append(item)\n",
    "                \n",
    "    return pd.DataFrame(items)\n",
    "\n",
    "def load_data(datadir, training_set):\n",
    "    trees = parse_XML_file(datadir)\n",
    "    df_loaded = parsed_to_df(trees)\n",
    "    df_loaded['training_set'] = training_set\n",
    "    return df_loaded"
   ]
  },
  {
   "cell_type": "code",
   "execution_count": 4,
   "metadata": {},
   "outputs": [
    {
     "data": {
      "text/plain": [
       "(26005, 8)"
      ]
     },
     "execution_count": 4,
     "metadata": {},
     "output_type": "execute_result"
    }
   ],
   "source": [
    "df_drugbank = load_data(datadir_drugbank, \"drugbank\")\n",
    "df_drugbank.shape"
   ]
  },
  {
   "cell_type": "code",
   "execution_count": 5,
   "metadata": {},
   "outputs": [
    {
     "data": {
      "text/plain": [
       "(1787, 8)"
      ]
     },
     "execution_count": 5,
     "metadata": {},
     "output_type": "execute_result"
    }
   ],
   "source": [
    "df_medline = load_data(datadir_medline, \"medline\")\n",
    "df_medline.shape"
   ]
  },
  {
   "cell_type": "code",
   "execution_count": 6,
   "metadata": {},
   "outputs": [
    {
     "data": {
      "text/plain": [
       "(27792, 8)"
      ]
     },
     "execution_count": 6,
     "metadata": {},
     "output_type": "execute_result"
    }
   ],
   "source": [
    "df = df_drugbank.append(df_medline, ignore_index=True)\n",
    "df.shape"
   ]
  },
  {
   "cell_type": "markdown",
   "metadata": {},
   "source": [
    "## Drug Drug Interaction Pairs"
   ]
  },
  {
   "cell_type": "code",
   "execution_count": 7,
   "metadata": {},
   "outputs": [
    {
     "data": {
      "text/html": [
       "<div>\n",
       "<style scoped>\n",
       "    .dataframe tbody tr th:only-of-type {\n",
       "        vertical-align: middle;\n",
       "    }\n",
       "\n",
       "    .dataframe tbody tr th {\n",
       "        vertical-align: top;\n",
       "    }\n",
       "\n",
       "    .dataframe thead th {\n",
       "        text-align: right;\n",
       "    }\n",
       "</style>\n",
       "<table border=\"1\" class=\"dataframe\">\n",
       "  <thead>\n",
       "    <tr style=\"text-align: right;\">\n",
       "      <th></th>\n",
       "      <th>p_ddi</th>\n",
       "      <th>p_e1</th>\n",
       "      <th>p_e2</th>\n",
       "      <th>p_id</th>\n",
       "      <th>p_type</th>\n",
       "      <th>s_id</th>\n",
       "      <th>s_txt</th>\n",
       "      <th>training_set</th>\n",
       "    </tr>\n",
       "  </thead>\n",
       "  <tbody>\n",
       "    <tr>\n",
       "      <th>0</th>\n",
       "      <td>true</td>\n",
       "      <td>DDI-DrugBank.d481.s0.e0</td>\n",
       "      <td>DDI-DrugBank.d481.s0.e1</td>\n",
       "      <td>DDI-DrugBank.d481.s0.p0</td>\n",
       "      <td>mechanism</td>\n",
       "      <td>DDI-DrugBank.d481.s0</td>\n",
       "      <td>Milk, milk products, and calcium-rich foods or...</td>\n",
       "      <td>drugbank</td>\n",
       "    </tr>\n",
       "    <tr>\n",
       "      <th>1</th>\n",
       "      <td>true</td>\n",
       "      <td>DDI-DrugBank.d419.s0.e0</td>\n",
       "      <td>DDI-DrugBank.d419.s0.e1</td>\n",
       "      <td>DDI-DrugBank.d419.s0.p0</td>\n",
       "      <td>effect</td>\n",
       "      <td>DDI-DrugBank.d419.s0</td>\n",
       "      <td>The concurrent administration of allopurinol a...</td>\n",
       "      <td>drugbank</td>\n",
       "    </tr>\n",
       "    <tr>\n",
       "      <th>2</th>\n",
       "      <td>false</td>\n",
       "      <td>DDI-DrugBank.d419.s0.e0</td>\n",
       "      <td>DDI-DrugBank.d419.s0.e2</td>\n",
       "      <td>DDI-DrugBank.d419.s0.p1</td>\n",
       "      <td>null</td>\n",
       "      <td>DDI-DrugBank.d419.s0</td>\n",
       "      <td>The concurrent administration of allopurinol a...</td>\n",
       "      <td>drugbank</td>\n",
       "    </tr>\n",
       "    <tr>\n",
       "      <th>3</th>\n",
       "      <td>false</td>\n",
       "      <td>DDI-DrugBank.d419.s0.e1</td>\n",
       "      <td>DDI-DrugBank.d419.s0.e2</td>\n",
       "      <td>DDI-DrugBank.d419.s0.p2</td>\n",
       "      <td>null</td>\n",
       "      <td>DDI-DrugBank.d419.s0</td>\n",
       "      <td>The concurrent administration of allopurinol a...</td>\n",
       "      <td>drugbank</td>\n",
       "    </tr>\n",
       "    <tr>\n",
       "      <th>4</th>\n",
       "      <td>true</td>\n",
       "      <td>DDI-DrugBank.d419.s1.e0</td>\n",
       "      <td>DDI-DrugBank.d419.s1.e1</td>\n",
       "      <td>DDI-DrugBank.d419.s1.p0</td>\n",
       "      <td>effect</td>\n",
       "      <td>DDI-DrugBank.d419.s1</td>\n",
       "      <td>It is not known whether this potentiation of a...</td>\n",
       "      <td>drugbank</td>\n",
       "    </tr>\n",
       "  </tbody>\n",
       "</table>\n",
       "</div>"
      ],
      "text/plain": [
       "   p_ddi                     p_e1                     p_e2  \\\n",
       "0   true  DDI-DrugBank.d481.s0.e0  DDI-DrugBank.d481.s0.e1   \n",
       "1   true  DDI-DrugBank.d419.s0.e0  DDI-DrugBank.d419.s0.e1   \n",
       "2  false  DDI-DrugBank.d419.s0.e0  DDI-DrugBank.d419.s0.e2   \n",
       "3  false  DDI-DrugBank.d419.s0.e1  DDI-DrugBank.d419.s0.e2   \n",
       "4   true  DDI-DrugBank.d419.s1.e0  DDI-DrugBank.d419.s1.e1   \n",
       "\n",
       "                      p_id     p_type                  s_id  \\\n",
       "0  DDI-DrugBank.d481.s0.p0  mechanism  DDI-DrugBank.d481.s0   \n",
       "1  DDI-DrugBank.d419.s0.p0     effect  DDI-DrugBank.d419.s0   \n",
       "2  DDI-DrugBank.d419.s0.p1       null  DDI-DrugBank.d419.s0   \n",
       "3  DDI-DrugBank.d419.s0.p2       null  DDI-DrugBank.d419.s0   \n",
       "4  DDI-DrugBank.d419.s1.p0     effect  DDI-DrugBank.d419.s1   \n",
       "\n",
       "                                               s_txt training_set  \n",
       "0  Milk, milk products, and calcium-rich foods or...     drugbank  \n",
       "1  The concurrent administration of allopurinol a...     drugbank  \n",
       "2  The concurrent administration of allopurinol a...     drugbank  \n",
       "3  The concurrent administration of allopurinol a...     drugbank  \n",
       "4  It is not known whether this potentiation of a...     drugbank  "
      ]
     },
     "execution_count": 7,
     "metadata": {},
     "output_type": "execute_result"
    }
   ],
   "source": [
    "df_drugbank.head()"
   ]
  },
  {
   "cell_type": "code",
   "execution_count": 8,
   "metadata": {},
   "outputs": [
    {
     "data": {
      "text/html": [
       "<div>\n",
       "<style scoped>\n",
       "    .dataframe tbody tr th:only-of-type {\n",
       "        vertical-align: middle;\n",
       "    }\n",
       "\n",
       "    .dataframe tbody tr th {\n",
       "        vertical-align: top;\n",
       "    }\n",
       "\n",
       "    .dataframe thead th {\n",
       "        text-align: right;\n",
       "    }\n",
       "</style>\n",
       "<table border=\"1\" class=\"dataframe\">\n",
       "  <thead>\n",
       "    <tr style=\"text-align: right;\">\n",
       "      <th></th>\n",
       "      <th>p_ddi</th>\n",
       "      <th>p_e1</th>\n",
       "      <th>p_e2</th>\n",
       "      <th>p_id</th>\n",
       "      <th>p_type</th>\n",
       "      <th>s_id</th>\n",
       "      <th>s_txt</th>\n",
       "      <th>training_set</th>\n",
       "    </tr>\n",
       "  </thead>\n",
       "  <tbody>\n",
       "    <tr>\n",
       "      <th>0</th>\n",
       "      <td>false</td>\n",
       "      <td>DDI-MedLine.d69.s0.e0</td>\n",
       "      <td>DDI-MedLine.d69.s0.e1</td>\n",
       "      <td>DDI-MedLine.d69.s0.p0</td>\n",
       "      <td>null</td>\n",
       "      <td>DDI-MedLine.d69.s0</td>\n",
       "      <td>Differential regulation of tyrosine phosphoryl...</td>\n",
       "      <td>medline</td>\n",
       "    </tr>\n",
       "    <tr>\n",
       "      <th>1</th>\n",
       "      <td>false</td>\n",
       "      <td>DDI-MedLine.d69.s0.e0</td>\n",
       "      <td>DDI-MedLine.d69.s0.e2</td>\n",
       "      <td>DDI-MedLine.d69.s0.p1</td>\n",
       "      <td>null</td>\n",
       "      <td>DDI-MedLine.d69.s0</td>\n",
       "      <td>Differential regulation of tyrosine phosphoryl...</td>\n",
       "      <td>medline</td>\n",
       "    </tr>\n",
       "    <tr>\n",
       "      <th>2</th>\n",
       "      <td>false</td>\n",
       "      <td>DDI-MedLine.d69.s0.e1</td>\n",
       "      <td>DDI-MedLine.d69.s0.e2</td>\n",
       "      <td>DDI-MedLine.d69.s0.p2</td>\n",
       "      <td>null</td>\n",
       "      <td>DDI-MedLine.d69.s0</td>\n",
       "      <td>Differential regulation of tyrosine phosphoryl...</td>\n",
       "      <td>medline</td>\n",
       "    </tr>\n",
       "    <tr>\n",
       "      <th>3</th>\n",
       "      <td>false</td>\n",
       "      <td>DDI-MedLine.d69.s1.e0</td>\n",
       "      <td>DDI-MedLine.d69.s1.e1</td>\n",
       "      <td>DDI-MedLine.d69.s1.p0</td>\n",
       "      <td>null</td>\n",
       "      <td>DDI-MedLine.d69.s1</td>\n",
       "      <td>The homodimeric disintegrin contortrostatin wa...</td>\n",
       "      <td>medline</td>\n",
       "    </tr>\n",
       "    <tr>\n",
       "      <th>4</th>\n",
       "      <td>false</td>\n",
       "      <td>DDI-MedLine.d69.s1.e0</td>\n",
       "      <td>DDI-MedLine.d69.s1.e2</td>\n",
       "      <td>DDI-MedLine.d69.s1.p1</td>\n",
       "      <td>null</td>\n",
       "      <td>DDI-MedLine.d69.s1</td>\n",
       "      <td>The homodimeric disintegrin contortrostatin wa...</td>\n",
       "      <td>medline</td>\n",
       "    </tr>\n",
       "  </tbody>\n",
       "</table>\n",
       "</div>"
      ],
      "text/plain": [
       "   p_ddi                   p_e1                   p_e2                   p_id  \\\n",
       "0  false  DDI-MedLine.d69.s0.e0  DDI-MedLine.d69.s0.e1  DDI-MedLine.d69.s0.p0   \n",
       "1  false  DDI-MedLine.d69.s0.e0  DDI-MedLine.d69.s0.e2  DDI-MedLine.d69.s0.p1   \n",
       "2  false  DDI-MedLine.d69.s0.e1  DDI-MedLine.d69.s0.e2  DDI-MedLine.d69.s0.p2   \n",
       "3  false  DDI-MedLine.d69.s1.e0  DDI-MedLine.d69.s1.e1  DDI-MedLine.d69.s1.p0   \n",
       "4  false  DDI-MedLine.d69.s1.e0  DDI-MedLine.d69.s1.e2  DDI-MedLine.d69.s1.p1   \n",
       "\n",
       "  p_type                s_id  \\\n",
       "0   null  DDI-MedLine.d69.s0   \n",
       "1   null  DDI-MedLine.d69.s0   \n",
       "2   null  DDI-MedLine.d69.s0   \n",
       "3   null  DDI-MedLine.d69.s1   \n",
       "4   null  DDI-MedLine.d69.s1   \n",
       "\n",
       "                                               s_txt training_set  \n",
       "0  Differential regulation of tyrosine phosphoryl...      medline  \n",
       "1  Differential regulation of tyrosine phosphoryl...      medline  \n",
       "2  Differential regulation of tyrosine phosphoryl...      medline  \n",
       "3  The homodimeric disintegrin contortrostatin wa...      medline  \n",
       "4  The homodimeric disintegrin contortrostatin wa...      medline  "
      ]
     },
     "execution_count": 8,
     "metadata": {},
     "output_type": "execute_result"
    }
   ],
   "source": [
    "df_medline.head()"
   ]
  },
  {
   "cell_type": "markdown",
   "metadata": {},
   "source": [
    "### Total loaded rows"
   ]
  },
  {
   "cell_type": "code",
   "execution_count": 9,
   "metadata": {},
   "outputs": [
    {
     "data": {
      "text/html": [
       "<div>\n",
       "<style scoped>\n",
       "    .dataframe tbody tr th:only-of-type {\n",
       "        vertical-align: middle;\n",
       "    }\n",
       "\n",
       "    .dataframe tbody tr th {\n",
       "        vertical-align: top;\n",
       "    }\n",
       "\n",
       "    .dataframe thead th {\n",
       "        text-align: right;\n",
       "    }\n",
       "</style>\n",
       "<table border=\"1\" class=\"dataframe\">\n",
       "  <thead>\n",
       "    <tr style=\"text-align: right;\">\n",
       "      <th></th>\n",
       "      <th>p_id</th>\n",
       "    </tr>\n",
       "    <tr>\n",
       "      <th>training_set</th>\n",
       "      <th></th>\n",
       "    </tr>\n",
       "  </thead>\n",
       "  <tbody>\n",
       "    <tr>\n",
       "      <th>drugbank</th>\n",
       "      <td>26005</td>\n",
       "    </tr>\n",
       "    <tr>\n",
       "      <th>medline</th>\n",
       "      <td>1787</td>\n",
       "    </tr>\n",
       "  </tbody>\n",
       "</table>\n",
       "</div>"
      ],
      "text/plain": [
       "               p_id\n",
       "training_set       \n",
       "drugbank      26005\n",
       "medline        1787"
      ]
     },
     "execution_count": 9,
     "metadata": {},
     "output_type": "execute_result"
    }
   ],
   "source": [
    "df[['p_id', 'training_set']].groupby([\"training_set\"]).count()"
   ]
  },
  {
   "cell_type": "code",
   "execution_count": 10,
   "metadata": {},
   "outputs": [
    {
     "data": {
      "text/plain": [
       "training_set  p_ddi\n",
       "drugbank      false    22216\n",
       "              true      3789\n",
       "medline       false     1555\n",
       "              true       232\n",
       "Name: p_ddi, dtype: int64"
      ]
     },
     "execution_count": 10,
     "metadata": {},
     "output_type": "execute_result"
    }
   ],
   "source": [
    "df[['p_ddi', 'training_set']].groupby([\"training_set\"])[\"p_ddi\"].value_counts()"
   ]
  },
  {
   "cell_type": "code",
   "execution_count": 11,
   "metadata": {},
   "outputs": [
    {
     "data": {
      "text/plain": [
       "training_set  p_type   \n",
       "drugbank      null         22217\n",
       "              effect        1535\n",
       "              mechanism     1257\n",
       "              advise         818\n",
       "              int            178\n",
       "medline       null          1555\n",
       "              effect         152\n",
       "              mechanism       62\n",
       "              int             10\n",
       "              advise           8\n",
       "Name: p_type, dtype: int64"
      ]
     },
     "execution_count": 11,
     "metadata": {},
     "output_type": "execute_result"
    }
   ],
   "source": [
    "df[['p_type', 'training_set']].groupby([\"training_set\"])['p_type'].value_counts()"
   ]
  },
  {
   "cell_type": "code",
   "execution_count": 12,
   "metadata": {},
   "outputs": [
    {
     "data": {
      "text/html": [
       "<div>\n",
       "<style scoped>\n",
       "    .dataframe tbody tr th:only-of-type {\n",
       "        vertical-align: middle;\n",
       "    }\n",
       "\n",
       "    .dataframe tbody tr th {\n",
       "        vertical-align: top;\n",
       "    }\n",
       "\n",
       "    .dataframe thead tr th {\n",
       "        text-align: left;\n",
       "    }\n",
       "\n",
       "    .dataframe thead tr:last-of-type th {\n",
       "        text-align: right;\n",
       "    }\n",
       "</style>\n",
       "<table border=\"1\" class=\"dataframe\">\n",
       "  <thead>\n",
       "    <tr>\n",
       "      <th></th>\n",
       "      <th colspan=\"4\" halign=\"left\">p_ddi</th>\n",
       "      <th colspan=\"4\" halign=\"left\">p_type</th>\n",
       "    </tr>\n",
       "    <tr>\n",
       "      <th></th>\n",
       "      <th>count</th>\n",
       "      <th>unique</th>\n",
       "      <th>top</th>\n",
       "      <th>freq</th>\n",
       "      <th>count</th>\n",
       "      <th>unique</th>\n",
       "      <th>top</th>\n",
       "      <th>freq</th>\n",
       "    </tr>\n",
       "    <tr>\n",
       "      <th>training_set</th>\n",
       "      <th></th>\n",
       "      <th></th>\n",
       "      <th></th>\n",
       "      <th></th>\n",
       "      <th></th>\n",
       "      <th></th>\n",
       "      <th></th>\n",
       "      <th></th>\n",
       "    </tr>\n",
       "  </thead>\n",
       "  <tbody>\n",
       "    <tr>\n",
       "      <th>drugbank</th>\n",
       "      <td>26005</td>\n",
       "      <td>2</td>\n",
       "      <td>false</td>\n",
       "      <td>22216</td>\n",
       "      <td>26005</td>\n",
       "      <td>5</td>\n",
       "      <td>null</td>\n",
       "      <td>22217</td>\n",
       "    </tr>\n",
       "    <tr>\n",
       "      <th>medline</th>\n",
       "      <td>1787</td>\n",
       "      <td>2</td>\n",
       "      <td>false</td>\n",
       "      <td>1555</td>\n",
       "      <td>1787</td>\n",
       "      <td>5</td>\n",
       "      <td>null</td>\n",
       "      <td>1555</td>\n",
       "    </tr>\n",
       "  </tbody>\n",
       "</table>\n",
       "</div>"
      ],
      "text/plain": [
       "              p_ddi                      p_type                    \n",
       "              count unique    top   freq  count unique   top   freq\n",
       "training_set                                                       \n",
       "drugbank      26005      2  false  22216  26005      5  null  22217\n",
       "medline        1787      2  false   1555   1787      5  null   1555"
      ]
     },
     "execution_count": 12,
     "metadata": {},
     "output_type": "execute_result"
    }
   ],
   "source": [
    "df.groupby([\"training_set\"])[[\"p_ddi\", \"p_type\"]].describe()"
   ]
  }
 ],
 "metadata": {
  "kernelspec": {
   "display_name": "Python 3",
   "language": "python",
   "name": "python3"
  },
  "language_info": {
   "codemirror_mode": {
    "name": "ipython",
    "version": 3
   },
   "file_extension": ".py",
   "mimetype": "text/x-python",
   "name": "python",
   "nbconvert_exporter": "python",
   "pygments_lexer": "ipython3",
   "version": "3.6.8"
  }
 },
 "nbformat": 4,
 "nbformat_minor": 2
}
