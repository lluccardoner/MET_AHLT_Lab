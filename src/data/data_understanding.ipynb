{
 "cells": [
  {
   "cell_type": "code",
   "execution_count": 1,
   "metadata": {},
   "outputs": [],
   "source": [
    "import sys\n",
    "from os import listdir\n",
    "import os\n",
    "\n",
    "from xml.dom.minidom import parse\n",
    "import pandas as pd"
   ]
  },
  {
   "cell_type": "code",
   "execution_count": 2,
   "metadata": {},
   "outputs": [
    {
     "name": "stdout",
     "output_type": "stream",
     "text": [
      "/Users/lluccardoner/PycharmProjects/MET_AHLT_Lab_2019/data/Train/DrugBank/\n"
     ]
    }
   ],
   "source": [
    "#datadir = \"data/Train/MedLine\"\n",
    "datadir = \"/Users/lluccardoner/PycharmProjects/MET_AHLT_Lab_2019/data/Train/DrugBank/\"\n",
    "print(datadir)"
   ]
  },
  {
   "cell_type": "markdown",
   "metadata": {},
   "source": [
    "# Load data"
   ]
  },
  {
   "cell_type": "code",
   "execution_count": 3,
   "metadata": {},
   "outputs": [],
   "source": [
    "trees = []\n",
    "for f in listdir(datadir):\n",
    "    # parse XML file\n",
    "    tree = parse(datadir + \"/\" + f)\n",
    "    trees.append(tree)"
   ]
  },
  {
   "cell_type": "code",
   "execution_count": 4,
   "metadata": {},
   "outputs": [],
   "source": [
    "items = []\n",
    "for tree in trees:\n",
    "    for s in tree.getElementsByTagName(\"sentence\"):\n",
    "        s_id = s.attributes[\"id\"].value\n",
    "        s_txt = s.attributes[\"text\"].value\n",
    "        for e in s.getElementsByTagName(\"entity\"):\n",
    "            e_id = e.attributes[\"id\"].value\n",
    "            e_offset = e.attributes[\"charOffset\"].value \n",
    "            e_name = e.attributes[\"text\"].value\n",
    "            e_type = e.attributes[\"type\"].value\n",
    "            item = {\"s_id\": s_id, \"s_txt\": s_txt, \"e_id\": e_id, \"e_offset\": e_offset, \"e_name\": e_name, \"e_type\": e_type}\n",
    "            items.append(item)"
   ]
  },
  {
   "cell_type": "code",
   "execution_count": 5,
   "metadata": {},
   "outputs": [
    {
     "data": {
      "text/plain": [
       "(12929, 6)"
      ]
     },
     "execution_count": 5,
     "metadata": {},
     "output_type": "execute_result"
    }
   ],
   "source": [
    "df = pd.DataFrame(items)\n",
    "df.shape"
   ]
  },
  {
   "cell_type": "markdown",
   "metadata": {},
   "source": [
    "## Entities with sentences"
   ]
  },
  {
   "cell_type": "code",
   "execution_count": 6,
   "metadata": {},
   "outputs": [
    {
     "data": {
      "text/html": [
       "<div>\n",
       "<style scoped>\n",
       "    .dataframe tbody tr th:only-of-type {\n",
       "        vertical-align: middle;\n",
       "    }\n",
       "\n",
       "    .dataframe tbody tr th {\n",
       "        vertical-align: top;\n",
       "    }\n",
       "\n",
       "    .dataframe thead th {\n",
       "        text-align: right;\n",
       "    }\n",
       "</style>\n",
       "<table border=\"1\" class=\"dataframe\">\n",
       "  <thead>\n",
       "    <tr style=\"text-align: right;\">\n",
       "      <th></th>\n",
       "      <th>e_id</th>\n",
       "      <th>e_name</th>\n",
       "      <th>e_offset</th>\n",
       "      <th>e_type</th>\n",
       "      <th>s_id</th>\n",
       "      <th>s_txt</th>\n",
       "    </tr>\n",
       "  </thead>\n",
       "  <tbody>\n",
       "    <tr>\n",
       "      <th>0</th>\n",
       "      <td>DDI-DrugBank.d481.s0.e0</td>\n",
       "      <td>calcium</td>\n",
       "      <td>25-31</td>\n",
       "      <td>drug</td>\n",
       "      <td>DDI-DrugBank.d481.s0</td>\n",
       "      <td>Milk, milk products, and calcium-rich foods or...</td>\n",
       "    </tr>\n",
       "    <tr>\n",
       "      <th>1</th>\n",
       "      <td>DDI-DrugBank.d481.s0.e1</td>\n",
       "      <td>EMCYT</td>\n",
       "      <td>82-86</td>\n",
       "      <td>brand</td>\n",
       "      <td>DDI-DrugBank.d481.s0</td>\n",
       "      <td>Milk, milk products, and calcium-rich foods or...</td>\n",
       "    </tr>\n",
       "    <tr>\n",
       "      <th>2</th>\n",
       "      <td>DDI-DrugBank.d419.s0.e0</td>\n",
       "      <td>allopurinol</td>\n",
       "      <td>33-43</td>\n",
       "      <td>drug</td>\n",
       "      <td>DDI-DrugBank.d419.s0</td>\n",
       "      <td>The concurrent administration of allopurinol a...</td>\n",
       "    </tr>\n",
       "    <tr>\n",
       "      <th>3</th>\n",
       "      <td>DDI-DrugBank.d419.s0.e1</td>\n",
       "      <td>ampicillin</td>\n",
       "      <td>49-58</td>\n",
       "      <td>drug</td>\n",
       "      <td>DDI-DrugBank.d419.s0</td>\n",
       "      <td>The concurrent administration of allopurinol a...</td>\n",
       "    </tr>\n",
       "    <tr>\n",
       "      <th>4</th>\n",
       "      <td>DDI-DrugBank.d419.s0.e2</td>\n",
       "      <td>ampicillin</td>\n",
       "      <td>175-184</td>\n",
       "      <td>drug</td>\n",
       "      <td>DDI-DrugBank.d419.s0</td>\n",
       "      <td>The concurrent administration of allopurinol a...</td>\n",
       "    </tr>\n",
       "    <tr>\n",
       "      <th>5</th>\n",
       "      <td>DDI-DrugBank.d419.s1.e0</td>\n",
       "      <td>ampicillin</td>\n",
       "      <td>45-54</td>\n",
       "      <td>drug</td>\n",
       "      <td>DDI-DrugBank.d419.s1</td>\n",
       "      <td>It is not known whether this potentiation of a...</td>\n",
       "    </tr>\n",
       "    <tr>\n",
       "      <th>6</th>\n",
       "      <td>DDI-DrugBank.d419.s1.e1</td>\n",
       "      <td>allopurinol</td>\n",
       "      <td>73-83</td>\n",
       "      <td>drug</td>\n",
       "      <td>DDI-DrugBank.d419.s1</td>\n",
       "      <td>It is not known whether this potentiation of a...</td>\n",
       "    </tr>\n",
       "    <tr>\n",
       "      <th>7</th>\n",
       "      <td>DDI-DrugBank.d419.s2.e0</td>\n",
       "      <td>AUGMENTIN XR</td>\n",
       "      <td>33-44</td>\n",
       "      <td>brand</td>\n",
       "      <td>DDI-DrugBank.d419.s2</td>\n",
       "      <td>In controlled clinical trials of AUGMENTIN XR,...</td>\n",
       "    </tr>\n",
       "    <tr>\n",
       "      <th>8</th>\n",
       "      <td>DDI-DrugBank.d419.s2.e1</td>\n",
       "      <td>allopurinol</td>\n",
       "      <td>80-90</td>\n",
       "      <td>drug</td>\n",
       "      <td>DDI-DrugBank.d419.s2</td>\n",
       "      <td>In controlled clinical trials of AUGMENTIN XR,...</td>\n",
       "    </tr>\n",
       "    <tr>\n",
       "      <th>9</th>\n",
       "      <td>DDI-DrugBank.d419.s2.e2</td>\n",
       "      <td>AUGMENTIN XR</td>\n",
       "      <td>96-107</td>\n",
       "      <td>brand</td>\n",
       "      <td>DDI-DrugBank.d419.s2</td>\n",
       "      <td>In controlled clinical trials of AUGMENTIN XR,...</td>\n",
       "    </tr>\n",
       "  </tbody>\n",
       "</table>\n",
       "</div>"
      ],
      "text/plain": [
       "                      e_id        e_name e_offset e_type  \\\n",
       "0  DDI-DrugBank.d481.s0.e0       calcium    25-31   drug   \n",
       "1  DDI-DrugBank.d481.s0.e1         EMCYT    82-86  brand   \n",
       "2  DDI-DrugBank.d419.s0.e0   allopurinol    33-43   drug   \n",
       "3  DDI-DrugBank.d419.s0.e1    ampicillin    49-58   drug   \n",
       "4  DDI-DrugBank.d419.s0.e2    ampicillin  175-184   drug   \n",
       "5  DDI-DrugBank.d419.s1.e0    ampicillin    45-54   drug   \n",
       "6  DDI-DrugBank.d419.s1.e1   allopurinol    73-83   drug   \n",
       "7  DDI-DrugBank.d419.s2.e0  AUGMENTIN XR    33-44  brand   \n",
       "8  DDI-DrugBank.d419.s2.e1   allopurinol    80-90   drug   \n",
       "9  DDI-DrugBank.d419.s2.e2  AUGMENTIN XR   96-107  brand   \n",
       "\n",
       "                   s_id                                              s_txt  \n",
       "0  DDI-DrugBank.d481.s0  Milk, milk products, and calcium-rich foods or...  \n",
       "1  DDI-DrugBank.d481.s0  Milk, milk products, and calcium-rich foods or...  \n",
       "2  DDI-DrugBank.d419.s0  The concurrent administration of allopurinol a...  \n",
       "3  DDI-DrugBank.d419.s0  The concurrent administration of allopurinol a...  \n",
       "4  DDI-DrugBank.d419.s0  The concurrent administration of allopurinol a...  \n",
       "5  DDI-DrugBank.d419.s1  It is not known whether this potentiation of a...  \n",
       "6  DDI-DrugBank.d419.s1  It is not known whether this potentiation of a...  \n",
       "7  DDI-DrugBank.d419.s2  In controlled clinical trials of AUGMENTIN XR,...  \n",
       "8  DDI-DrugBank.d419.s2  In controlled clinical trials of AUGMENTIN XR,...  \n",
       "9  DDI-DrugBank.d419.s2  In controlled clinical trials of AUGMENTIN XR,...  "
      ]
     },
     "execution_count": 6,
     "metadata": {},
     "output_type": "execute_result"
    }
   ],
   "source": [
    "df.head(10)"
   ]
  },
  {
   "cell_type": "code",
   "execution_count": 7,
   "metadata": {},
   "outputs": [
    {
     "data": {
      "text/plain": [
       "drug      8197\n",
       "group     3206\n",
       "brand     1423\n",
       "drug_n     103\n",
       "Name: e_type, dtype: int64"
      ]
     },
     "execution_count": 7,
     "metadata": {},
     "output_type": "execute_result"
    }
   ],
   "source": [
    "df[\"e_type\"].value_counts()"
   ]
  },
  {
   "cell_type": "code",
   "execution_count": 8,
   "metadata": {},
   "outputs": [
    {
     "data": {
      "text/plain": [
       "digoxin          176\n",
       "warfarin         176\n",
       "phenytoin        157\n",
       "lithium          119\n",
       "theophylline     115\n",
       "ketoconazole     107\n",
       "cimetidine        89\n",
       "carbamazepine     81\n",
       "erythromycin      79\n",
       "aspirin           79\n",
       "Name: e_name, dtype: int64"
      ]
     },
     "execution_count": 8,
     "metadata": {},
     "output_type": "execute_result"
    }
   ],
   "source": [
    "df[\"e_name\"].value_counts()[:10]"
   ]
  },
  {
   "cell_type": "code",
   "execution_count": 9,
   "metadata": {},
   "outputs": [
    {
     "data": {
      "text/html": [
       "<div>\n",
       "<style scoped>\n",
       "    .dataframe tbody tr th:only-of-type {\n",
       "        vertical-align: middle;\n",
       "    }\n",
       "\n",
       "    .dataframe tbody tr th {\n",
       "        vertical-align: top;\n",
       "    }\n",
       "\n",
       "    .dataframe thead th {\n",
       "        text-align: right;\n",
       "    }\n",
       "</style>\n",
       "<table border=\"1\" class=\"dataframe\">\n",
       "  <thead>\n",
       "    <tr style=\"text-align: right;\">\n",
       "      <th></th>\n",
       "      <th>e_id</th>\n",
       "      <th>e_name</th>\n",
       "      <th>e_offset</th>\n",
       "      <th>e_type</th>\n",
       "      <th>s_id</th>\n",
       "      <th>s_txt</th>\n",
       "    </tr>\n",
       "  </thead>\n",
       "  <tbody>\n",
       "    <tr>\n",
       "      <th>count</th>\n",
       "      <td>12929</td>\n",
       "      <td>12929</td>\n",
       "      <td>12929</td>\n",
       "      <td>12929</td>\n",
       "      <td>12929</td>\n",
       "      <td>12929</td>\n",
       "    </tr>\n",
       "    <tr>\n",
       "      <th>unique</th>\n",
       "      <td>12929</td>\n",
       "      <td>2655</td>\n",
       "      <td>3957</td>\n",
       "      <td>4</td>\n",
       "      <td>4683</td>\n",
       "      <td>4505</td>\n",
       "    </tr>\n",
       "    <tr>\n",
       "      <th>top</th>\n",
       "      <td>DDI-DrugBank.d415.s15.e0</td>\n",
       "      <td>digoxin</td>\n",
       "      <td>0-9</td>\n",
       "      <td>drug</td>\n",
       "      <td>DDI-DrugBank.d64.s87</td>\n",
       "      <td>Drugs that reportedly may increase oral antico...</td>\n",
       "    </tr>\n",
       "    <tr>\n",
       "      <th>freq</th>\n",
       "      <td>1</td>\n",
       "      <td>176</td>\n",
       "      <td>267</td>\n",
       "      <td>8197</td>\n",
       "      <td>55</td>\n",
       "      <td>55</td>\n",
       "    </tr>\n",
       "  </tbody>\n",
       "</table>\n",
       "</div>"
      ],
      "text/plain": [
       "                            e_id   e_name e_offset e_type  \\\n",
       "count                      12929    12929    12929  12929   \n",
       "unique                     12929     2655     3957      4   \n",
       "top     DDI-DrugBank.d415.s15.e0  digoxin      0-9   drug   \n",
       "freq                           1      176      267   8197   \n",
       "\n",
       "                        s_id  \\\n",
       "count                  12929   \n",
       "unique                  4683   \n",
       "top     DDI-DrugBank.d64.s87   \n",
       "freq                      55   \n",
       "\n",
       "                                                    s_txt  \n",
       "count                                               12929  \n",
       "unique                                               4505  \n",
       "top     Drugs that reportedly may increase oral antico...  \n",
       "freq                                                   55  "
      ]
     },
     "execution_count": 9,
     "metadata": {},
     "output_type": "execute_result"
    }
   ],
   "source": [
    "df.describe()"
   ]
  },
  {
   "cell_type": "markdown",
   "metadata": {},
   "source": [
    "## Entities and type "
   ]
  },
  {
   "cell_type": "code",
   "execution_count": 10,
   "metadata": {},
   "outputs": [
    {
     "data": {
      "text/html": [
       "<div>\n",
       "<style scoped>\n",
       "    .dataframe tbody tr th:only-of-type {\n",
       "        vertical-align: middle;\n",
       "    }\n",
       "\n",
       "    .dataframe tbody tr th {\n",
       "        vertical-align: top;\n",
       "    }\n",
       "\n",
       "    .dataframe thead th {\n",
       "        text-align: right;\n",
       "    }\n",
       "</style>\n",
       "<table border=\"1\" class=\"dataframe\">\n",
       "  <thead>\n",
       "    <tr style=\"text-align: right;\">\n",
       "      <th></th>\n",
       "      <th>e_name</th>\n",
       "      <th>e_type</th>\n",
       "    </tr>\n",
       "  </thead>\n",
       "  <tbody>\n",
       "    <tr>\n",
       "      <th>0</th>\n",
       "      <td>calcium</td>\n",
       "      <td>drug</td>\n",
       "    </tr>\n",
       "    <tr>\n",
       "      <th>1</th>\n",
       "      <td>EMCYT</td>\n",
       "      <td>brand</td>\n",
       "    </tr>\n",
       "    <tr>\n",
       "      <th>2</th>\n",
       "      <td>allopurinol</td>\n",
       "      <td>drug</td>\n",
       "    </tr>\n",
       "    <tr>\n",
       "      <th>3</th>\n",
       "      <td>ampicillin</td>\n",
       "      <td>drug</td>\n",
       "    </tr>\n",
       "    <tr>\n",
       "      <th>7</th>\n",
       "      <td>AUGMENTIN XR</td>\n",
       "      <td>brand</td>\n",
       "    </tr>\n",
       "    <tr>\n",
       "      <th>12</th>\n",
       "      <td>broad-spectrum antibiotics</td>\n",
       "      <td>group</td>\n",
       "    </tr>\n",
       "    <tr>\n",
       "      <th>14</th>\n",
       "      <td>contraceptives</td>\n",
       "      <td>group</td>\n",
       "    </tr>\n",
       "    <tr>\n",
       "      <th>15</th>\n",
       "      <td>PROCRIT</td>\n",
       "      <td>brand</td>\n",
       "    </tr>\n",
       "    <tr>\n",
       "      <th>16</th>\n",
       "      <td>central nervous system depressants</td>\n",
       "      <td>group</td>\n",
       "    </tr>\n",
       "    <tr>\n",
       "      <th>17</th>\n",
       "      <td>benzodiazepines</td>\n",
       "      <td>group</td>\n",
       "    </tr>\n",
       "  </tbody>\n",
       "</table>\n",
       "</div>"
      ],
      "text/plain": [
       "                                e_name e_type\n",
       "0                              calcium   drug\n",
       "1                                EMCYT  brand\n",
       "2                          allopurinol   drug\n",
       "3                           ampicillin   drug\n",
       "7                         AUGMENTIN XR  brand\n",
       "12          broad-spectrum antibiotics  group\n",
       "14                      contraceptives  group\n",
       "15                             PROCRIT  brand\n",
       "16  central nervous system depressants  group\n",
       "17                     benzodiazepines  group"
      ]
     },
     "execution_count": 10,
     "metadata": {},
     "output_type": "execute_result"
    }
   ],
   "source": [
    "df_e = df[[\"e_name\", \"e_type\"]].drop_duplicates()\n",
    "df_e.head(10)"
   ]
  },
  {
   "cell_type": "code",
   "execution_count": 11,
   "metadata": {},
   "outputs": [
    {
     "data": {
      "text/html": [
       "<div>\n",
       "<style scoped>\n",
       "    .dataframe tbody tr th:only-of-type {\n",
       "        vertical-align: middle;\n",
       "    }\n",
       "\n",
       "    .dataframe tbody tr th {\n",
       "        vertical-align: top;\n",
       "    }\n",
       "\n",
       "    .dataframe thead th {\n",
       "        text-align: right;\n",
       "    }\n",
       "</style>\n",
       "<table border=\"1\" class=\"dataframe\">\n",
       "  <thead>\n",
       "    <tr style=\"text-align: right;\">\n",
       "      <th></th>\n",
       "      <th>e_name</th>\n",
       "      <th>e_type</th>\n",
       "    </tr>\n",
       "  </thead>\n",
       "  <tbody>\n",
       "    <tr>\n",
       "      <th>count</th>\n",
       "      <td>2719</td>\n",
       "      <td>2719</td>\n",
       "    </tr>\n",
       "    <tr>\n",
       "      <th>unique</th>\n",
       "      <td>2655</td>\n",
       "      <td>4</td>\n",
       "    </tr>\n",
       "    <tr>\n",
       "      <th>top</th>\n",
       "      <td>iodine</td>\n",
       "      <td>drug</td>\n",
       "    </tr>\n",
       "    <tr>\n",
       "      <th>freq</th>\n",
       "      <td>2</td>\n",
       "      <td>1393</td>\n",
       "    </tr>\n",
       "  </tbody>\n",
       "</table>\n",
       "</div>"
      ],
      "text/plain": [
       "        e_name e_type\n",
       "count     2719   2719\n",
       "unique    2655      4\n",
       "top     iodine   drug\n",
       "freq         2   1393"
      ]
     },
     "execution_count": 11,
     "metadata": {},
     "output_type": "execute_result"
    }
   ],
   "source": [
    "# there are names that have more than one type\n",
    "df_e.describe()"
   ]
  },
  {
   "cell_type": "code",
   "execution_count": 12,
   "metadata": {},
   "outputs": [
    {
     "data": {
      "text/html": [
       "<div>\n",
       "<style scoped>\n",
       "    .dataframe tbody tr th:only-of-type {\n",
       "        vertical-align: middle;\n",
       "    }\n",
       "\n",
       "    .dataframe tbody tr th {\n",
       "        vertical-align: top;\n",
       "    }\n",
       "\n",
       "    .dataframe thead th {\n",
       "        text-align: right;\n",
       "    }\n",
       "</style>\n",
       "<table border=\"1\" class=\"dataframe\">\n",
       "  <thead>\n",
       "    <tr style=\"text-align: right;\">\n",
       "      <th></th>\n",
       "      <th>e_id</th>\n",
       "      <th>e_name</th>\n",
       "      <th>e_offset</th>\n",
       "      <th>e_type</th>\n",
       "      <th>s_id</th>\n",
       "      <th>s_txt</th>\n",
       "    </tr>\n",
       "  </thead>\n",
       "  <tbody>\n",
       "    <tr>\n",
       "      <th>6272</th>\n",
       "      <td>DDI-DrugBank.d224.s6.e1</td>\n",
       "      <td>neuroleptic</td>\n",
       "      <td>96-106</td>\n",
       "      <td>group</td>\n",
       "      <td>DDI-DrugBank.d224.s6</td>\n",
       "      <td>An additive hypotensive effect has been report...</td>\n",
       "    </tr>\n",
       "    <tr>\n",
       "      <th>8689</th>\n",
       "      <td>DDI-DrugBank.d99.s19.e2</td>\n",
       "      <td>neuroleptic</td>\n",
       "      <td>106-116</td>\n",
       "      <td>drug</td>\n",
       "      <td>DDI-DrugBank.d99.s19</td>\n",
       "      <td>Hyperpyrexia has been reported when amitriptyl...</td>\n",
       "    </tr>\n",
       "  </tbody>\n",
       "</table>\n",
       "</div>"
      ],
      "text/plain": [
       "                         e_id       e_name e_offset e_type  \\\n",
       "6272  DDI-DrugBank.d224.s6.e1  neuroleptic   96-106  group   \n",
       "8689  DDI-DrugBank.d99.s19.e2  neuroleptic  106-116   drug   \n",
       "\n",
       "                      s_id                                              s_txt  \n",
       "6272  DDI-DrugBank.d224.s6  An additive hypotensive effect has been report...  \n",
       "8689  DDI-DrugBank.d99.s19  Hyperpyrexia has been reported when amitriptyl...  "
      ]
     },
     "execution_count": 12,
     "metadata": {},
     "output_type": "execute_result"
    }
   ],
   "source": [
    "df[df[\"e_name\"]==\"neuroleptic\"].head()"
   ]
  },
  {
   "cell_type": "markdown",
   "metadata": {},
   "source": [
    "## Feature analysis"
   ]
  },
  {
   "cell_type": "markdown",
   "metadata": {},
   "source": [
    "### Upper case"
   ]
  },
  {
   "cell_type": "code",
   "execution_count": 13,
   "metadata": {},
   "outputs": [
    {
     "data": {
      "text/html": [
       "<div>\n",
       "<style scoped>\n",
       "    .dataframe tbody tr th:only-of-type {\n",
       "        vertical-align: middle;\n",
       "    }\n",
       "\n",
       "    .dataframe tbody tr th {\n",
       "        vertical-align: top;\n",
       "    }\n",
       "\n",
       "    .dataframe thead th {\n",
       "        text-align: right;\n",
       "    }\n",
       "</style>\n",
       "<table border=\"1\" class=\"dataframe\">\n",
       "  <thead>\n",
       "    <tr style=\"text-align: right;\">\n",
       "      <th></th>\n",
       "      <th>e_name</th>\n",
       "      <th>e_type</th>\n",
       "      <th>is_upper</th>\n",
       "    </tr>\n",
       "  </thead>\n",
       "  <tbody>\n",
       "    <tr>\n",
       "      <th>0</th>\n",
       "      <td>calcium</td>\n",
       "      <td>drug</td>\n",
       "      <td>False</td>\n",
       "    </tr>\n",
       "    <tr>\n",
       "      <th>1</th>\n",
       "      <td>EMCYT</td>\n",
       "      <td>brand</td>\n",
       "      <td>True</td>\n",
       "    </tr>\n",
       "    <tr>\n",
       "      <th>2</th>\n",
       "      <td>allopurinol</td>\n",
       "      <td>drug</td>\n",
       "      <td>False</td>\n",
       "    </tr>\n",
       "    <tr>\n",
       "      <th>3</th>\n",
       "      <td>ampicillin</td>\n",
       "      <td>drug</td>\n",
       "      <td>False</td>\n",
       "    </tr>\n",
       "    <tr>\n",
       "      <th>7</th>\n",
       "      <td>AUGMENTIN XR</td>\n",
       "      <td>brand</td>\n",
       "      <td>True</td>\n",
       "    </tr>\n",
       "  </tbody>\n",
       "</table>\n",
       "</div>"
      ],
      "text/plain": [
       "         e_name e_type  is_upper\n",
       "0       calcium   drug     False\n",
       "1         EMCYT  brand      True\n",
       "2   allopurinol   drug     False\n",
       "3    ampicillin   drug     False\n",
       "7  AUGMENTIN XR  brand      True"
      ]
     },
     "execution_count": 13,
     "metadata": {},
     "output_type": "execute_result"
    }
   ],
   "source": [
    "df_e['is_upper'] = df_e['e_name'].apply(lambda x : x.isupper())\n",
    "df_e.head()"
   ]
  },
  {
   "cell_type": "code",
   "execution_count": 14,
   "metadata": {},
   "outputs": [
    {
     "data": {
      "text/html": [
       "<div>\n",
       "<style scoped>\n",
       "    .dataframe tbody tr th:only-of-type {\n",
       "        vertical-align: middle;\n",
       "    }\n",
       "\n",
       "    .dataframe tbody tr th {\n",
       "        vertical-align: top;\n",
       "    }\n",
       "\n",
       "    .dataframe thead th {\n",
       "        text-align: right;\n",
       "    }\n",
       "</style>\n",
       "<table border=\"1\" class=\"dataframe\">\n",
       "  <thead>\n",
       "    <tr style=\"text-align: right;\">\n",
       "      <th></th>\n",
       "      <th></th>\n",
       "      <th>e_name</th>\n",
       "    </tr>\n",
       "    <tr>\n",
       "      <th>e_type</th>\n",
       "      <th>is_upper</th>\n",
       "      <th></th>\n",
       "    </tr>\n",
       "  </thead>\n",
       "  <tbody>\n",
       "    <tr>\n",
       "      <th rowspan=\"2\" valign=\"top\">brand</th>\n",
       "      <th>False</th>\n",
       "      <td>225</td>\n",
       "    </tr>\n",
       "    <tr>\n",
       "      <th>True</th>\n",
       "      <td>165</td>\n",
       "    </tr>\n",
       "    <tr>\n",
       "      <th rowspan=\"2\" valign=\"top\">drug</th>\n",
       "      <th>False</th>\n",
       "      <td>1356</td>\n",
       "    </tr>\n",
       "    <tr>\n",
       "      <th>True</th>\n",
       "      <td>37</td>\n",
       "    </tr>\n",
       "    <tr>\n",
       "      <th rowspan=\"2\" valign=\"top\">drug_n</th>\n",
       "      <th>False</th>\n",
       "      <td>57</td>\n",
       "    </tr>\n",
       "    <tr>\n",
       "      <th>True</th>\n",
       "      <td>9</td>\n",
       "    </tr>\n",
       "    <tr>\n",
       "      <th rowspan=\"2\" valign=\"top\">group</th>\n",
       "      <th>False</th>\n",
       "      <td>852</td>\n",
       "    </tr>\n",
       "    <tr>\n",
       "      <th>True</th>\n",
       "      <td>18</td>\n",
       "    </tr>\n",
       "  </tbody>\n",
       "</table>\n",
       "</div>"
      ],
      "text/plain": [
       "                 e_name\n",
       "e_type is_upper        \n",
       "brand  False        225\n",
       "       True         165\n",
       "drug   False       1356\n",
       "       True          37\n",
       "drug_n False         57\n",
       "       True           9\n",
       "group  False        852\n",
       "       True          18"
      ]
     },
     "execution_count": 14,
     "metadata": {},
     "output_type": "execute_result"
    }
   ],
   "source": [
    "df_e.groupby(['e_type', 'is_upper']).count()"
   ]
  },
  {
   "cell_type": "markdown",
   "metadata": {},
   "source": [
    "### Suffixes"
   ]
  },
  {
   "cell_type": "code",
   "execution_count": 15,
   "metadata": {},
   "outputs": [
    {
     "data": {
      "text/html": [
       "<div>\n",
       "<style scoped>\n",
       "    .dataframe tbody tr th:only-of-type {\n",
       "        vertical-align: middle;\n",
       "    }\n",
       "\n",
       "    .dataframe tbody tr th {\n",
       "        vertical-align: top;\n",
       "    }\n",
       "\n",
       "    .dataframe thead th {\n",
       "        text-align: right;\n",
       "    }\n",
       "</style>\n",
       "<table border=\"1\" class=\"dataframe\">\n",
       "  <thead>\n",
       "    <tr style=\"text-align: right;\">\n",
       "      <th></th>\n",
       "      <th>e_name</th>\n",
       "      <th>e_type</th>\n",
       "      <th>is_upper</th>\n",
       "      <th>suffix_5</th>\n",
       "      <th>suffix_4</th>\n",
       "    </tr>\n",
       "  </thead>\n",
       "  <tbody>\n",
       "    <tr>\n",
       "      <th>0</th>\n",
       "      <td>calcium</td>\n",
       "      <td>drug</td>\n",
       "      <td>False</td>\n",
       "      <td>lcium</td>\n",
       "      <td>cium</td>\n",
       "    </tr>\n",
       "    <tr>\n",
       "      <th>1</th>\n",
       "      <td>EMCYT</td>\n",
       "      <td>brand</td>\n",
       "      <td>True</td>\n",
       "      <td>emcyt</td>\n",
       "      <td>mcyt</td>\n",
       "    </tr>\n",
       "    <tr>\n",
       "      <th>2</th>\n",
       "      <td>allopurinol</td>\n",
       "      <td>drug</td>\n",
       "      <td>False</td>\n",
       "      <td>rinol</td>\n",
       "      <td>inol</td>\n",
       "    </tr>\n",
       "    <tr>\n",
       "      <th>3</th>\n",
       "      <td>ampicillin</td>\n",
       "      <td>drug</td>\n",
       "      <td>False</td>\n",
       "      <td>illin</td>\n",
       "      <td>llin</td>\n",
       "    </tr>\n",
       "    <tr>\n",
       "      <th>7</th>\n",
       "      <td>AUGMENTIN XR</td>\n",
       "      <td>brand</td>\n",
       "      <td>True</td>\n",
       "      <td>in xr</td>\n",
       "      <td>n xr</td>\n",
       "    </tr>\n",
       "  </tbody>\n",
       "</table>\n",
       "</div>"
      ],
      "text/plain": [
       "         e_name e_type  is_upper suffix_5 suffix_4\n",
       "0       calcium   drug     False    lcium     cium\n",
       "1         EMCYT  brand      True    emcyt     mcyt\n",
       "2   allopurinol   drug     False    rinol     inol\n",
       "3    ampicillin   drug     False    illin     llin\n",
       "7  AUGMENTIN XR  brand      True    in xr     n xr"
      ]
     },
     "execution_count": 15,
     "metadata": {},
     "output_type": "execute_result"
    }
   ],
   "source": [
    "df_e['suffix_5'] = df_e['e_name'].apply(lambda x : x[-5:].lower())\n",
    "df_e.head()"
   ]
  },
  {
   "cell_type": "code",
   "execution_count": 16,
   "metadata": {},
   "outputs": [],
   "source": [
    "def getColumAsList(e_type, column):\n",
    "    tmp = df_e[df_e['e_type'] == e_type]\n",
    "    return tmp[column].tolist()\n",
    "\n",
    "def intersection(x1, x2):\n",
    "    return list(set(x1).intersection(x2))\n",
    "\n",
    "def disjunction(x, y):\n",
    "    return [item for item in x if item not in y]"
   ]
  },
  {
   "cell_type": "code",
   "execution_count": 17,
   "metadata": {},
   "outputs": [
    {
     "name": "stdout",
     "output_type": "stream",
     "text": [
      "brand 360\n",
      "drug 498\n",
      "drug_n 47\n",
      "group 193\n"
     ]
    }
   ],
   "source": [
    "def getGroupList(column):\n",
    "    res = {}\n",
    "    for g in [\"brand\", \"drug\", \"drug_n\", \"group\"]:\n",
    "        res[g] = getColumAsList(g, column)\n",
    "    return res\n",
    "\n",
    "type_suffix_5 = getGroupList(\"suffix_5\")\n",
    "for k in type_suffix_5.keys():\n",
    "    s = list(set(type_suffix_5[k])) #uniques\n",
    "    type_suffix_5[k] = s\n",
    "    print(k, len(type_suffix_5[k]))"
   ]
  },
  {
   "cell_type": "code",
   "execution_count": 18,
   "metadata": {},
   "outputs": [
    {
     "name": "stdout",
     "output_type": "stream",
     "text": [
      "[('brand', 'drug'), ('brand', 'drug_n'), ('brand', 'group'), ('drug', 'drug_n'), ('drug', 'group'), ('drug_n', 'group')]\n"
     ]
    }
   ],
   "source": [
    "import itertools\n",
    "combs = list(itertools.combinations(type_suffix_5.keys(), 2))\n",
    "print(combs)"
   ]
  },
  {
   "cell_type": "code",
   "execution_count": 19,
   "metadata": {},
   "outputs": [
    {
     "name": "stdout",
     "output_type": "stream",
     "text": [
      "Intersection [brand-drug] = 33, 360, 498\n",
      "Intersection [brand-drug_n] = 3, 360, 47\n",
      "Intersection [brand-group] = 14, 360, 193\n",
      "Intersection [drug-drug_n] = 31, 498, 47\n",
      "Intersection [drug-group] = 62, 498, 193\n",
      "Intersection [drug_n-group] = 3, 47, 193\n"
     ]
    }
   ],
   "source": [
    "for (c1, c2) in combs:\n",
    "    x1 = type_suffix_5[c1]\n",
    "    x2 = type_suffix_5[c2]\n",
    "    inter = intersection(x1, x2)\n",
    "    print(\"Intersection [{}-{}] = {}, {}, {}\".format(c1,c2,len(inter),len(x1),len(x2)))"
   ]
  },
  {
   "cell_type": "code",
   "execution_count": 20,
   "metadata": {},
   "outputs": [
    {
     "name": "stdout",
     "output_type": "stream",
     "text": [
      "Suffix_5 brand = 322, 0.8944444444444445\n",
      "Suffix_5 drug = 385, 0.7730923694779116\n",
      "Suffix_5 drug_n = 16, 0.3404255319148936\n",
      "Suffix_5 group = 126, 0.6528497409326425\n"
     ]
    }
   ],
   "source": [
    "new_type_suffix_5 = {}\n",
    "all_keys = type_suffix_5.keys()\n",
    "for k in type_suffix_5:\n",
    "    x = type_suffix_5[k]\n",
    "    y = []\n",
    "    others = [x for x in all_keys if x != k]\n",
    "    for o in others:\n",
    "        y = y + type_suffix_5[o]\n",
    "    new_type_suffix_5[k] = disjunction(x, y)\n",
    "    \n",
    "    new_length = len(new_type_suffix_5[k])\n",
    "    old_length = len(type_suffix_5[k])\n",
    "    print(\"Suffix_5 {} = {}, {}\".format(k, new_length, (new_length / old_length)))"
   ]
  },
  {
   "cell_type": "code",
   "execution_count": 21,
   "metadata": {},
   "outputs": [
    {
     "name": "stdout",
     "output_type": "stream",
     "text": [
      "100 385\n"
     ]
    }
   ],
   "source": [
    "initial_drug_suffixes = [\"idase\", \"idone\", \"uride\", \"ogens\", \"rinol\", \"amate\", \"lones\", \"pamil\", \"olone\", \"parin\", \"ssant\", \"udine\",\n",
    "            \"D\", \"etron\", \"adiol\", \"feine\", \"pines\", \"zines\", \"toxin\", \"MAO\", \"opram\", \"ophen\", \"sides\", \"talis\",\n",
    "            \"ulant\", \"ylate\", \"osine\", \"oxide\", \"caine\", \"illin\", \"itant\", \"limus\", \"pride\", \"sulin\", \"oride\", \"abine\",\n",
    "            \"hrine\", \"iazem\", \"atory\", \"oidal\", \"emide\", \"hanol\", \"phine\", \"SAIDs\", \"coxib\", \"necid\", \"nists\", \"esium\",\n",
    "            \"acids\", \"nolol\", \"nafil\", \"azine\", \"exate\", \"rates\", \"cking\", \"lcium\", \"azide\", \"zepam\", \"arone\", \"rofen\",\n",
    "            \"ampin\", \"ergic\", \"roids\", \"tamin\", \"adine\", \"odium\", \"bital\", \"pirin\", \"lants\", \"orine\", \"mines\", \"zolam\",\n",
    "            \"apine\", \"cohol\", \"ckers\", \"ipine\", \"acid\", \"yclic\", \"otics\", \"tives\", \"xacin\", \"etine\", \"epine\", \"drugs\",\n",
    "            \"tatin\", \"thium\", \"lline\", \"amide\", \"sants\", \"etics\", \"itors\", \"ytoin\", \"gents\", \"navir\", \"goxin\", \"farin\",\n",
    "            \"mycin\", \"idine\", \"amine\", \"azole\"]\n",
    "print(len(initial_drug_suffixes), len(new_type_suffix_5[\"drug\"]))"
   ]
  },
  {
   "cell_type": "code",
   "execution_count": 22,
   "metadata": {},
   "outputs": [
    {
     "data": {
      "text/plain": [
       "38"
      ]
     },
     "execution_count": 22,
     "metadata": {},
     "output_type": "execute_result"
    }
   ],
   "source": [
    "len(intersection(initial_drug_suffixes, new_type_suffix_5[\"drug\"]))"
   ]
  },
  {
   "cell_type": "code",
   "execution_count": 23,
   "metadata": {},
   "outputs": [],
   "source": [
    "#for k in new_type_suffix_5:\n",
    "#    with open(k+'_suffix_5_DrugBank.txt', 'w') as f:\n",
    "#            for item in new_type_suffix_5[k]:\n",
    "#                f.write(\"%s\\n\" % item)"
   ]
  },
  {
   "cell_type": "code",
   "execution_count": 24,
   "metadata": {},
   "outputs": [],
   "source": [
    "loaded = {}\n",
    "for k in new_type_suffix_5:\n",
    "    with open(k+'_suffix_5_DrugBank.txt', 'r') as f:\n",
    "        loaded[k] = f.read().splitlines()"
   ]
  },
  {
   "cell_type": "code",
   "execution_count": 25,
   "metadata": {},
   "outputs": [
    {
     "data": {
      "text/html": [
       "<div>\n",
       "<style scoped>\n",
       "    .dataframe tbody tr th:only-of-type {\n",
       "        vertical-align: middle;\n",
       "    }\n",
       "\n",
       "    .dataframe tbody tr th {\n",
       "        vertical-align: top;\n",
       "    }\n",
       "\n",
       "    .dataframe thead th {\n",
       "        text-align: right;\n",
       "    }\n",
       "</style>\n",
       "<table border=\"1\" class=\"dataframe\">\n",
       "  <thead>\n",
       "    <tr style=\"text-align: right;\">\n",
       "      <th></th>\n",
       "      <th>e_name</th>\n",
       "      <th>e_type</th>\n",
       "      <th>is_upper</th>\n",
       "      <th>suffix_5</th>\n",
       "      <th>suffix_4</th>\n",
       "    </tr>\n",
       "  </thead>\n",
       "  <tbody>\n",
       "    <tr>\n",
       "      <th>1045</th>\n",
       "      <td>propranolol</td>\n",
       "      <td>drug</td>\n",
       "      <td>False</td>\n",
       "      <td>nolol</td>\n",
       "      <td>olol</td>\n",
       "    </tr>\n",
       "  </tbody>\n",
       "</table>\n",
       "</div>"
      ],
      "text/plain": [
       "           e_name e_type  is_upper suffix_5 suffix_4\n",
       "1045  propranolol   drug     False    nolol     olol"
      ]
     },
     "execution_count": 25,
     "metadata": {},
     "output_type": "execute_result"
    }
   ],
   "source": [
    "df_e[df_e[\"e_name\"].str.contains(\"propranolo\")]"
   ]
  },
  {
   "cell_type": "markdown",
   "metadata": {},
   "source": [
    "### Plural"
   ]
  },
  {
   "cell_type": "code",
   "execution_count": 32,
   "metadata": {},
   "outputs": [
    {
     "data": {
      "text/html": [
       "<div>\n",
       "<style scoped>\n",
       "    .dataframe tbody tr th:only-of-type {\n",
       "        vertical-align: middle;\n",
       "    }\n",
       "\n",
       "    .dataframe tbody tr th {\n",
       "        vertical-align: top;\n",
       "    }\n",
       "\n",
       "    .dataframe thead th {\n",
       "        text-align: right;\n",
       "    }\n",
       "</style>\n",
       "<table border=\"1\" class=\"dataframe\">\n",
       "  <thead>\n",
       "    <tr style=\"text-align: right;\">\n",
       "      <th></th>\n",
       "      <th>e_name</th>\n",
       "      <th>e_type</th>\n",
       "      <th>is_upper</th>\n",
       "      <th>suffix_5</th>\n",
       "      <th>suffix_4</th>\n",
       "      <th>is_plural</th>\n",
       "    </tr>\n",
       "  </thead>\n",
       "  <tbody>\n",
       "    <tr>\n",
       "      <th>0</th>\n",
       "      <td>calcium</td>\n",
       "      <td>drug</td>\n",
       "      <td>False</td>\n",
       "      <td>lcium</td>\n",
       "      <td>cium</td>\n",
       "      <td>False</td>\n",
       "    </tr>\n",
       "    <tr>\n",
       "      <th>1</th>\n",
       "      <td>EMCYT</td>\n",
       "      <td>brand</td>\n",
       "      <td>True</td>\n",
       "      <td>emcyt</td>\n",
       "      <td>mcyt</td>\n",
       "      <td>False</td>\n",
       "    </tr>\n",
       "    <tr>\n",
       "      <th>2</th>\n",
       "      <td>allopurinol</td>\n",
       "      <td>drug</td>\n",
       "      <td>False</td>\n",
       "      <td>rinol</td>\n",
       "      <td>inol</td>\n",
       "      <td>False</td>\n",
       "    </tr>\n",
       "    <tr>\n",
       "      <th>3</th>\n",
       "      <td>ampicillin</td>\n",
       "      <td>drug</td>\n",
       "      <td>False</td>\n",
       "      <td>illin</td>\n",
       "      <td>llin</td>\n",
       "      <td>False</td>\n",
       "    </tr>\n",
       "    <tr>\n",
       "      <th>7</th>\n",
       "      <td>AUGMENTIN XR</td>\n",
       "      <td>brand</td>\n",
       "      <td>True</td>\n",
       "      <td>in xr</td>\n",
       "      <td>n xr</td>\n",
       "      <td>False</td>\n",
       "    </tr>\n",
       "    <tr>\n",
       "      <th>12</th>\n",
       "      <td>broad-spectrum antibiotics</td>\n",
       "      <td>group</td>\n",
       "      <td>False</td>\n",
       "      <td>otics</td>\n",
       "      <td>tics</td>\n",
       "      <td>True</td>\n",
       "    </tr>\n",
       "    <tr>\n",
       "      <th>14</th>\n",
       "      <td>contraceptives</td>\n",
       "      <td>group</td>\n",
       "      <td>False</td>\n",
       "      <td>tives</td>\n",
       "      <td>ives</td>\n",
       "      <td>True</td>\n",
       "    </tr>\n",
       "    <tr>\n",
       "      <th>15</th>\n",
       "      <td>PROCRIT</td>\n",
       "      <td>brand</td>\n",
       "      <td>True</td>\n",
       "      <td>ocrit</td>\n",
       "      <td>crit</td>\n",
       "      <td>False</td>\n",
       "    </tr>\n",
       "    <tr>\n",
       "      <th>16</th>\n",
       "      <td>central nervous system depressants</td>\n",
       "      <td>group</td>\n",
       "      <td>False</td>\n",
       "      <td>sants</td>\n",
       "      <td>ants</td>\n",
       "      <td>True</td>\n",
       "    </tr>\n",
       "    <tr>\n",
       "      <th>17</th>\n",
       "      <td>benzodiazepines</td>\n",
       "      <td>group</td>\n",
       "      <td>False</td>\n",
       "      <td>pines</td>\n",
       "      <td>ines</td>\n",
       "      <td>True</td>\n",
       "    </tr>\n",
       "  </tbody>\n",
       "</table>\n",
       "</div>"
      ],
      "text/plain": [
       "                                e_name e_type  is_upper suffix_5 suffix_4  \\\n",
       "0                              calcium   drug     False    lcium     cium   \n",
       "1                                EMCYT  brand      True    emcyt     mcyt   \n",
       "2                          allopurinol   drug     False    rinol     inol   \n",
       "3                           ampicillin   drug     False    illin     llin   \n",
       "7                         AUGMENTIN XR  brand      True    in xr     n xr   \n",
       "12          broad-spectrum antibiotics  group     False    otics     tics   \n",
       "14                      contraceptives  group     False    tives     ives   \n",
       "15                             PROCRIT  brand      True    ocrit     crit   \n",
       "16  central nervous system depressants  group     False    sants     ants   \n",
       "17                     benzodiazepines  group     False    pines     ines   \n",
       "\n",
       "    is_plural  \n",
       "0       False  \n",
       "1       False  \n",
       "2       False  \n",
       "3       False  \n",
       "7       False  \n",
       "12       True  \n",
       "14       True  \n",
       "15      False  \n",
       "16       True  \n",
       "17       True  "
      ]
     },
     "execution_count": 32,
     "metadata": {},
     "output_type": "execute_result"
    }
   ],
   "source": [
    "df_e['is_plural'] = df_e['e_name'].apply(lambda x : x[-1:] == 's')\n",
    "df_e.head(10)"
   ]
  },
  {
   "cell_type": "code",
   "execution_count": 33,
   "metadata": {},
   "outputs": [
    {
     "data": {
      "text/html": [
       "<div>\n",
       "<style scoped>\n",
       "    .dataframe tbody tr th:only-of-type {\n",
       "        vertical-align: middle;\n",
       "    }\n",
       "\n",
       "    .dataframe tbody tr th {\n",
       "        vertical-align: top;\n",
       "    }\n",
       "\n",
       "    .dataframe thead th {\n",
       "        text-align: right;\n",
       "    }\n",
       "</style>\n",
       "<table border=\"1\" class=\"dataframe\">\n",
       "  <thead>\n",
       "    <tr style=\"text-align: right;\">\n",
       "      <th></th>\n",
       "      <th></th>\n",
       "      <th>e_name</th>\n",
       "      <th>is_upper</th>\n",
       "      <th>suffix_5</th>\n",
       "      <th>suffix_4</th>\n",
       "    </tr>\n",
       "    <tr>\n",
       "      <th>e_type</th>\n",
       "      <th>is_plural</th>\n",
       "      <th></th>\n",
       "      <th></th>\n",
       "      <th></th>\n",
       "      <th></th>\n",
       "    </tr>\n",
       "  </thead>\n",
       "  <tbody>\n",
       "    <tr>\n",
       "      <th rowspan=\"2\" valign=\"top\">brand</th>\n",
       "      <th>False</th>\n",
       "      <td>383</td>\n",
       "      <td>383</td>\n",
       "      <td>383</td>\n",
       "      <td>383</td>\n",
       "    </tr>\n",
       "    <tr>\n",
       "      <th>True</th>\n",
       "      <td>7</td>\n",
       "      <td>7</td>\n",
       "      <td>7</td>\n",
       "      <td>7</td>\n",
       "    </tr>\n",
       "    <tr>\n",
       "      <th rowspan=\"2\" valign=\"top\">drug</th>\n",
       "      <th>False</th>\n",
       "      <td>1355</td>\n",
       "      <td>1355</td>\n",
       "      <td>1355</td>\n",
       "      <td>1355</td>\n",
       "    </tr>\n",
       "    <tr>\n",
       "      <th>True</th>\n",
       "      <td>38</td>\n",
       "      <td>38</td>\n",
       "      <td>38</td>\n",
       "      <td>38</td>\n",
       "    </tr>\n",
       "    <tr>\n",
       "      <th rowspan=\"2\" valign=\"top\">drug_n</th>\n",
       "      <th>False</th>\n",
       "      <td>64</td>\n",
       "      <td>64</td>\n",
       "      <td>64</td>\n",
       "      <td>64</td>\n",
       "    </tr>\n",
       "    <tr>\n",
       "      <th>True</th>\n",
       "      <td>2</td>\n",
       "      <td>2</td>\n",
       "      <td>2</td>\n",
       "      <td>2</td>\n",
       "    </tr>\n",
       "    <tr>\n",
       "      <th rowspan=\"2\" valign=\"top\">group</th>\n",
       "      <th>False</th>\n",
       "      <td>227</td>\n",
       "      <td>227</td>\n",
       "      <td>227</td>\n",
       "      <td>227</td>\n",
       "    </tr>\n",
       "    <tr>\n",
       "      <th>True</th>\n",
       "      <td>643</td>\n",
       "      <td>643</td>\n",
       "      <td>643</td>\n",
       "      <td>643</td>\n",
       "    </tr>\n",
       "  </tbody>\n",
       "</table>\n",
       "</div>"
      ],
      "text/plain": [
       "                  e_name  is_upper  suffix_5  suffix_4\n",
       "e_type is_plural                                      \n",
       "brand  False         383       383       383       383\n",
       "       True            7         7         7         7\n",
       "drug   False        1355      1355      1355      1355\n",
       "       True           38        38        38        38\n",
       "drug_n False          64        64        64        64\n",
       "       True            2         2         2         2\n",
       "group  False         227       227       227       227\n",
       "       True          643       643       643       643"
      ]
     },
     "execution_count": 33,
     "metadata": {},
     "output_type": "execute_result"
    }
   ],
   "source": [
    "df_e.groupby([\"e_type\", \"is_plural\"]).count()"
   ]
  },
  {
   "cell_type": "code",
   "execution_count": null,
   "metadata": {},
   "outputs": [],
   "source": []
  }
 ],
 "metadata": {
  "kernelspec": {
   "display_name": "Python 3",
   "language": "python",
   "name": "python3"
  },
  "language_info": {
   "codemirror_mode": {
    "name": "ipython",
    "version": 3
   },
   "file_extension": ".py",
   "mimetype": "text/x-python",
   "name": "python",
   "nbconvert_exporter": "python",
   "pygments_lexer": "ipython3",
   "version": "3.6.4"
  }
 },
 "nbformat": 4,
 "nbformat_minor": 2
}
