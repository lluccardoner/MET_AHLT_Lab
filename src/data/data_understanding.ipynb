{
 "cells": [
  {
   "cell_type": "code",
   "execution_count": 6,
   "metadata": {},
   "outputs": [],
   "source": [
    "import sys\n",
    "from os import listdir\n",
    "import os\n",
    "\n",
    "from xml.dom.minidom import parse\n",
    "import pandas as pd"
   ]
  },
  {
   "cell_type": "code",
   "execution_count": 13,
   "metadata": {},
   "outputs": [
    {
     "name": "stdout",
     "output_type": "stream",
     "text": [
      "/Users/lluccardoner/PycharmProjects/MET_AHLT_Lab_2019/data/Train/DrugBank/\n"
     ]
    }
   ],
   "source": [
    "#datadir = \"data/Train/MedLine\"\n",
    "datadir = \"/Users/lluccardoner/PycharmProjects/MET_AHLT_Lab_2019/data/Train/DrugBank/\"\n",
    "print(datadir)"
   ]
  },
  {
   "cell_type": "markdown",
   "metadata": {},
   "source": [
    "# Load data"
   ]
  },
  {
   "cell_type": "code",
   "execution_count": 20,
   "metadata": {},
   "outputs": [],
   "source": [
    "trees = []\n",
    "for f in listdir(datadir):\n",
    "    # parse XML file\n",
    "    tree = parse(datadir + \"/\" + f)\n",
    "    trees.append(tree)"
   ]
  },
  {
   "cell_type": "code",
   "execution_count": 33,
   "metadata": {},
   "outputs": [],
   "source": [
    "items = []\n",
    "for tree in trees:\n",
    "    for s in tree.getElementsByTagName(\"sentence\"):\n",
    "        s_id = s.attributes[\"id\"].value\n",
    "        s_txt = s.attributes[\"text\"].value\n",
    "        for e in s.getElementsByTagName(\"entity\"):\n",
    "            e_id = e.attributes[\"id\"].value\n",
    "            e_offset = e.attributes[\"charOffset\"].value \n",
    "            e_name = e.attributes[\"text\"].value\n",
    "            e_type = e.attributes[\"type\"].value\n",
    "            item = {\"s_id\": s_id, \"s_txt\": s_txt, \"e_id\": e_id, \"e_offset\": e_offset, \"e_name\": e_name, \"e_type\": e_type}\n",
    "            items.append(item)"
   ]
  },
  {
   "cell_type": "code",
   "execution_count": 39,
   "metadata": {},
   "outputs": [
    {
     "data": {
      "text/plain": [
       "(12929, 6)"
      ]
     },
     "execution_count": 39,
     "metadata": {},
     "output_type": "execute_result"
    }
   ],
   "source": [
    "df = pd.DataFrame(items)\n",
    "df.shape"
   ]
  },
  {
   "cell_type": "markdown",
   "metadata": {},
   "source": [
    "## Entities with sentences"
   ]
  },
  {
   "cell_type": "code",
   "execution_count": 40,
   "metadata": {},
   "outputs": [
    {
     "data": {
      "text/html": [
       "<div>\n",
       "<style scoped>\n",
       "    .dataframe tbody tr th:only-of-type {\n",
       "        vertical-align: middle;\n",
       "    }\n",
       "\n",
       "    .dataframe tbody tr th {\n",
       "        vertical-align: top;\n",
       "    }\n",
       "\n",
       "    .dataframe thead th {\n",
       "        text-align: right;\n",
       "    }\n",
       "</style>\n",
       "<table border=\"1\" class=\"dataframe\">\n",
       "  <thead>\n",
       "    <tr style=\"text-align: right;\">\n",
       "      <th></th>\n",
       "      <th>e_id</th>\n",
       "      <th>e_name</th>\n",
       "      <th>e_offset</th>\n",
       "      <th>e_type</th>\n",
       "      <th>s_id</th>\n",
       "      <th>s_txt</th>\n",
       "    </tr>\n",
       "  </thead>\n",
       "  <tbody>\n",
       "    <tr>\n",
       "      <th>0</th>\n",
       "      <td>DDI-DrugBank.d481.s0.e0</td>\n",
       "      <td>calcium</td>\n",
       "      <td>25-31</td>\n",
       "      <td>drug</td>\n",
       "      <td>DDI-DrugBank.d481.s0</td>\n",
       "      <td>Milk, milk products, and calcium-rich foods or...</td>\n",
       "    </tr>\n",
       "    <tr>\n",
       "      <th>1</th>\n",
       "      <td>DDI-DrugBank.d481.s0.e1</td>\n",
       "      <td>EMCYT</td>\n",
       "      <td>82-86</td>\n",
       "      <td>brand</td>\n",
       "      <td>DDI-DrugBank.d481.s0</td>\n",
       "      <td>Milk, milk products, and calcium-rich foods or...</td>\n",
       "    </tr>\n",
       "    <tr>\n",
       "      <th>2</th>\n",
       "      <td>DDI-DrugBank.d419.s0.e0</td>\n",
       "      <td>allopurinol</td>\n",
       "      <td>33-43</td>\n",
       "      <td>drug</td>\n",
       "      <td>DDI-DrugBank.d419.s0</td>\n",
       "      <td>The concurrent administration of allopurinol a...</td>\n",
       "    </tr>\n",
       "    <tr>\n",
       "      <th>3</th>\n",
       "      <td>DDI-DrugBank.d419.s0.e1</td>\n",
       "      <td>ampicillin</td>\n",
       "      <td>49-58</td>\n",
       "      <td>drug</td>\n",
       "      <td>DDI-DrugBank.d419.s0</td>\n",
       "      <td>The concurrent administration of allopurinol a...</td>\n",
       "    </tr>\n",
       "    <tr>\n",
       "      <th>4</th>\n",
       "      <td>DDI-DrugBank.d419.s0.e2</td>\n",
       "      <td>ampicillin</td>\n",
       "      <td>175-184</td>\n",
       "      <td>drug</td>\n",
       "      <td>DDI-DrugBank.d419.s0</td>\n",
       "      <td>The concurrent administration of allopurinol a...</td>\n",
       "    </tr>\n",
       "    <tr>\n",
       "      <th>5</th>\n",
       "      <td>DDI-DrugBank.d419.s1.e0</td>\n",
       "      <td>ampicillin</td>\n",
       "      <td>45-54</td>\n",
       "      <td>drug</td>\n",
       "      <td>DDI-DrugBank.d419.s1</td>\n",
       "      <td>It is not known whether this potentiation of a...</td>\n",
       "    </tr>\n",
       "    <tr>\n",
       "      <th>6</th>\n",
       "      <td>DDI-DrugBank.d419.s1.e1</td>\n",
       "      <td>allopurinol</td>\n",
       "      <td>73-83</td>\n",
       "      <td>drug</td>\n",
       "      <td>DDI-DrugBank.d419.s1</td>\n",
       "      <td>It is not known whether this potentiation of a...</td>\n",
       "    </tr>\n",
       "    <tr>\n",
       "      <th>7</th>\n",
       "      <td>DDI-DrugBank.d419.s2.e0</td>\n",
       "      <td>AUGMENTIN XR</td>\n",
       "      <td>33-44</td>\n",
       "      <td>brand</td>\n",
       "      <td>DDI-DrugBank.d419.s2</td>\n",
       "      <td>In controlled clinical trials of AUGMENTIN XR,...</td>\n",
       "    </tr>\n",
       "    <tr>\n",
       "      <th>8</th>\n",
       "      <td>DDI-DrugBank.d419.s2.e1</td>\n",
       "      <td>allopurinol</td>\n",
       "      <td>80-90</td>\n",
       "      <td>drug</td>\n",
       "      <td>DDI-DrugBank.d419.s2</td>\n",
       "      <td>In controlled clinical trials of AUGMENTIN XR,...</td>\n",
       "    </tr>\n",
       "    <tr>\n",
       "      <th>9</th>\n",
       "      <td>DDI-DrugBank.d419.s2.e2</td>\n",
       "      <td>AUGMENTIN XR</td>\n",
       "      <td>96-107</td>\n",
       "      <td>brand</td>\n",
       "      <td>DDI-DrugBank.d419.s2</td>\n",
       "      <td>In controlled clinical trials of AUGMENTIN XR,...</td>\n",
       "    </tr>\n",
       "  </tbody>\n",
       "</table>\n",
       "</div>"
      ],
      "text/plain": [
       "                      e_id        e_name e_offset e_type  \\\n",
       "0  DDI-DrugBank.d481.s0.e0       calcium    25-31   drug   \n",
       "1  DDI-DrugBank.d481.s0.e1         EMCYT    82-86  brand   \n",
       "2  DDI-DrugBank.d419.s0.e0   allopurinol    33-43   drug   \n",
       "3  DDI-DrugBank.d419.s0.e1    ampicillin    49-58   drug   \n",
       "4  DDI-DrugBank.d419.s0.e2    ampicillin  175-184   drug   \n",
       "5  DDI-DrugBank.d419.s1.e0    ampicillin    45-54   drug   \n",
       "6  DDI-DrugBank.d419.s1.e1   allopurinol    73-83   drug   \n",
       "7  DDI-DrugBank.d419.s2.e0  AUGMENTIN XR    33-44  brand   \n",
       "8  DDI-DrugBank.d419.s2.e1   allopurinol    80-90   drug   \n",
       "9  DDI-DrugBank.d419.s2.e2  AUGMENTIN XR   96-107  brand   \n",
       "\n",
       "                   s_id                                              s_txt  \n",
       "0  DDI-DrugBank.d481.s0  Milk, milk products, and calcium-rich foods or...  \n",
       "1  DDI-DrugBank.d481.s0  Milk, milk products, and calcium-rich foods or...  \n",
       "2  DDI-DrugBank.d419.s0  The concurrent administration of allopurinol a...  \n",
       "3  DDI-DrugBank.d419.s0  The concurrent administration of allopurinol a...  \n",
       "4  DDI-DrugBank.d419.s0  The concurrent administration of allopurinol a...  \n",
       "5  DDI-DrugBank.d419.s1  It is not known whether this potentiation of a...  \n",
       "6  DDI-DrugBank.d419.s1  It is not known whether this potentiation of a...  \n",
       "7  DDI-DrugBank.d419.s2  In controlled clinical trials of AUGMENTIN XR,...  \n",
       "8  DDI-DrugBank.d419.s2  In controlled clinical trials of AUGMENTIN XR,...  \n",
       "9  DDI-DrugBank.d419.s2  In controlled clinical trials of AUGMENTIN XR,...  "
      ]
     },
     "execution_count": 40,
     "metadata": {},
     "output_type": "execute_result"
    }
   ],
   "source": [
    "df.head(10)"
   ]
  },
  {
   "cell_type": "code",
   "execution_count": 45,
   "metadata": {},
   "outputs": [
    {
     "data": {
      "text/plain": [
       "drug      8197\n",
       "group     3206\n",
       "brand     1423\n",
       "drug_n     103\n",
       "Name: e_type, dtype: int64"
      ]
     },
     "execution_count": 45,
     "metadata": {},
     "output_type": "execute_result"
    }
   ],
   "source": [
    "df[\"e_type\"].value_counts()"
   ]
  },
  {
   "cell_type": "code",
   "execution_count": 50,
   "metadata": {},
   "outputs": [
    {
     "data": {
      "text/plain": [
       "warfarin         176\n",
       "digoxin          176\n",
       "phenytoin        157\n",
       "lithium          119\n",
       "theophylline     115\n",
       "ketoconazole     107\n",
       "cimetidine        89\n",
       "carbamazepine     81\n",
       "erythromycin      79\n",
       "aspirin           79\n",
       "Name: e_name, dtype: int64"
      ]
     },
     "execution_count": 50,
     "metadata": {},
     "output_type": "execute_result"
    }
   ],
   "source": [
    "df[\"e_name\"].value_counts()[:10]"
   ]
  },
  {
   "cell_type": "code",
   "execution_count": 69,
   "metadata": {},
   "outputs": [
    {
     "data": {
      "text/html": [
       "<div>\n",
       "<style scoped>\n",
       "    .dataframe tbody tr th:only-of-type {\n",
       "        vertical-align: middle;\n",
       "    }\n",
       "\n",
       "    .dataframe tbody tr th {\n",
       "        vertical-align: top;\n",
       "    }\n",
       "\n",
       "    .dataframe thead th {\n",
       "        text-align: right;\n",
       "    }\n",
       "</style>\n",
       "<table border=\"1\" class=\"dataframe\">\n",
       "  <thead>\n",
       "    <tr style=\"text-align: right;\">\n",
       "      <th></th>\n",
       "      <th>e_id</th>\n",
       "      <th>e_name</th>\n",
       "      <th>e_offset</th>\n",
       "      <th>e_type</th>\n",
       "      <th>s_id</th>\n",
       "      <th>s_txt</th>\n",
       "    </tr>\n",
       "  </thead>\n",
       "  <tbody>\n",
       "    <tr>\n",
       "      <th>count</th>\n",
       "      <td>12929</td>\n",
       "      <td>12929</td>\n",
       "      <td>12929</td>\n",
       "      <td>12929</td>\n",
       "      <td>12929</td>\n",
       "      <td>12929</td>\n",
       "    </tr>\n",
       "    <tr>\n",
       "      <th>unique</th>\n",
       "      <td>12929</td>\n",
       "      <td>2655</td>\n",
       "      <td>3957</td>\n",
       "      <td>4</td>\n",
       "      <td>4683</td>\n",
       "      <td>4505</td>\n",
       "    </tr>\n",
       "    <tr>\n",
       "      <th>top</th>\n",
       "      <td>DDI-DrugBank.d165.s16.e2</td>\n",
       "      <td>warfarin</td>\n",
       "      <td>0-9</td>\n",
       "      <td>drug</td>\n",
       "      <td>DDI-DrugBank.d64.s87</td>\n",
       "      <td>Drugs that reportedly may increase oral antico...</td>\n",
       "    </tr>\n",
       "    <tr>\n",
       "      <th>freq</th>\n",
       "      <td>1</td>\n",
       "      <td>176</td>\n",
       "      <td>267</td>\n",
       "      <td>8197</td>\n",
       "      <td>55</td>\n",
       "      <td>55</td>\n",
       "    </tr>\n",
       "  </tbody>\n",
       "</table>\n",
       "</div>"
      ],
      "text/plain": [
       "                            e_id    e_name e_offset e_type  \\\n",
       "count                      12929     12929    12929  12929   \n",
       "unique                     12929      2655     3957      4   \n",
       "top     DDI-DrugBank.d165.s16.e2  warfarin      0-9   drug   \n",
       "freq                           1       176      267   8197   \n",
       "\n",
       "                        s_id  \\\n",
       "count                  12929   \n",
       "unique                  4683   \n",
       "top     DDI-DrugBank.d64.s87   \n",
       "freq                      55   \n",
       "\n",
       "                                                    s_txt  \n",
       "count                                               12929  \n",
       "unique                                               4505  \n",
       "top     Drugs that reportedly may increase oral antico...  \n",
       "freq                                                   55  "
      ]
     },
     "execution_count": 69,
     "metadata": {},
     "output_type": "execute_result"
    }
   ],
   "source": [
    "df.describe()"
   ]
  },
  {
   "cell_type": "markdown",
   "metadata": {},
   "source": [
    "## Entities and type "
   ]
  },
  {
   "cell_type": "code",
   "execution_count": 65,
   "metadata": {},
   "outputs": [
    {
     "data": {
      "text/html": [
       "<div>\n",
       "<style scoped>\n",
       "    .dataframe tbody tr th:only-of-type {\n",
       "        vertical-align: middle;\n",
       "    }\n",
       "\n",
       "    .dataframe tbody tr th {\n",
       "        vertical-align: top;\n",
       "    }\n",
       "\n",
       "    .dataframe thead th {\n",
       "        text-align: right;\n",
       "    }\n",
       "</style>\n",
       "<table border=\"1\" class=\"dataframe\">\n",
       "  <thead>\n",
       "    <tr style=\"text-align: right;\">\n",
       "      <th></th>\n",
       "      <th>e_name</th>\n",
       "      <th>e_type</th>\n",
       "    </tr>\n",
       "  </thead>\n",
       "  <tbody>\n",
       "    <tr>\n",
       "      <th>0</th>\n",
       "      <td>calcium</td>\n",
       "      <td>drug</td>\n",
       "    </tr>\n",
       "    <tr>\n",
       "      <th>1</th>\n",
       "      <td>EMCYT</td>\n",
       "      <td>brand</td>\n",
       "    </tr>\n",
       "    <tr>\n",
       "      <th>2</th>\n",
       "      <td>allopurinol</td>\n",
       "      <td>drug</td>\n",
       "    </tr>\n",
       "    <tr>\n",
       "      <th>3</th>\n",
       "      <td>ampicillin</td>\n",
       "      <td>drug</td>\n",
       "    </tr>\n",
       "    <tr>\n",
       "      <th>7</th>\n",
       "      <td>AUGMENTIN XR</td>\n",
       "      <td>brand</td>\n",
       "    </tr>\n",
       "    <tr>\n",
       "      <th>12</th>\n",
       "      <td>broad-spectrum antibiotics</td>\n",
       "      <td>group</td>\n",
       "    </tr>\n",
       "    <tr>\n",
       "      <th>14</th>\n",
       "      <td>contraceptives</td>\n",
       "      <td>group</td>\n",
       "    </tr>\n",
       "    <tr>\n",
       "      <th>15</th>\n",
       "      <td>PROCRIT</td>\n",
       "      <td>brand</td>\n",
       "    </tr>\n",
       "    <tr>\n",
       "      <th>16</th>\n",
       "      <td>central nervous system depressants</td>\n",
       "      <td>group</td>\n",
       "    </tr>\n",
       "    <tr>\n",
       "      <th>17</th>\n",
       "      <td>benzodiazepines</td>\n",
       "      <td>group</td>\n",
       "    </tr>\n",
       "  </tbody>\n",
       "</table>\n",
       "</div>"
      ],
      "text/plain": [
       "                                e_name e_type\n",
       "0                              calcium   drug\n",
       "1                                EMCYT  brand\n",
       "2                          allopurinol   drug\n",
       "3                           ampicillin   drug\n",
       "7                         AUGMENTIN XR  brand\n",
       "12          broad-spectrum antibiotics  group\n",
       "14                      contraceptives  group\n",
       "15                             PROCRIT  brand\n",
       "16  central nervous system depressants  group\n",
       "17                     benzodiazepines  group"
      ]
     },
     "execution_count": 65,
     "metadata": {},
     "output_type": "execute_result"
    }
   ],
   "source": [
    "df_e = df[[\"e_name\", \"e_type\"]].drop_duplicates()\n",
    "df_e.head(10)"
   ]
  },
  {
   "cell_type": "code",
   "execution_count": 68,
   "metadata": {},
   "outputs": [
    {
     "data": {
      "text/html": [
       "<div>\n",
       "<style scoped>\n",
       "    .dataframe tbody tr th:only-of-type {\n",
       "        vertical-align: middle;\n",
       "    }\n",
       "\n",
       "    .dataframe tbody tr th {\n",
       "        vertical-align: top;\n",
       "    }\n",
       "\n",
       "    .dataframe thead th {\n",
       "        text-align: right;\n",
       "    }\n",
       "</style>\n",
       "<table border=\"1\" class=\"dataframe\">\n",
       "  <thead>\n",
       "    <tr style=\"text-align: right;\">\n",
       "      <th></th>\n",
       "      <th>e_name</th>\n",
       "      <th>e_type</th>\n",
       "    </tr>\n",
       "  </thead>\n",
       "  <tbody>\n",
       "    <tr>\n",
       "      <th>count</th>\n",
       "      <td>2719</td>\n",
       "      <td>2719</td>\n",
       "    </tr>\n",
       "    <tr>\n",
       "      <th>unique</th>\n",
       "      <td>2655</td>\n",
       "      <td>4</td>\n",
       "    </tr>\n",
       "    <tr>\n",
       "      <th>top</th>\n",
       "      <td>neuroleptic</td>\n",
       "      <td>drug</td>\n",
       "    </tr>\n",
       "    <tr>\n",
       "      <th>freq</th>\n",
       "      <td>2</td>\n",
       "      <td>1393</td>\n",
       "    </tr>\n",
       "  </tbody>\n",
       "</table>\n",
       "</div>"
      ],
      "text/plain": [
       "             e_name e_type\n",
       "count          2719   2719\n",
       "unique         2655      4\n",
       "top     neuroleptic   drug\n",
       "freq              2   1393"
      ]
     },
     "execution_count": 68,
     "metadata": {},
     "output_type": "execute_result"
    }
   ],
   "source": [
    "# there are names that have more than one type\n",
    "df_e.describe()"
   ]
  },
  {
   "cell_type": "code",
   "execution_count": null,
   "metadata": {},
   "outputs": [],
   "source": []
  }
 ],
 "metadata": {
  "kernelspec": {
   "display_name": "Python 3",
   "language": "python",
   "name": "python3"
  },
  "language_info": {
   "codemirror_mode": {
    "name": "ipython",
    "version": 3
   },
   "file_extension": ".py",
   "mimetype": "text/x-python",
   "name": "python",
   "nbconvert_exporter": "python",
   "pygments_lexer": "ipython3",
   "version": "3.6.4"
  }
 },
 "nbformat": 4,
 "nbformat_minor": 2
}
