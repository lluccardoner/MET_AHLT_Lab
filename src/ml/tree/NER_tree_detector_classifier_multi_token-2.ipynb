{
 "cells": [
  {
   "cell_type": "code",
   "execution_count": 98,
   "metadata": {},
   "outputs": [
    {
     "name": "stdout",
     "output_type": "stream",
     "text": [
      "The nltk version is 3.2.5.\n",
      "The scikit-learn version is 0.20.1.\n"
     ]
    }
   ],
   "source": [
    "import sys\n",
    "from os import listdir\n",
    "import os\n",
    "\n",
    "from xml.dom.minidom import parse\n",
    "\n",
    "import pandas as pd\n",
    "import numpy as np\n",
    "\n",
    "import nltk\n",
    "from nltk.tokenize import word_tokenize\n",
    "from nltk.stem import PorterStemmer\n",
    "\n",
    "import matplotlib.pyplot as plt\n",
    "\n",
    "import sklearn\n",
    "from sklearn import preprocessing\n",
    "\n",
    "\n",
    "print('The nltk version is {}.'.format(nltk.__version__))\n",
    "print('The scikit-learn version is {}.'.format(sklearn.__version__))"
   ]
  },
  {
   "cell_type": "code",
   "execution_count": 87,
   "metadata": {},
   "outputs": [],
   "source": [
    "dir_train_medline = \"/Users/lluccardoner/PycharmProjects/MET_AHLT_Lab_2019/data/Train/MedLine/\"\n",
    "dir_train_drugbank = \"/Users/lluccardoner/PycharmProjects/MET_AHLT_Lab_2019/data/Train/DrugBank/\""
   ]
  },
  {
   "cell_type": "code",
   "execution_count": 88,
   "metadata": {},
   "outputs": [],
   "source": [
    "dir_test_medline = \"/Users/lluccardoner/PycharmProjects/MET_AHLT_Lab_2019/data/Test-NER/MedLine/\"\n",
    "dir_test_drugbank = \"/Users/lluccardoner/PycharmProjects/MET_AHLT_Lab_2019/data/Test-NER/DrugBank/\""
   ]
  },
  {
   "cell_type": "markdown",
   "metadata": {},
   "source": [
    "# Data"
   ]
  },
  {
   "cell_type": "code",
   "execution_count": 99,
   "metadata": {},
   "outputs": [],
   "source": [
    "def parse_XML_file(datadir):\n",
    "    trees = []\n",
    "    for f in listdir(datadir):\n",
    "        # parse XML file\n",
    "        tree = parse(datadir + \"/\" + f)\n",
    "        trees.append(tree)\n",
    "    return trees\n",
    "\n",
    "def extract_features(tokens) :\n",
    "    # for each token, generate list of features and add it to the result\n",
    "    result = []\n",
    "    ps = PorterStemmer()\n",
    "    for k in range(0,len(tokens)):\n",
    "        tokenFeatures = {};\n",
    "        \n",
    "        t = tokens[k][0]\n",
    "        tokenFeatures[\"form\"] = t\n",
    "        tokenFeatures[\"formlower\"] = t.lower()\n",
    "        tokenFeatures[\"suf3\"] = t[-3:]\n",
    "        tokenFeatures[\"suf4\"] = t[-4:]\n",
    "        tokenFeatures[\"isUpper\"] = str(t.isupper())\n",
    "        tokenFeatures[\"isTitle\"] = str(t.istitle())\n",
    "        tokenFeatures[\"isDigit\"] = str(t.isdigit())\n",
    "        tokenFeatures[\"isPlural\"] = str(t[-1:] == 's')\n",
    "        tokenFeatures[\"pos\"] = nltk.pos_tag([t])[0][1]\n",
    "        tokenFeatures[\"stem\"] = ps.stem(t)\n",
    "\n",
    "        if k>0 :\n",
    "            tPrev = tokens[k-1][0]\n",
    "            tokenFeatures[\"formPrev\"] = tPrev\n",
    "            tokenFeatures[\"formlowerPrev\"] = tPrev.lower()\n",
    "            tokenFeatures[\"suf3Prev\"] = tPrev[-3:]\n",
    "            tokenFeatures[\"suf4Prev\"] = tPrev[-4:]\n",
    "            tokenFeatures[\"isUpperPrev\"] = str(tPrev.isupper())\n",
    "            tokenFeatures[\"isTitlePrev\"] = str(tPrev.istitle())\n",
    "            tokenFeatures[\"isDigitPrev\"] = str(tPrev.isdigit())\n",
    "            tokenFeatures[\"isPluralPrev\"] = str(tPrev[-1:] == 's')\n",
    "            tokenFeatures[\"posPrev\"] = nltk.pos_tag([tPrev])[0][1]\n",
    "            tokenFeatures[\"stemPrev\"] = ps.stem(tPrev)\n",
    "            tokenFeatures[\"EoS\"] = \"False\"\n",
    "            tokenFeatures[\"BoS\"] = \"False\"\n",
    "        else :\n",
    "            tokenFeatures[\"formPrev\"] = \"\"\n",
    "            tokenFeatures[\"formlowerPrev\"] = \"\"\n",
    "            tokenFeatures[\"suf3Prev\"] = \"\"\n",
    "            tokenFeatures[\"suf4Prev\"] = \"\"\n",
    "            tokenFeatures[\"isUpperPrev\"] = \"\"\n",
    "            tokenFeatures[\"isTitlePrev\"] = \"\"\n",
    "            tokenFeatures[\"isDigitPrev\"] = \"\"\n",
    "            tokenFeatures[\"isPluralPrev\"] = \"\"\n",
    "            tokenFeatures[\"posPrev\"] = \"\"\n",
    "            tokenFeatures[\"stemPrev\"] = \"\"\n",
    "            tokenFeatures[\"EoS\"] = \"False\"\n",
    "            tokenFeatures[\"BoS\"] = \"True\"\n",
    "\n",
    "        if k<len(tokens)-1 :\n",
    "            tNext = tokens[k+1][0]\n",
    "            tokenFeatures[\"formNext\"] = tNext\n",
    "            tokenFeatures[\"formlowerNext\"] = tNext.lower()\n",
    "            tokenFeatures[\"suf3Next\"] = tNext[-3:]\n",
    "            tokenFeatures[\"suf4Next\"] = tNext[-4:]\n",
    "            tokenFeatures[\"isUpperNext\"] = str(tNext.isupper())\n",
    "            tokenFeatures[\"isTitleNext\"] = str(tNext.istitle())\n",
    "            tokenFeatures[\"isDigitNext\"] = str(tNext.isdigit())\n",
    "            tokenFeatures[\"isPluralNext\"] = str(tNext[-1:] == 's')\n",
    "            tokenFeatures[\"posNext\"] = nltk.pos_tag([tNext])[0][1]\n",
    "            tokenFeatures[\"stemNext\"] = ps.stem(tNext)\n",
    "            tokenFeatures[\"EoS\"] = \"False\"\n",
    "            tokenFeatures[\"BoS\"] = \"False\"\n",
    "        else:\n",
    "            tokenFeatures[\"formNext\"] = \"\"\n",
    "            tokenFeatures[\"formlowerNext\"] = \"\"\n",
    "            tokenFeatures[\"suf3Next\"] = \"\"\n",
    "            tokenFeatures[\"suf4Next\"] = \"\"\n",
    "            tokenFeatures[\"isUpperNext\"] = \"\"\n",
    "            tokenFeatures[\"isTitleNext\"] = \"\"\n",
    "            tokenFeatures[\"isDigitNext\"] = \"\"\n",
    "            tokenFeatures[\"isPluralNext\"] = \"\"\n",
    "            tokenFeatures[\"posNext\"] = \"\"\n",
    "            tokenFeatures[\"stemNext\"] = \"\"\n",
    "            tokenFeatures[\"EoS\"] = \"True\"\n",
    "            tokenFeatures[\"BoS\"] = \"False\"\n",
    "            \n",
    "        result.append(tokenFeatures)\n",
    "\n",
    "    return result\n",
    "\n",
    "def tokenize(txt):\n",
    "    offset = 0\n",
    "    tks = []\n",
    "    ## word_tokenize splits words, taking into account punctuations, numbers, etc.\n",
    "    for t in word_tokenize(txt):\n",
    "        ## keep track of the position where each token should appear, and\n",
    "        ## store that information with the token\n",
    "        offset = txt.find(t, offset)\n",
    "        tks.append((t, offset, offset+len(t)-1))\n",
    "        offset += len(t)\n",
    "\n",
    "    ## tks is a list of triples (word,start,end)\n",
    "    return tks\n",
    "\n",
    "def get_tag(token, spans) :\n",
    "    (form,start,end) = token\n",
    "    for (spanS,spanE,spanT) in spans :\n",
    "        if start==spanS and end<=spanE : return \"B-\"+spanT\n",
    "        elif start>=spanS and end<=spanE : return \"I-\"+spanT\n",
    "    return \"O\"\n",
    "\n",
    "def process_trees(trees):\n",
    "    items = []\n",
    "    for tree in trees:\n",
    "        # process each sentence in the file\n",
    "        sentences = tree.getElementsByTagName(\"sentence\")\n",
    "        for s in sentences :\n",
    "            sid = s.attributes[\"id\"].value   # get sentence id\n",
    "            spans = []\n",
    "            stext = s.attributes[\"text\"].value   # get sentence text\n",
    "            entities = s.getElementsByTagName(\"entity\")\n",
    "            for e in entities :\n",
    "                # for discontinuous entities, we only get the first span\n",
    "                # (will not work, but there are few of them)\n",
    "                (start,end) = e.attributes[\"charOffset\"].value.split(\";\")[0].split(\"-\")\n",
    "                typ =  e.attributes[\"type\"].value\n",
    "                spans.append((int(start),int(end),typ))\n",
    "\n",
    "        # convert the sentence to a list of tokens\n",
    "        tokens = tokenize(stext)\n",
    "        # extract sentence features\n",
    "        features = extract_features(tokens)\n",
    "\n",
    "        # print features in format expected by crfsuite trainer\n",
    "        for i in range (0,len(tokens)) :\n",
    "            # see if the token is part of an entity\n",
    "            tag = get_tag(tokens[i], spans) \n",
    "            # print (sid, tokens[i][0], tokens[i][1], tokens[i][2], tag, \"\\t\".join(features[i]), sep='\\t')\n",
    "            item = {\"s_id\": sid, \"e_name\": tokens[i][0], \"e_type\": tag, \"e_off_s\": tokens[i][1], \"e_off_e\": tokens[i][2]}\n",
    "            item.update(features[i])\n",
    "            items.append(item)\n",
    "    \n",
    "    return pd.DataFrame(items)\n",
    "\n",
    "def load_data(datadir):\n",
    "    trees = parse_XML_file(datadir)\n",
    "    df_loaded = process_trees(trees)\n",
    "    return df_loaded"
   ]
  },
  {
   "cell_type": "markdown",
   "metadata": {},
   "source": [
    "## Train Data"
   ]
  },
  {
   "cell_type": "code",
   "execution_count": 100,
   "metadata": {},
   "outputs": [
    {
     "data": {
      "text/plain": [
       "(11914, 37)"
      ]
     },
     "execution_count": 100,
     "metadata": {},
     "output_type": "execute_result"
    }
   ],
   "source": [
    "df_train_drugbank = load_data(dir_train_drugbank)\n",
    "df_train_drugbank.shape"
   ]
  },
  {
   "cell_type": "code",
   "execution_count": 101,
   "metadata": {},
   "outputs": [
    {
     "data": {
      "text/plain": [
       "(3550, 37)"
      ]
     },
     "execution_count": 101,
     "metadata": {},
     "output_type": "execute_result"
    }
   ],
   "source": [
    "df_train_medline = load_data(dir_train_medline)\n",
    "df_train_medline.shape"
   ]
  },
  {
   "cell_type": "code",
   "execution_count": 102,
   "metadata": {},
   "outputs": [
    {
     "data": {
      "text/plain": [
       "(15464, 37)"
      ]
     },
     "execution_count": 102,
     "metadata": {},
     "output_type": "execute_result"
    }
   ],
   "source": [
    "df_train = df_train_drugbank.append(df_train_medline, ignore_index=True)\n",
    "df_train.shape"
   ]
  },
  {
   "cell_type": "code",
   "execution_count": 103,
   "metadata": {},
   "outputs": [],
   "source": [
    "# df_train.info()"
   ]
  },
  {
   "cell_type": "code",
   "execution_count": 104,
   "metadata": {},
   "outputs": [
    {
     "data": {
      "text/html": [
       "<div>\n",
       "<style scoped>\n",
       "    .dataframe tbody tr th:only-of-type {\n",
       "        vertical-align: middle;\n",
       "    }\n",
       "\n",
       "    .dataframe tbody tr th {\n",
       "        vertical-align: top;\n",
       "    }\n",
       "\n",
       "    .dataframe thead th {\n",
       "        text-align: right;\n",
       "    }\n",
       "</style>\n",
       "<table border=\"1\" class=\"dataframe\">\n",
       "  <thead>\n",
       "    <tr style=\"text-align: right;\">\n",
       "      <th></th>\n",
       "      <th>BoS</th>\n",
       "      <th>EoS</th>\n",
       "      <th>e_name</th>\n",
       "      <th>e_off_e</th>\n",
       "      <th>e_off_s</th>\n",
       "      <th>e_type</th>\n",
       "      <th>form</th>\n",
       "      <th>formNext</th>\n",
       "      <th>formPrev</th>\n",
       "      <th>formlower</th>\n",
       "      <th>...</th>\n",
       "      <th>s_id</th>\n",
       "      <th>stem</th>\n",
       "      <th>stemNext</th>\n",
       "      <th>stemPrev</th>\n",
       "      <th>suf3</th>\n",
       "      <th>suf3Next</th>\n",
       "      <th>suf3Prev</th>\n",
       "      <th>suf4</th>\n",
       "      <th>suf4Next</th>\n",
       "      <th>suf4Prev</th>\n",
       "    </tr>\n",
       "  </thead>\n",
       "  <tbody>\n",
       "    <tr>\n",
       "      <th>0</th>\n",
       "      <td>False</td>\n",
       "      <td>False</td>\n",
       "      <td>Milk</td>\n",
       "      <td>3</td>\n",
       "      <td>0</td>\n",
       "      <td>O</td>\n",
       "      <td>Milk</td>\n",
       "      <td>,</td>\n",
       "      <td></td>\n",
       "      <td>milk</td>\n",
       "      <td>...</td>\n",
       "      <td>DDI-DrugBank.d481.s0</td>\n",
       "      <td>milk</td>\n",
       "      <td>,</td>\n",
       "      <td></td>\n",
       "      <td>ilk</td>\n",
       "      <td>,</td>\n",
       "      <td></td>\n",
       "      <td>Milk</td>\n",
       "      <td>,</td>\n",
       "      <td></td>\n",
       "    </tr>\n",
       "    <tr>\n",
       "      <th>1</th>\n",
       "      <td>False</td>\n",
       "      <td>False</td>\n",
       "      <td>,</td>\n",
       "      <td>4</td>\n",
       "      <td>4</td>\n",
       "      <td>O</td>\n",
       "      <td>,</td>\n",
       "      <td>milk</td>\n",
       "      <td>Milk</td>\n",
       "      <td>,</td>\n",
       "      <td>...</td>\n",
       "      <td>DDI-DrugBank.d481.s0</td>\n",
       "      <td>,</td>\n",
       "      <td>milk</td>\n",
       "      <td>milk</td>\n",
       "      <td>,</td>\n",
       "      <td>ilk</td>\n",
       "      <td>ilk</td>\n",
       "      <td>,</td>\n",
       "      <td>milk</td>\n",
       "      <td>Milk</td>\n",
       "    </tr>\n",
       "    <tr>\n",
       "      <th>2</th>\n",
       "      <td>False</td>\n",
       "      <td>False</td>\n",
       "      <td>milk</td>\n",
       "      <td>9</td>\n",
       "      <td>6</td>\n",
       "      <td>O</td>\n",
       "      <td>milk</td>\n",
       "      <td>products</td>\n",
       "      <td>,</td>\n",
       "      <td>milk</td>\n",
       "      <td>...</td>\n",
       "      <td>DDI-DrugBank.d481.s0</td>\n",
       "      <td>milk</td>\n",
       "      <td>product</td>\n",
       "      <td>,</td>\n",
       "      <td>ilk</td>\n",
       "      <td>cts</td>\n",
       "      <td>,</td>\n",
       "      <td>milk</td>\n",
       "      <td>ucts</td>\n",
       "      <td>,</td>\n",
       "    </tr>\n",
       "    <tr>\n",
       "      <th>3</th>\n",
       "      <td>False</td>\n",
       "      <td>False</td>\n",
       "      <td>products</td>\n",
       "      <td>18</td>\n",
       "      <td>11</td>\n",
       "      <td>O</td>\n",
       "      <td>products</td>\n",
       "      <td>,</td>\n",
       "      <td>milk</td>\n",
       "      <td>products</td>\n",
       "      <td>...</td>\n",
       "      <td>DDI-DrugBank.d481.s0</td>\n",
       "      <td>product</td>\n",
       "      <td>,</td>\n",
       "      <td>milk</td>\n",
       "      <td>cts</td>\n",
       "      <td>,</td>\n",
       "      <td>ilk</td>\n",
       "      <td>ucts</td>\n",
       "      <td>,</td>\n",
       "      <td>milk</td>\n",
       "    </tr>\n",
       "    <tr>\n",
       "      <th>4</th>\n",
       "      <td>False</td>\n",
       "      <td>False</td>\n",
       "      <td>,</td>\n",
       "      <td>19</td>\n",
       "      <td>19</td>\n",
       "      <td>O</td>\n",
       "      <td>,</td>\n",
       "      <td>and</td>\n",
       "      <td>products</td>\n",
       "      <td>,</td>\n",
       "      <td>...</td>\n",
       "      <td>DDI-DrugBank.d481.s0</td>\n",
       "      <td>,</td>\n",
       "      <td>and</td>\n",
       "      <td>product</td>\n",
       "      <td>,</td>\n",
       "      <td>and</td>\n",
       "      <td>cts</td>\n",
       "      <td>,</td>\n",
       "      <td>and</td>\n",
       "      <td>ucts</td>\n",
       "    </tr>\n",
       "  </tbody>\n",
       "</table>\n",
       "<p>5 rows × 37 columns</p>\n",
       "</div>"
      ],
      "text/plain": [
       "     BoS    EoS    e_name  e_off_e  e_off_s e_type      form  formNext  \\\n",
       "0  False  False      Milk        3        0      O      Milk         ,   \n",
       "1  False  False         ,        4        4      O         ,      milk   \n",
       "2  False  False      milk        9        6      O      milk  products   \n",
       "3  False  False  products       18       11      O  products         ,   \n",
       "4  False  False         ,       19       19      O         ,       and   \n",
       "\n",
       "   formPrev formlower   ...                     s_id     stem stemNext  \\\n",
       "0                milk   ...     DDI-DrugBank.d481.s0     milk        ,   \n",
       "1      Milk         ,   ...     DDI-DrugBank.d481.s0        ,     milk   \n",
       "2         ,      milk   ...     DDI-DrugBank.d481.s0     milk  product   \n",
       "3      milk  products   ...     DDI-DrugBank.d481.s0  product        ,   \n",
       "4  products         ,   ...     DDI-DrugBank.d481.s0        ,      and   \n",
       "\n",
       "  stemPrev suf3 suf3Next suf3Prev  suf4 suf4Next suf4Prev  \n",
       "0           ilk        ,           Milk        ,           \n",
       "1     milk    ,      ilk      ilk     ,     milk     Milk  \n",
       "2        ,  ilk      cts        ,  milk     ucts        ,  \n",
       "3     milk  cts        ,      ilk  ucts        ,     milk  \n",
       "4  product    ,      and      cts     ,      and     ucts  \n",
       "\n",
       "[5 rows x 37 columns]"
      ]
     },
     "execution_count": 104,
     "metadata": {},
     "output_type": "execute_result"
    }
   ],
   "source": [
    "df_train.head()"
   ]
  },
  {
   "cell_type": "markdown",
   "metadata": {},
   "source": [
    "## Test Data"
   ]
  },
  {
   "cell_type": "code",
   "execution_count": 105,
   "metadata": {},
   "outputs": [
    {
     "data": {
      "text/plain": [
       "(1118, 37)"
      ]
     },
     "execution_count": 105,
     "metadata": {},
     "output_type": "execute_result"
    }
   ],
   "source": [
    "df_test_drugbank = load_data(dir_test_drugbank)\n",
    "df_test_drugbank.shape"
   ]
  },
  {
   "cell_type": "code",
   "execution_count": 106,
   "metadata": {},
   "outputs": [
    {
     "data": {
      "text/plain": [
       "(1392, 37)"
      ]
     },
     "execution_count": 106,
     "metadata": {},
     "output_type": "execute_result"
    }
   ],
   "source": [
    "df_test_medline = load_data(dir_test_medline)\n",
    "df_test_medline.shape"
   ]
  },
  {
   "cell_type": "markdown",
   "metadata": {},
   "source": [
    "# Input data"
   ]
  },
  {
   "cell_type": "code",
   "execution_count": 107,
   "metadata": {},
   "outputs": [
    {
     "data": {
      "text/plain": [
       "32"
      ]
     },
     "execution_count": 107,
     "metadata": {},
     "output_type": "execute_result"
    }
   ],
   "source": [
    "label = 'e_type'\n",
    "not_features = ['e_name', 'e_off_e', 'e_off_s', 'e_type', 's_id']\n",
    "features = [x for x in df_train.columns.tolist() if x not in not_features]\n",
    "len(features)"
   ]
  },
  {
   "cell_type": "code",
   "execution_count": 108,
   "metadata": {},
   "outputs": [],
   "source": [
    "def get_input(input_df, label_col, features_cols):\n",
    "    Ys = np.array(input_df[label_col])\n",
    "    Xs = np.array(input_df[features_cols])\n",
    "    return Xs, Ys"
   ]
  },
  {
   "cell_type": "code",
   "execution_count": 109,
   "metadata": {},
   "outputs": [],
   "source": [
    "X_train, Y_train = get_input(df_train, label, features)\n",
    "X_test_drugbank, Y_test_drugbank = get_input(df_test_drugbank, label, features)\n",
    "X_test_medline, Y_test_medline = get_input(df_test_medline, label, features)"
   ]
  },
  {
   "cell_type": "markdown",
   "metadata": {},
   "source": [
    "### Encode training data"
   ]
  },
  {
   "cell_type": "code",
   "execution_count": 110,
   "metadata": {},
   "outputs": [],
   "source": [
    "def encode_labels(Ys):\n",
    "    le_Ys = preprocessing.LabelEncoder()\n",
    "    le_Ys.fit(Ys)\n",
    "    Ys_enc = le_Ys.transform(Ys)\n",
    "    return Ys_enc, le_Ys"
   ]
  },
  {
   "cell_type": "code",
   "execution_count": 111,
   "metadata": {},
   "outputs": [
    {
     "name": "stdout",
     "output_type": "stream",
     "text": [
      "Classes: ['B-brand' 'B-drug' 'B-drug_n' 'B-group' 'I-brand' 'I-drug' 'I-drug_n'\n",
      " 'I-group' 'O']\n"
     ]
    }
   ],
   "source": [
    "Y_train_enc, le = encode_labels(Y_train)\n",
    "print(\"Classes:\",le.classes_)"
   ]
  },
  {
   "cell_type": "code",
   "execution_count": 112,
   "metadata": {},
   "outputs": [],
   "source": [
    "def encode_features(Xs):\n",
    "    enc_Xs = preprocessing.OneHotEncoder(handle_unknown=\"ignore\")\n",
    "    enc_Xs.fit(Xs)\n",
    "    Xs_enc = enc_Xs.transform(Xs)\n",
    "    return Xs_enc, enc_Xs"
   ]
  },
  {
   "cell_type": "code",
   "execution_count": 113,
   "metadata": {},
   "outputs": [
    {
     "name": "stdout",
     "output_type": "stream",
     "text": [
      "Categories: [array(['False'], dtype=object), array(['False', 'True'], dtype=object), array(['%', \"'s\", '(', ..., 'zidovudine', 'zinc', 'zinc-chelating'],\n",
      "      dtype=object), array(['', '%', \"'s\", ..., 'zidovudine', 'zinc', 'zinc-chelating'],\n",
      "      dtype=object), array(['', '%', \"'s\", ..., 'zidovudine', 'zinc', 'zinc-chelating'],\n",
      "      dtype=object), array(['%', \"'s\", '(', ..., 'zinc-chelating', 'zmax', 'zoladex'],\n",
      "      dtype=object), array(['', '%', \"'s\", ..., 'zinc-chelating', 'zmax', 'zoladex'],\n",
      "      dtype=object), array(['', '%', \"'s\", ..., 'zinc-chelating', 'zmax', 'zoladex'],\n",
      "      dtype=object), array(['False', 'True'], dtype=object), array(['', 'False', 'True'], dtype=object), array(['', 'False', 'True'], dtype=object), array(['False', 'True'], dtype=object), array(['', 'False', 'True'], dtype=object), array(['', 'False', 'True'], dtype=object), array(['False', 'True'], dtype=object), array(['', 'False', 'True'], dtype=object), array(['', 'False', 'True'], dtype=object), array(['False', 'True'], dtype=object), array(['', 'False', 'True'], dtype=object), array(['', 'False', 'True'], dtype=object), array(['(', ')', ',', '.', ':', 'CC', 'CD', 'DT', 'EX', 'IN', 'JJ', 'JJR',\n",
      "       'JJS', 'MD', 'NN', 'NNP', 'NNS', 'POS', 'PRP', 'PRP$', 'RB', 'RBR',\n",
      "       'SYM', 'TO', 'VB', 'VBD', 'VBG', 'VBN', 'VBP', 'VBZ', 'WDT', 'WP',\n",
      "       'WP$', 'WRB'], dtype=object), array(['', '(', ')', ',', '.', ':', 'CC', 'CD', 'DT', 'EX', 'IN', 'JJ',\n",
      "       'JJR', 'JJS', 'MD', 'NN', 'NNP', 'NNS', 'POS', 'PRP', 'PRP$', 'RB',\n",
      "       'RBR', 'SYM', 'TO', 'VB', 'VBD', 'VBG', 'VBN', 'VBP', 'VBZ', 'WDT',\n",
      "       'WP', 'WP$', 'WRB'], dtype=object), array(['', '(', ')', ',', '.', ':', 'CC', 'CD', 'DT', 'EX', 'IN', 'JJ',\n",
      "       'JJR', 'JJS', 'MD', 'NN', 'NNP', 'NNS', 'POS', 'PRP', 'PRP$', 'RB',\n",
      "       'RBR', 'SYM', 'TO', 'VB', 'VBD', 'VBG', 'VBN', 'VBP', 'VBZ', 'WDT',\n",
      "       'WP', 'WP$', 'WRB'], dtype=object), array(['%', \"'s\", '(', ..., 'zinc-chel', 'zmax', 'zoladex'], dtype=object), array(['', '%', \"'s\", ..., 'zinc-chel', 'zmax', 'zoladex'], dtype=object), array(['', '%', \"'s\", ..., 'zinc-chel', 'zmax', 'zoladex'], dtype=object), array(['%', \"'s\", '(', ')', '+/-', '+12', '+19', ',', '-', '-11', '-1a',\n",
      "       '-3', '-IV', '-KS', '-MC', '-SC', '.', '.14', '.25', '.d.', '.e.',\n",
      "       '.g.', '/kg', '/m2', '/mL', '/or', '0.1', '0.4', '000', '025', '1',\n",
      "       '1-', '1.0', '1/3', '10', '100', '11', '12h', '13', '14', '15',\n",
      "       '150', '16', '170', '1A2', '1C', '2', '2+', '2.2', '2.5', '2.7',\n",
      "       '20', '22', '24', '25', '250', '2A6', '2C9', '2D6', '2E1', '2nd',\n",
      "       '3', '30', '300', '340', '35', '38', '3A4', '4', '40', '400', '45',\n",
      "       '450', '48', '5', '5.8', '50', '540', '6', '6.9', '60', '65',\n",
      "       '698', '7', '72', '75', '8', '80', '81', '85', '9/L', '900', '999',\n",
      "       ':', ';', 'A', 'A-V', 'A2', 'ABA', 'ACA', 'ACE', 'ACT', 'ADL',\n",
      "       'AGE', 'AKE', 'ALG', 'AMP', 'AN', 'ANC', 'AND', 'ANT', 'AOI',\n",
      "       'APE', 'APY', 'ARA', 'ART', 'AS', 'AST', 'AT', 'AUC', 'AV', 'AVA',\n",
      "       'All', 'An', 'Any', 'As', 'B', 'B12', 'B23', 'BLE', 'BRI', 'C',\n",
      "       'C19', 'CAL', 'CAR', 'CD3', 'CIA', 'CMC', 'CMV', 'CNS', 'CON',\n",
      "       'COR', 'CTH', 'CYP', 'CYT', 'Ca', 'D', 'D1', 'D2', 'D3', 'DED',\n",
      "       'DEX', 'DIL', 'DST', 'Do', 'Due', 'Dur', 'E', 'EAL', 'EAT', 'EGF',\n",
      "       'EIR', 'ENE', 'ENT', 'EPA', 'EPT', 'ERA', 'ERE', 'ERT', 'ETH',\n",
      "       'F-7', 'FEX', 'FOR', 'Fe', 'Flu', 'For', 'G-1', 'GL', 'Gal', 'Gel',\n",
      "       'H.E', 'H1', 'H2', 'HAT', 'HC1', 'HCl', 'HER', 'HIV', 'I', 'IAA',\n",
      "       'ICK', 'ICR', 'IDE', 'IDs', 'II', 'III', 'IJA', 'IM', 'IND', 'INE',\n",
      "       'ING', 'INR', 'ION', 'IRA', 'IS', 'IT', 'IUM', 'IV', 'IVA', 'IVE',\n",
      "       'If', 'IgA', 'In', 'Inc', 'It', 'K', 'KYN', 'Kd', 'Kit', 'LAN',\n",
      "       'LAR', 'LEN', 'LIN', 'LOC', 'Log', 'M', 'MAO', 'MAR', 'MAX', 'MAY',\n",
      "       'MBT', 'MNA', 'MOR', 'MS', 'May', 'N38', 'NAC', 'NCE', 'NEX', 'NO',\n",
      "       'NOT', 'NOX', 'NTS', 'Na', 'No', 'OCs', 'OGY', 'OID', 'OIs', 'ONE',\n",
      "       'ONS', 'OPT', 'OR', 'ORE', 'OTM', 'OUR', 'OVA', 'OXX', 'On', 'Our',\n",
      "       'P-', 'P.A', 'P2', 'PAH', 'PAR', 'PBI', 'PCP', 'PEG', 'PLC', 'PRA',\n",
      "       'PSA', 'PT', 'PTX', 'QT', 'RAL', 'RDS', 'REL', 'REX', 'RGE', 'RIA',\n",
      "       'RIN', 'RIT', 'RNA', 'ROL', 'RON', 'RPF', 'RR', 'SAR', 'SIN',\n",
      "       'SOL', 'SSA', 'STR', 'See', 'St.', 'TCA', 'TED', 'TER', 'TEX',\n",
      "       'TIN', 'TIX', 'TIs', 'TLC', 'TLY', 'TO', 'TON', 'TUX', 'The', 'Tm',\n",
      "       'To', 'Two', 'UDE', 'UGS', 'URS', 'USP', 'Use', 'V', 'VAL', 'VEN',\n",
      "       'VIA', 'VII', 'VIL', 'VIR', 'We', 'X', 'XIL', 'XIN', 'XR', 'YOL',\n",
      "       'ZAL', '_IN', 'a', 'ach', 'ack', 'act', 'acy', 'ade', 'ady', 'age',\n",
      "       'aid', 'ain', 'air', 'ake', 'alk', 'all', 'als', 'alt', 'ame',\n",
      "       'ams', 'an', 'anA', 'anH', 'and', 'ane', 'ans', 'ant', 'any',\n",
      "       'ape', 'aps', 'apy', 'arc', 'ard', 'are', 'arg', 'ark', 'ars',\n",
      "       'art', 'ary', 'as', 'ase', 'ask', 'ass', 'ast', 'asy', 'at', 'ata',\n",
      "       'ate', 'ath', 'ats', 'ave', 'avy', 'awn', 'ayl', 'ays', 'b', 'bal',\n",
      "       'ban', 'be', 'bed', 'bef', 'ber', 'bes', 'bic', 'bif', 'bin',\n",
      "       'bit', 'ble', 'bly', 'but', 'by', 'byx', 'cal', 'can', 'cci',\n",
      "       'ced', 'cer', 'ces', 'cic', 'cid', 'cil', 'cin', 'cks', 'cle',\n",
      "       'co', 'col', 'cor', 'coy', 'cts', 'cur', 'cus', 'd-S', 'dal',\n",
      "       'dan', 'day', 'dds', 'ded', 'del', 'den', 'der', 'des', 'dex',\n",
      "       'dge', 'dia', 'dic', 'did', 'dil', 'din', 'dly', 'do', 'dol',\n",
      "       'dth', 'due', 'e-3', 'e.g', 'ead', 'eak', 'eal', 'eam', 'ean',\n",
      "       'ear', 'eas', 'eat', 'eby', 'eck', 'ect', 'eds', 'edy', 'eed',\n",
      "       'eek', 'eem', 'een', 'eep', 'eer', 'ees', 'eg', 'ein', 'eir',\n",
      "       'eks', 'ell', 'elp', 'els', 'ely', 'ema', 'ems', 'end', 'ene',\n",
      "       'eng', 'ens', 'ent', 'enz', 'eof', 'ept', 'erb', 'ere', 'erg',\n",
      "       'erm', 'ern', 'ers', 'ert', 'ery', 'ese', 'esp', 'ess', 'est',\n",
      "       'eta', 'ete', 'ets', 'ety', 'eus', 'eve', 'ews', 'exa', 'eye',\n",
      "       'fan', 'far', 'fed', 'fen', 'fer', 'few', 'ffe', 'fia', 'fic',\n",
      "       'fil', 'fin', 'fit', 'flu', 'fly', 'fo', 'fol', 'fon', 'for',\n",
      "       'ful', 'g/m', 'gar', 'gas', 'ged', 'gel', 'gen', 'ger', 'ges',\n",
      "       'get', 'ght', 'gia', 'gic', 'gin', 'gle', 'gly', 'gns', 'got', 'h',\n",
      "       'had', 'han', 'has', 'hat', 'hea', 'hed', 'hem', 'hen', 'her',\n",
      "       'hes', 'hey', 'hic', 'hin', 'hio', 'hip', 'his', 'hit', 'hly',\n",
      "       'hma', 'hns', 'hod', 'hol', 'hom', 'hot', 'how', 'htm', 'hts',\n",
      "       'hus', 'hyl', 'i', 'i.d', 'iac', 'ial', 'ian', 'ias', 'ibe', 'ice',\n",
      "       'ich', 'ick', 'ics', 'ict', 'ide', 'ids', 'ied', 'ies', 'iew',\n",
      "       'if', 'ife', 'ify', 'igh', 'ign', 'igo', 'ike', 'ile', 'ilk',\n",
      "       'ill', 'ils', 'ily', 'ime', 'in', 'in-', 'inc', 'ind', 'ine',\n",
      "       'ing', 'ink', 'ino', 'ins', 'int', 'iod', 'ion', 'ior', 'ips',\n",
      "       'irc', 'irm', 'is', 'ise', 'isk', 'ism', 'ist', 'it', 'ite', 'ith',\n",
      "       'its', 'ity', 'ium', 'ive', 'ivo', 'ize', 'ked', 'ken', 'ker',\n",
      "       'kes', 'kin', 'kit', 'kly', 'lab', 'lac', 'lam', 'lan', 'lar',\n",
      "       'lay', 'led', 'les', 'let', 'lex', 'lfa', 'lic', 'lid', 'lin',\n",
      "       'lip', 'lis', 'lix', 'lla', 'lls', 'lly', 'lol', 'lon', 'lop',\n",
      "       'lor', 'lot', 'low', 'lse', 'lso', 'lts', 'lue', 'lus', 'lyl',\n",
      "       'lyn', 'mab', 'mal', 'man', 'max', 'may', 'mbs', 'mcg', 'med',\n",
      "       'men', 'mer', 'mes', 'met', 'mg', 'mia', 'mic', 'mil', 'min',\n",
      "       'mit', 'mon', 'mor', 'mps', 'mu', 'mum', 'mus', 'myl', 'n', 'n-2',\n",
      "       'n.1', 'nac', 'nal', 'nce', 'ncy', 'nds', 'nea', 'ned', 'nel',\n",
      "       'nes', 'net', 'new', 'ney', 'nge', 'ngs', 'nia', 'nib', 'nic',\n",
      "       'nil', 'nin', 'nks', 'nly', 'no', 'no-', 'nol', 'nor', 'not',\n",
      "       'nox', 'nra', 'nsP', 'nse', 'nst', 'nth', 'nto', 'nts', 'nue',\n",
      "       'nul', 'num', 'nus', 'nux', 'nyl', 'oad', 'oca', 'ock', 'ode',\n",
      "       'ods', 'ody', 'oes', 'oex', 'of', 'ogs', 'ogy', 'ohn', 'oic',\n",
      "       'oid', 'oin', 'oke', 'old', 'ole', 'oli', 'oma', 'ome', 'oms',\n",
      "       'on', 'on-', 'ond', 'one', 'ong', 'ons', 'ood', 'ool', 'oop',\n",
      "       'oos', 'opa', 'ope', 'or', 'ore', 'orm', 'ors', 'ort', 'ory',\n",
      "       'osa', 'ose', 'oss', 'ost', 'oth', 'our', 'ous', 'out', 'ove',\n",
      "       'own', 'ows', 'oxy', 'pH', 'pam', 'ped', 'pen', 'per', 'pes',\n",
      "       'pha', 'phy', 'pic', 'pid', 'pin', 'ple', 'pol', 'pon', 'pra',\n",
      "       'pse', 'pus', 'que', 'ral', 'ram', 'ras', 'rch', 'rds', 'rea',\n",
      "       'red', 'ree', 'rel', 'ren', 'res', 'ret', 'rge', 'rgy', 'ria',\n",
      "       'ric', 'ril', 'rin', 'rip', 'ris', 'rix', 'rly', 'rms', 'rns',\n",
      "       'rol', 'rom', 'ron', 'row', 'rph', 'rse', 'rst', 'rth', 'rto',\n",
      "       'rts', 'rty', 'rug', 'rum', 'rve', 'ryl', 's', 'sal', 'saw', 'say',\n",
      "       'sed', 'see', 'sen', 'ses', 'set', 'sia', 'sin', 'sis', 'sit',\n",
      "       'sks', 'sln', 'sly', 'sma', 'sms', 'so', 'sol', 'son', 'sor',\n",
      "       'sts', 'sue', 'tal', 'tam', 'tan', 'tax', 'tch', 'ted', 'tel',\n",
      "       'tem', 'ten', 'tep', 'ter', 'tes', 'the', 'thm', 'ths', 'thy',\n",
      "       'ti-', 'tic', 'til', 'tin', 'tio', 'tis', 'tix', 'tle', 'tly',\n",
      "       'to', 'tol', 'ton', 'too', 'top', 'tor', 'tox', 'tra', 'tro',\n",
      "       'try', 'tte', 'tto', 'ttp', 'tty', 'tus', 'two', 'txt', 'tyl',\n",
      "       'ual', 'uce', 'uch', 'uct', 'ude', 'udy', 'ued', 'ues', 'uff',\n",
      "       'ug/', 'ugh', 'ugs', 'uit', 'uld', 'ule', 'ult', 'ume', 'ump',\n",
      "       'und', 'une', 'ung', 'unt', 'up', 'ups', 'ure', 'urs', 'ury',\n",
      "       'use', 'ust', 'ute', 'val', 'van', 'var', 'ved', 'vel', 'ven',\n",
      "       'ver', 'ves', 'via', 'vin', 'vir', 'vis', 'vum', 'wal', 'was',\n",
      "       'wax', 'way', 'we', 'wed', 'wer', 'who', 'wsy', 'wth', 'x', 'xed',\n",
      "       'xel', 'xen', 'xes', 'xia', 'xib', 'xic', 'xil', 'xin', 'xol',\n",
      "       'ybe', 'yed', 'yet', 'yme', 'yos', 'you', 'ype', 'yte', 'zac',\n",
      "       'zar', 'zed', 'zem', 'zid', 'zil', 'zol', 'zox'], dtype=object), array(['', '%', \"'s\", '(', ')', '+/-', '+19', ',', '-', '-11', '-1a',\n",
      "       '-3', '-IV', '-KS', '-MC', '-SC', '.', '.14', '.25', '.d.', '.e.',\n",
      "       '.g.', '/kg', '/m2', '/mL', '/or', '0.1', '0.4', '000', '025', '1',\n",
      "       '1-', '1.0', '1/3', '10', '100', '11', '12h', '13', '14', '15',\n",
      "       '150', '16', '170', '1A2', '1C', '2', '2+', '2.2', '2.5', '2.7',\n",
      "       '20', '22', '24', '25', '250', '2A6', '2C9', '2D6', '2E1', '2nd',\n",
      "       '3', '30', '300', '340', '35', '38', '3A4', '4', '40', '400', '45',\n",
      "       '450', '48', '5', '5.8', '50', '540', '6', '6.9', '60', '65',\n",
      "       '698', '7', '72', '75', '8', '80', '81', '85', '9/L', '900', '999',\n",
      "       ':', ';', 'A', 'A-V', 'A2', 'ABA', 'ACA', 'ACE', 'ACT', 'ADL',\n",
      "       'AGE', 'AKE', 'ALG', 'AMP', 'AN', 'ANC', 'AND', 'ANT', 'AOI',\n",
      "       'APE', 'APY', 'ARA', 'ART', 'AS', 'AST', 'AT', 'AUC', 'AV', 'AVA',\n",
      "       'Any', 'As', 'B', 'B12', 'B23', 'BLE', 'BRI', 'C', 'C19', 'CAL',\n",
      "       'CAR', 'CD3', 'CIA', 'CMC', 'CMV', 'CNS', 'CON', 'COR', 'CTH',\n",
      "       'CYP', 'CYT', 'Ca', 'D', 'D1', 'D2', 'D3', 'DED', 'DEX', 'DIL',\n",
      "       'DST', 'Dur', 'E', 'EAL', 'EAT', 'EGF', 'EIR', 'ENE', 'ENT', 'EPA',\n",
      "       'EPT', 'ERA', 'ERE', 'ETH', 'F-7', 'FEX', 'FOR', 'Fe', 'Flu',\n",
      "       'G-1', 'GL', 'Gal', 'Gel', 'H.E', 'H1', 'H2', 'HAT', 'HC1', 'HCl',\n",
      "       'HER', 'HIV', 'I', 'IAA', 'ICK', 'ICR', 'IDE', 'IDs', 'II', 'III',\n",
      "       'IJA', 'IM', 'IND', 'INE', 'ING', 'INR', 'ION', 'IRA', 'IS', 'IT',\n",
      "       'IV', 'IVA', 'IVE', 'IgA', 'In', 'Inc', 'It', 'K', 'KYN', 'Kd',\n",
      "       'Kit', 'LAN', 'LAR', 'LEN', 'LIN', 'LOC', 'Log', 'M', 'MAO', 'MAR',\n",
      "       'MAX', 'MAY', 'MBT', 'MNA', 'MOR', 'MS', 'N38', 'NAC', 'NCE',\n",
      "       'NEX', 'NO', 'NOT', 'NOX', 'NTS', 'Na', 'No', 'OCs', 'OGY', 'OID',\n",
      "       'OIs', 'ONE', 'OPT', 'OR', 'ORE', 'OTM', 'OUR', 'OVA', 'OXX', 'P-',\n",
      "       'P.A', 'P2', 'PAH', 'PAR', 'PBI', 'PCP', 'PEG', 'PLC', 'PRA',\n",
      "       'PSA', 'PT', 'PTX', 'QT', 'RAL', 'RDS', 'REX', 'RGE', 'RIA', 'RIN',\n",
      "       'RIT', 'RNA', 'ROL', 'RON', 'RPF', 'RR', 'SAR', 'SIN', 'SOL',\n",
      "       'SSA', 'STR', 'See', 'St.', 'TCA', 'TED', 'TER', 'TEX', 'TIN',\n",
      "       'TIX', 'TIs', 'TLC', 'TLY', 'TO', 'TON', 'TUX', 'The', 'Tm', 'To',\n",
      "       'UDE', 'UGS', 'URS', 'USP', 'Use', 'V', 'VAL', 'VEN', 'VIA', 'VII',\n",
      "       'VIL', 'VIR', 'X', 'XIN', 'XR', 'YOL', 'ZAL', 'a', 'ach', 'ack',\n",
      "       'act', 'acy', 'ade', 'ady', 'age', 'aid', 'ain', 'air', 'ake',\n",
      "       'all', 'als', 'alt', 'ame', 'ams', 'an', 'anA', 'anH', 'and',\n",
      "       'ane', 'ans', 'ant', 'any', 'ape', 'aps', 'apy', 'arc', 'ard',\n",
      "       'are', 'ark', 'ars', 'art', 'ary', 'as', 'ase', 'ask', 'ass',\n",
      "       'ast', 'asy', 'at', 'ata', 'ate', 'ath', 'ats', 'ave', 'avy',\n",
      "       'awn', 'ayl', 'ays', 'b', 'bal', 'ban', 'be', 'bed', 'bef', 'ber',\n",
      "       'bes', 'bic', 'bif', 'bin', 'bit', 'ble', 'bly', 'but', 'by',\n",
      "       'byx', 'cal', 'can', 'cci', 'ced', 'cer', 'ces', 'cic', 'cid',\n",
      "       'cil', 'cin', 'cks', 'cle', 'co', 'col', 'cor', 'coy', 'cts',\n",
      "       'cur', 'cus', 'd-S', 'dal', 'dan', 'day', 'dds', 'ded', 'del',\n",
      "       'den', 'der', 'des', 'dex', 'dge', 'dia', 'dic', 'did', 'dil',\n",
      "       'din', 'dly', 'do', 'dol', 'dth', 'due', 'e-3', 'e.g', 'ead',\n",
      "       'eak', 'eal', 'eam', 'ean', 'ear', 'eas', 'eat', 'eby', 'eck',\n",
      "       'ect', 'eds', 'edy', 'eed', 'eek', 'eem', 'een', 'eep', 'eer',\n",
      "       'ees', 'eg', 'ein', 'eir', 'eks', 'ell', 'elp', 'els', 'ely',\n",
      "       'ema', 'ems', 'end', 'ene', 'eng', 'ens', 'ent', 'enz', 'eof',\n",
      "       'ept', 'erb', 'ere', 'erg', 'ern', 'ers', 'ert', 'ery', 'ese',\n",
      "       'esp', 'ess', 'est', 'eta', 'ete', 'ets', 'ety', 'eus', 'eve',\n",
      "       'ews', 'exa', 'eye', 'fan', 'far', 'fed', 'fen', 'fer', 'few',\n",
      "       'ffe', 'fia', 'fic', 'fil', 'fin', 'fit', 'flu', 'fly', 'fo',\n",
      "       'fol', 'fon', 'for', 'ful', 'g/m', 'gar', 'gas', 'ged', 'gel',\n",
      "       'gen', 'ger', 'ges', 'get', 'ght', 'gia', 'gic', 'gin', 'gle',\n",
      "       'gly', 'gns', 'got', 'h', 'had', 'han', 'has', 'hat', 'hea', 'hed',\n",
      "       'hem', 'hen', 'her', 'hes', 'hey', 'hic', 'hin', 'hio', 'hip',\n",
      "       'his', 'hit', 'hly', 'hma', 'hns', 'hod', 'hol', 'hom', 'hot',\n",
      "       'how', 'htm', 'hts', 'hus', 'hyl', 'i', 'i.d', 'iac', 'ial', 'ian',\n",
      "       'ias', 'ibe', 'ice', 'ich', 'ick', 'ics', 'ict', 'ide', 'ids',\n",
      "       'ied', 'ies', 'iew', 'if', 'ife', 'ify', 'igh', 'ign', 'igo',\n",
      "       'ike', 'ile', 'ilk', 'ill', 'ils', 'ily', 'ime', 'in', 'in-',\n",
      "       'inc', 'ind', 'ine', 'ing', 'ink', 'ino', 'ins', 'int', 'iod',\n",
      "       'ion', 'ior', 'ips', 'irc', 'irm', 'is', 'ise', 'isk', 'ism',\n",
      "       'ist', 'it', 'ite', 'ith', 'its', 'ity', 'ium', 'ive', 'ivo',\n",
      "       'ize', 'ked', 'ken', 'ker', 'kes', 'kin', 'kit', 'kly', 'lab',\n",
      "       'lac', 'lam', 'lan', 'lar', 'lay', 'led', 'les', 'let', 'lex',\n",
      "       'lfa', 'lic', 'lid', 'lin', 'lip', 'lis', 'lix', 'lla', 'lls',\n",
      "       'lly', 'lol', 'lon', 'lop', 'lor', 'lot', 'low', 'lse', 'lso',\n",
      "       'lts', 'lue', 'lus', 'lyl', 'lyn', 'mab', 'mal', 'man', 'max',\n",
      "       'may', 'mbs', 'mcg', 'med', 'men', 'mer', 'mes', 'met', 'mg',\n",
      "       'mia', 'mic', 'mil', 'min', 'mit', 'mon', 'mor', 'mps', 'mu',\n",
      "       'mum', 'mus', 'myl', 'n', 'n-2', 'n.1', 'nac', 'nal', 'nce', 'ncy',\n",
      "       'nds', 'nea', 'ned', 'nel', 'nes', 'net', 'new', 'ney', 'nge',\n",
      "       'ngs', 'nia', 'nib', 'nic', 'nil', 'nks', 'nly', 'no', 'no-',\n",
      "       'nol', 'nor', 'not', 'nox', 'nra', 'nsP', 'nse', 'nst', 'nth',\n",
      "       'nto', 'nts', 'nue', 'nul', 'num', 'nus', 'nux', 'nyl', 'oad',\n",
      "       'oca', 'ock', 'ode', 'ods', 'ody', 'oes', 'oex', 'of', 'ogs',\n",
      "       'ogy', 'ohn', 'oic', 'oid', 'oin', 'oke', 'old', 'ole', 'oli',\n",
      "       'oma', 'ome', 'oms', 'on', 'on-', 'ond', 'one', 'ong', 'ons',\n",
      "       'ood', 'ool', 'oop', 'oos', 'opa', 'ope', 'or', 'ore', 'orm',\n",
      "       'ors', 'ort', 'ory', 'ose', 'oss', 'ost', 'oth', 'our', 'ous',\n",
      "       'out', 'ove', 'own', 'ows', 'oxy', 'pH', 'pam', 'ped', 'pen',\n",
      "       'per', 'pes', 'pha', 'phy', 'pic', 'pid', 'pin', 'ple', 'pol',\n",
      "       'pon', 'pra', 'pse', 'pus', 'que', 'ral', 'ram', 'ras', 'rch',\n",
      "       'rds', 'rea', 'red', 'ree', 'rel', 'ren', 'res', 'ret', 'rge',\n",
      "       'rgy', 'ria', 'ric', 'ril', 'rin', 'rip', 'ris', 'rix', 'rly',\n",
      "       'rms', 'rns', 'rol', 'rom', 'ron', 'row', 'rph', 'rse', 'rst',\n",
      "       'rth', 'rts', 'rty', 'rug', 'rum', 'rve', 'ryl', 's', 'sal', 'saw',\n",
      "       'say', 'sed', 'see', 'sen', 'ses', 'set', 'sia', 'sin', 'sis',\n",
      "       'sit', 'sks', 'sln', 'sly', 'sma', 'sms', 'so', 'sol', 'son',\n",
      "       'sor', 'sts', 'sue', 'tal', 'tam', 'tan', 'tax', 'tch', 'ted',\n",
      "       'tel', 'tem', 'ten', 'tep', 'ter', 'tes', 'the', 'thm', 'ths',\n",
      "       'thy', 'ti-', 'tic', 'til', 'tin', 'tio', 'tis', 'tix', 'tle',\n",
      "       'tly', 'to', 'tol', 'ton', 'too', 'top', 'tor', 'tox', 'tra',\n",
      "       'tro', 'try', 'tte', 'tto', 'tty', 'tus', 'two', 'txt', 'tyl',\n",
      "       'ual', 'uce', 'uch', 'uct', 'ude', 'udy', 'ued', 'ues', 'uff',\n",
      "       'ugh', 'ugs', 'uit', 'uld', 'ule', 'ult', 'ume', 'ump', 'und',\n",
      "       'une', 'ung', 'unt', 'up', 'ups', 'ure', 'urs', 'ury', 'use',\n",
      "       'ust', 'ute', 'val', 'van', 'var', 'ved', 'vel', 'ven', 'ver',\n",
      "       'ves', 'via', 'vin', 'vir', 'vis', 'vum', 'wal', 'was', 'wax',\n",
      "       'way', 'we', 'wed', 'wer', 'who', 'wsy', 'wth', 'x', 'xed', 'xel',\n",
      "       'xen', 'xes', 'xia', 'xic', 'xil', 'xin', 'xol', 'ybe', 'yed',\n",
      "       'yet', 'yme', 'yos', 'you', 'ype', 'yte', 'zac', 'zar', 'zed',\n",
      "       'zem', 'zid', 'zil', 'zol', 'zox'], dtype=object), array(['', '%', \"'s\", '(', ')', '+/-', '+12', '+19', ',', '-', '-11',\n",
      "       '-1a', '-3', '-IV', '-KS', '-MC', '-SC', '.', '.14', '.25', '.d.',\n",
      "       '.e.', '.g.', '/kg', '/m2', '/mL', '/or', '0.1', '0.4', '000',\n",
      "       '025', '1', '1-', '1.0', '1/3', '10', '100', '11', '12h', '13',\n",
      "       '14', '15', '150', '16', '170', '1A2', '1C', '2', '2+', '2.2',\n",
      "       '2.5', '2.7', '20', '22', '24', '25', '250', '2A6', '2C9', '2D6',\n",
      "       '2E1', '2nd', '3', '30', '300', '340', '35', '38', '3A4', '4',\n",
      "       '40', '400', '45', '450', '48', '5', '5.8', '50', '540', '6',\n",
      "       '6.9', '60', '65', '698', '7', '72', '75', '8', '80', '81', '85',\n",
      "       '9/L', '900', '999', ':', 'A', 'A-V', 'A2', 'ABA', 'ACA', 'ACE',\n",
      "       'ACT', 'ADL', 'AGE', 'AKE', 'ALG', 'AMP', 'AN', 'ANC', 'AND',\n",
      "       'ANT', 'AOI', 'APE', 'APY', 'ARA', 'ART', 'AS', 'AST', 'AT', 'AUC',\n",
      "       'AV', 'AVA', 'All', 'An', 'Any', 'As', 'B', 'B12', 'B23', 'BLE',\n",
      "       'BRI', 'C', 'C19', 'CAL', 'CAR', 'CD3', 'CIA', 'CMC', 'CMV', 'CNS',\n",
      "       'CON', 'COR', 'CTH', 'CYP', 'CYT', 'Ca', 'D', 'D1', 'D2', 'D3',\n",
      "       'DED', 'DEX', 'DIL', 'DST', 'Do', 'Due', 'Dur', 'E', 'EAL', 'EAT',\n",
      "       'EGF', 'EIR', 'ENE', 'ENT', 'EPA', 'ERA', 'ERE', 'ERT', 'ETH',\n",
      "       'F-7', 'FEX', 'FOR', 'Fe', 'Flu', 'For', 'G-1', 'GL', 'Gal', 'Gel',\n",
      "       'H.E', 'H1', 'H2', 'HAT', 'HC1', 'HCl', 'HER', 'HIV', 'I', 'IAA',\n",
      "       'ICK', 'ICR', 'IDE', 'IDs', 'II', 'III', 'IJA', 'IM', 'IND', 'INE',\n",
      "       'ING', 'INR', 'ION', 'IRA', 'IS', 'IT', 'IUM', 'IV', 'IVA', 'IVE',\n",
      "       'If', 'IgA', 'In', 'Inc', 'It', 'K', 'KYN', 'Kd', 'Kit', 'LAN',\n",
      "       'LAR', 'LEN', 'LIN', 'LOC', 'Log', 'M', 'MAO', 'MAR', 'MAX', 'MAY',\n",
      "       'MBT', 'MNA', 'MOR', 'MS', 'May', 'N38', 'NAC', 'NCE', 'NEX', 'NO',\n",
      "       'NOT', 'NOX', 'NTS', 'Na', 'No', 'OCs', 'OGY', 'OID', 'OIs', 'ONE',\n",
      "       'ONS', 'OPT', 'OR', 'ORE', 'OTM', 'OUR', 'OVA', 'OXX', 'On', 'Our',\n",
      "       'P-', 'P.A', 'P2', 'PAH', 'PAR', 'PBI', 'PCP', 'PEG', 'PLC', 'PRA',\n",
      "       'PSA', 'PT', 'PTX', 'QT', 'RAL', 'RDS', 'REL', 'REX', 'RGE', 'RIA',\n",
      "       'RIN', 'RIT', 'RNA', 'ROL', 'RON', 'RPF', 'RR', 'SAR', 'SIN',\n",
      "       'SOL', 'SSA', 'STR', 'See', 'St.', 'TCA', 'TED', 'TER', 'TEX',\n",
      "       'TIN', 'TIX', 'TIs', 'TLC', 'TLY', 'TO', 'TON', 'TUX', 'The', 'Tm',\n",
      "       'To', 'Two', 'UDE', 'UGS', 'URS', 'USP', 'Use', 'V', 'VAL', 'VEN',\n",
      "       'VIA', 'VII', 'VIL', 'VIR', 'We', 'X', 'XIL', 'XIN', 'XR', 'YOL',\n",
      "       'ZAL', '_IN', 'a', 'ach', 'ack', 'act', 'acy', 'ade', 'ady', 'age',\n",
      "       'aid', 'ain', 'air', 'ake', 'alk', 'all', 'als', 'alt', 'ame',\n",
      "       'ams', 'an', 'anA', 'anH', 'and', 'ane', 'ans', 'ant', 'any',\n",
      "       'ape', 'aps', 'apy', 'arc', 'ard', 'are', 'arg', 'ark', 'ars',\n",
      "       'art', 'ary', 'as', 'ase', 'ask', 'ass', 'ast', 'asy', 'at', 'ata',\n",
      "       'ate', 'ath', 'ats', 'ave', 'avy', 'awn', 'ayl', 'ays', 'b', 'bal',\n",
      "       'ban', 'be', 'bed', 'bef', 'ber', 'bes', 'bic', 'bif', 'bin',\n",
      "       'bit', 'ble', 'bly', 'but', 'by', 'byx', 'cal', 'can', 'cci',\n",
      "       'ced', 'cer', 'ces', 'cic', 'cid', 'cil', 'cin', 'cks', 'cle',\n",
      "       'co', 'col', 'cor', 'coy', 'cts', 'cur', 'cus', 'd-S', 'dal',\n",
      "       'dan', 'day', 'dds', 'ded', 'del', 'den', 'der', 'des', 'dex',\n",
      "       'dge', 'dia', 'dic', 'did', 'dil', 'din', 'dly', 'do', 'dol',\n",
      "       'dth', 'due', 'e-3', 'e.g', 'ead', 'eak', 'eal', 'eam', 'ean',\n",
      "       'ear', 'eas', 'eat', 'eby', 'eck', 'ect', 'eds', 'edy', 'eed',\n",
      "       'eek', 'eem', 'een', 'eep', 'eer', 'ees', 'eg', 'ein', 'eir',\n",
      "       'eks', 'ell', 'elp', 'els', 'ely', 'ema', 'ems', 'end', 'ene',\n",
      "       'eng', 'ens', 'ent', 'enz', 'eof', 'ept', 'erb', 'ere', 'erg',\n",
      "       'erm', 'ern', 'ers', 'ert', 'ery', 'ese', 'esp', 'ess', 'est',\n",
      "       'eta', 'ete', 'ets', 'ety', 'eus', 'eve', 'ews', 'exa', 'eye',\n",
      "       'fan', 'far', 'fed', 'fen', 'fer', 'few', 'ffe', 'fia', 'fic',\n",
      "       'fil', 'fin', 'fit', 'flu', 'fly', 'fo', 'fol', 'fon', 'for',\n",
      "       'ful', 'g/m', 'gar', 'gas', 'ged', 'gel', 'gen', 'ger', 'ges',\n",
      "       'get', 'ght', 'gia', 'gic', 'gin', 'gle', 'gly', 'gns', 'got', 'h',\n",
      "       'had', 'han', 'has', 'hat', 'hea', 'hed', 'hem', 'hen', 'her',\n",
      "       'hes', 'hey', 'hic', 'hin', 'hio', 'hip', 'his', 'hit', 'hly',\n",
      "       'hma', 'hns', 'hod', 'hol', 'hom', 'hot', 'how', 'hts', 'hus',\n",
      "       'hyl', 'i', 'i.d', 'iac', 'ial', 'ian', 'ias', 'ibe', 'ice', 'ich',\n",
      "       'ick', 'ics', 'ict', 'ide', 'ids', 'ied', 'ies', 'iew', 'if',\n",
      "       'ife', 'ify', 'igh', 'ign', 'igo', 'ike', 'ile', 'ilk', 'ill',\n",
      "       'ils', 'ily', 'ime', 'in', 'in-', 'inc', 'ind', 'ine', 'ing',\n",
      "       'ink', 'ino', 'ins', 'int', 'iod', 'ion', 'ior', 'ips', 'irc',\n",
      "       'irm', 'is', 'ise', 'isk', 'ism', 'ist', 'it', 'ite', 'ith', 'its',\n",
      "       'ity', 'ium', 'ive', 'ivo', 'ize', 'ked', 'ken', 'ker', 'kes',\n",
      "       'kin', 'kit', 'kly', 'lab', 'lac', 'lam', 'lan', 'lar', 'lay',\n",
      "       'led', 'les', 'let', 'lex', 'lfa', 'lic', 'lid', 'lin', 'lip',\n",
      "       'lis', 'lix', 'lla', 'lls', 'lly', 'lol', 'lon', 'lop', 'lor',\n",
      "       'lot', 'low', 'lse', 'lso', 'lts', 'lue', 'lus', 'lyl', 'lyn',\n",
      "       'mab', 'mal', 'man', 'max', 'may', 'mbs', 'mcg', 'med', 'men',\n",
      "       'mer', 'mes', 'met', 'mg', 'mia', 'mic', 'mil', 'min', 'mit',\n",
      "       'mon', 'mor', 'mps', 'mu', 'mum', 'mus', 'myl', 'n', 'n-2', 'nac',\n",
      "       'nal', 'nce', 'ncy', 'nds', 'nea', 'ned', 'nel', 'nes', 'net',\n",
      "       'new', 'ney', 'nge', 'ngs', 'nia', 'nib', 'nic', 'nil', 'nin',\n",
      "       'nks', 'nly', 'no', 'no-', 'nol', 'nor', 'not', 'nox', 'nra',\n",
      "       'nsP', 'nse', 'nst', 'nth', 'nto', 'nts', 'nue', 'nul', 'num',\n",
      "       'nus', 'nux', 'nyl', 'oad', 'oca', 'ock', 'ode', 'ods', 'ody',\n",
      "       'oes', 'oex', 'of', 'ogs', 'ogy', 'ohn', 'oic', 'oid', 'oin',\n",
      "       'oke', 'old', 'ole', 'oli', 'oma', 'ome', 'oms', 'on', 'on-',\n",
      "       'ond', 'one', 'ong', 'ons', 'ood', 'ool', 'oop', 'oos', 'opa',\n",
      "       'ope', 'or', 'ore', 'orm', 'ors', 'ort', 'ory', 'osa', 'ose',\n",
      "       'oss', 'ost', 'oth', 'our', 'ous', 'out', 'ove', 'own', 'ows',\n",
      "       'oxy', 'pH', 'pam', 'ped', 'pen', 'per', 'pes', 'pha', 'phy',\n",
      "       'pic', 'pid', 'pin', 'ple', 'pol', 'pon', 'pra', 'pse', 'pus',\n",
      "       'que', 'ral', 'ram', 'ras', 'rch', 'rds', 'rea', 'red', 'ree',\n",
      "       'rel', 'ren', 'res', 'ret', 'rge', 'rgy', 'ria', 'ric', 'ril',\n",
      "       'rin', 'rip', 'ris', 'rix', 'rly', 'rms', 'rns', 'rol', 'rom',\n",
      "       'ron', 'row', 'rph', 'rse', 'rst', 'rth', 'rto', 'rts', 'rty',\n",
      "       'rug', 'rum', 'rve', 'ryl', 's', 'sal', 'saw', 'say', 'sed', 'see',\n",
      "       'sen', 'ses', 'set', 'sia', 'sin', 'sis', 'sit', 'sks', 'sln',\n",
      "       'sly', 'sma', 'sms', 'so', 'sol', 'son', 'sor', 'sts', 'sue',\n",
      "       'tal', 'tam', 'tan', 'tax', 'tch', 'ted', 'tel', 'tem', 'ten',\n",
      "       'tep', 'ter', 'tes', 'the', 'thm', 'ths', 'thy', 'ti-', 'tic',\n",
      "       'til', 'tin', 'tio', 'tis', 'tix', 'tle', 'tly', 'to', 'tol',\n",
      "       'ton', 'too', 'top', 'tor', 'tox', 'tra', 'tro', 'try', 'tte',\n",
      "       'tto', 'ttp', 'tty', 'tus', 'two', 'tyl', 'ual', 'uce', 'uch',\n",
      "       'uct', 'ude', 'udy', 'ued', 'ues', 'uff', 'ug/', 'ugh', 'ugs',\n",
      "       'uit', 'uld', 'ule', 'ult', 'ume', 'ump', 'und', 'une', 'ung',\n",
      "       'unt', 'up', 'ups', 'ure', 'urs', 'ury', 'use', 'ust', 'ute',\n",
      "       'val', 'van', 'var', 'ved', 'vel', 'ven', 'ver', 'ves', 'via',\n",
      "       'vin', 'vir', 'vis', 'vum', 'wal', 'was', 'wax', 'way', 'we',\n",
      "       'wed', 'wer', 'who', 'wsy', 'wth', 'x', 'xed', 'xel', 'xen', 'xes',\n",
      "       'xia', 'xib', 'xic', 'xil', 'xin', 'xol', 'ybe', 'yed', 'yet',\n",
      "       'yme', 'yos', 'you', 'ype', 'yte', 'zac', 'zar', 'zed', 'zem',\n",
      "       'zid', 'zil', 'zol', 'zox'], dtype=object), array(['%', \"'s\", '(', ..., 'zole', 'zone', 'zyme'], dtype=object), array(['', '%', \"'s\", ..., 'zole', 'zone', 'zyme'], dtype=object), array(['', '%', \"'s\", ..., 'zole', 'zone', 'zyme'], dtype=object)]\n"
     ]
    }
   ],
   "source": [
    "X_train_enc, enc = encode_features(X_train)\n",
    "print(\"Categories:\", enc.categories_)"
   ]
  },
  {
   "cell_type": "markdown",
   "metadata": {},
   "source": [
    "### Encode testing data"
   ]
  },
  {
   "cell_type": "code",
   "execution_count": 114,
   "metadata": {},
   "outputs": [
    {
     "name": "stdout",
     "output_type": "stream",
     "text": [
      "(1118,) (1118, 34702)\n"
     ]
    }
   ],
   "source": [
    "Y_test_drugbank_enc = le.transform(Y_test_drugbank)\n",
    "X_test_drugbank_enc = enc.transform(X_test_drugbank)\n",
    "print(Y_test_drugbank_enc.shape, X_test_drugbank_enc.shape)"
   ]
  },
  {
   "cell_type": "code",
   "execution_count": 115,
   "metadata": {},
   "outputs": [
    {
     "name": "stdout",
     "output_type": "stream",
     "text": [
      "(1392,) (1392, 34702)\n"
     ]
    }
   ],
   "source": [
    "Y_test_medline_enc = le.transform(Y_test_medline)\n",
    "X_test_medline_enc = enc.transform(X_test_medline)\n",
    "print(Y_test_medline_enc.shape, X_test_medline_enc.shape)"
   ]
  },
  {
   "cell_type": "markdown",
   "metadata": {},
   "source": [
    "# Model"
   ]
  },
  {
   "cell_type": "code",
   "execution_count": 116,
   "metadata": {},
   "outputs": [],
   "source": [
    "from sklearn.tree import DecisionTreeClassifier\n",
    "from sklearn.ensemble import RandomForestClassifier"
   ]
  },
  {
   "cell_type": "code",
   "execution_count": 117,
   "metadata": {},
   "outputs": [],
   "source": [
    "clf_tree = DecisionTreeClassifier(random_state=42)\n",
    "clf_rf = RandomForestClassifier(random_state=42)"
   ]
  },
  {
   "cell_type": "markdown",
   "metadata": {},
   "source": [
    "### Model optimization"
   ]
  },
  {
   "cell_type": "code",
   "execution_count": 118,
   "metadata": {},
   "outputs": [],
   "source": [
    "from sklearn.model_selection import GridSearchCV"
   ]
  },
  {
   "cell_type": "code",
   "execution_count": 119,
   "metadata": {},
   "outputs": [],
   "source": [
    "param_grid_tree = [\n",
    "  {'max_depth': [100, 1000, None]},\n",
    " ]\n",
    "\n",
    "param_grid_rf = [\n",
    "  {'max_depth': [100, 1000, None], 'n_estimators': [100, 200, 300]},\n",
    " ]"
   ]
  },
  {
   "cell_type": "code",
   "execution_count": 120,
   "metadata": {},
   "outputs": [
    {
     "data": {
      "text/plain": [
       "RandomForestClassifier(bootstrap=True, class_weight=None, criterion='gini',\n",
       "            max_depth=1000, max_features='auto', max_leaf_nodes=None,\n",
       "            min_impurity_decrease=0.0, min_impurity_split=None,\n",
       "            min_samples_leaf=1, min_samples_split=2,\n",
       "            min_weight_fraction_leaf=0.0, n_estimators=200, n_jobs=None,\n",
       "            oob_score=False, random_state=42, verbose=0, warm_start=False)"
      ]
     },
     "execution_count": 120,
     "metadata": {},
     "output_type": "execute_result"
    }
   ],
   "source": [
    "#clf = GridSearchCV(clf_rf, param_grid_rf, cv=3)\n",
    "clf = RandomForestClassifier(random_state=42, max_depth=1000, n_estimators=200)\n",
    "clf.fit(X_train_enc, Y_train_enc)"
   ]
  },
  {
   "cell_type": "code",
   "execution_count": 158,
   "metadata": {},
   "outputs": [
    {
     "name": "stdout",
     "output_type": "stream",
     "text": [
      "Best parameters set found on development set:\n",
      "\n",
      "{'max_depth': 1000, 'n_estimators': 200}\n",
      "\n",
      "Grid scores on development set:\n",
      "\n",
      "0.933 (+/-0.010) for {'max_depth': 100, 'n_estimators': 100}\n",
      "0.933 (+/-0.009) for {'max_depth': 100, 'n_estimators': 200}\n",
      "0.933 (+/-0.010) for {'max_depth': 100, 'n_estimators': 300}\n",
      "0.935 (+/-0.010) for {'max_depth': 1000, 'n_estimators': 100}\n",
      "0.936 (+/-0.009) for {'max_depth': 1000, 'n_estimators': 200}\n",
      "0.935 (+/-0.010) for {'max_depth': 1000, 'n_estimators': 300}\n",
      "0.935 (+/-0.010) for {'max_depth': None, 'n_estimators': 100}\n",
      "0.936 (+/-0.009) for {'max_depth': None, 'n_estimators': 200}\n",
      "0.935 (+/-0.010) for {'max_depth': None, 'n_estimators': 300}\n"
     ]
    }
   ],
   "source": [
    "print(\"Best parameters set found on development set:\")\n",
    "print()\n",
    "print(clf.best_params_)\n",
    "print()\n",
    "print(\"Grid scores on development set:\")\n",
    "print()\n",
    "means = clf.cv_results_['mean_test_score']\n",
    "stds = clf.cv_results_['std_test_score']\n",
    "for mean, std, params in zip(means, stds, clf.cv_results_['params']):\n",
    "    print(\"%0.3f (+/-%0.03f) for %r\" % (mean, std * 2, params))"
   ]
  },
  {
   "cell_type": "markdown",
   "metadata": {},
   "source": [
    "## Classification"
   ]
  },
  {
   "cell_type": "code",
   "execution_count": 121,
   "metadata": {},
   "outputs": [],
   "source": [
    "Y_pred_drugbank = clf.predict(X_test_drugbank_enc)\n",
    "Y_pred_medline = clf.predict(X_test_medline_enc)"
   ]
  },
  {
   "cell_type": "code",
   "execution_count": 122,
   "metadata": {},
   "outputs": [
    {
     "name": "stdout",
     "output_type": "stream",
     "text": [
      "DrugBank score:\n"
     ]
    },
    {
     "data": {
      "text/plain": [
       "0.9230769230769231"
      ]
     },
     "execution_count": 122,
     "metadata": {},
     "output_type": "execute_result"
    }
   ],
   "source": [
    "print(\"DrugBank score:\")\n",
    "clf.score(X_test_drugbank_enc, Y_test_drugbank_enc)"
   ]
  },
  {
   "cell_type": "code",
   "execution_count": 123,
   "metadata": {},
   "outputs": [
    {
     "name": "stdout",
     "output_type": "stream",
     "text": [
      "MedLine score:\n"
     ]
    },
    {
     "data": {
      "text/plain": [
       "0.9647988505747126"
      ]
     },
     "execution_count": 123,
     "metadata": {},
     "output_type": "execute_result"
    }
   ],
   "source": [
    "print(\"MedLine score:\")\n",
    "clf.score(X_test_medline_enc, Y_test_medline_enc)"
   ]
  },
  {
   "cell_type": "code",
   "execution_count": 124,
   "metadata": {},
   "outputs": [
    {
     "name": "stdout",
     "output_type": "stream",
     "text": [
      "DrugBank classification report:\n",
      "              precision    recall  f1-score   support\n",
      "\n",
      "           0       0.71      0.24      0.36        21\n",
      "           1       0.83      0.68      0.75        79\n",
      "           2       0.00      0.00      0.00         4\n",
      "           3       0.79      0.42      0.55        26\n",
      "           4       0.00      0.00      0.00         1\n",
      "           5       1.00      0.14      0.25         7\n",
      "           6       0.00      0.00      0.00         5\n",
      "           7       0.93      0.68      0.79        19\n",
      "           8       0.93      0.99      0.96       956\n",
      "\n",
      "   micro avg       0.92      0.92      0.92      1118\n",
      "   macro avg       0.58      0.35      0.41      1118\n",
      "weighted avg       0.91      0.92      0.91      1118\n",
      "\n"
     ]
    },
    {
     "name": "stderr",
     "output_type": "stream",
     "text": [
      "/Users/lluccardoner/anaconda3/lib/python3.6/site-packages/sklearn/metrics/classification.py:1143: UndefinedMetricWarning: Precision and F-score are ill-defined and being set to 0.0 in labels with no predicted samples.\n",
      "  'precision', 'predicted', average, warn_for)\n"
     ]
    }
   ],
   "source": [
    "from sklearn.metrics import classification_report\n",
    "print(\"DrugBank classification report:\")\n",
    "print(classification_report(Y_test_drugbank_enc, Y_pred_drugbank))"
   ]
  },
  {
   "cell_type": "code",
   "execution_count": 125,
   "metadata": {},
   "outputs": [
    {
     "name": "stdout",
     "output_type": "stream",
     "text": [
      "MedLine classification report:\n",
      "              precision    recall  f1-score   support\n",
      "\n",
      "           0       0.00      0.00      0.00         0\n",
      "           1       0.35      0.38      0.36        16\n",
      "           2       0.00      0.00      0.00         8\n",
      "           3       0.75      0.18      0.29        17\n",
      "           5       1.00      0.33      0.50         3\n",
      "           6       0.00      0.00      0.00         2\n",
      "           7       1.00      0.50      0.67         8\n",
      "           8       0.97      0.99      0.98      1338\n",
      "\n",
      "   micro avg       0.96      0.96      0.96      1392\n",
      "   macro avg       0.51      0.30      0.35      1392\n",
      "weighted avg       0.96      0.96      0.96      1392\n",
      "\n"
     ]
    },
    {
     "name": "stderr",
     "output_type": "stream",
     "text": [
      "/Users/lluccardoner/anaconda3/lib/python3.6/site-packages/sklearn/metrics/classification.py:1143: UndefinedMetricWarning: Precision and F-score are ill-defined and being set to 0.0 in labels with no predicted samples.\n",
      "  'precision', 'predicted', average, warn_for)\n",
      "/Users/lluccardoner/anaconda3/lib/python3.6/site-packages/sklearn/metrics/classification.py:1145: UndefinedMetricWarning: Recall and F-score are ill-defined and being set to 0.0 in labels with no true samples.\n",
      "  'recall', 'true', average, warn_for)\n"
     ]
    }
   ],
   "source": [
    "print(\"MedLine classification report:\")\n",
    "print(classification_report(Y_test_medline_enc, Y_pred_medline))"
   ]
  },
  {
   "cell_type": "markdown",
   "metadata": {},
   "source": [
    "### Confusion matrix"
   ]
  },
  {
   "cell_type": "code",
   "execution_count": 126,
   "metadata": {},
   "outputs": [],
   "source": [
    "import numpy as np\n",
    "import matplotlib.pyplot as plt\n",
    "\n",
    "from sklearn import svm, datasets\n",
    "from sklearn.model_selection import train_test_split\n",
    "from sklearn.metrics import confusion_matrix\n",
    "from sklearn.utils.multiclass import unique_labels"
   ]
  },
  {
   "cell_type": "code",
   "execution_count": 127,
   "metadata": {},
   "outputs": [],
   "source": [
    "def plot_confusion_matrix(y_true, y_pred, classes,\n",
    "                          normalize=False,\n",
    "                          title=None,\n",
    "                          cmap=plt.cm.Blues):\n",
    "    \"\"\"\n",
    "    This function prints and plots the confusion matrix.\n",
    "    Normalization can be applied by setting `normalize=True`.\n",
    "    \"\"\"\n",
    "    if not title:\n",
    "        if normalize:\n",
    "            title = 'Normalized confusion matrix'\n",
    "        else:\n",
    "            title = 'Confusion matrix, without normalization'\n",
    "\n",
    "    # Compute confusion matrix\n",
    "    cm = confusion_matrix(y_true, y_pred)\n",
    "    # Only use the labels that appear in the data\n",
    "    classes = classes[unique_labels(y_true, y_pred)]\n",
    "    if normalize:\n",
    "        cm = cm.astype('float') / cm.sum(axis=1)[:, np.newaxis]\n",
    "        print(\"Normalized confusion matrix\")\n",
    "    else:\n",
    "        print('Confusion matrix, without normalization')\n",
    "\n",
    "    #print(cm)\n",
    "\n",
    "    fig, ax = plt.subplots()\n",
    "    im = ax.imshow(cm, interpolation='nearest', cmap=cmap)\n",
    "    ax.figure.colorbar(im, ax=ax)\n",
    "    # We want to show all ticks...\n",
    "    ax.set(xticks=np.arange(cm.shape[1]),\n",
    "           yticks=np.arange(cm.shape[0]),\n",
    "           # ... and label them with the respective list entries\n",
    "           xticklabels=classes, yticklabels=classes,\n",
    "           title=title,\n",
    "           ylabel='True label',\n",
    "           xlabel='Predicted label')\n",
    "\n",
    "    # Rotate the tick labels and set their alignment.\n",
    "    plt.setp(ax.get_xticklabels(), rotation=45, ha=\"right\",\n",
    "             rotation_mode=\"anchor\")\n",
    "\n",
    "    # Loop over data dimensions and create text annotations.\n",
    "    fmt = '.2f' if normalize else 'd'\n",
    "    thresh = cm.max() / 2.\n",
    "    for i in range(cm.shape[0]):\n",
    "        for j in range(cm.shape[1]):\n",
    "            ax.text(j, i, format(cm[i, j], fmt),\n",
    "                    ha=\"center\", va=\"center\",\n",
    "                    color=\"white\" if cm[i, j] > thresh else \"black\")\n",
    "    fig.tight_layout()\n",
    "    return ax"
   ]
  },
  {
   "cell_type": "code",
   "execution_count": 128,
   "metadata": {},
   "outputs": [
    {
     "name": "stdout",
     "output_type": "stream",
     "text": [
      "Confusion matrix, without normalization\n"
     ]
    },
    {
     "data": {
      "image/png": "[encoded data removed]",
      "text/plain": [
       "<Figure size 432x288 with 2 Axes>"
      ]
     },
     "metadata": {},
     "output_type": "display_data"
    }
   ],
   "source": [
    "class_names = le.classes_\n",
    "plot_confusion_matrix(Y_test_drugbank_enc, Y_pred_drugbank, classes=class_names, title=\"DrugBank predictions\")\n",
    "plt.show()"
   ]
  },
  {
   "cell_type": "code",
   "execution_count": 129,
   "metadata": {},
   "outputs": [
    {
     "name": "stdout",
     "output_type": "stream",
     "text": [
      "Confusion matrix, without normalization\n"
     ]
    },
    {
     "data": {
      "image/png": "[encoded data removed]",
      "text/plain": [
       "<Figure size 432x288 with 2 Axes>"
      ]
     },
     "metadata": {},
     "output_type": "display_data"
    }
   ],
   "source": [
    "class_names = le.classes_\n",
    "plot_confusion_matrix(Y_test_medline_enc, Y_pred_medline, classes=class_names, title=\"MedLine predictions\")\n",
    "plt.show()"
   ]
  },
  {
   "cell_type": "markdown",
   "metadata": {},
   "source": [
    "## Detection and classification"
   ]
  },
  {
   "cell_type": "code",
   "execution_count": 130,
   "metadata": {},
   "outputs": [],
   "source": [
    "def predict(input_features):\n",
    "    X = np.array(input_features)\n",
    "    encoded = enc.transform([X])\n",
    "    prediction = clf.predict(encoded)\n",
    "    label = le.inverse_transform(prediction)[0]\n",
    "    return label"
   ]
  },
  {
   "cell_type": "code",
   "execution_count": 131,
   "metadata": {},
   "outputs": [
    {
     "name": "stdout",
     "output_type": "stream",
     "text": [
      "Drop label column:  e_type\n"
     ]
    },
    {
     "data": {
      "text/html": [
       "<div>\n",
       "<style scoped>\n",
       "    .dataframe tbody tr th:only-of-type {\n",
       "        vertical-align: middle;\n",
       "    }\n",
       "\n",
       "    .dataframe tbody tr th {\n",
       "        vertical-align: top;\n",
       "    }\n",
       "\n",
       "    .dataframe thead th {\n",
       "        text-align: right;\n",
       "    }\n",
       "</style>\n",
       "<table border=\"1\" class=\"dataframe\">\n",
       "  <thead>\n",
       "    <tr style=\"text-align: right;\">\n",
       "      <th></th>\n",
       "      <th>BoS</th>\n",
       "      <th>EoS</th>\n",
       "      <th>e_name</th>\n",
       "      <th>e_off_e</th>\n",
       "      <th>e_off_s</th>\n",
       "      <th>form</th>\n",
       "      <th>formNext</th>\n",
       "      <th>formPrev</th>\n",
       "      <th>formlower</th>\n",
       "      <th>formlowerNext</th>\n",
       "      <th>...</th>\n",
       "      <th>stem</th>\n",
       "      <th>stemNext</th>\n",
       "      <th>stemPrev</th>\n",
       "      <th>suf3</th>\n",
       "      <th>suf3Next</th>\n",
       "      <th>suf3Prev</th>\n",
       "      <th>suf4</th>\n",
       "      <th>suf4Next</th>\n",
       "      <th>suf4Prev</th>\n",
       "      <th>pred</th>\n",
       "    </tr>\n",
       "  </thead>\n",
       "  <tbody>\n",
       "    <tr>\n",
       "      <th>0</th>\n",
       "      <td>False</td>\n",
       "      <td>False</td>\n",
       "      <td>There</td>\n",
       "      <td>4</td>\n",
       "      <td>0</td>\n",
       "      <td>There</td>\n",
       "      <td>are</td>\n",
       "      <td></td>\n",
       "      <td>there</td>\n",
       "      <td>are</td>\n",
       "      <td>...</td>\n",
       "      <td>there</td>\n",
       "      <td>are</td>\n",
       "      <td></td>\n",
       "      <td>ere</td>\n",
       "      <td>are</td>\n",
       "      <td></td>\n",
       "      <td>here</td>\n",
       "      <td>are</td>\n",
       "      <td></td>\n",
       "      <td>O</td>\n",
       "    </tr>\n",
       "    <tr>\n",
       "      <th>1</th>\n",
       "      <td>False</td>\n",
       "      <td>False</td>\n",
       "      <td>are</td>\n",
       "      <td>8</td>\n",
       "      <td>6</td>\n",
       "      <td>are</td>\n",
       "      <td>,</td>\n",
       "      <td>There</td>\n",
       "      <td>are</td>\n",
       "      <td>,</td>\n",
       "      <td>...</td>\n",
       "      <td>are</td>\n",
       "      <td>,</td>\n",
       "      <td>there</td>\n",
       "      <td>are</td>\n",
       "      <td>,</td>\n",
       "      <td>ere</td>\n",
       "      <td>are</td>\n",
       "      <td>,</td>\n",
       "      <td>here</td>\n",
       "      <td>O</td>\n",
       "    </tr>\n",
       "    <tr>\n",
       "      <th>2</th>\n",
       "      <td>False</td>\n",
       "      <td>False</td>\n",
       "      <td>,</td>\n",
       "      <td>9</td>\n",
       "      <td>9</td>\n",
       "      <td>,</td>\n",
       "      <td>as</td>\n",
       "      <td>are</td>\n",
       "      <td>,</td>\n",
       "      <td>as</td>\n",
       "      <td>...</td>\n",
       "      <td>,</td>\n",
       "      <td>as</td>\n",
       "      <td>are</td>\n",
       "      <td>,</td>\n",
       "      <td>as</td>\n",
       "      <td>are</td>\n",
       "      <td>,</td>\n",
       "      <td>as</td>\n",
       "      <td>are</td>\n",
       "      <td>O</td>\n",
       "    </tr>\n",
       "    <tr>\n",
       "      <th>3</th>\n",
       "      <td>False</td>\n",
       "      <td>False</td>\n",
       "      <td>as</td>\n",
       "      <td>12</td>\n",
       "      <td>11</td>\n",
       "      <td>as</td>\n",
       "      <td>yet</td>\n",
       "      <td>,</td>\n",
       "      <td>as</td>\n",
       "      <td>yet</td>\n",
       "      <td>...</td>\n",
       "      <td>as</td>\n",
       "      <td>yet</td>\n",
       "      <td>,</td>\n",
       "      <td>as</td>\n",
       "      <td>yet</td>\n",
       "      <td>,</td>\n",
       "      <td>as</td>\n",
       "      <td>yet</td>\n",
       "      <td>,</td>\n",
       "      <td>O</td>\n",
       "    </tr>\n",
       "    <tr>\n",
       "      <th>4</th>\n",
       "      <td>False</td>\n",
       "      <td>False</td>\n",
       "      <td>yet</td>\n",
       "      <td>16</td>\n",
       "      <td>14</td>\n",
       "      <td>yet</td>\n",
       "      <td>,</td>\n",
       "      <td>as</td>\n",
       "      <td>yet</td>\n",
       "      <td>,</td>\n",
       "      <td>...</td>\n",
       "      <td>yet</td>\n",
       "      <td>,</td>\n",
       "      <td>as</td>\n",
       "      <td>yet</td>\n",
       "      <td>,</td>\n",
       "      <td>as</td>\n",
       "      <td>yet</td>\n",
       "      <td>,</td>\n",
       "      <td>as</td>\n",
       "      <td>O</td>\n",
       "    </tr>\n",
       "  </tbody>\n",
       "</table>\n",
       "<p>5 rows × 37 columns</p>\n",
       "</div>"
      ],
      "text/plain": [
       "     BoS    EoS e_name  e_off_e  e_off_s   form formNext formPrev formlower  \\\n",
       "0  False  False  There        4        0  There      are              there   \n",
       "1  False  False    are        8        6    are        ,    There       are   \n",
       "2  False  False      ,        9        9      ,       as      are         ,   \n",
       "3  False  False     as       12       11     as      yet        ,        as   \n",
       "4  False  False    yet       16       14    yet        ,       as       yet   \n",
       "\n",
       "  formlowerNext ...    stem stemNext stemPrev suf3 suf3Next suf3Prev  suf4  \\\n",
       "0           are ...   there      are           ere      are           here   \n",
       "1             , ...     are        ,    there  are        ,      ere   are   \n",
       "2            as ...       ,       as      are    ,       as      are     ,   \n",
       "3           yet ...      as      yet        ,   as      yet        ,    as   \n",
       "4             , ...     yet        ,       as  yet        ,       as   yet   \n",
       "\n",
       "  suf4Next suf4Prev pred  \n",
       "0      are             O  \n",
       "1        ,     here    O  \n",
       "2       as      are    O  \n",
       "3      yet        ,    O  \n",
       "4        ,       as    O  \n",
       "\n",
       "[5 rows x 37 columns]"
      ]
     },
     "execution_count": 131,
     "metadata": {},
     "output_type": "execute_result"
    }
   ],
   "source": [
    "print(\"Drop label column: \", label)\n",
    "data_drugbank = df_test_drugbank.drop(label, axis=1)\n",
    "data_drugbank['pred'] = data_drugbank[features].apply(lambda row: predict(row), axis=1)\n",
    "data_drugbank.head()"
   ]
  },
  {
   "cell_type": "code",
   "execution_count": 132,
   "metadata": {},
   "outputs": [
    {
     "name": "stdout",
     "output_type": "stream",
     "text": [
      "Drop label column:  e_type\n"
     ]
    },
    {
     "data": {
      "text/html": [
       "<div>\n",
       "<style scoped>\n",
       "    .dataframe tbody tr th:only-of-type {\n",
       "        vertical-align: middle;\n",
       "    }\n",
       "\n",
       "    .dataframe tbody tr th {\n",
       "        vertical-align: top;\n",
       "    }\n",
       "\n",
       "    .dataframe thead th {\n",
       "        text-align: right;\n",
       "    }\n",
       "</style>\n",
       "<table border=\"1\" class=\"dataframe\">\n",
       "  <thead>\n",
       "    <tr style=\"text-align: right;\">\n",
       "      <th></th>\n",
       "      <th>BoS</th>\n",
       "      <th>EoS</th>\n",
       "      <th>e_name</th>\n",
       "      <th>e_off_e</th>\n",
       "      <th>e_off_s</th>\n",
       "      <th>form</th>\n",
       "      <th>formNext</th>\n",
       "      <th>formPrev</th>\n",
       "      <th>formlower</th>\n",
       "      <th>formlowerNext</th>\n",
       "      <th>...</th>\n",
       "      <th>stem</th>\n",
       "      <th>stemNext</th>\n",
       "      <th>stemPrev</th>\n",
       "      <th>suf3</th>\n",
       "      <th>suf3Next</th>\n",
       "      <th>suf3Prev</th>\n",
       "      <th>suf4</th>\n",
       "      <th>suf4Next</th>\n",
       "      <th>suf4Prev</th>\n",
       "      <th>pred</th>\n",
       "    </tr>\n",
       "  </thead>\n",
       "  <tbody>\n",
       "    <tr>\n",
       "      <th>0</th>\n",
       "      <td>False</td>\n",
       "      <td>False</td>\n",
       "      <td>Future</td>\n",
       "      <td>5</td>\n",
       "      <td>0</td>\n",
       "      <td>Future</td>\n",
       "      <td>studies</td>\n",
       "      <td></td>\n",
       "      <td>future</td>\n",
       "      <td>studies</td>\n",
       "      <td>...</td>\n",
       "      <td>futur</td>\n",
       "      <td>studi</td>\n",
       "      <td></td>\n",
       "      <td>ure</td>\n",
       "      <td>ies</td>\n",
       "      <td></td>\n",
       "      <td>ture</td>\n",
       "      <td>dies</td>\n",
       "      <td></td>\n",
       "      <td>O</td>\n",
       "    </tr>\n",
       "    <tr>\n",
       "      <th>1</th>\n",
       "      <td>False</td>\n",
       "      <td>False</td>\n",
       "      <td>studies</td>\n",
       "      <td>13</td>\n",
       "      <td>7</td>\n",
       "      <td>studies</td>\n",
       "      <td>are</td>\n",
       "      <td>Future</td>\n",
       "      <td>studies</td>\n",
       "      <td>are</td>\n",
       "      <td>...</td>\n",
       "      <td>studi</td>\n",
       "      <td>are</td>\n",
       "      <td>futur</td>\n",
       "      <td>ies</td>\n",
       "      <td>are</td>\n",
       "      <td>ure</td>\n",
       "      <td>dies</td>\n",
       "      <td>are</td>\n",
       "      <td>ture</td>\n",
       "      <td>O</td>\n",
       "    </tr>\n",
       "    <tr>\n",
       "      <th>2</th>\n",
       "      <td>False</td>\n",
       "      <td>False</td>\n",
       "      <td>are</td>\n",
       "      <td>17</td>\n",
       "      <td>15</td>\n",
       "      <td>are</td>\n",
       "      <td>needed</td>\n",
       "      <td>studies</td>\n",
       "      <td>are</td>\n",
       "      <td>needed</td>\n",
       "      <td>...</td>\n",
       "      <td>are</td>\n",
       "      <td>need</td>\n",
       "      <td>studi</td>\n",
       "      <td>are</td>\n",
       "      <td>ded</td>\n",
       "      <td>ies</td>\n",
       "      <td>are</td>\n",
       "      <td>eded</td>\n",
       "      <td>dies</td>\n",
       "      <td>O</td>\n",
       "    </tr>\n",
       "    <tr>\n",
       "      <th>3</th>\n",
       "      <td>False</td>\n",
       "      <td>False</td>\n",
       "      <td>needed</td>\n",
       "      <td>24</td>\n",
       "      <td>19</td>\n",
       "      <td>needed</td>\n",
       "      <td>to</td>\n",
       "      <td>are</td>\n",
       "      <td>needed</td>\n",
       "      <td>to</td>\n",
       "      <td>...</td>\n",
       "      <td>need</td>\n",
       "      <td>to</td>\n",
       "      <td>are</td>\n",
       "      <td>ded</td>\n",
       "      <td>to</td>\n",
       "      <td>are</td>\n",
       "      <td>eded</td>\n",
       "      <td>to</td>\n",
       "      <td>are</td>\n",
       "      <td>O</td>\n",
       "    </tr>\n",
       "    <tr>\n",
       "      <th>4</th>\n",
       "      <td>False</td>\n",
       "      <td>False</td>\n",
       "      <td>to</td>\n",
       "      <td>27</td>\n",
       "      <td>26</td>\n",
       "      <td>to</td>\n",
       "      <td>examine</td>\n",
       "      <td>needed</td>\n",
       "      <td>to</td>\n",
       "      <td>examine</td>\n",
       "      <td>...</td>\n",
       "      <td>to</td>\n",
       "      <td>examin</td>\n",
       "      <td>need</td>\n",
       "      <td>to</td>\n",
       "      <td>ine</td>\n",
       "      <td>ded</td>\n",
       "      <td>to</td>\n",
       "      <td>mine</td>\n",
       "      <td>eded</td>\n",
       "      <td>O</td>\n",
       "    </tr>\n",
       "  </tbody>\n",
       "</table>\n",
       "<p>5 rows × 37 columns</p>\n",
       "</div>"
      ],
      "text/plain": [
       "     BoS    EoS   e_name  e_off_e  e_off_s     form formNext formPrev  \\\n",
       "0  False  False   Future        5        0   Future  studies            \n",
       "1  False  False  studies       13        7  studies      are   Future   \n",
       "2  False  False      are       17       15      are   needed  studies   \n",
       "3  False  False   needed       24       19   needed       to      are   \n",
       "4  False  False       to       27       26       to  examine   needed   \n",
       "\n",
       "  formlower formlowerNext ...    stem stemNext stemPrev suf3 suf3Next  \\\n",
       "0    future       studies ...   futur    studi           ure      ies   \n",
       "1   studies           are ...   studi      are    futur  ies      are   \n",
       "2       are        needed ...     are     need    studi  are      ded   \n",
       "3    needed            to ...    need       to      are  ded       to   \n",
       "4        to       examine ...      to   examin     need   to      ine   \n",
       "\n",
       "  suf3Prev  suf4 suf4Next suf4Prev pred  \n",
       "0           ture     dies             O  \n",
       "1      ure  dies      are     ture    O  \n",
       "2      ies   are     eded     dies    O  \n",
       "3      are  eded       to      are    O  \n",
       "4      ded    to     mine     eded    O  \n",
       "\n",
       "[5 rows x 37 columns]"
      ]
     },
     "execution_count": 132,
     "metadata": {},
     "output_type": "execute_result"
    }
   ],
   "source": [
    "print(\"Drop label column: \", label)\n",
    "data_medline = df_test_medline.drop(label, axis=1)\n",
    "data_medline['pred'] = data_medline[features].apply(lambda row: predict(row), axis=1)\n",
    "data_medline.head()"
   ]
  },
  {
   "cell_type": "code",
   "execution_count": 133,
   "metadata": {},
   "outputs": [],
   "source": [
    "def instances(data_df):\n",
    "    xseq = []\n",
    "    toks = []\n",
    "    s_id = None\n",
    "    \n",
    "    for index, row in data_df.iterrows():\n",
    "        if s_id is None:\n",
    "            s_id = row['s_id']\n",
    "        \n",
    "        row_sid = row['s_id']\n",
    "        if not s_id == row_sid:\n",
    "            # Return accumulated sequences, and reinitialize.\n",
    "            yield xseq, toks\n",
    "            xseq = []\n",
    "            toks = []\n",
    "            xseq.append(row['pred'])\n",
    "            toks.append(row[['s_id', 'e_name', 'e_off_s', 'e_off_e']])\n",
    "            continue\n",
    "    \n",
    "        xseq.append(row['pred'])\n",
    "        toks.append(row[['s_id', 'e_name', 'e_off_s', 'e_off_e']])"
   ]
  },
  {
   "cell_type": "code",
   "execution_count": 140,
   "metadata": {},
   "outputs": [],
   "source": [
    "def multi_token_prediction(data_df, text_file):\n",
    "    for predictions,toks in instances(data_drugbank):\n",
    "        inside = False;\n",
    "        for k in range(0,len(predictions)) :\n",
    "            y = predictions[k]\n",
    "            (sid, form, offS, offE) = toks[k]\n",
    "            offS = str(offS)\n",
    "            offE = str(offE)\n",
    "            \n",
    "            if (y[0]==\"B\") :\n",
    "                entity_form = form\n",
    "                entity_start = offS\n",
    "                entity_end = offE\n",
    "                entity_type = y[2:]\n",
    "                inside = True\n",
    "            elif (y[0]==\"I\" and inside) :\n",
    "                entity_form += \" \"+form\n",
    "                entity_end = offE\n",
    "            elif (y[0]==\"O\" and inside) :\n",
    "                print(sid, entity_start+\"-\"+entity_end, entity_form, entity_type, sep=\"|\", file=text_file)\n",
    "                inside = False\n",
    "\n",
    "        if inside : print(sid, entity_start+\"-\"+entity_end, entity_form, entity_type, sep=\"|\", file=text_file)"
   ]
  },
  {
   "cell_type": "code",
   "execution_count": 139,
   "metadata": {},
   "outputs": [
    {
     "name": "stdout",
     "output_type": "stream",
     "text": [
      "nervous I-group\n",
      "system I-group\n",
      "( I-group\n",
      "CNS I-group\n",
      ") I-group\n",
      "depressants I-group\n",
      "antidepressants I-group\n",
      "channel I-group\n",
      "depressants I-group\n",
      "antidepressants I-group\n",
      "agents I-group\n",
      "antibodies I-group\n",
      "channel I-group\n",
      "Sulfate I-drug\n",
      "inhibitors I-group\n"
     ]
    }
   ],
   "source": [
    "multi_token_prediction(data_medline, None)"
   ]
  },
  {
   "cell_type": "code",
   "execution_count": 172,
   "metadata": {},
   "outputs": [],
   "source": [
    "def save_output(data_df, file_name):\n",
    "    with open(file_name, \"w\") as text_file:\n",
    "        multi_token_prediction(data_df, text_file)"
   ]
  },
  {
   "cell_type": "code",
   "execution_count": 173,
   "metadata": {},
   "outputs": [],
   "source": [
    "save_output(data_medline, \"task9.1_TREE1_medline_3.txt\")\n",
    "save_output(data_drugbank, \"task9.1_TREE1_drugbank_3.txt\")"
   ]
  },
  {
   "cell_type": "code",
   "execution_count": null,
   "metadata": {},
   "outputs": [],
   "source": []
  }
 ],
 "metadata": {
  "kernelspec": {
   "display_name": "Python 3",
   "language": "python",
   "name": "python3"
  },
  "language_info": {
   "codemirror_mode": {
    "name": "ipython",
    "version": 3
   },
   "file_extension": ".py",
   "mimetype": "text/x-python",
   "name": "python",
   "nbconvert_exporter": "python",
   "pygments_lexer": "ipython3",
   "version": "3.6.8"
  }
 },
 "nbformat": 4,
 "nbformat_minor": 2
}
