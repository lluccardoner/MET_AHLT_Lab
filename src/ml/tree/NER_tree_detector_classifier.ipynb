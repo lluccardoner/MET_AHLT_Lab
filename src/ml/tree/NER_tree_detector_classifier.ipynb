{
 "cells": [
  {
   "cell_type": "code",
   "execution_count": 71,
   "metadata": {},
   "outputs": [
    {
     "name": "stdout",
     "output_type": "stream",
     "text": [
      "The nltk version is 3.2.5.\n",
      "The scikit-learn version is 0.20.1.\n"
     ]
    }
   ],
   "source": [
    "import sys\n",
    "from os import listdir\n",
    "import os\n",
    "\n",
    "from xml.dom.minidom import parse\n",
    "\n",
    "import pandas as pd\n",
    "import numpy as np\n",
    "\n",
    "import nltk\n",
    "from nltk import tokenize\n",
    "\n",
    "import matplotlib.pyplot as plt\n",
    "\n",
    "import sklearn\n",
    "from sklearn import preprocessing\n",
    "\n",
    "\n",
    "print('The nltk version is {}.'.format(nltk.__version__))\n",
    "print('The scikit-learn version is {}.'.format(sklearn.__version__))"
   ]
  },
  {
   "cell_type": "code",
   "execution_count": 129,
   "metadata": {},
   "outputs": [],
   "source": [
    "medline_dir = \"/Users/lluccardoner/PycharmProjects/MET_AHLT_Lab_2019/data/Train/MedLine/\"\n",
    "drugbank_dir = \"/Users/lluccardoner/PycharmProjects/MET_AHLT_Lab_2019/data/Train/DrugBank/\""
   ]
  },
  {
   "cell_type": "code",
   "execution_count": 130,
   "metadata": {},
   "outputs": [],
   "source": [
    "medline_test_dir = \"/Users/lluccardoner/PycharmProjects/MET_AHLT_Lab_2019/data/Test-NER/MedLine/\"\n",
    "drugbank_test_dir = \"/Users/lluccardoner/PycharmProjects/MET_AHLT_Lab_2019/data/Test-NER/DrugBank/\""
   ]
  },
  {
   "cell_type": "markdown",
   "metadata": {},
   "source": [
    "# Load data"
   ]
  },
  {
   "cell_type": "code",
   "execution_count": 95,
   "metadata": {},
   "outputs": [],
   "source": [
    "def parse_XML_file(datadir):\n",
    "    trees = []\n",
    "    for f in listdir(datadir):\n",
    "        # parse XML file\n",
    "        tree = parse(datadir + \"/\" + f)\n",
    "        trees.append(tree)\n",
    "    return trees\n",
    "\n",
    "def parsed_to_df(parsed):\n",
    "    items = []\n",
    "    for tree in parsed:\n",
    "        for s in tree.getElementsByTagName(\"sentence\"):\n",
    "            s_id = s.attributes[\"id\"].value\n",
    "            s_txt = s.attributes[\"text\"].value            \n",
    "            \n",
    "            e_names = []\n",
    "            for e in s.getElementsByTagName(\"entity\"):\n",
    "                e_name = e.attributes[\"text\"].value\n",
    "                e_type = e.attributes[\"type\"].value\n",
    "                e_offset = e.attributes[\"charOffset\"].value\n",
    "                item = {\"s_id\": s_id, \"e_name\": e_name, \"e_type\": e_type, \"e_offset\": e_offset}\n",
    "                e_names.append(e_name)\n",
    "                items.append(item)\n",
    "                \n",
    "            tkns = nltk.word_tokenize(s_txt)\n",
    "            for tkn in tkns:\n",
    "                if tkn not in e_names: # not robust\n",
    "                    start = s_txt.find(tkn) \n",
    "                    end = start + len(tkn) - 1\n",
    "                    e_offset = str(start)+\"-\"+str(end)\n",
    "                    item = {\"s_id\": s_id, \"e_name\": tkn, \"e_type\": \"not_drug\", \"e_offset\": e_offset}\n",
    "                    items.append(item)\n",
    "                \n",
    "    return pd.DataFrame(items)\n",
    "\n",
    "def load_data(datadir):\n",
    "    trees = parse_XML_file(datadir)\n",
    "    df_loaded = parsed_to_df(trees)\n",
    "    return df_loaded"
   ]
  },
  {
   "cell_type": "code",
   "execution_count": 96,
   "metadata": {},
   "outputs": [
    {
     "data": {
      "text/plain": [
       "(120594, 4)"
      ]
     },
     "execution_count": 96,
     "metadata": {},
     "output_type": "execute_result"
    }
   ],
   "source": [
    "df_drugbank = load_data(drugbank_dir)\n",
    "df_drugbank.shape"
   ]
  },
  {
   "cell_type": "code",
   "execution_count": 97,
   "metadata": {},
   "outputs": [
    {
     "data": {
      "text/plain": [
       "(30071, 4)"
      ]
     },
     "execution_count": 97,
     "metadata": {},
     "output_type": "execute_result"
    }
   ],
   "source": [
    "df_medline = load_data(medline_dir)\n",
    "df_medline.shape"
   ]
  },
  {
   "cell_type": "code",
   "execution_count": 98,
   "metadata": {},
   "outputs": [
    {
     "data": {
      "text/plain": [
       "(150665, 4)"
      ]
     },
     "execution_count": 98,
     "metadata": {},
     "output_type": "execute_result"
    }
   ],
   "source": [
    "df = df_drugbank.append(df_medline, ignore_index=True)\n",
    "df.shape"
   ]
  },
  {
   "cell_type": "code",
   "execution_count": 99,
   "metadata": {},
   "outputs": [
    {
     "data": {
      "text/html": [
       "<div>\n",
       "<style scoped>\n",
       "    .dataframe tbody tr th:only-of-type {\n",
       "        vertical-align: middle;\n",
       "    }\n",
       "\n",
       "    .dataframe tbody tr th {\n",
       "        vertical-align: top;\n",
       "    }\n",
       "\n",
       "    .dataframe thead th {\n",
       "        text-align: right;\n",
       "    }\n",
       "</style>\n",
       "<table border=\"1\" class=\"dataframe\">\n",
       "  <thead>\n",
       "    <tr style=\"text-align: right;\">\n",
       "      <th></th>\n",
       "      <th>e_name</th>\n",
       "      <th>e_offset</th>\n",
       "      <th>e_type</th>\n",
       "      <th>s_id</th>\n",
       "    </tr>\n",
       "  </thead>\n",
       "  <tbody>\n",
       "    <tr>\n",
       "      <th>0</th>\n",
       "      <td>calcium</td>\n",
       "      <td>25-31</td>\n",
       "      <td>drug</td>\n",
       "      <td>DDI-DrugBank.d481.s0</td>\n",
       "    </tr>\n",
       "    <tr>\n",
       "      <th>1</th>\n",
       "      <td>EMCYT</td>\n",
       "      <td>82-86</td>\n",
       "      <td>brand</td>\n",
       "      <td>DDI-DrugBank.d481.s0</td>\n",
       "    </tr>\n",
       "    <tr>\n",
       "      <th>2</th>\n",
       "      <td>Milk</td>\n",
       "      <td>0-3</td>\n",
       "      <td>not_drug</td>\n",
       "      <td>DDI-DrugBank.d481.s0</td>\n",
       "    </tr>\n",
       "    <tr>\n",
       "      <th>3</th>\n",
       "      <td>,</td>\n",
       "      <td>4-4</td>\n",
       "      <td>not_drug</td>\n",
       "      <td>DDI-DrugBank.d481.s0</td>\n",
       "    </tr>\n",
       "    <tr>\n",
       "      <th>4</th>\n",
       "      <td>milk</td>\n",
       "      <td>6-9</td>\n",
       "      <td>not_drug</td>\n",
       "      <td>DDI-DrugBank.d481.s0</td>\n",
       "    </tr>\n",
       "  </tbody>\n",
       "</table>\n",
       "</div>"
      ],
      "text/plain": [
       "    e_name e_offset    e_type                  s_id\n",
       "0  calcium    25-31      drug  DDI-DrugBank.d481.s0\n",
       "1    EMCYT    82-86     brand  DDI-DrugBank.d481.s0\n",
       "2     Milk      0-3  not_drug  DDI-DrugBank.d481.s0\n",
       "3        ,      4-4  not_drug  DDI-DrugBank.d481.s0\n",
       "4     milk      6-9  not_drug  DDI-DrugBank.d481.s0"
      ]
     },
     "execution_count": 99,
     "metadata": {},
     "output_type": "execute_result"
    }
   ],
   "source": [
    "df.head()"
   ]
  },
  {
   "cell_type": "markdown",
   "metadata": {},
   "source": [
    "# Features"
   ]
  },
  {
   "cell_type": "code",
   "execution_count": 101,
   "metadata": {},
   "outputs": [],
   "source": [
    "def extract_features(input_df):\n",
    "    input_df['e_is_title'] = input_df['e_name'].apply(lambda x : x.istitle())\n",
    "    input_df['e_is_upper'] = input_df['e_name'].apply(lambda x : x.isupper())\n",
    "    input_df['e_suffix'] = input_df['e_name'].apply(lambda x : x[-5:])\n",
    "    input_df['e_plural'] = input_df['e_name'].apply(lambda x : x[-1:] == 's')\n",
    "    input_df['e_pos'] = input_df['e_name'].apply(lambda x : nltk.pos_tag([x])[0][1])\n",
    "    input_df['e_is_digit'] = input_df['e_name'].apply(lambda x : x.isdigit())"
   ]
  },
  {
   "cell_type": "code",
   "execution_count": 102,
   "metadata": {},
   "outputs": [
    {
     "data": {
      "text/html": [
       "<div>\n",
       "<style scoped>\n",
       "    .dataframe tbody tr th:only-of-type {\n",
       "        vertical-align: middle;\n",
       "    }\n",
       "\n",
       "    .dataframe tbody tr th {\n",
       "        vertical-align: top;\n",
       "    }\n",
       "\n",
       "    .dataframe thead th {\n",
       "        text-align: right;\n",
       "    }\n",
       "</style>\n",
       "<table border=\"1\" class=\"dataframe\">\n",
       "  <thead>\n",
       "    <tr style=\"text-align: right;\">\n",
       "      <th></th>\n",
       "      <th>e_name</th>\n",
       "      <th>e_offset</th>\n",
       "      <th>e_type</th>\n",
       "      <th>s_id</th>\n",
       "      <th>e_is_title</th>\n",
       "      <th>e_is_upper</th>\n",
       "      <th>e_suffix</th>\n",
       "      <th>e_plural</th>\n",
       "      <th>e_pos</th>\n",
       "      <th>e_is_digit</th>\n",
       "    </tr>\n",
       "  </thead>\n",
       "  <tbody>\n",
       "    <tr>\n",
       "      <th>0</th>\n",
       "      <td>calcium</td>\n",
       "      <td>25-31</td>\n",
       "      <td>drug</td>\n",
       "      <td>DDI-DrugBank.d481.s0</td>\n",
       "      <td>False</td>\n",
       "      <td>False</td>\n",
       "      <td>lcium</td>\n",
       "      <td>False</td>\n",
       "      <td>NN</td>\n",
       "      <td>False</td>\n",
       "    </tr>\n",
       "    <tr>\n",
       "      <th>1</th>\n",
       "      <td>EMCYT</td>\n",
       "      <td>82-86</td>\n",
       "      <td>brand</td>\n",
       "      <td>DDI-DrugBank.d481.s0</td>\n",
       "      <td>False</td>\n",
       "      <td>True</td>\n",
       "      <td>EMCYT</td>\n",
       "      <td>False</td>\n",
       "      <td>NN</td>\n",
       "      <td>False</td>\n",
       "    </tr>\n",
       "    <tr>\n",
       "      <th>2</th>\n",
       "      <td>Milk</td>\n",
       "      <td>0-3</td>\n",
       "      <td>not_drug</td>\n",
       "      <td>DDI-DrugBank.d481.s0</td>\n",
       "      <td>True</td>\n",
       "      <td>False</td>\n",
       "      <td>Milk</td>\n",
       "      <td>False</td>\n",
       "      <td>NN</td>\n",
       "      <td>False</td>\n",
       "    </tr>\n",
       "    <tr>\n",
       "      <th>3</th>\n",
       "      <td>,</td>\n",
       "      <td>4-4</td>\n",
       "      <td>not_drug</td>\n",
       "      <td>DDI-DrugBank.d481.s0</td>\n",
       "      <td>False</td>\n",
       "      <td>False</td>\n",
       "      <td>,</td>\n",
       "      <td>False</td>\n",
       "      <td>,</td>\n",
       "      <td>False</td>\n",
       "    </tr>\n",
       "    <tr>\n",
       "      <th>4</th>\n",
       "      <td>milk</td>\n",
       "      <td>6-9</td>\n",
       "      <td>not_drug</td>\n",
       "      <td>DDI-DrugBank.d481.s0</td>\n",
       "      <td>False</td>\n",
       "      <td>False</td>\n",
       "      <td>milk</td>\n",
       "      <td>False</td>\n",
       "      <td>NN</td>\n",
       "      <td>False</td>\n",
       "    </tr>\n",
       "  </tbody>\n",
       "</table>\n",
       "</div>"
      ],
      "text/plain": [
       "    e_name e_offset    e_type                  s_id  e_is_title  e_is_upper  \\\n",
       "0  calcium    25-31      drug  DDI-DrugBank.d481.s0       False       False   \n",
       "1    EMCYT    82-86     brand  DDI-DrugBank.d481.s0       False        True   \n",
       "2     Milk      0-3  not_drug  DDI-DrugBank.d481.s0        True       False   \n",
       "3        ,      4-4  not_drug  DDI-DrugBank.d481.s0       False       False   \n",
       "4     milk      6-9  not_drug  DDI-DrugBank.d481.s0       False       False   \n",
       "\n",
       "  e_suffix  e_plural e_pos  e_is_digit  \n",
       "0    lcium     False    NN       False  \n",
       "1    EMCYT     False    NN       False  \n",
       "2     Milk     False    NN       False  \n",
       "3        ,     False     ,       False  \n",
       "4     milk     False    NN       False  "
      ]
     },
     "execution_count": 102,
     "metadata": {},
     "output_type": "execute_result"
    }
   ],
   "source": [
    "extract_features(df)\n",
    "df.head()"
   ]
  },
  {
   "cell_type": "markdown",
   "metadata": {},
   "source": [
    "# Input data"
   ]
  },
  {
   "cell_type": "code",
   "execution_count": 103,
   "metadata": {},
   "outputs": [],
   "source": [
    "label = 'e_type'\n",
    "features = ['e_is_title','e_is_upper', 'e_suffix', 'e_plural', 'e_pos', 'e_is_digit']"
   ]
  },
  {
   "cell_type": "code",
   "execution_count": 104,
   "metadata": {},
   "outputs": [],
   "source": [
    "def get_input(input_df, label_col, features_cols):\n",
    "    Ys = np.array(input_df[label_col])\n",
    "    Xs = np.array(input_df[features_cols])\n",
    "    return (Xs, Ys)"
   ]
  },
  {
   "cell_type": "code",
   "execution_count": 105,
   "metadata": {},
   "outputs": [
    {
     "name": "stdout",
     "output_type": "stream",
     "text": [
      "(150665,) (150665, 6)\n",
      "['drug' 'brand' 'not_drug' 'not_drug' 'not_drug']\n",
      "[[False False 'lcium' False 'NN' False]\n",
      " [False True 'EMCYT' False 'NN' False]\n",
      " [True False 'Milk' False 'NN' False]\n",
      " [False False ',' False ',' False]\n",
      " [False False 'milk' False 'NN' False]]\n"
     ]
    }
   ],
   "source": [
    "(X, Y) = get_input(df, label, features)\n",
    "print(Y.shape, X.shape)\n",
    "print(Y[:5])\n",
    "print(X[:5])"
   ]
  },
  {
   "cell_type": "code",
   "execution_count": 106,
   "metadata": {},
   "outputs": [],
   "source": [
    "def encode_labels(Ys):\n",
    "    le_Ys = preprocessing.LabelEncoder()\n",
    "    le_Ys.fit(Ys)\n",
    "    Ys_enc = le_Ys.transform(Ys)\n",
    "    return (Ys_enc, le_Ys)"
   ]
  },
  {
   "cell_type": "code",
   "execution_count": 107,
   "metadata": {},
   "outputs": [
    {
     "name": "stdout",
     "output_type": "stream",
     "text": [
      "Classes: ['brand' 'drug' 'drug_n' 'group' 'not_drug']\n",
      "['drug' 'brand' 'not_drug' 'not_drug' 'not_drug']\n",
      "[1 0 4 4 4]\n",
      "(150665,)\n"
     ]
    }
   ],
   "source": [
    "(Y_enc, le) = encode_labels(Y)\n",
    "print(\"Classes:\",le.classes_)\n",
    "print(Y[0:5])\n",
    "print(Y_enc[0:5])\n",
    "print(Y_enc.shape)"
   ]
  },
  {
   "cell_type": "code",
   "execution_count": 108,
   "metadata": {},
   "outputs": [],
   "source": [
    "def encode_features(Xs):\n",
    "    enc_Xs = preprocessing.OneHotEncoder(handle_unknown=\"ignore\")\n",
    "    enc_Xs.fit(Xs)\n",
    "    Xs_enc = enc.transform(Xs)\n",
    "    return (Xs_enc, enc_Xs)"
   ]
  },
  {
   "cell_type": "code",
   "execution_count": 109,
   "metadata": {},
   "outputs": [
    {
     "name": "stdout",
     "output_type": "stream",
     "text": [
      "Categories: [array([False, True], dtype=object), array([False, True], dtype=object), array([' Acid', ' B-12', ' Drug', ..., 'zymes', '~40', '~47'],\n",
      "      dtype=object), array([False, True], dtype=object), array(['#', \"''\", '(', ')', ',', '.', ':', 'CC', 'CD', 'DT', 'EX', 'IN',\n",
      "       'JJ', 'JJR', 'JJS', 'MD', 'NN', 'NNP', 'NNS', 'POS', 'PRP', 'PRP$',\n",
      "       'RB', 'RBR', 'SYM', 'TO', 'UH', 'VB', 'VBD', 'VBG', 'VBN', 'VBP',\n",
      "       'VBZ', 'WDT', 'WP', 'WP$', 'WRB', '``'], dtype=object), array([False, True], dtype=object)]\n",
      "[False False 'lcium' False 'NN' False]\n",
      "[[1. 0. 1. ... 0. 1. 0.]]\n",
      "(150665, 5872)\n"
     ]
    }
   ],
   "source": [
    "(X_enc, enc) = encode_features(X)\n",
    "print(\"Categories:\",enc.categories_)\n",
    "print(X[0])\n",
    "print(X_enc[0].toarray())\n",
    "print(X_enc.shape)"
   ]
  },
  {
   "cell_type": "markdown",
   "metadata": {},
   "source": [
    "# Model"
   ]
  },
  {
   "cell_type": "code",
   "execution_count": 110,
   "metadata": {},
   "outputs": [],
   "source": [
    "from sklearn.tree import DecisionTreeClassifier"
   ]
  },
  {
   "cell_type": "code",
   "execution_count": 111,
   "metadata": {},
   "outputs": [],
   "source": [
    "clf = DecisionTreeClassifier(random_state= 42)\n",
    "clf = clf.fit(X_enc, Y_enc)"
   ]
  },
  {
   "cell_type": "markdown",
   "metadata": {},
   "source": [
    "## Classification"
   ]
  },
  {
   "cell_type": "code",
   "execution_count": 112,
   "metadata": {},
   "outputs": [],
   "source": [
    "df_medline_test = load_data(medline_test_dir)\n",
    "df_drug_bank_test = load_data(drugbank_test_dir)"
   ]
  },
  {
   "cell_type": "code",
   "execution_count": 113,
   "metadata": {},
   "outputs": [],
   "source": [
    "df_test = df_medline_test"
   ]
  },
  {
   "cell_type": "code",
   "execution_count": 114,
   "metadata": {},
   "outputs": [
    {
     "data": {
      "text/html": [
       "<div>\n",
       "<style scoped>\n",
       "    .dataframe tbody tr th:only-of-type {\n",
       "        vertical-align: middle;\n",
       "    }\n",
       "\n",
       "    .dataframe tbody tr th {\n",
       "        vertical-align: top;\n",
       "    }\n",
       "\n",
       "    .dataframe thead th {\n",
       "        text-align: right;\n",
       "    }\n",
       "</style>\n",
       "<table border=\"1\" class=\"dataframe\">\n",
       "  <thead>\n",
       "    <tr style=\"text-align: right;\">\n",
       "      <th></th>\n",
       "      <th>e_name</th>\n",
       "      <th>e_offset</th>\n",
       "      <th>e_type</th>\n",
       "      <th>s_id</th>\n",
       "      <th>e_is_title</th>\n",
       "      <th>e_is_upper</th>\n",
       "      <th>e_suffix</th>\n",
       "      <th>e_plural</th>\n",
       "      <th>e_pos</th>\n",
       "      <th>e_is_digit</th>\n",
       "    </tr>\n",
       "  </thead>\n",
       "  <tbody>\n",
       "    <tr>\n",
       "      <th>0</th>\n",
       "      <td>antidepressants</td>\n",
       "      <td>54-68</td>\n",
       "      <td>group</td>\n",
       "      <td>DDI-MedLine.d203.s0</td>\n",
       "      <td>False</td>\n",
       "      <td>False</td>\n",
       "      <td>sants</td>\n",
       "      <td>True</td>\n",
       "      <td>NNS</td>\n",
       "      <td>False</td>\n",
       "    </tr>\n",
       "    <tr>\n",
       "      <th>1</th>\n",
       "      <td>Potential</td>\n",
       "      <td>0-8</td>\n",
       "      <td>not_drug</td>\n",
       "      <td>DDI-MedLine.d203.s0</td>\n",
       "      <td>True</td>\n",
       "      <td>False</td>\n",
       "      <td>ntial</td>\n",
       "      <td>False</td>\n",
       "      <td>JJ</td>\n",
       "      <td>False</td>\n",
       "    </tr>\n",
       "    <tr>\n",
       "      <th>2</th>\n",
       "      <td>underuse</td>\n",
       "      <td>10-17</td>\n",
       "      <td>not_drug</td>\n",
       "      <td>DDI-MedLine.d203.s0</td>\n",
       "      <td>False</td>\n",
       "      <td>False</td>\n",
       "      <td>eruse</td>\n",
       "      <td>False</td>\n",
       "      <td>NN</td>\n",
       "      <td>False</td>\n",
       "    </tr>\n",
       "    <tr>\n",
       "      <th>3</th>\n",
       "      <td>,</td>\n",
       "      <td>18-18</td>\n",
       "      <td>not_drug</td>\n",
       "      <td>DDI-MedLine.d203.s0</td>\n",
       "      <td>False</td>\n",
       "      <td>False</td>\n",
       "      <td>,</td>\n",
       "      <td>False</td>\n",
       "      <td>,</td>\n",
       "      <td>False</td>\n",
       "    </tr>\n",
       "    <tr>\n",
       "      <th>4</th>\n",
       "      <td>overuse</td>\n",
       "      <td>20-26</td>\n",
       "      <td>not_drug</td>\n",
       "      <td>DDI-MedLine.d203.s0</td>\n",
       "      <td>False</td>\n",
       "      <td>False</td>\n",
       "      <td>eruse</td>\n",
       "      <td>False</td>\n",
       "      <td>NN</td>\n",
       "      <td>False</td>\n",
       "    </tr>\n",
       "  </tbody>\n",
       "</table>\n",
       "</div>"
      ],
      "text/plain": [
       "            e_name e_offset    e_type                 s_id  e_is_title  \\\n",
       "0  antidepressants    54-68     group  DDI-MedLine.d203.s0       False   \n",
       "1        Potential      0-8  not_drug  DDI-MedLine.d203.s0        True   \n",
       "2         underuse    10-17  not_drug  DDI-MedLine.d203.s0       False   \n",
       "3                ,    18-18  not_drug  DDI-MedLine.d203.s0       False   \n",
       "4          overuse    20-26  not_drug  DDI-MedLine.d203.s0       False   \n",
       "\n",
       "   e_is_upper e_suffix  e_plural e_pos  e_is_digit  \n",
       "0       False    sants      True   NNS       False  \n",
       "1       False    ntial     False    JJ       False  \n",
       "2       False    eruse     False    NN       False  \n",
       "3       False        ,     False     ,       False  \n",
       "4       False    eruse     False    NN       False  "
      ]
     },
     "execution_count": 114,
     "metadata": {},
     "output_type": "execute_result"
    }
   ],
   "source": [
    "extract_features(df_test)\n",
    "df_test.head()"
   ]
  },
  {
   "cell_type": "code",
   "execution_count": 115,
   "metadata": {},
   "outputs": [
    {
     "name": "stdout",
     "output_type": "stream",
     "text": [
      "(12047,) (12047, 6)\n"
     ]
    }
   ],
   "source": [
    "(X_test,Y_test)=get_input(df_test, label, features)\n",
    "print(Y_test.shape, X_test.shape)"
   ]
  },
  {
   "cell_type": "code",
   "execution_count": 116,
   "metadata": {},
   "outputs": [
    {
     "name": "stdout",
     "output_type": "stream",
     "text": [
      "(12047,) (12047, 5872)\n"
     ]
    }
   ],
   "source": [
    "Y_test_enc = le.transform(Y_test)\n",
    "X_test_enc = enc.transform(X_test)\n",
    "print(Y_test_enc.shape, X_test_enc.shape)"
   ]
  },
  {
   "cell_type": "code",
   "execution_count": 117,
   "metadata": {},
   "outputs": [],
   "source": [
    "Y_pred = clf.predict(X_test_enc)"
   ]
  },
  {
   "cell_type": "code",
   "execution_count": 118,
   "metadata": {},
   "outputs": [
    {
     "data": {
      "text/plain": [
       "0.9725242799037105"
      ]
     },
     "execution_count": 118,
     "metadata": {},
     "output_type": "execute_result"
    }
   ],
   "source": [
    "clf.score(X_test_enc, Y_test_enc)"
   ]
  },
  {
   "cell_type": "markdown",
   "metadata": {},
   "source": [
    "### Confusion matrix"
   ]
  },
  {
   "cell_type": "code",
   "execution_count": 119,
   "metadata": {},
   "outputs": [],
   "source": [
    "import numpy as np\n",
    "import matplotlib.pyplot as plt\n",
    "\n",
    "from sklearn import svm, datasets\n",
    "from sklearn.model_selection import train_test_split\n",
    "from sklearn.metrics import confusion_matrix\n",
    "from sklearn.utils.multiclass import unique_labels"
   ]
  },
  {
   "cell_type": "code",
   "execution_count": 120,
   "metadata": {},
   "outputs": [],
   "source": [
    "def plot_confusion_matrix(y_true, y_pred, classes,\n",
    "                          normalize=False,\n",
    "                          title=None,\n",
    "                          cmap=plt.cm.Blues):\n",
    "    \"\"\"\n",
    "    This function prints and plots the confusion matrix.\n",
    "    Normalization can be applied by setting `normalize=True`.\n",
    "    \"\"\"\n",
    "    if not title:\n",
    "        if normalize:\n",
    "            title = 'Normalized confusion matrix'\n",
    "        else:\n",
    "            title = 'Confusion matrix, without normalization'\n",
    "\n",
    "    # Compute confusion matrix\n",
    "    cm = confusion_matrix(y_true, y_pred)\n",
    "    # Only use the labels that appear in the data\n",
    "    classes = classes[unique_labels(y_true, y_pred)]\n",
    "    if normalize:\n",
    "        cm = cm.astype('float') / cm.sum(axis=1)[:, np.newaxis]\n",
    "        print(\"Normalized confusion matrix\")\n",
    "    else:\n",
    "        print('Confusion matrix, without normalization')\n",
    "\n",
    "    #print(cm)\n",
    "\n",
    "    fig, ax = plt.subplots()\n",
    "    im = ax.imshow(cm, interpolation='nearest', cmap=cmap)\n",
    "    ax.figure.colorbar(im, ax=ax)\n",
    "    # We want to show all ticks...\n",
    "    ax.set(xticks=np.arange(cm.shape[1]),\n",
    "           yticks=np.arange(cm.shape[0]),\n",
    "           # ... and label them with the respective list entries\n",
    "           xticklabels=classes, yticklabels=classes,\n",
    "           title=title,\n",
    "           ylabel='True label',\n",
    "           xlabel='Predicted label')\n",
    "\n",
    "    # Rotate the tick labels and set their alignment.\n",
    "    plt.setp(ax.get_xticklabels(), rotation=45, ha=\"right\",\n",
    "             rotation_mode=\"anchor\")\n",
    "\n",
    "    # Loop over data dimensions and create text annotations.\n",
    "    fmt = '.2f' if normalize else 'd'\n",
    "    thresh = cm.max() / 2.\n",
    "    for i in range(cm.shape[0]):\n",
    "        for j in range(cm.shape[1]):\n",
    "            ax.text(j, i, format(cm[i, j], fmt),\n",
    "                    ha=\"center\", va=\"center\",\n",
    "                    color=\"white\" if cm[i, j] > thresh else \"black\")\n",
    "    fig.tight_layout()\n",
    "    return ax"
   ]
  },
  {
   "cell_type": "code",
   "execution_count": 121,
   "metadata": {},
   "outputs": [
    {
     "name": "stdout",
     "output_type": "stream",
     "text": [
      "Confusion matrix, without normalization\n"
     ]
    },
    {
     "data": {
      "image/png": "[encoded data removed]",
      "text/plain": [
       "<Figure size 432x288 with 2 Axes>"
      ]
     },
     "metadata": {},
     "output_type": "display_data"
    }
   ],
   "source": [
    "# Plot non-normalized confusion matrix\n",
    "class_names = le.classes_\n",
    "plot_confusion_matrix(Y_test_enc, Y_pred, classes=class_names, title=\"DrugBank predictions\")\n",
    "plt.show()"
   ]
  },
  {
   "cell_type": "code",
   "execution_count": 122,
   "metadata": {},
   "outputs": [
    {
     "data": {
      "text/html": [
       "<div>\n",
       "<style scoped>\n",
       "    .dataframe tbody tr th:only-of-type {\n",
       "        vertical-align: middle;\n",
       "    }\n",
       "\n",
       "    .dataframe tbody tr th {\n",
       "        vertical-align: top;\n",
       "    }\n",
       "\n",
       "    .dataframe thead th {\n",
       "        text-align: right;\n",
       "    }\n",
       "</style>\n",
       "<table border=\"1\" class=\"dataframe\">\n",
       "  <thead>\n",
       "    <tr style=\"text-align: right;\">\n",
       "      <th></th>\n",
       "      <th>e_name</th>\n",
       "    </tr>\n",
       "    <tr>\n",
       "      <th>e_type</th>\n",
       "      <th></th>\n",
       "    </tr>\n",
       "  </thead>\n",
       "  <tbody>\n",
       "    <tr>\n",
       "      <th>brand</th>\n",
       "      <td>6</td>\n",
       "    </tr>\n",
       "    <tr>\n",
       "      <th>drug</th>\n",
       "      <td>171</td>\n",
       "    </tr>\n",
       "    <tr>\n",
       "      <th>drug_n</th>\n",
       "      <td>115</td>\n",
       "    </tr>\n",
       "    <tr>\n",
       "      <th>group</th>\n",
       "      <td>90</td>\n",
       "    </tr>\n",
       "    <tr>\n",
       "      <th>not_drug</th>\n",
       "      <td>11665</td>\n",
       "    </tr>\n",
       "  </tbody>\n",
       "</table>\n",
       "</div>"
      ],
      "text/plain": [
       "          e_name\n",
       "e_type          \n",
       "brand          6\n",
       "drug         171\n",
       "drug_n       115\n",
       "group         90\n",
       "not_drug   11665"
      ]
     },
     "execution_count": 122,
     "metadata": {},
     "output_type": "execute_result"
    }
   ],
   "source": [
    "df_test[['e_name', 'e_type']].groupby(['e_type']).count()"
   ]
  },
  {
   "cell_type": "markdown",
   "metadata": {},
   "source": [
    "## Detection and classification"
   ]
  },
  {
   "cell_type": "code",
   "execution_count": 138,
   "metadata": {},
   "outputs": [],
   "source": [
    "def parsed_sentence_to_df(parsed):\n",
    "    items = []\n",
    "    for tree in parsed:\n",
    "        for s in tree.getElementsByTagName(\"sentence\"):\n",
    "            s_id = s.attributes[\"id\"].value\n",
    "            s_txt = s.attributes[\"text\"].value            \n",
    "                \n",
    "            tkns = nltk.word_tokenize(s_txt)\n",
    "            for tkn in tkns:\n",
    "                    start = s_txt.find(tkn) \n",
    "                    end = start + len(tkn) - 1\n",
    "                    e_offset = str(start)+\"-\"+str(end)\n",
    "                    item = {\"s_id\": s_id, \"e_name\": tkn, \"e_offset\": e_offset}\n",
    "                    items.append(item)\n",
    "                \n",
    "    return pd.DataFrame(items)\n",
    "\n",
    "def load_unlabeled_data(datadir):\n",
    "    trees = parse_XML_file(datadir)\n",
    "    df_loaded = parsed_sentence_to_df(trees)\n",
    "    return df_loaded"
   ]
  },
  {
   "cell_type": "code",
   "execution_count": 159,
   "metadata": {},
   "outputs": [
    {
     "data": {
      "text/html": [
       "<div>\n",
       "<style scoped>\n",
       "    .dataframe tbody tr th:only-of-type {\n",
       "        vertical-align: middle;\n",
       "    }\n",
       "\n",
       "    .dataframe tbody tr th {\n",
       "        vertical-align: top;\n",
       "    }\n",
       "\n",
       "    .dataframe thead th {\n",
       "        text-align: right;\n",
       "    }\n",
       "</style>\n",
       "<table border=\"1\" class=\"dataframe\">\n",
       "  <thead>\n",
       "    <tr style=\"text-align: right;\">\n",
       "      <th></th>\n",
       "      <th>e_name</th>\n",
       "      <th>e_offset</th>\n",
       "      <th>s_id</th>\n",
       "      <th>e_is_title</th>\n",
       "      <th>e_is_upper</th>\n",
       "      <th>e_suffix</th>\n",
       "      <th>e_plural</th>\n",
       "      <th>e_pos</th>\n",
       "      <th>e_is_digit</th>\n",
       "    </tr>\n",
       "  </thead>\n",
       "  <tbody>\n",
       "    <tr>\n",
       "      <th>0</th>\n",
       "      <td>There</td>\n",
       "      <td>0-4</td>\n",
       "      <td>DDI-DrugBank.d683.s0</td>\n",
       "      <td>True</td>\n",
       "      <td>False</td>\n",
       "      <td>There</td>\n",
       "      <td>False</td>\n",
       "      <td>EX</td>\n",
       "      <td>False</td>\n",
       "    </tr>\n",
       "    <tr>\n",
       "      <th>1</th>\n",
       "      <td>are</td>\n",
       "      <td>6-8</td>\n",
       "      <td>DDI-DrugBank.d683.s0</td>\n",
       "      <td>False</td>\n",
       "      <td>False</td>\n",
       "      <td>are</td>\n",
       "      <td>False</td>\n",
       "      <td>VBP</td>\n",
       "      <td>False</td>\n",
       "    </tr>\n",
       "    <tr>\n",
       "      <th>2</th>\n",
       "      <td>,</td>\n",
       "      <td>9-9</td>\n",
       "      <td>DDI-DrugBank.d683.s0</td>\n",
       "      <td>False</td>\n",
       "      <td>False</td>\n",
       "      <td>,</td>\n",
       "      <td>False</td>\n",
       "      <td>,</td>\n",
       "      <td>False</td>\n",
       "    </tr>\n",
       "    <tr>\n",
       "      <th>3</th>\n",
       "      <td>as</td>\n",
       "      <td>11-12</td>\n",
       "      <td>DDI-DrugBank.d683.s0</td>\n",
       "      <td>False</td>\n",
       "      <td>False</td>\n",
       "      <td>as</td>\n",
       "      <td>True</td>\n",
       "      <td>IN</td>\n",
       "      <td>False</td>\n",
       "    </tr>\n",
       "    <tr>\n",
       "      <th>4</th>\n",
       "      <td>yet</td>\n",
       "      <td>14-16</td>\n",
       "      <td>DDI-DrugBank.d683.s0</td>\n",
       "      <td>False</td>\n",
       "      <td>False</td>\n",
       "      <td>yet</td>\n",
       "      <td>False</td>\n",
       "      <td>RB</td>\n",
       "      <td>False</td>\n",
       "    </tr>\n",
       "  </tbody>\n",
       "</table>\n",
       "</div>"
      ],
      "text/plain": [
       "  e_name e_offset                  s_id  e_is_title  e_is_upper e_suffix  \\\n",
       "0  There      0-4  DDI-DrugBank.d683.s0        True       False    There   \n",
       "1    are      6-8  DDI-DrugBank.d683.s0       False       False      are   \n",
       "2      ,      9-9  DDI-DrugBank.d683.s0       False       False        ,   \n",
       "3     as    11-12  DDI-DrugBank.d683.s0       False       False       as   \n",
       "4    yet    14-16  DDI-DrugBank.d683.s0       False       False      yet   \n",
       "\n",
       "   e_plural e_pos  e_is_digit  \n",
       "0     False    EX       False  \n",
       "1     False   VBP       False  \n",
       "2     False     ,       False  \n",
       "3      True    IN       False  \n",
       "4     False    RB       False  "
      ]
     },
     "execution_count": 159,
     "metadata": {},
     "output_type": "execute_result"
    }
   ],
   "source": [
    "data = load_unlabeled_data(drugbank_test_dir)\n",
    "extract_features(data)\n",
    "data.head()"
   ]
  },
  {
   "cell_type": "code",
   "execution_count": 160,
   "metadata": {},
   "outputs": [],
   "source": [
    "with open(\"task9.1_TREE1_medline_1.txt\", \"w\") as text_file:\n",
    "    for index, row in data.iterrows():\n",
    "        X = np.array(row[3:])\n",
    "        encoded = enc.transform([X])\n",
    "        prediction = clf.predict(encoded)\n",
    "        label = le.inverse_transform(prediction)[0]\n",
    "        if label != \"not_drug\":\n",
    "            print(row[\"s_id\"], row[\"e_offset\"], row[\"e_name\"], label, sep=\"|\", file=text_file)"
   ]
  }
 ],
 "metadata": {
  "kernelspec": {
   "display_name": "Python 3",
   "language": "python",
   "name": "python3"
  },
  "language_info": {
   "codemirror_mode": {
    "name": "ipython",
    "version": 3
   },
   "file_extension": ".py",
   "mimetype": "text/x-python",
   "name": "python",
   "nbconvert_exporter": "python",
   "pygments_lexer": "ipython3",
   "version": "3.6.4"
  }
 },
 "nbformat": 4,
 "nbformat_minor": 2
}
