{
 "cells": [
  {
   "cell_type": "code",
   "execution_count": 1,
   "metadata": {},
   "outputs": [
    {
     "name": "stdout",
     "output_type": "stream",
     "text": [
      "The nltk version is 3.2.5.\n",
      "The scikit-learn version is 0.20.1.\n"
     ]
    }
   ],
   "source": [
    "import sys\n",
    "from os import listdir\n",
    "import os\n",
    "\n",
    "from xml.dom.minidom import parse\n",
    "\n",
    "import pandas as pd\n",
    "import numpy as np\n",
    "\n",
    "import nltk\n",
    "from nltk import tokenize\n",
    "\n",
    "import matplotlib.pyplot as plt\n",
    "\n",
    "import sklearn\n",
    "from sklearn import preprocessing\n",
    "\n",
    "\n",
    "print('The nltk version is {}.'.format(nltk.__version__))\n",
    "print('The scikit-learn version is {}.'.format(sklearn.__version__))"
   ]
  },
  {
   "cell_type": "code",
   "execution_count": 2,
   "metadata": {},
   "outputs": [],
   "source": [
    "dir_train_medline = \"/Users/lluccardoner/PycharmProjects/MET_AHLT_Lab_2019/data/Train/MedLine/\"\n",
    "dir_train_drugbank = \"/Users/lluccardoner/PycharmProjects/MET_AHLT_Lab_2019/data/Train/DrugBank/\""
   ]
  },
  {
   "cell_type": "code",
   "execution_count": 3,
   "metadata": {},
   "outputs": [],
   "source": [
    "dir_test_medline = \"/Users/lluccardoner/PycharmProjects/MET_AHLT_Lab_2019/data/Test-NER/MedLine/\"\n",
    "dir_test_drugbank = \"/Users/lluccardoner/PycharmProjects/MET_AHLT_Lab_2019/data/Test-NER/DrugBank/\""
   ]
  },
  {
   "cell_type": "markdown",
   "metadata": {},
   "source": [
    "# Data"
   ]
  },
  {
   "cell_type": "code",
   "execution_count": 4,
   "metadata": {},
   "outputs": [],
   "source": [
    "def parse_XML_file(datadir):\n",
    "    trees = []\n",
    "    for f in listdir(datadir):\n",
    "        # parse XML file\n",
    "        tree = parse(datadir + \"/\" + f)\n",
    "        trees.append(tree)\n",
    "    return trees\n",
    "\n",
    "def parsed_to_df(parsed):\n",
    "    items = []\n",
    "    for tree in parsed:\n",
    "        for s in tree.getElementsByTagName(\"sentence\"):\n",
    "            s_id = s.attributes[\"id\"].value\n",
    "            s_txt = s.attributes[\"text\"].value            \n",
    "            \n",
    "            e_names = []\n",
    "            for e in s.getElementsByTagName(\"entity\"):\n",
    "                e_name = e.attributes[\"text\"].value\n",
    "                e_type = e.attributes[\"type\"].value\n",
    "                e_offset = e.attributes[\"charOffset\"].value\n",
    "                item = {\"s_id\": s_id, \"e_name\": e_name, \"e_type\": e_type, \"e_offset\": e_offset}\n",
    "                e_names.append(e_name)\n",
    "                items.append(item)\n",
    "                \n",
    "            tkns = nltk.word_tokenize(s_txt)\n",
    "            for tkn in tkns:\n",
    "                if tkn not in e_names: # not robust\n",
    "                    start = s_txt.find(tkn, start) \n",
    "                    end = start + len(tkn) - 1\n",
    "                    e_offset = str(start)+\"-\"+str(end)\n",
    "                    item = {\"s_id\": s_id, \"e_name\": tkn, \"e_type\": \"not_drug\", \"e_offset\": e_offset}\n",
    "                    items.append(item)\n",
    "                    start += len(tkn)\n",
    "                \n",
    "    return pd.DataFrame(items)\n",
    "\n",
    "def load_data(datadir):\n",
    "    trees = parse_XML_file(datadir)\n",
    "    df_loaded = parsed_to_df(trees)\n",
    "    return df_loaded"
   ]
  },
  {
   "cell_type": "markdown",
   "metadata": {},
   "source": [
    "## Train Data"
   ]
  },
  {
   "cell_type": "code",
   "execution_count": 5,
   "metadata": {},
   "outputs": [
    {
     "data": {
      "text/plain": [
       "(120594, 4)"
      ]
     },
     "execution_count": 5,
     "metadata": {},
     "output_type": "execute_result"
    }
   ],
   "source": [
    "df_train_drugbank = load_data(dir_train_drugbank)\n",
    "df_train_drugbank.shape"
   ]
  },
  {
   "cell_type": "code",
   "execution_count": 6,
   "metadata": {},
   "outputs": [
    {
     "data": {
      "text/plain": [
       "(30071, 4)"
      ]
     },
     "execution_count": 6,
     "metadata": {},
     "output_type": "execute_result"
    }
   ],
   "source": [
    "df_train_medline = load_data(dir_train_medline)\n",
    "df_train_medline.shape"
   ]
  },
  {
   "cell_type": "code",
   "execution_count": 7,
   "metadata": {},
   "outputs": [
    {
     "data": {
      "text/plain": [
       "(150665, 4)"
      ]
     },
     "execution_count": 7,
     "metadata": {},
     "output_type": "execute_result"
    }
   ],
   "source": [
    "df_train = df_train_drugbank.append(df_train_medline, ignore_index=True)\n",
    "df_train.shape"
   ]
  },
  {
   "cell_type": "code",
   "execution_count": 8,
   "metadata": {},
   "outputs": [
    {
     "data": {
      "text/html": [
       "<div>\n",
       "<style scoped>\n",
       "    .dataframe tbody tr th:only-of-type {\n",
       "        vertical-align: middle;\n",
       "    }\n",
       "\n",
       "    .dataframe tbody tr th {\n",
       "        vertical-align: top;\n",
       "    }\n",
       "\n",
       "    .dataframe thead th {\n",
       "        text-align: right;\n",
       "    }\n",
       "</style>\n",
       "<table border=\"1\" class=\"dataframe\">\n",
       "  <thead>\n",
       "    <tr style=\"text-align: right;\">\n",
       "      <th></th>\n",
       "      <th>e_name</th>\n",
       "      <th>e_offset</th>\n",
       "      <th>e_type</th>\n",
       "      <th>s_id</th>\n",
       "    </tr>\n",
       "  </thead>\n",
       "  <tbody>\n",
       "    <tr>\n",
       "      <th>0</th>\n",
       "      <td>calcium</td>\n",
       "      <td>25-31</td>\n",
       "      <td>drug</td>\n",
       "      <td>DDI-DrugBank.d481.s0</td>\n",
       "    </tr>\n",
       "    <tr>\n",
       "      <th>1</th>\n",
       "      <td>EMCYT</td>\n",
       "      <td>82-86</td>\n",
       "      <td>brand</td>\n",
       "      <td>DDI-DrugBank.d481.s0</td>\n",
       "    </tr>\n",
       "    <tr>\n",
       "      <th>2</th>\n",
       "      <td>Milk</td>\n",
       "      <td>0-3</td>\n",
       "      <td>not_drug</td>\n",
       "      <td>DDI-DrugBank.d481.s0</td>\n",
       "    </tr>\n",
       "    <tr>\n",
       "      <th>3</th>\n",
       "      <td>,</td>\n",
       "      <td>4-4</td>\n",
       "      <td>not_drug</td>\n",
       "      <td>DDI-DrugBank.d481.s0</td>\n",
       "    </tr>\n",
       "    <tr>\n",
       "      <th>4</th>\n",
       "      <td>milk</td>\n",
       "      <td>6-9</td>\n",
       "      <td>not_drug</td>\n",
       "      <td>DDI-DrugBank.d481.s0</td>\n",
       "    </tr>\n",
       "  </tbody>\n",
       "</table>\n",
       "</div>"
      ],
      "text/plain": [
       "    e_name e_offset    e_type                  s_id\n",
       "0  calcium    25-31      drug  DDI-DrugBank.d481.s0\n",
       "1    EMCYT    82-86     brand  DDI-DrugBank.d481.s0\n",
       "2     Milk      0-3  not_drug  DDI-DrugBank.d481.s0\n",
       "3        ,      4-4  not_drug  DDI-DrugBank.d481.s0\n",
       "4     milk      6-9  not_drug  DDI-DrugBank.d481.s0"
      ]
     },
     "execution_count": 8,
     "metadata": {},
     "output_type": "execute_result"
    }
   ],
   "source": [
    "df_train.head()"
   ]
  },
  {
   "cell_type": "markdown",
   "metadata": {},
   "source": [
    "## Test Data"
   ]
  },
  {
   "cell_type": "code",
   "execution_count": 9,
   "metadata": {},
   "outputs": [
    {
     "data": {
      "text/plain": [
       "(3001, 4)"
      ]
     },
     "execution_count": 9,
     "metadata": {},
     "output_type": "execute_result"
    }
   ],
   "source": [
    "df_test_drugbank = load_data(dir_test_drugbank)\n",
    "df_test_drugbank.shape"
   ]
  },
  {
   "cell_type": "code",
   "execution_count": 10,
   "metadata": {},
   "outputs": [
    {
     "data": {
      "text/plain": [
       "(12047, 4)"
      ]
     },
     "execution_count": 10,
     "metadata": {},
     "output_type": "execute_result"
    }
   ],
   "source": [
    "df_test_medline = load_data(dir_test_medline)\n",
    "df_test_medline.shape"
   ]
  },
  {
   "cell_type": "markdown",
   "metadata": {},
   "source": [
    "# Features"
   ]
  },
  {
   "cell_type": "code",
   "execution_count": 11,
   "metadata": {},
   "outputs": [],
   "source": [
    "def extract_features(input_df):\n",
    "    input_df['e_is_title'] = input_df['e_name'].apply(lambda x : x.istitle())\n",
    "    input_df['e_is_upper'] = input_df['e_name'].apply(lambda x : x.isupper())\n",
    "    input_df['e_suffix'] = input_df['e_name'].apply(lambda x : x[-5:])\n",
    "    input_df['e_plural'] = input_df['e_name'].apply(lambda x : x[-1:] == 's')\n",
    "    input_df['e_pos'] = input_df['e_name'].apply(lambda x : nltk.pos_tag([x])[0][1])\n",
    "    input_df['e_is_digit'] = input_df['e_name'].apply(lambda x : x.isdigit())"
   ]
  },
  {
   "cell_type": "code",
   "execution_count": 12,
   "metadata": {},
   "outputs": [],
   "source": [
    "extract_features(df_train)\n",
    "extract_features(df_test_drugbank)\n",
    "extract_features(df_test_medline)"
   ]
  },
  {
   "cell_type": "code",
   "execution_count": 13,
   "metadata": {},
   "outputs": [
    {
     "name": "stdout",
     "output_type": "stream",
     "text": [
      "(150665, 10)\n"
     ]
    },
    {
     "data": {
      "text/html": [
       "<div>\n",
       "<style scoped>\n",
       "    .dataframe tbody tr th:only-of-type {\n",
       "        vertical-align: middle;\n",
       "    }\n",
       "\n",
       "    .dataframe tbody tr th {\n",
       "        vertical-align: top;\n",
       "    }\n",
       "\n",
       "    .dataframe thead th {\n",
       "        text-align: right;\n",
       "    }\n",
       "</style>\n",
       "<table border=\"1\" class=\"dataframe\">\n",
       "  <thead>\n",
       "    <tr style=\"text-align: right;\">\n",
       "      <th></th>\n",
       "      <th>e_name</th>\n",
       "      <th>e_offset</th>\n",
       "      <th>e_type</th>\n",
       "      <th>s_id</th>\n",
       "      <th>e_is_title</th>\n",
       "      <th>e_is_upper</th>\n",
       "      <th>e_suffix</th>\n",
       "      <th>e_plural</th>\n",
       "      <th>e_pos</th>\n",
       "      <th>e_is_digit</th>\n",
       "    </tr>\n",
       "  </thead>\n",
       "  <tbody>\n",
       "    <tr>\n",
       "      <th>0</th>\n",
       "      <td>calcium</td>\n",
       "      <td>25-31</td>\n",
       "      <td>drug</td>\n",
       "      <td>DDI-DrugBank.d481.s0</td>\n",
       "      <td>False</td>\n",
       "      <td>False</td>\n",
       "      <td>lcium</td>\n",
       "      <td>False</td>\n",
       "      <td>NN</td>\n",
       "      <td>False</td>\n",
       "    </tr>\n",
       "    <tr>\n",
       "      <th>1</th>\n",
       "      <td>EMCYT</td>\n",
       "      <td>82-86</td>\n",
       "      <td>brand</td>\n",
       "      <td>DDI-DrugBank.d481.s0</td>\n",
       "      <td>False</td>\n",
       "      <td>True</td>\n",
       "      <td>EMCYT</td>\n",
       "      <td>False</td>\n",
       "      <td>NN</td>\n",
       "      <td>False</td>\n",
       "    </tr>\n",
       "    <tr>\n",
       "      <th>2</th>\n",
       "      <td>Milk</td>\n",
       "      <td>0-3</td>\n",
       "      <td>not_drug</td>\n",
       "      <td>DDI-DrugBank.d481.s0</td>\n",
       "      <td>True</td>\n",
       "      <td>False</td>\n",
       "      <td>Milk</td>\n",
       "      <td>False</td>\n",
       "      <td>NN</td>\n",
       "      <td>False</td>\n",
       "    </tr>\n",
       "    <tr>\n",
       "      <th>3</th>\n",
       "      <td>,</td>\n",
       "      <td>4-4</td>\n",
       "      <td>not_drug</td>\n",
       "      <td>DDI-DrugBank.d481.s0</td>\n",
       "      <td>False</td>\n",
       "      <td>False</td>\n",
       "      <td>,</td>\n",
       "      <td>False</td>\n",
       "      <td>,</td>\n",
       "      <td>False</td>\n",
       "    </tr>\n",
       "    <tr>\n",
       "      <th>4</th>\n",
       "      <td>milk</td>\n",
       "      <td>6-9</td>\n",
       "      <td>not_drug</td>\n",
       "      <td>DDI-DrugBank.d481.s0</td>\n",
       "      <td>False</td>\n",
       "      <td>False</td>\n",
       "      <td>milk</td>\n",
       "      <td>False</td>\n",
       "      <td>NN</td>\n",
       "      <td>False</td>\n",
       "    </tr>\n",
       "  </tbody>\n",
       "</table>\n",
       "</div>"
      ],
      "text/plain": [
       "    e_name e_offset    e_type                  s_id  e_is_title  e_is_upper  \\\n",
       "0  calcium    25-31      drug  DDI-DrugBank.d481.s0       False       False   \n",
       "1    EMCYT    82-86     brand  DDI-DrugBank.d481.s0       False        True   \n",
       "2     Milk      0-3  not_drug  DDI-DrugBank.d481.s0        True       False   \n",
       "3        ,      4-4  not_drug  DDI-DrugBank.d481.s0       False       False   \n",
       "4     milk      6-9  not_drug  DDI-DrugBank.d481.s0       False       False   \n",
       "\n",
       "  e_suffix  e_plural e_pos  e_is_digit  \n",
       "0    lcium     False    NN       False  \n",
       "1    EMCYT     False    NN       False  \n",
       "2     Milk     False    NN       False  \n",
       "3        ,     False     ,       False  \n",
       "4     milk     False    NN       False  "
      ]
     },
     "execution_count": 13,
     "metadata": {},
     "output_type": "execute_result"
    }
   ],
   "source": [
    "print(df_train.shape)\n",
    "df_train.head()"
   ]
  },
  {
   "cell_type": "code",
   "execution_count": 14,
   "metadata": {},
   "outputs": [
    {
     "name": "stdout",
     "output_type": "stream",
     "text": [
      "(3001, 10)\n"
     ]
    },
    {
     "data": {
      "text/html": [
       "<div>\n",
       "<style scoped>\n",
       "    .dataframe tbody tr th:only-of-type {\n",
       "        vertical-align: middle;\n",
       "    }\n",
       "\n",
       "    .dataframe tbody tr th {\n",
       "        vertical-align: top;\n",
       "    }\n",
       "\n",
       "    .dataframe thead th {\n",
       "        text-align: right;\n",
       "    }\n",
       "</style>\n",
       "<table border=\"1\" class=\"dataframe\">\n",
       "  <thead>\n",
       "    <tr style=\"text-align: right;\">\n",
       "      <th></th>\n",
       "      <th>e_name</th>\n",
       "      <th>e_offset</th>\n",
       "      <th>e_type</th>\n",
       "      <th>s_id</th>\n",
       "      <th>e_is_title</th>\n",
       "      <th>e_is_upper</th>\n",
       "      <th>e_suffix</th>\n",
       "      <th>e_plural</th>\n",
       "      <th>e_pos</th>\n",
       "      <th>e_is_digit</th>\n",
       "    </tr>\n",
       "  </thead>\n",
       "  <tbody>\n",
       "    <tr>\n",
       "      <th>0</th>\n",
       "      <td>There</td>\n",
       "      <td>0-4</td>\n",
       "      <td>not_drug</td>\n",
       "      <td>DDI-DrugBank.d683.s0</td>\n",
       "      <td>True</td>\n",
       "      <td>False</td>\n",
       "      <td>There</td>\n",
       "      <td>False</td>\n",
       "      <td>EX</td>\n",
       "      <td>False</td>\n",
       "    </tr>\n",
       "    <tr>\n",
       "      <th>1</th>\n",
       "      <td>are</td>\n",
       "      <td>6-8</td>\n",
       "      <td>not_drug</td>\n",
       "      <td>DDI-DrugBank.d683.s0</td>\n",
       "      <td>False</td>\n",
       "      <td>False</td>\n",
       "      <td>are</td>\n",
       "      <td>False</td>\n",
       "      <td>VBP</td>\n",
       "      <td>False</td>\n",
       "    </tr>\n",
       "    <tr>\n",
       "      <th>2</th>\n",
       "      <td>,</td>\n",
       "      <td>9-9</td>\n",
       "      <td>not_drug</td>\n",
       "      <td>DDI-DrugBank.d683.s0</td>\n",
       "      <td>False</td>\n",
       "      <td>False</td>\n",
       "      <td>,</td>\n",
       "      <td>False</td>\n",
       "      <td>,</td>\n",
       "      <td>False</td>\n",
       "    </tr>\n",
       "    <tr>\n",
       "      <th>3</th>\n",
       "      <td>as</td>\n",
       "      <td>11-12</td>\n",
       "      <td>not_drug</td>\n",
       "      <td>DDI-DrugBank.d683.s0</td>\n",
       "      <td>False</td>\n",
       "      <td>False</td>\n",
       "      <td>as</td>\n",
       "      <td>True</td>\n",
       "      <td>IN</td>\n",
       "      <td>False</td>\n",
       "    </tr>\n",
       "    <tr>\n",
       "      <th>4</th>\n",
       "      <td>yet</td>\n",
       "      <td>14-16</td>\n",
       "      <td>not_drug</td>\n",
       "      <td>DDI-DrugBank.d683.s0</td>\n",
       "      <td>False</td>\n",
       "      <td>False</td>\n",
       "      <td>yet</td>\n",
       "      <td>False</td>\n",
       "      <td>RB</td>\n",
       "      <td>False</td>\n",
       "    </tr>\n",
       "  </tbody>\n",
       "</table>\n",
       "</div>"
      ],
      "text/plain": [
       "  e_name e_offset    e_type                  s_id  e_is_title  e_is_upper  \\\n",
       "0  There      0-4  not_drug  DDI-DrugBank.d683.s0        True       False   \n",
       "1    are      6-8  not_drug  DDI-DrugBank.d683.s0       False       False   \n",
       "2      ,      9-9  not_drug  DDI-DrugBank.d683.s0       False       False   \n",
       "3     as    11-12  not_drug  DDI-DrugBank.d683.s0       False       False   \n",
       "4    yet    14-16  not_drug  DDI-DrugBank.d683.s0       False       False   \n",
       "\n",
       "  e_suffix  e_plural e_pos  e_is_digit  \n",
       "0    There     False    EX       False  \n",
       "1      are     False   VBP       False  \n",
       "2        ,     False     ,       False  \n",
       "3       as      True    IN       False  \n",
       "4      yet     False    RB       False  "
      ]
     },
     "execution_count": 14,
     "metadata": {},
     "output_type": "execute_result"
    }
   ],
   "source": [
    "print(df_test_drugbank.shape)\n",
    "df_test_drugbank.head()"
   ]
  },
  {
   "cell_type": "code",
   "execution_count": 15,
   "metadata": {},
   "outputs": [
    {
     "name": "stdout",
     "output_type": "stream",
     "text": [
      "(12047, 10)\n"
     ]
    },
    {
     "data": {
      "text/html": [
       "<div>\n",
       "<style scoped>\n",
       "    .dataframe tbody tr th:only-of-type {\n",
       "        vertical-align: middle;\n",
       "    }\n",
       "\n",
       "    .dataframe tbody tr th {\n",
       "        vertical-align: top;\n",
       "    }\n",
       "\n",
       "    .dataframe thead th {\n",
       "        text-align: right;\n",
       "    }\n",
       "</style>\n",
       "<table border=\"1\" class=\"dataframe\">\n",
       "  <thead>\n",
       "    <tr style=\"text-align: right;\">\n",
       "      <th></th>\n",
       "      <th>e_name</th>\n",
       "      <th>e_offset</th>\n",
       "      <th>e_type</th>\n",
       "      <th>s_id</th>\n",
       "      <th>e_is_title</th>\n",
       "      <th>e_is_upper</th>\n",
       "      <th>e_suffix</th>\n",
       "      <th>e_plural</th>\n",
       "      <th>e_pos</th>\n",
       "      <th>e_is_digit</th>\n",
       "    </tr>\n",
       "  </thead>\n",
       "  <tbody>\n",
       "    <tr>\n",
       "      <th>0</th>\n",
       "      <td>antidepressants</td>\n",
       "      <td>54-68</td>\n",
       "      <td>group</td>\n",
       "      <td>DDI-MedLine.d203.s0</td>\n",
       "      <td>False</td>\n",
       "      <td>False</td>\n",
       "      <td>sants</td>\n",
       "      <td>True</td>\n",
       "      <td>NNS</td>\n",
       "      <td>False</td>\n",
       "    </tr>\n",
       "    <tr>\n",
       "      <th>1</th>\n",
       "      <td>Potential</td>\n",
       "      <td>0-8</td>\n",
       "      <td>not_drug</td>\n",
       "      <td>DDI-MedLine.d203.s0</td>\n",
       "      <td>True</td>\n",
       "      <td>False</td>\n",
       "      <td>ntial</td>\n",
       "      <td>False</td>\n",
       "      <td>JJ</td>\n",
       "      <td>False</td>\n",
       "    </tr>\n",
       "    <tr>\n",
       "      <th>2</th>\n",
       "      <td>underuse</td>\n",
       "      <td>10-17</td>\n",
       "      <td>not_drug</td>\n",
       "      <td>DDI-MedLine.d203.s0</td>\n",
       "      <td>False</td>\n",
       "      <td>False</td>\n",
       "      <td>eruse</td>\n",
       "      <td>False</td>\n",
       "      <td>NN</td>\n",
       "      <td>False</td>\n",
       "    </tr>\n",
       "    <tr>\n",
       "      <th>3</th>\n",
       "      <td>,</td>\n",
       "      <td>18-18</td>\n",
       "      <td>not_drug</td>\n",
       "      <td>DDI-MedLine.d203.s0</td>\n",
       "      <td>False</td>\n",
       "      <td>False</td>\n",
       "      <td>,</td>\n",
       "      <td>False</td>\n",
       "      <td>,</td>\n",
       "      <td>False</td>\n",
       "    </tr>\n",
       "    <tr>\n",
       "      <th>4</th>\n",
       "      <td>overuse</td>\n",
       "      <td>20-26</td>\n",
       "      <td>not_drug</td>\n",
       "      <td>DDI-MedLine.d203.s0</td>\n",
       "      <td>False</td>\n",
       "      <td>False</td>\n",
       "      <td>eruse</td>\n",
       "      <td>False</td>\n",
       "      <td>NN</td>\n",
       "      <td>False</td>\n",
       "    </tr>\n",
       "  </tbody>\n",
       "</table>\n",
       "</div>"
      ],
      "text/plain": [
       "            e_name e_offset    e_type                 s_id  e_is_title  \\\n",
       "0  antidepressants    54-68     group  DDI-MedLine.d203.s0       False   \n",
       "1        Potential      0-8  not_drug  DDI-MedLine.d203.s0        True   \n",
       "2         underuse    10-17  not_drug  DDI-MedLine.d203.s0       False   \n",
       "3                ,    18-18  not_drug  DDI-MedLine.d203.s0       False   \n",
       "4          overuse    20-26  not_drug  DDI-MedLine.d203.s0       False   \n",
       "\n",
       "   e_is_upper e_suffix  e_plural e_pos  e_is_digit  \n",
       "0       False    sants      True   NNS       False  \n",
       "1       False    ntial     False    JJ       False  \n",
       "2       False    eruse     False    NN       False  \n",
       "3       False        ,     False     ,       False  \n",
       "4       False    eruse     False    NN       False  "
      ]
     },
     "execution_count": 15,
     "metadata": {},
     "output_type": "execute_result"
    }
   ],
   "source": [
    "print(df_test_medline.shape)\n",
    "df_test_medline.head()"
   ]
  },
  {
   "cell_type": "markdown",
   "metadata": {},
   "source": [
    "# Input data"
   ]
  },
  {
   "cell_type": "code",
   "execution_count": 16,
   "metadata": {},
   "outputs": [],
   "source": [
    "label = 'e_type'\n",
    "features = ['e_is_title','e_is_upper', 'e_suffix', 'e_plural', 'e_pos', 'e_is_digit']"
   ]
  },
  {
   "cell_type": "code",
   "execution_count": 17,
   "metadata": {},
   "outputs": [],
   "source": [
    "def get_input(input_df, label_col, features_cols):\n",
    "    Ys = np.array(input_df[label_col])\n",
    "    Xs = np.array(input_df[features_cols])\n",
    "    return Xs, Ys"
   ]
  },
  {
   "cell_type": "code",
   "execution_count": 18,
   "metadata": {},
   "outputs": [],
   "source": [
    "X_train, Y_train = get_input(df_train, label, features)\n",
    "X_test_drugbank, Y_test_drugbank = get_input(df_test_drugbank, label, features)\n",
    "X_test_medline, Y_test_medline = get_input(df_test_medline, label, features)"
   ]
  },
  {
   "cell_type": "markdown",
   "metadata": {},
   "source": [
    "### Encode training data"
   ]
  },
  {
   "cell_type": "code",
   "execution_count": 19,
   "metadata": {},
   "outputs": [],
   "source": [
    "def encode_labels(Ys):\n",
    "    le_Ys = preprocessing.LabelEncoder()\n",
    "    le_Ys.fit(Ys)\n",
    "    Ys_enc = le_Ys.transform(Ys)\n",
    "    return Ys_enc, le_Ys"
   ]
  },
  {
   "cell_type": "code",
   "execution_count": 20,
   "metadata": {},
   "outputs": [
    {
     "name": "stdout",
     "output_type": "stream",
     "text": [
      "Classes: ['brand' 'drug' 'drug_n' 'group' 'not_drug']\n"
     ]
    }
   ],
   "source": [
    "Y_train_enc, le = encode_labels(Y_train)\n",
    "print(\"Classes:\",le.classes_)"
   ]
  },
  {
   "cell_type": "code",
   "execution_count": 21,
   "metadata": {},
   "outputs": [],
   "source": [
    "def encode_features(Xs):\n",
    "    enc_Xs = preprocessing.OneHotEncoder(handle_unknown=\"ignore\")\n",
    "    enc_Xs.fit(Xs)\n",
    "    Xs_enc = enc_Xs.transform(Xs)\n",
    "    return Xs_enc, enc_Xs"
   ]
  },
  {
   "cell_type": "code",
   "execution_count": 22,
   "metadata": {},
   "outputs": [
    {
     "name": "stdout",
     "output_type": "stream",
     "text": [
      "Categories: [array([False, True], dtype=object), array([False, True], dtype=object), array([' Acid', ' B-12', ' Drug', ..., 'zymes', '~40', '~47'],\n",
      "      dtype=object), array([False, True], dtype=object), array(['#', \"''\", '(', ')', ',', '.', ':', 'CC', 'CD', 'DT', 'EX', 'IN',\n",
      "       'JJ', 'JJR', 'JJS', 'MD', 'NN', 'NNP', 'NNS', 'POS', 'PRP', 'PRP$',\n",
      "       'RB', 'RBR', 'SYM', 'TO', 'UH', 'VB', 'VBD', 'VBG', 'VBN', 'VBP',\n",
      "       'VBZ', 'WDT', 'WP', 'WP$', 'WRB', '``'], dtype=object), array([False, True], dtype=object)]\n"
     ]
    }
   ],
   "source": [
    "X_train_enc, enc = encode_features(X_train)\n",
    "print(\"Categories:\", enc.categories_)"
   ]
  },
  {
   "cell_type": "markdown",
   "metadata": {},
   "source": [
    "### Encode testing data"
   ]
  },
  {
   "cell_type": "code",
   "execution_count": 24,
   "metadata": {},
   "outputs": [
    {
     "name": "stdout",
     "output_type": "stream",
     "text": [
      "(3001,) (3001, 5872)\n"
     ]
    }
   ],
   "source": [
    "Y_test_drugbank_enc = le.transform(Y_test_drugbank)\n",
    "X_test_drugbank_enc = enc.transform(X_test_drugbank)\n",
    "print(Y_test_drugbank_enc.shape, X_test_drugbank_enc.shape)"
   ]
  },
  {
   "cell_type": "code",
   "execution_count": 25,
   "metadata": {},
   "outputs": [
    {
     "name": "stdout",
     "output_type": "stream",
     "text": [
      "(12047,) (12047, 5872)\n"
     ]
    }
   ],
   "source": [
    "Y_test_medline_enc = le.transform(Y_test_medline)\n",
    "X_test_medline_enc = enc.transform(X_test_medline)\n",
    "print(Y_test_medline_enc.shape, X_test_medline_enc.shape)"
   ]
  },
  {
   "cell_type": "markdown",
   "metadata": {},
   "source": [
    "# Model"
   ]
  },
  {
   "cell_type": "code",
   "execution_count": 26,
   "metadata": {},
   "outputs": [],
   "source": [
    "from sklearn.tree import DecisionTreeClassifier"
   ]
  },
  {
   "cell_type": "code",
   "execution_count": 27,
   "metadata": {},
   "outputs": [],
   "source": [
    "clf_tree = DecisionTreeClassifier(random_state=42)"
   ]
  },
  {
   "cell_type": "markdown",
   "metadata": {},
   "source": [
    "### Model optimization"
   ]
  },
  {
   "cell_type": "code",
   "execution_count": 28,
   "metadata": {},
   "outputs": [],
   "source": [
    "from sklearn.model_selection import GridSearchCV"
   ]
  },
  {
   "cell_type": "code",
   "execution_count": 29,
   "metadata": {},
   "outputs": [],
   "source": [
    "param_grid = [\n",
    "  {'criterion': ['gini', 'entropy'], 'splitter': ['best', 'random'], 'max_depth': [100, 1000, None]},\n",
    " ]"
   ]
  },
  {
   "cell_type": "code",
   "execution_count": 30,
   "metadata": {},
   "outputs": [
    {
     "data": {
      "text/plain": [
       "GridSearchCV(cv=5, error_score='raise-deprecating',\n",
       "       estimator=DecisionTreeClassifier(class_weight=None, criterion='gini', max_depth=None,\n",
       "            max_features=None, max_leaf_nodes=None,\n",
       "            min_impurity_decrease=0.0, min_impurity_split=None,\n",
       "            min_samples_leaf=1, min_samples_split=2,\n",
       "            min_weight_fraction_leaf=0.0, presort=False, random_state=42,\n",
       "            splitter='best'),\n",
       "       fit_params=None, iid='warn', n_jobs=None,\n",
       "       param_grid=[{'criterion': ['gini', 'entropy'], 'splitter': ['best', 'random'], 'max_depth': [100, 1000, None]}],\n",
       "       pre_dispatch='2*n_jobs', refit=True, return_train_score='warn',\n",
       "       scoring=None, verbose=0)"
      ]
     },
     "execution_count": 30,
     "metadata": {},
     "output_type": "execute_result"
    }
   ],
   "source": [
    "clf = GridSearchCV(clf_tree, param_grid, cv=5)\n",
    "clf.fit(X_train_enc, Y_train_enc)"
   ]
  },
  {
   "cell_type": "code",
   "execution_count": 31,
   "metadata": {},
   "outputs": [
    {
     "name": "stdout",
     "output_type": "stream",
     "text": [
      "Best parameters set found on development set:\n",
      "\n",
      "{'criterion': 'gini', 'max_depth': 1000, 'splitter': 'best'}\n",
      "\n",
      "Grid scores on development set:\n",
      "\n",
      "0.946 (+/-0.002) for {'criterion': 'gini', 'max_depth': 100, 'splitter': 'best'}\n",
      "0.946 (+/-0.002) for {'criterion': 'gini', 'max_depth': 100, 'splitter': 'random'}\n",
      "0.958 (+/-0.003) for {'criterion': 'gini', 'max_depth': 1000, 'splitter': 'best'}\n",
      "0.958 (+/-0.003) for {'criterion': 'gini', 'max_depth': 1000, 'splitter': 'random'}\n",
      "0.958 (+/-0.003) for {'criterion': 'gini', 'max_depth': None, 'splitter': 'best'}\n",
      "0.958 (+/-0.003) for {'criterion': 'gini', 'max_depth': None, 'splitter': 'random'}\n",
      "0.945 (+/-0.003) for {'criterion': 'entropy', 'max_depth': 100, 'splitter': 'best'}\n",
      "0.945 (+/-0.003) for {'criterion': 'entropy', 'max_depth': 100, 'splitter': 'random'}\n",
      "0.958 (+/-0.003) for {'criterion': 'entropy', 'max_depth': 1000, 'splitter': 'best'}\n",
      "0.958 (+/-0.003) for {'criterion': 'entropy', 'max_depth': 1000, 'splitter': 'random'}\n",
      "0.958 (+/-0.003) for {'criterion': 'entropy', 'max_depth': None, 'splitter': 'best'}\n",
      "0.958 (+/-0.003) for {'criterion': 'entropy', 'max_depth': None, 'splitter': 'random'}\n"
     ]
    }
   ],
   "source": [
    "print(\"Best parameters set found on development set:\")\n",
    "print()\n",
    "print(clf.best_params_)\n",
    "print()\n",
    "print(\"Grid scores on development set:\")\n",
    "print()\n",
    "means = clf.cv_results_['mean_test_score']\n",
    "stds = clf.cv_results_['std_test_score']\n",
    "for mean, std, params in zip(means, stds, clf.cv_results_['params']):\n",
    "    print(\"%0.3f (+/-%0.03f) for %r\" % (mean, std * 2, params))"
   ]
  },
  {
   "cell_type": "markdown",
   "metadata": {},
   "source": [
    "## Classification"
   ]
  },
  {
   "cell_type": "code",
   "execution_count": 32,
   "metadata": {},
   "outputs": [],
   "source": [
    "Y_pred_drugbank = clf.predict(X_test_drugbank_enc)\n",
    "Y_pred_medline = clf.predict(X_test_medline_enc)"
   ]
  },
  {
   "cell_type": "code",
   "execution_count": 33,
   "metadata": {},
   "outputs": [
    {
     "name": "stdout",
     "output_type": "stream",
     "text": [
      "DrugBank score:\n"
     ]
    },
    {
     "data": {
      "text/plain": [
       "0.9483505498167277"
      ]
     },
     "execution_count": 33,
     "metadata": {},
     "output_type": "execute_result"
    }
   ],
   "source": [
    "print(\"DrugBank score:\")\n",
    "clf.score(X_test_drugbank_enc, Y_test_drugbank_enc)"
   ]
  },
  {
   "cell_type": "code",
   "execution_count": 34,
   "metadata": {},
   "outputs": [
    {
     "name": "stdout",
     "output_type": "stream",
     "text": [
      "MedLine score:\n"
     ]
    },
    {
     "data": {
      "text/plain": [
       "0.9725242799037105"
      ]
     },
     "execution_count": 34,
     "metadata": {},
     "output_type": "execute_result"
    }
   ],
   "source": [
    "print(\"MedLine score:\")\n",
    "clf.score(X_test_medline_enc, Y_test_medline_enc)"
   ]
  },
  {
   "cell_type": "code",
   "execution_count": 35,
   "metadata": {},
   "outputs": [
    {
     "name": "stdout",
     "output_type": "stream",
     "text": [
      "DrugBank classification report:\n",
      "              precision    recall  f1-score   support\n",
      "\n",
      "           0       1.00      0.13      0.23        53\n",
      "           1       0.86      0.78      0.82       180\n",
      "           2       0.00      0.00      0.00         6\n",
      "           3       0.64      0.69      0.67        65\n",
      "           4       0.96      0.98      0.97      2697\n",
      "\n",
      "   micro avg       0.95      0.95      0.95      3001\n",
      "   macro avg       0.69      0.52      0.54      3001\n",
      "weighted avg       0.95      0.95      0.94      3001\n",
      "\n"
     ]
    },
    {
     "name": "stderr",
     "output_type": "stream",
     "text": [
      "/Users/lluccardoner/anaconda3/lib/python3.6/site-packages/sklearn/metrics/classification.py:1143: UndefinedMetricWarning: Precision and F-score are ill-defined and being set to 0.0 in labels with no predicted samples.\n",
      "  'precision', 'predicted', average, warn_for)\n"
     ]
    }
   ],
   "source": [
    "from sklearn.metrics import classification_report\n",
    "print(\"DrugBank classification report:\")\n",
    "print(classification_report(Y_test_drugbank_enc, Y_pred_drugbank))"
   ]
  },
  {
   "cell_type": "code",
   "execution_count": 36,
   "metadata": {},
   "outputs": [
    {
     "name": "stdout",
     "output_type": "stream",
     "text": [
      "MedLine classification report:\n",
      "              precision    recall  f1-score   support\n",
      "\n",
      "           0       0.67      0.33      0.44         6\n",
      "           1       0.59      0.64      0.61       171\n",
      "           2       0.55      0.05      0.10       115\n",
      "           3       0.46      0.46      0.46        90\n",
      "           4       0.98      0.99      0.99     11665\n",
      "\n",
      "   micro avg       0.97      0.97      0.97     12047\n",
      "   macro avg       0.65      0.49      0.52     12047\n",
      "weighted avg       0.97      0.97      0.97     12047\n",
      "\n"
     ]
    }
   ],
   "source": [
    "print(\"MedLine classification report:\")\n",
    "print(classification_report(Y_test_medline_enc, Y_pred_medline))"
   ]
  },
  {
   "cell_type": "markdown",
   "metadata": {},
   "source": [
    "### Confusion matrix"
   ]
  },
  {
   "cell_type": "code",
   "execution_count": 37,
   "metadata": {},
   "outputs": [],
   "source": [
    "import numpy as np\n",
    "import matplotlib.pyplot as plt\n",
    "\n",
    "from sklearn import svm, datasets\n",
    "from sklearn.model_selection import train_test_split\n",
    "from sklearn.metrics import confusion_matrix\n",
    "from sklearn.utils.multiclass import unique_labels"
   ]
  },
  {
   "cell_type": "code",
   "execution_count": 38,
   "metadata": {},
   "outputs": [],
   "source": [
    "def plot_confusion_matrix(y_true, y_pred, classes,\n",
    "                          normalize=False,\n",
    "                          title=None,\n",
    "                          cmap=plt.cm.Blues):\n",
    "    \"\"\"\n",
    "    This function prints and plots the confusion matrix.\n",
    "    Normalization can be applied by setting `normalize=True`.\n",
    "    \"\"\"\n",
    "    if not title:\n",
    "        if normalize:\n",
    "            title = 'Normalized confusion matrix'\n",
    "        else:\n",
    "            title = 'Confusion matrix, without normalization'\n",
    "\n",
    "    # Compute confusion matrix\n",
    "    cm = confusion_matrix(y_true, y_pred)\n",
    "    # Only use the labels that appear in the data\n",
    "    classes = classes[unique_labels(y_true, y_pred)]\n",
    "    if normalize:\n",
    "        cm = cm.astype('float') / cm.sum(axis=1)[:, np.newaxis]\n",
    "        print(\"Normalized confusion matrix\")\n",
    "    else:\n",
    "        print('Confusion matrix, without normalization')\n",
    "\n",
    "    #print(cm)\n",
    "\n",
    "    fig, ax = plt.subplots()\n",
    "    im = ax.imshow(cm, interpolation='nearest', cmap=cmap)\n",
    "    ax.figure.colorbar(im, ax=ax)\n",
    "    # We want to show all ticks...\n",
    "    ax.set(xticks=np.arange(cm.shape[1]),\n",
    "           yticks=np.arange(cm.shape[0]),\n",
    "           # ... and label them with the respective list entries\n",
    "           xticklabels=classes, yticklabels=classes,\n",
    "           title=title,\n",
    "           ylabel='True label',\n",
    "           xlabel='Predicted label')\n",
    "\n",
    "    # Rotate the tick labels and set their alignment.\n",
    "    plt.setp(ax.get_xticklabels(), rotation=45, ha=\"right\",\n",
    "             rotation_mode=\"anchor\")\n",
    "\n",
    "    # Loop over data dimensions and create text annotations.\n",
    "    fmt = '.2f' if normalize else 'd'\n",
    "    thresh = cm.max() / 2.\n",
    "    for i in range(cm.shape[0]):\n",
    "        for j in range(cm.shape[1]):\n",
    "            ax.text(j, i, format(cm[i, j], fmt),\n",
    "                    ha=\"center\", va=\"center\",\n",
    "                    color=\"white\" if cm[i, j] > thresh else \"black\")\n",
    "    fig.tight_layout()\n",
    "    return ax"
   ]
  },
  {
   "cell_type": "code",
   "execution_count": 39,
   "metadata": {},
   "outputs": [
    {
     "name": "stdout",
     "output_type": "stream",
     "text": [
      "Confusion matrix, without normalization\n"
     ]
    },
    {
     "data": {
      "image/png": "[encoded data removed]",
      "text/plain": [
       "<Figure size 432x288 with 2 Axes>"
      ]
     },
     "metadata": {},
     "output_type": "display_data"
    }
   ],
   "source": [
    "class_names = le.classes_\n",
    "plot_confusion_matrix(Y_test_drugbank_enc, Y_pred_drugbank, classes=class_names, title=\"DrugBank predictions\")\n",
    "plt.show()"
   ]
  },
  {
   "cell_type": "code",
   "execution_count": 40,
   "metadata": {},
   "outputs": [
    {
     "name": "stdout",
     "output_type": "stream",
     "text": [
      "Confusion matrix, without normalization\n"
     ]
    },
    {
     "data": {
      "image/png": "[encoded data removed]",
      "text/plain": [
       "<Figure size 432x288 with 2 Axes>"
      ]
     },
     "metadata": {},
     "output_type": "display_data"
    }
   ],
   "source": [
    "class_names = le.classes_\n",
    "plot_confusion_matrix(Y_test_medline_enc, Y_pred_medline, classes=class_names, title=\"MedLine predictions\")\n",
    "plt.show()"
   ]
  },
  {
   "cell_type": "markdown",
   "metadata": {},
   "source": [
    "## Detection and classification"
   ]
  },
  {
   "cell_type": "code",
   "execution_count": 41,
   "metadata": {},
   "outputs": [],
   "source": [
    "def parsed_sentence_to_df(parsed):\n",
    "    items = []\n",
    "    for tree in parsed:\n",
    "        for s in tree.getElementsByTagName(\"sentence\"):\n",
    "            s_id = s.attributes[\"id\"].value\n",
    "            s_txt = s.attributes[\"text\"].value            \n",
    "                \n",
    "            tkns = nltk.word_tokenize(s_txt)\n",
    "            start = 0\n",
    "            for tkn in tkns:\n",
    "                    start = s_txt.find(tkn, start) \n",
    "                    end = start + len(tkn) - 1\n",
    "                    item = {\"s_id\": s_id, \"e_name\": tkn, \"e_offset_start\": start, \"e_offset_end\": end}\n",
    "                    items.append(item)\n",
    "                    start += len(tkn)\n",
    "                \n",
    "    return pd.DataFrame(items)\n",
    "\n",
    "def load_unlabeled_data(datadir):\n",
    "    trees = parse_XML_file(datadir)\n",
    "    df_loaded = parsed_sentence_to_df(trees)\n",
    "    return df_loaded"
   ]
  },
  {
   "cell_type": "code",
   "execution_count": 43,
   "metadata": {},
   "outputs": [
    {
     "data": {
      "text/html": [
       "<div>\n",
       "<style scoped>\n",
       "    .dataframe tbody tr th:only-of-type {\n",
       "        vertical-align: middle;\n",
       "    }\n",
       "\n",
       "    .dataframe tbody tr th {\n",
       "        vertical-align: top;\n",
       "    }\n",
       "\n",
       "    .dataframe thead th {\n",
       "        text-align: right;\n",
       "    }\n",
       "</style>\n",
       "<table border=\"1\" class=\"dataframe\">\n",
       "  <thead>\n",
       "    <tr style=\"text-align: right;\">\n",
       "      <th></th>\n",
       "      <th>e_name</th>\n",
       "      <th>e_offset</th>\n",
       "      <th>s_id</th>\n",
       "      <th>e_is_title</th>\n",
       "      <th>e_is_upper</th>\n",
       "      <th>e_suffix</th>\n",
       "      <th>e_plural</th>\n",
       "      <th>e_pos</th>\n",
       "      <th>e_is_digit</th>\n",
       "    </tr>\n",
       "  </thead>\n",
       "  <tbody>\n",
       "    <tr>\n",
       "      <th>0</th>\n",
       "      <td>There</td>\n",
       "      <td>0-4</td>\n",
       "      <td>DDI-DrugBank.d683.s0</td>\n",
       "      <td>True</td>\n",
       "      <td>False</td>\n",
       "      <td>There</td>\n",
       "      <td>False</td>\n",
       "      <td>EX</td>\n",
       "      <td>False</td>\n",
       "    </tr>\n",
       "    <tr>\n",
       "      <th>1</th>\n",
       "      <td>are</td>\n",
       "      <td>6-8</td>\n",
       "      <td>DDI-DrugBank.d683.s0</td>\n",
       "      <td>False</td>\n",
       "      <td>False</td>\n",
       "      <td>are</td>\n",
       "      <td>False</td>\n",
       "      <td>VBP</td>\n",
       "      <td>False</td>\n",
       "    </tr>\n",
       "    <tr>\n",
       "      <th>2</th>\n",
       "      <td>,</td>\n",
       "      <td>9-9</td>\n",
       "      <td>DDI-DrugBank.d683.s0</td>\n",
       "      <td>False</td>\n",
       "      <td>False</td>\n",
       "      <td>,</td>\n",
       "      <td>False</td>\n",
       "      <td>,</td>\n",
       "      <td>False</td>\n",
       "    </tr>\n",
       "    <tr>\n",
       "      <th>3</th>\n",
       "      <td>as</td>\n",
       "      <td>11-12</td>\n",
       "      <td>DDI-DrugBank.d683.s0</td>\n",
       "      <td>False</td>\n",
       "      <td>False</td>\n",
       "      <td>as</td>\n",
       "      <td>True</td>\n",
       "      <td>IN</td>\n",
       "      <td>False</td>\n",
       "    </tr>\n",
       "    <tr>\n",
       "      <th>4</th>\n",
       "      <td>yet</td>\n",
       "      <td>14-16</td>\n",
       "      <td>DDI-DrugBank.d683.s0</td>\n",
       "      <td>False</td>\n",
       "      <td>False</td>\n",
       "      <td>yet</td>\n",
       "      <td>False</td>\n",
       "      <td>RB</td>\n",
       "      <td>False</td>\n",
       "    </tr>\n",
       "  </tbody>\n",
       "</table>\n",
       "</div>"
      ],
      "text/plain": [
       "  e_name e_offset                  s_id  e_is_title  e_is_upper e_suffix  \\\n",
       "0  There      0-4  DDI-DrugBank.d683.s0        True       False    There   \n",
       "1    are      6-8  DDI-DrugBank.d683.s0       False       False      are   \n",
       "2      ,      9-9  DDI-DrugBank.d683.s0       False       False        ,   \n",
       "3     as    11-12  DDI-DrugBank.d683.s0       False       False       as   \n",
       "4    yet    14-16  DDI-DrugBank.d683.s0       False       False      yet   \n",
       "\n",
       "   e_plural e_pos  e_is_digit  \n",
       "0     False    EX       False  \n",
       "1     False   VBP       False  \n",
       "2     False     ,       False  \n",
       "3      True    IN       False  \n",
       "4     False    RB       False  "
      ]
     },
     "execution_count": 43,
     "metadata": {},
     "output_type": "execute_result"
    }
   ],
   "source": [
    "data_drugbank = load_unlabeled_data(dir_test_drugbank)\n",
    "extract_features(data_drugbank)\n",
    "data_drugbank.head()"
   ]
  },
  {
   "cell_type": "code",
   "execution_count": 44,
   "metadata": {},
   "outputs": [
    {
     "data": {
      "text/html": [
       "<div>\n",
       "<style scoped>\n",
       "    .dataframe tbody tr th:only-of-type {\n",
       "        vertical-align: middle;\n",
       "    }\n",
       "\n",
       "    .dataframe tbody tr th {\n",
       "        vertical-align: top;\n",
       "    }\n",
       "\n",
       "    .dataframe thead th {\n",
       "        text-align: right;\n",
       "    }\n",
       "</style>\n",
       "<table border=\"1\" class=\"dataframe\">\n",
       "  <thead>\n",
       "    <tr style=\"text-align: right;\">\n",
       "      <th></th>\n",
       "      <th>e_name</th>\n",
       "      <th>e_offset</th>\n",
       "      <th>s_id</th>\n",
       "      <th>e_is_title</th>\n",
       "      <th>e_is_upper</th>\n",
       "      <th>e_suffix</th>\n",
       "      <th>e_plural</th>\n",
       "      <th>e_pos</th>\n",
       "      <th>e_is_digit</th>\n",
       "    </tr>\n",
       "  </thead>\n",
       "  <tbody>\n",
       "    <tr>\n",
       "      <th>0</th>\n",
       "      <td>Potential</td>\n",
       "      <td>0-8</td>\n",
       "      <td>DDI-MedLine.d203.s0</td>\n",
       "      <td>True</td>\n",
       "      <td>False</td>\n",
       "      <td>ntial</td>\n",
       "      <td>False</td>\n",
       "      <td>JJ</td>\n",
       "      <td>False</td>\n",
       "    </tr>\n",
       "    <tr>\n",
       "      <th>1</th>\n",
       "      <td>underuse</td>\n",
       "      <td>10-17</td>\n",
       "      <td>DDI-MedLine.d203.s0</td>\n",
       "      <td>False</td>\n",
       "      <td>False</td>\n",
       "      <td>eruse</td>\n",
       "      <td>False</td>\n",
       "      <td>NN</td>\n",
       "      <td>False</td>\n",
       "    </tr>\n",
       "    <tr>\n",
       "      <th>2</th>\n",
       "      <td>,</td>\n",
       "      <td>18-18</td>\n",
       "      <td>DDI-MedLine.d203.s0</td>\n",
       "      <td>False</td>\n",
       "      <td>False</td>\n",
       "      <td>,</td>\n",
       "      <td>False</td>\n",
       "      <td>,</td>\n",
       "      <td>False</td>\n",
       "    </tr>\n",
       "    <tr>\n",
       "      <th>3</th>\n",
       "      <td>overuse</td>\n",
       "      <td>20-26</td>\n",
       "      <td>DDI-MedLine.d203.s0</td>\n",
       "      <td>False</td>\n",
       "      <td>False</td>\n",
       "      <td>eruse</td>\n",
       "      <td>False</td>\n",
       "      <td>NN</td>\n",
       "      <td>False</td>\n",
       "    </tr>\n",
       "    <tr>\n",
       "      <th>4</th>\n",
       "      <td>,</td>\n",
       "      <td>18-18</td>\n",
       "      <td>DDI-MedLine.d203.s0</td>\n",
       "      <td>False</td>\n",
       "      <td>False</td>\n",
       "      <td>,</td>\n",
       "      <td>False</td>\n",
       "      <td>,</td>\n",
       "      <td>False</td>\n",
       "    </tr>\n",
       "  </tbody>\n",
       "</table>\n",
       "</div>"
      ],
      "text/plain": [
       "      e_name e_offset                 s_id  e_is_title  e_is_upper e_suffix  \\\n",
       "0  Potential      0-8  DDI-MedLine.d203.s0        True       False    ntial   \n",
       "1   underuse    10-17  DDI-MedLine.d203.s0       False       False    eruse   \n",
       "2          ,    18-18  DDI-MedLine.d203.s0       False       False        ,   \n",
       "3    overuse    20-26  DDI-MedLine.d203.s0       False       False    eruse   \n",
       "4          ,    18-18  DDI-MedLine.d203.s0       False       False        ,   \n",
       "\n",
       "   e_plural e_pos  e_is_digit  \n",
       "0     False    JJ       False  \n",
       "1     False    NN       False  \n",
       "2     False     ,       False  \n",
       "3     False    NN       False  \n",
       "4     False     ,       False  "
      ]
     },
     "execution_count": 44,
     "metadata": {},
     "output_type": "execute_result"
    }
   ],
   "source": [
    "data_medline = load_unlabeled_data(dir_test_medline)\n",
    "extract_features(data_medline)\n",
    "data_medline.head()"
   ]
  },
  {
   "cell_type": "code",
   "execution_count": 47,
   "metadata": {},
   "outputs": [],
   "source": [
    "def save_output(data_df, file_name):\n",
    "    with open(file_name, \"w\") as text_file:\n",
    "        for index, row in data_df.iterrows():\n",
    "            X = np.array(row[3:])\n",
    "            encoded = enc.transform([X])\n",
    "            prediction = clf.predict(encoded)\n",
    "            label = le.inverse_transform(prediction)[0]\n",
    "            if label != \"not_drug\":\n",
    "                print(row[\"s_id\"], row[\"e_offset\"], row[\"e_name\"], label, sep=\"|\", file=text_file)"
   ]
  },
  {
   "cell_type": "code",
   "execution_count": 48,
   "metadata": {},
   "outputs": [],
   "source": [
    "save_output(data_medline, \"task9.1_TREE1_medline_2.txt\")\n",
    "save_output(data_drugbank, \"task9.1_TREE1_drugbank_2.txt\")"
   ]
  },
  {
   "cell_type": "code",
   "execution_count": null,
   "metadata": {},
   "outputs": [],
   "source": []
  }
 ],
 "metadata": {
  "kernelspec": {
   "display_name": "Python 3",
   "language": "python",
   "name": "python3"
  },
  "language_info": {
   "codemirror_mode": {
    "name": "ipython",
    "version": 3
   },
   "file_extension": ".py",
   "mimetype": "text/x-python",
   "name": "python",
   "nbconvert_exporter": "python",
   "pygments_lexer": "ipython3",
   "version": "3.6.8"
  }
 },
 "nbformat": 4,
 "nbformat_minor": 2
}
