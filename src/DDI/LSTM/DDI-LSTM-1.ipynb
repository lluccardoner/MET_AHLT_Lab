{
 "cells": [
  {
   "cell_type": "markdown",
   "metadata": {},
   "source": [
    "# Drug Drug Interaction \n",
    "\n",
    "For each entity in a sentence, see if it has interaction with another entitiy in the sentence and of which type."
   ]
  },
  {
   "cell_type": "markdown",
   "metadata": {},
   "source": [
    "## Table of contents\n",
    "\n",
    "1. [Anonymizing the data](#1)\n",
    "2. [Word embeding](#2)\n",
    "3. [LSTM](#3)\n",
    "4. [Make predictions](#4)"
   ]
  },
  {
   "cell_type": "code",
   "execution_count": 94,
   "metadata": {},
   "outputs": [
    {
     "name": "stdout",
     "output_type": "stream",
     "text": [
      "The keras version is 2.2.4.\n",
      "The nltk version is 0.21.1.\n",
      "The gensim version is 3.4.0.\n"
     ]
    }
   ],
   "source": [
    "import sys\n",
    "from os import listdir\n",
    "import os\n",
    "\n",
    "from xml.dom.minidom import parse\n",
    "\n",
    "import pandas as pd\n",
    "import numpy as np\n",
    "\n",
    "import nltk\n",
    "from nltk.tokenize import word_tokenize\n",
    "\n",
    "import matplotlib.pyplot as plt\n",
    "\n",
    "import sklearn\n",
    "from sklearn import preprocessing\n",
    "\n",
    "import gensim \n",
    "from gensim.models import Word2Vec\n",
    "\n",
    "import keras\n",
    "from keras.models import Sequential\n",
    "from keras.layers import Dense, LSTM, Activation, Bidirectional, Dropout\n",
    "\n",
    "print('The keras version is {}.'.format(keras.__version__))\n",
    "print('The nltk version is {}.'.format(sklearn.__version__))\n",
    "print('The gensim version is {}.'.format(gensim.__version__))"
   ]
  },
  {
   "cell_type": "code",
   "execution_count": 2,
   "metadata": {},
   "outputs": [],
   "source": [
    "dir_train_medline = \"/Users/lluccardoner/PycharmProjects/MET_AHLT_Lab_2019/data/Train/MedLine/\"\n",
    "dir_train_drugbank = \"/Users/lluccardoner/PycharmProjects/MET_AHLT_Lab_2019/data/Train/DrugBank/\""
   ]
  },
  {
   "cell_type": "code",
   "execution_count": 3,
   "metadata": {},
   "outputs": [],
   "source": [
    "dir_test_medline = \"/Users/lluccardoner/PycharmProjects/MET_AHLT_Lab_2019/data/Test-DDI/MedLine/\"\n",
    "dir_test_drugbank = \"/Users/lluccardoner/PycharmProjects/MET_AHLT_Lab_2019/data/Test-DDI/DrugBank/\""
   ]
  },
  {
   "cell_type": "markdown",
   "metadata": {},
   "source": [
    "## Anonymizing the data <a name=\"1\"></a>\n",
    "\n",
    "For each pair of entities in a sentence, sustitue the entity names with dummy names."
   ]
  },
  {
   "cell_type": "code",
   "execution_count": 4,
   "metadata": {},
   "outputs": [],
   "source": [
    "def get_dummy_text(txt, ents, e1, e2, error=False, debug=False):\n",
    "    try:\n",
    "        d = txt\n",
    "        diff = 0\n",
    "        for e in ents: \n",
    "            e_start = int(ents[e][0]) - diff\n",
    "            e_end = int(ents[e][1]) - diff \n",
    "            e_len = e_end - e_start + 1\n",
    "\n",
    "            if e==e1: \n",
    "                dummy = \"drug01\"\n",
    "            elif e==e2:\n",
    "                dummy = \"drug02\"\n",
    "            else:\n",
    "                dummy= \"drug00\"\n",
    "            \n",
    "            d = d[:e_start] + dummy + d[e_end+1:]\n",
    "            if debug:\n",
    "                print(diff, e_start, e_end, e_len)\n",
    "                print(d, end = \"\\n\\n\")\n",
    "            diff = diff  + (e_len - len(dummy))\n",
    "        return d\n",
    "    except Exception as ex:\n",
    "        if error:\n",
    "            print(e + ': ' + str(ex))"
   ]
  },
  {
   "cell_type": "code",
   "execution_count": 5,
   "metadata": {},
   "outputs": [
    {
     "data": {
      "text/plain": [
       "'Pharmacokinetic properties of drug00 were not altered by the addition of either drug01 or drug00 or the combination of drug02 and drug00.'"
      ]
     },
     "execution_count": 5,
     "metadata": {},
     "output_type": "execute_result"
    }
   ],
   "source": [
    "# Test the function\n",
    "s_txt = \"Pharmacokinetic properties of abacavir were not altered by the addition of either lamivudine or zidovudine or the combination of lamivudine and zidovudine.\" \n",
    "d = {'1': ['30', '37'], '2': ['82', '91'], '3': ['96', '105'], '4': ['129', '138'], '5': ['144', '153'], } \n",
    "e1 = \"2\"\n",
    "e2 = \"4\"\n",
    "\n",
    "get_dummy_text(s_txt, d, e1, e2)"
   ]
  },
  {
   "cell_type": "code",
   "execution_count": 6,
   "metadata": {},
   "outputs": [],
   "source": [
    "pairs_list = []\n",
    "for d in [dir_train_drugbank, dir_train_medline]:\n",
    "    for f in listdir(d):\n",
    "        tree = parse(d + \"/\" + f)\n",
    "        sentences = tree.getElementsByTagName(\"sentence\")\n",
    "        for s in sentences:\n",
    "            s_id = s.attributes[\"id\"].value\n",
    "            s_text = s.attributes[\"text\"].value\n",
    "\n",
    "            entities = {}\n",
    "            ents = s.getElementsByTagName(\"entity\")\n",
    "            for e in ents:\n",
    "                e_id = e.attributes[\"id\"].value\n",
    "                e_offs = e.attributes[\"charOffset\"].value.split(\";\")[-1].split(\"-\") # When two, offsets pick the second one\n",
    "                entities[e_id] = e_offs\n",
    "\n",
    "            pairs = s.getElementsByTagName(\"pair\")\n",
    "            for p in pairs:\n",
    "                p_id = p.attributes[\"id\"].value\n",
    "                e1_id = p.attributes[\"e1\"].value\n",
    "                e2_id = p.attributes[\"e2\"].value\n",
    "                is_ddi = p.attributes[\"ddi\"].value\n",
    "                \n",
    "                ddi = 1 if is_ddi==\"true\" else 0 \n",
    "                ddi_type = p.attributes[\"type\"].value if is_ddi==\"true\" and \"type\" in p.attributes else \"null\"\n",
    "                \n",
    "                s_dummy = get_dummy_text(s_text, entities, e1_id, e2_id)\n",
    "                s_dummy = 'SOS '+s_dummy+ ' EOS'\n",
    "                \n",
    "                pair_item = {\"p_id\":p_id, \"e1_id\":e1_id, \"e2_id\":e2_id, \"ddi\":ddi, \"ddi_type\": ddi_type, \n",
    "                             \"e1_offs\":entities[e1_id], \"e2_offs\":entities[e2_id], \"s_id\":s_id, \"s_text\":s_text,\n",
    "                             \"s_dir\":d, \"set\":d.split(\"/\")[-2], \"s_file\":f,\n",
    "                             \"s_text_dummy\": s_dummy}\n",
    "                pairs_list.append(pair_item)\n",
    "        \n",
    "df_train = pd.DataFrame(pairs_list)"
   ]
  },
  {
   "cell_type": "code",
   "execution_count": 7,
   "metadata": {},
   "outputs": [
    {
     "data": {
      "text/plain": [
       "set       ddi_type \n",
       "DrugBank  null         22217\n",
       "          effect        1535\n",
       "          mechanism     1257\n",
       "          advise         818\n",
       "          int            178\n",
       "MedLine   null          1555\n",
       "          effect         152\n",
       "          mechanism       62\n",
       "          int             10\n",
       "          advise           8\n",
       "Name: ddi_type, dtype: int64"
      ]
     },
     "execution_count": 7,
     "metadata": {},
     "output_type": "execute_result"
    }
   ],
   "source": [
    "df_train[[\"ddi_type\", \"set\"]].groupby([\"set\"])['ddi_type'].value_counts()"
   ]
  },
  {
   "cell_type": "markdown",
   "metadata": {},
   "source": [
    "The parsing of the offset is not right for all elements. Some entities have an offset like [94, 97;114, 121]"
   ]
  },
  {
   "cell_type": "code",
   "execution_count": 8,
   "metadata": {
    "scrolled": false
   },
   "outputs": [
    {
     "data": {
      "text/html": [
       "<div>\n",
       "<style scoped>\n",
       "    .dataframe tbody tr th:only-of-type {\n",
       "        vertical-align: middle;\n",
       "    }\n",
       "\n",
       "    .dataframe tbody tr th {\n",
       "        vertical-align: top;\n",
       "    }\n",
       "\n",
       "    .dataframe thead th {\n",
       "        text-align: right;\n",
       "    }\n",
       "</style>\n",
       "<table border=\"1\" class=\"dataframe\">\n",
       "  <thead>\n",
       "    <tr style=\"text-align: right;\">\n",
       "      <th></th>\n",
       "      <th>ddi</th>\n",
       "      <th>ddi_type</th>\n",
       "      <th>e1_id</th>\n",
       "      <th>e1_offs</th>\n",
       "      <th>e2_id</th>\n",
       "      <th>e2_offs</th>\n",
       "      <th>p_id</th>\n",
       "      <th>s_dir</th>\n",
       "      <th>s_file</th>\n",
       "      <th>s_id</th>\n",
       "      <th>s_text</th>\n",
       "      <th>s_text_dummy</th>\n",
       "      <th>set</th>\n",
       "    </tr>\n",
       "  </thead>\n",
       "  <tbody>\n",
       "    <tr>\n",
       "      <th>2317</th>\n",
       "      <td>0</td>\n",
       "      <td>null</td>\n",
       "      <td>DDI-DrugBank.d314.s30.e2</td>\n",
       "      <td>[114, 121]</td>\n",
       "      <td>DDI-DrugBank.d314.s30.e3</td>\n",
       "      <td>[102, 121]</td>\n",
       "      <td>DDI-DrugBank.d314.s30.p5</td>\n",
       "      <td>/Users/lluccardoner/PycharmProjects/MET_AHLT_L...</td>\n",
       "      <td>Dexamethasone_ddi.xml</td>\n",
       "      <td>DDI-DrugBank.d314.s30</td>\n",
       "      <td>Vaccines: Patients on corticosteroid therapy m...</td>\n",
       "      <td>SOS drug00: Patients on drug00 therapy may exh...</td>\n",
       "      <td>DrugBank</td>\n",
       "    </tr>\n",
       "  </tbody>\n",
       "</table>\n",
       "</div>"
      ],
      "text/plain": [
       "      ddi ddi_type                     e1_id     e1_offs  \\\n",
       "2317    0     null  DDI-DrugBank.d314.s30.e2  [114, 121]   \n",
       "\n",
       "                         e2_id     e2_offs                      p_id  \\\n",
       "2317  DDI-DrugBank.d314.s30.e3  [102, 121]  DDI-DrugBank.d314.s30.p5   \n",
       "\n",
       "                                                  s_dir  \\\n",
       "2317  /Users/lluccardoner/PycharmProjects/MET_AHLT_L...   \n",
       "\n",
       "                     s_file                   s_id  \\\n",
       "2317  Dexamethasone_ddi.xml  DDI-DrugBank.d314.s30   \n",
       "\n",
       "                                                 s_text  \\\n",
       "2317  Vaccines: Patients on corticosteroid therapy m...   \n",
       "\n",
       "                                           s_text_dummy       set  \n",
       "2317  SOS drug00: Patients on drug00 therapy may exh...  DrugBank  "
      ]
     },
     "execution_count": 8,
     "metadata": {},
     "output_type": "execute_result"
    }
   ],
   "source": [
    "df_train[df_train[\"e1_id\"]==\"DDI-DrugBank.d314.s30.e2\"]"
   ]
  },
  {
   "cell_type": "code",
   "execution_count": 9,
   "metadata": {},
   "outputs": [
    {
     "data": {
      "text/plain": [
       "0"
      ]
     },
     "execution_count": 9,
     "metadata": {},
     "output_type": "execute_result"
    }
   ],
   "source": [
    "df_train[df_train['s_text_dummy'].isnull()].size"
   ]
  },
  {
   "cell_type": "markdown",
   "metadata": {},
   "source": [
    "## Word embeding <a name=\"2\"></a>\n",
    "\n",
    "Train a word2vec model with the data"
   ]
  },
  {
   "cell_type": "code",
   "execution_count": 10,
   "metadata": {
    "scrolled": true
   },
   "outputs": [],
   "source": [
    "df_train['tokens'] = df_train['s_text_dummy'].apply(word_tokenize)"
   ]
  },
  {
   "cell_type": "code",
   "execution_count": 11,
   "metadata": {},
   "outputs": [
    {
     "data": {
      "text/plain": [
       "27792"
      ]
     },
     "execution_count": 11,
     "metadata": {},
     "output_type": "execute_result"
    }
   ],
   "source": [
    "data = df_train['tokens'].tolist()\n",
    "len(data)"
   ]
  },
  {
   "cell_type": "code",
   "execution_count": 12,
   "metadata": {},
   "outputs": [],
   "source": [
    "data.append([\"<UNK>\"])"
   ]
  },
  {
   "cell_type": "code",
   "execution_count": 13,
   "metadata": {},
   "outputs": [
    {
     "data": {
      "text/plain": [
       "['<UNK>']"
      ]
     },
     "execution_count": 13,
     "metadata": {},
     "output_type": "execute_result"
    }
   ],
   "source": [
    "data[27792]"
   ]
  },
  {
   "cell_type": "code",
   "execution_count": 14,
   "metadata": {},
   "outputs": [],
   "source": [
    "# https://radimrehurek.com/gensim/models/word2vec.html#gensim.models.word2vec.Word2Vec\n",
    "model1 = Word2Vec(data, min_count = 1, window=5, size = 100)"
   ]
  },
  {
   "cell_type": "code",
   "execution_count": 15,
   "metadata": {},
   "outputs": [
    {
     "data": {
      "text/plain": [
       "array([ 3.1045335e-03, -3.0831136e-03, -1.8168261e-03,  3.0124178e-03,\n",
       "        3.0507727e-03, -1.3032128e-03,  4.6681268e-03,  3.1267668e-04,\n",
       "        4.9575362e-03, -1.2362412e-03,  4.0310407e-03, -1.9815275e-03,\n",
       "       -3.6951753e-03, -1.8906759e-03, -2.8895999e-03, -4.7031506e-03,\n",
       "       -3.2333347e-03, -4.4047507e-03,  4.7363848e-03, -1.3500651e-03,\n",
       "        3.6996533e-03, -7.4092578e-04, -2.4955223e-05,  4.6875034e-03,\n",
       "       -4.3495139e-03,  4.6076286e-03, -1.6598671e-04,  1.7961287e-03,\n",
       "       -1.6571211e-03,  8.7277684e-04,  3.9973161e-03, -7.5203384e-04,\n",
       "       -4.2100912e-03,  2.0463571e-03,  2.8150494e-03,  5.8604468e-04,\n",
       "       -4.0845545e-03, -3.7613420e-03,  3.7433105e-03, -3.5356553e-04,\n",
       "       -1.0327895e-03,  2.8966737e-03, -4.6253391e-03,  2.7486794e-03,\n",
       "       -2.8142082e-03, -4.5183445e-03,  5.2749476e-04,  1.8142832e-03,\n",
       "       -2.1647424e-03, -2.4837621e-03, -1.0830786e-03,  1.0164224e-03,\n",
       "       -1.9588579e-04, -1.7353829e-03, -9.5477246e-04,  3.6485991e-03,\n",
       "        2.3398064e-03, -1.6925285e-03, -1.1517433e-03,  4.0831231e-03,\n",
       "       -2.6429154e-03,  4.8393230e-03,  4.4266367e-03,  4.3690139e-03,\n",
       "        4.4852342e-03, -1.4858246e-04, -5.1748520e-04,  4.6729501e-03,\n",
       "        3.2217517e-03, -5.0161954e-04,  2.3024927e-03, -1.2747281e-03,\n",
       "        1.4486617e-03, -1.7721392e-04,  9.2251954e-04,  3.5609303e-03,\n",
       "       -2.8711555e-03,  2.7904729e-03, -1.4821818e-03,  3.4446083e-03,\n",
       "       -3.8030671e-04,  3.5086062e-03,  3.5612276e-03, -4.3126205e-03,\n",
       "       -9.8544930e-04,  2.0300201e-03, -4.4995402e-03,  3.3246600e-03,\n",
       "        3.2360942e-04, -2.0441478e-04, -1.4159588e-04, -4.4690492e-03,\n",
       "        2.0684970e-04, -2.9106704e-03,  9.4471575e-04, -2.7431799e-03,\n",
       "        2.3064024e-03, -3.9879018e-03,  2.2415724e-04, -4.8513357e-03],\n",
       "      dtype=float32)"
      ]
     },
     "execution_count": 15,
     "metadata": {},
     "output_type": "execute_result"
    }
   ],
   "source": [
    "model1.wv[\"<UNK>\"]"
   ]
  },
  {
   "cell_type": "code",
   "execution_count": 16,
   "metadata": {},
   "outputs": [],
   "source": [
    "df_train['tokens_enc'] = df_train['tokens'].apply(lambda x: [model1.wv[word] for word in x])"
   ]
  },
  {
   "cell_type": "code",
   "execution_count": 17,
   "metadata": {
    "scrolled": true
   },
   "outputs": [
    {
     "data": {
      "text/html": [
       "<div>\n",
       "<style scoped>\n",
       "    .dataframe tbody tr th:only-of-type {\n",
       "        vertical-align: middle;\n",
       "    }\n",
       "\n",
       "    .dataframe tbody tr th {\n",
       "        vertical-align: top;\n",
       "    }\n",
       "\n",
       "    .dataframe thead th {\n",
       "        text-align: right;\n",
       "    }\n",
       "</style>\n",
       "<table border=\"1\" class=\"dataframe\">\n",
       "  <thead>\n",
       "    <tr style=\"text-align: right;\">\n",
       "      <th></th>\n",
       "      <th>tokens</th>\n",
       "      <th>tokens_enc</th>\n",
       "    </tr>\n",
       "  </thead>\n",
       "  <tbody>\n",
       "    <tr>\n",
       "      <th>0</th>\n",
       "      <td>[SOS, Milk, ,, milk, products, ,, and, drug01-...</td>\n",
       "      <td>[[0.5819571, 0.9497496, -1.6383795, -1.5564011...</td>\n",
       "    </tr>\n",
       "    <tr>\n",
       "      <th>1</th>\n",
       "      <td>[SOS, The, concurrent, administration, of, dru...</td>\n",
       "      <td>[[0.5819571, 0.9497496, -1.6383795, -1.5564011...</td>\n",
       "    </tr>\n",
       "  </tbody>\n",
       "</table>\n",
       "</div>"
      ],
      "text/plain": [
       "                                              tokens  \\\n",
       "0  [SOS, Milk, ,, milk, products, ,, and, drug01-...   \n",
       "1  [SOS, The, concurrent, administration, of, dru...   \n",
       "\n",
       "                                          tokens_enc  \n",
       "0  [[0.5819571, 0.9497496, -1.6383795, -1.5564011...  \n",
       "1  [[0.5819571, 0.9497496, -1.6383795, -1.5564011...  "
      ]
     },
     "execution_count": 17,
     "metadata": {},
     "output_type": "execute_result"
    }
   ],
   "source": [
    "df_train[['tokens', 'tokens_enc']].head(2)"
   ]
  },
  {
   "cell_type": "markdown",
   "metadata": {},
   "source": [
    "## LSTM <a name=\"3\"></a>\n",
    "\n",
    "Train a LSTM with the word vectors."
   ]
  },
  {
   "cell_type": "code",
   "execution_count": 18,
   "metadata": {},
   "outputs": [
    {
     "data": {
      "text/html": [
       "<div>\n",
       "<style scoped>\n",
       "    .dataframe tbody tr th:only-of-type {\n",
       "        vertical-align: middle;\n",
       "    }\n",
       "\n",
       "    .dataframe tbody tr th {\n",
       "        vertical-align: top;\n",
       "    }\n",
       "\n",
       "    .dataframe thead th {\n",
       "        text-align: right;\n",
       "    }\n",
       "</style>\n",
       "<table border=\"1\" class=\"dataframe\">\n",
       "  <thead>\n",
       "    <tr style=\"text-align: right;\">\n",
       "      <th></th>\n",
       "      <th>ddi</th>\n",
       "      <th>ddi_type</th>\n",
       "      <th>e1_id</th>\n",
       "      <th>e1_offs</th>\n",
       "      <th>e2_id</th>\n",
       "      <th>e2_offs</th>\n",
       "      <th>p_id</th>\n",
       "      <th>s_dir</th>\n",
       "      <th>s_file</th>\n",
       "      <th>s_id</th>\n",
       "      <th>s_text</th>\n",
       "      <th>s_text_dummy</th>\n",
       "      <th>set</th>\n",
       "      <th>tokens</th>\n",
       "      <th>tokens_enc</th>\n",
       "    </tr>\n",
       "  </thead>\n",
       "  <tbody>\n",
       "    <tr>\n",
       "      <th>0</th>\n",
       "      <td>1</td>\n",
       "      <td>mechanism</td>\n",
       "      <td>DDI-DrugBank.d481.s0.e0</td>\n",
       "      <td>[25, 31]</td>\n",
       "      <td>DDI-DrugBank.d481.s0.e1</td>\n",
       "      <td>[82, 86]</td>\n",
       "      <td>DDI-DrugBank.d481.s0.p0</td>\n",
       "      <td>/Users/lluccardoner/PycharmProjects/MET_AHLT_L...</td>\n",
       "      <td>Estramustine_ddi.xml</td>\n",
       "      <td>DDI-DrugBank.d481.s0</td>\n",
       "      <td>Milk, milk products, and calcium-rich foods or...</td>\n",
       "      <td>SOS Milk, milk products, and drug01-rich foods...</td>\n",
       "      <td>DrugBank</td>\n",
       "      <td>[SOS, Milk, ,, milk, products, ,, and, drug01-...</td>\n",
       "      <td>[[0.5819571, 0.9497496, -1.6383795, -1.5564011...</td>\n",
       "    </tr>\n",
       "    <tr>\n",
       "      <th>1</th>\n",
       "      <td>1</td>\n",
       "      <td>effect</td>\n",
       "      <td>DDI-DrugBank.d419.s0.e0</td>\n",
       "      <td>[33, 43]</td>\n",
       "      <td>DDI-DrugBank.d419.s0.e1</td>\n",
       "      <td>[49, 58]</td>\n",
       "      <td>DDI-DrugBank.d419.s0.p0</td>\n",
       "      <td>/Users/lluccardoner/PycharmProjects/MET_AHLT_L...</td>\n",
       "      <td>Clavulanate_ddi.xml</td>\n",
       "      <td>DDI-DrugBank.d419.s0</td>\n",
       "      <td>The concurrent administration of allopurinol a...</td>\n",
       "      <td>SOS The concurrent administration of drug01 an...</td>\n",
       "      <td>DrugBank</td>\n",
       "      <td>[SOS, The, concurrent, administration, of, dru...</td>\n",
       "      <td>[[0.5819571, 0.9497496, -1.6383795, -1.5564011...</td>\n",
       "    </tr>\n",
       "    <tr>\n",
       "      <th>2</th>\n",
       "      <td>0</td>\n",
       "      <td>null</td>\n",
       "      <td>DDI-DrugBank.d419.s0.e0</td>\n",
       "      <td>[33, 43]</td>\n",
       "      <td>DDI-DrugBank.d419.s0.e2</td>\n",
       "      <td>[175, 184]</td>\n",
       "      <td>DDI-DrugBank.d419.s0.p1</td>\n",
       "      <td>/Users/lluccardoner/PycharmProjects/MET_AHLT_L...</td>\n",
       "      <td>Clavulanate_ddi.xml</td>\n",
       "      <td>DDI-DrugBank.d419.s0</td>\n",
       "      <td>The concurrent administration of allopurinol a...</td>\n",
       "      <td>SOS The concurrent administration of drug01 an...</td>\n",
       "      <td>DrugBank</td>\n",
       "      <td>[SOS, The, concurrent, administration, of, dru...</td>\n",
       "      <td>[[0.5819571, 0.9497496, -1.6383795, -1.5564011...</td>\n",
       "    </tr>\n",
       "    <tr>\n",
       "      <th>3</th>\n",
       "      <td>0</td>\n",
       "      <td>null</td>\n",
       "      <td>DDI-DrugBank.d419.s0.e1</td>\n",
       "      <td>[49, 58]</td>\n",
       "      <td>DDI-DrugBank.d419.s0.e2</td>\n",
       "      <td>[175, 184]</td>\n",
       "      <td>DDI-DrugBank.d419.s0.p2</td>\n",
       "      <td>/Users/lluccardoner/PycharmProjects/MET_AHLT_L...</td>\n",
       "      <td>Clavulanate_ddi.xml</td>\n",
       "      <td>DDI-DrugBank.d419.s0</td>\n",
       "      <td>The concurrent administration of allopurinol a...</td>\n",
       "      <td>SOS The concurrent administration of drug00 an...</td>\n",
       "      <td>DrugBank</td>\n",
       "      <td>[SOS, The, concurrent, administration, of, dru...</td>\n",
       "      <td>[[0.5819571, 0.9497496, -1.6383795, -1.5564011...</td>\n",
       "    </tr>\n",
       "    <tr>\n",
       "      <th>4</th>\n",
       "      <td>1</td>\n",
       "      <td>effect</td>\n",
       "      <td>DDI-DrugBank.d419.s1.e0</td>\n",
       "      <td>[45, 54]</td>\n",
       "      <td>DDI-DrugBank.d419.s1.e1</td>\n",
       "      <td>[73, 83]</td>\n",
       "      <td>DDI-DrugBank.d419.s1.p0</td>\n",
       "      <td>/Users/lluccardoner/PycharmProjects/MET_AHLT_L...</td>\n",
       "      <td>Clavulanate_ddi.xml</td>\n",
       "      <td>DDI-DrugBank.d419.s1</td>\n",
       "      <td>It is not known whether this potentiation of a...</td>\n",
       "      <td>SOS It is not known whether this potentiation ...</td>\n",
       "      <td>DrugBank</td>\n",
       "      <td>[SOS, It, is, not, known, whether, this, poten...</td>\n",
       "      <td>[[0.5819571, 0.9497496, -1.6383795, -1.5564011...</td>\n",
       "    </tr>\n",
       "  </tbody>\n",
       "</table>\n",
       "</div>"
      ],
      "text/plain": [
       "   ddi   ddi_type                    e1_id   e1_offs                    e2_id  \\\n",
       "0    1  mechanism  DDI-DrugBank.d481.s0.e0  [25, 31]  DDI-DrugBank.d481.s0.e1   \n",
       "1    1     effect  DDI-DrugBank.d419.s0.e0  [33, 43]  DDI-DrugBank.d419.s0.e1   \n",
       "2    0       null  DDI-DrugBank.d419.s0.e0  [33, 43]  DDI-DrugBank.d419.s0.e2   \n",
       "3    0       null  DDI-DrugBank.d419.s0.e1  [49, 58]  DDI-DrugBank.d419.s0.e2   \n",
       "4    1     effect  DDI-DrugBank.d419.s1.e0  [45, 54]  DDI-DrugBank.d419.s1.e1   \n",
       "\n",
       "      e2_offs                     p_id  \\\n",
       "0    [82, 86]  DDI-DrugBank.d481.s0.p0   \n",
       "1    [49, 58]  DDI-DrugBank.d419.s0.p0   \n",
       "2  [175, 184]  DDI-DrugBank.d419.s0.p1   \n",
       "3  [175, 184]  DDI-DrugBank.d419.s0.p2   \n",
       "4    [73, 83]  DDI-DrugBank.d419.s1.p0   \n",
       "\n",
       "                                               s_dir                s_file  \\\n",
       "0  /Users/lluccardoner/PycharmProjects/MET_AHLT_L...  Estramustine_ddi.xml   \n",
       "1  /Users/lluccardoner/PycharmProjects/MET_AHLT_L...   Clavulanate_ddi.xml   \n",
       "2  /Users/lluccardoner/PycharmProjects/MET_AHLT_L...   Clavulanate_ddi.xml   \n",
       "3  /Users/lluccardoner/PycharmProjects/MET_AHLT_L...   Clavulanate_ddi.xml   \n",
       "4  /Users/lluccardoner/PycharmProjects/MET_AHLT_L...   Clavulanate_ddi.xml   \n",
       "\n",
       "                   s_id                                             s_text  \\\n",
       "0  DDI-DrugBank.d481.s0  Milk, milk products, and calcium-rich foods or...   \n",
       "1  DDI-DrugBank.d419.s0  The concurrent administration of allopurinol a...   \n",
       "2  DDI-DrugBank.d419.s0  The concurrent administration of allopurinol a...   \n",
       "3  DDI-DrugBank.d419.s0  The concurrent administration of allopurinol a...   \n",
       "4  DDI-DrugBank.d419.s1  It is not known whether this potentiation of a...   \n",
       "\n",
       "                                        s_text_dummy       set  \\\n",
       "0  SOS Milk, milk products, and drug01-rich foods...  DrugBank   \n",
       "1  SOS The concurrent administration of drug01 an...  DrugBank   \n",
       "2  SOS The concurrent administration of drug01 an...  DrugBank   \n",
       "3  SOS The concurrent administration of drug00 an...  DrugBank   \n",
       "4  SOS It is not known whether this potentiation ...  DrugBank   \n",
       "\n",
       "                                              tokens  \\\n",
       "0  [SOS, Milk, ,, milk, products, ,, and, drug01-...   \n",
       "1  [SOS, The, concurrent, administration, of, dru...   \n",
       "2  [SOS, The, concurrent, administration, of, dru...   \n",
       "3  [SOS, The, concurrent, administration, of, dru...   \n",
       "4  [SOS, It, is, not, known, whether, this, poten...   \n",
       "\n",
       "                                          tokens_enc  \n",
       "0  [[0.5819571, 0.9497496, -1.6383795, -1.5564011...  \n",
       "1  [[0.5819571, 0.9497496, -1.6383795, -1.5564011...  \n",
       "2  [[0.5819571, 0.9497496, -1.6383795, -1.5564011...  \n",
       "3  [[0.5819571, 0.9497496, -1.6383795, -1.5564011...  \n",
       "4  [[0.5819571, 0.9497496, -1.6383795, -1.5564011...  "
      ]
     },
     "execution_count": 18,
     "metadata": {},
     "output_type": "execute_result"
    }
   ],
   "source": [
    "df_train.head(5)"
   ]
  },
  {
   "cell_type": "code",
   "execution_count": 19,
   "metadata": {},
   "outputs": [
    {
     "data": {
      "text/plain": [
       "(27792,)"
      ]
     },
     "execution_count": 19,
     "metadata": {},
     "output_type": "execute_result"
    }
   ],
   "source": [
    "Ys = df_train['ddi_type']\n",
    "Ys.shape"
   ]
  },
  {
   "cell_type": "code",
   "execution_count": 20,
   "metadata": {},
   "outputs": [
    {
     "name": "stdout",
     "output_type": "stream",
     "text": [
      "Classes: ['advise' 'effect' 'int' 'mechanism' 'null']\n"
     ]
    }
   ],
   "source": [
    "le = preprocessing.LabelEncoder()\n",
    "le.fit(Ys)\n",
    "print(\"Classes:\",le.classes_)"
   ]
  },
  {
   "cell_type": "code",
   "execution_count": 21,
   "metadata": {},
   "outputs": [],
   "source": [
    "df_train['ddi_type_enc'] = df_train['ddi_type'].apply(lambda x: le.transform([x]) )"
   ]
  },
  {
   "cell_type": "code",
   "execution_count": 22,
   "metadata": {},
   "outputs": [
    {
     "data": {
      "text/html": [
       "<div>\n",
       "<style scoped>\n",
       "    .dataframe tbody tr th:only-of-type {\n",
       "        vertical-align: middle;\n",
       "    }\n",
       "\n",
       "    .dataframe tbody tr th {\n",
       "        vertical-align: top;\n",
       "    }\n",
       "\n",
       "    .dataframe thead th {\n",
       "        text-align: right;\n",
       "    }\n",
       "</style>\n",
       "<table border=\"1\" class=\"dataframe\">\n",
       "  <thead>\n",
       "    <tr style=\"text-align: right;\">\n",
       "      <th></th>\n",
       "      <th>ddi</th>\n",
       "      <th>ddi_type</th>\n",
       "      <th>e1_id</th>\n",
       "      <th>e1_offs</th>\n",
       "      <th>e2_id</th>\n",
       "      <th>e2_offs</th>\n",
       "      <th>p_id</th>\n",
       "      <th>s_dir</th>\n",
       "      <th>s_file</th>\n",
       "      <th>s_id</th>\n",
       "      <th>s_text</th>\n",
       "      <th>s_text_dummy</th>\n",
       "      <th>set</th>\n",
       "      <th>tokens</th>\n",
       "      <th>tokens_enc</th>\n",
       "      <th>ddi_type_enc</th>\n",
       "    </tr>\n",
       "  </thead>\n",
       "  <tbody>\n",
       "    <tr>\n",
       "      <th>0</th>\n",
       "      <td>1</td>\n",
       "      <td>mechanism</td>\n",
       "      <td>DDI-DrugBank.d481.s0.e0</td>\n",
       "      <td>[25, 31]</td>\n",
       "      <td>DDI-DrugBank.d481.s0.e1</td>\n",
       "      <td>[82, 86]</td>\n",
       "      <td>DDI-DrugBank.d481.s0.p0</td>\n",
       "      <td>/Users/lluccardoner/PycharmProjects/MET_AHLT_L...</td>\n",
       "      <td>Estramustine_ddi.xml</td>\n",
       "      <td>DDI-DrugBank.d481.s0</td>\n",
       "      <td>Milk, milk products, and calcium-rich foods or...</td>\n",
       "      <td>SOS Milk, milk products, and drug01-rich foods...</td>\n",
       "      <td>DrugBank</td>\n",
       "      <td>[SOS, Milk, ,, milk, products, ,, and, drug01-...</td>\n",
       "      <td>[[0.5819571, 0.9497496, -1.6383795, -1.5564011...</td>\n",
       "      <td>[3]</td>\n",
       "    </tr>\n",
       "  </tbody>\n",
       "</table>\n",
       "</div>"
      ],
      "text/plain": [
       "   ddi   ddi_type                    e1_id   e1_offs                    e2_id  \\\n",
       "0    1  mechanism  DDI-DrugBank.d481.s0.e0  [25, 31]  DDI-DrugBank.d481.s0.e1   \n",
       "\n",
       "    e2_offs                     p_id  \\\n",
       "0  [82, 86]  DDI-DrugBank.d481.s0.p0   \n",
       "\n",
       "                                               s_dir                s_file  \\\n",
       "0  /Users/lluccardoner/PycharmProjects/MET_AHLT_L...  Estramustine_ddi.xml   \n",
       "\n",
       "                   s_id                                             s_text  \\\n",
       "0  DDI-DrugBank.d481.s0  Milk, milk products, and calcium-rich foods or...   \n",
       "\n",
       "                                        s_text_dummy       set  \\\n",
       "0  SOS Milk, milk products, and drug01-rich foods...  DrugBank   \n",
       "\n",
       "                                              tokens  \\\n",
       "0  [SOS, Milk, ,, milk, products, ,, and, drug01-...   \n",
       "\n",
       "                                          tokens_enc ddi_type_enc  \n",
       "0  [[0.5819571, 0.9497496, -1.6383795, -1.5564011...          [3]  "
      ]
     },
     "execution_count": 22,
     "metadata": {},
     "output_type": "execute_result"
    }
   ],
   "source": [
    "df_train.head(1)"
   ]
  },
  {
   "cell_type": "code",
   "execution_count": 23,
   "metadata": {},
   "outputs": [
    {
     "name": "stdout",
     "output_type": "stream",
     "text": [
      "(27792,) (27792, 1)\n"
     ]
    }
   ],
   "source": [
    "Xs_enc = np.array(df_train['tokens_enc'].tolist())\n",
    "Ys_enc = np.array(df_train['ddi_type_enc'].tolist())\n",
    "print(Xs_enc.shape, Ys_enc.shape)"
   ]
  },
  {
   "cell_type": "code",
   "execution_count": 24,
   "metadata": {},
   "outputs": [
    {
     "name": "stdout",
     "output_type": "stream",
     "text": [
      "27792 19 100\n"
     ]
    }
   ],
   "source": [
    "# Xs_enc = [sentence1 , sentence2, ...]\n",
    "# Xs_enc[i] = [word1, word2, ...]\n",
    "# Xs_enc[i][j] = [vector]\n",
    "# Xs_enc = [[[vector], [vector], ...] , [[vector], [vector], ...], ...]\n",
    "# reshape input to be [sentence, words, features]\n",
    "print(len(Xs_enc), len(Xs_enc[0]), len(Xs_enc[0][0]))"
   ]
  },
  {
   "cell_type": "code",
   "execution_count": 25,
   "metadata": {},
   "outputs": [
    {
     "name": "stdout",
     "output_type": "stream",
     "text": [
      "Max: 152 Min: 3 Mean 54.08822682786413\n"
     ]
    }
   ],
   "source": [
    "sentence_len = [len(x) for x in Xs_enc]\n",
    "print(\"Max:\", max(sentence_len), \"Min:\", min(sentence_len), \"Mean\", np.mean(sentence_len))"
   ]
  },
  {
   "cell_type": "code",
   "execution_count": 26,
   "metadata": {},
   "outputs": [
    {
     "name": "stdout",
     "output_type": "stream",
     "text": [
      "<class 'numpy.ndarray'> (27792, 152, 100)\n"
     ]
    }
   ],
   "source": [
    "trainX = np.zeros([27792, 152, 100])\n",
    "\n",
    "for i, s in enumerate(Xs_enc):\n",
    "    s = np.array(s)\n",
    "    shape = s.shape\n",
    "    for j in range(shape[0], 152):\n",
    "        s = np.append(s, np.zeros([1,100]), axis=0)\n",
    "    trainX[i] = s\n",
    "    \n",
    "print( type(trainX), trainX.shape)"
   ]
  },
  {
   "cell_type": "code",
   "execution_count": 27,
   "metadata": {
    "scrolled": false
   },
   "outputs": [
    {
     "name": "stdout",
     "output_type": "stream",
     "text": [
      "Categories:  [array([0., 1., 2., 3., 4.])]\n"
     ]
    },
    {
     "name": "stderr",
     "output_type": "stream",
     "text": [
      "/Users/lluccardoner/anaconda3/envs/AHLT-LSTM/lib/python3.6/site-packages/sklearn/preprocessing/_encoders.py:414: FutureWarning: The handling of integer data will change in version 0.22. Currently, the categories are determined based on the range [0, max(values)], while in the future they will be determined based on the unique values.\n",
      "If you want the future behaviour and silence this warning, you can specify \"categories='auto'\".\n",
      "In case you used a LabelEncoder before this OneHotEncoder to convert the categories to integers, then you can now use the OneHotEncoder directly.\n",
      "  warnings.warn(msg, FutureWarning)\n"
     ]
    }
   ],
   "source": [
    "enc = preprocessing.OneHotEncoder(sparse=False)\n",
    "enc.fit(Ys_enc)\n",
    "print(\"Categories: \",enc.categories_)"
   ]
  },
  {
   "cell_type": "code",
   "execution_count": 28,
   "metadata": {},
   "outputs": [
    {
     "data": {
      "text/plain": [
       "array([[0., 0., 0., 0., 1.]])"
      ]
     },
     "execution_count": 28,
     "metadata": {},
     "output_type": "execute_result"
    }
   ],
   "source": [
    "enc.transform(np.array([0]).reshape((1, -1)))\n",
    "enc.transform(np.array([1]).reshape((1, -1)))\n",
    "enc.transform(np.array([2]).reshape((1, -1)))\n",
    "enc.transform(np.array([3]).reshape((1, -1)))\n",
    "enc.transform(np.array([4]).reshape((1, -1)))"
   ]
  },
  {
   "cell_type": "code",
   "execution_count": 29,
   "metadata": {},
   "outputs": [
    {
     "name": "stdout",
     "output_type": "stream",
     "text": [
      "<class 'numpy.ndarray'> (27792, 5)\n"
     ]
    }
   ],
   "source": [
    "trainY = np.zeros([27792, 5]) #5 classes\n",
    "\n",
    "for i, l in enumerate(Ys_enc):\n",
    "    l_enc = enc.transform(l.reshape(1, -1))\n",
    "    trainY[i] = np.array(l_enc)\n",
    "    \n",
    "print(type(trainY), trainY.shape)"
   ]
  },
  {
   "cell_type": "code",
   "execution_count": 125,
   "metadata": {
    "scrolled": false
   },
   "outputs": [],
   "source": [
    "model = Sequential()\n",
    "model.add(Bidirectional(LSTM(60, input_shape=(152, 100))))\n",
    "model.add(Dropout(rate=0.5))\n",
    "model.add(Dense(5))\n",
    "model.add(Activation('softmax'))\n",
    "model.compile(loss='categorical_crossentropy', optimizer='adam', metrics=['accuracy'])"
   ]
  },
  {
   "cell_type": "code",
   "execution_count": 126,
   "metadata": {},
   "outputs": [
    {
     "name": "stdout",
     "output_type": "stream",
     "text": [
      "Train on 22233 samples, validate on 5559 samples\n",
      "Epoch 1/10\n",
      "22233/22233 [==============================] - 203s 9ms/step - loss: 0.5434 - acc: 0.8499 - val_loss: 0.4635 - val_acc: 0.8536\n",
      "Epoch 2/10\n",
      "22233/22233 [==============================] - 193s 9ms/step - loss: 0.3206 - acc: 0.8883 - val_loss: 0.4189 - val_acc: 0.8608\n",
      "Epoch 3/10\n",
      "22233/22233 [==============================] - 199s 9ms/step - loss: 0.2435 - acc: 0.9149 - val_loss: 0.4189 - val_acc: 0.8726\n",
      "Epoch 4/10\n",
      "22233/22233 [==============================] - 201s 9ms/step - loss: 0.2030 - acc: 0.9297 - val_loss: 0.3976 - val_acc: 0.8681\n",
      "Epoch 5/10\n",
      "22233/22233 [==============================] - 184s 8ms/step - loss: 0.1788 - acc: 0.9396 - val_loss: 0.4037 - val_acc: 0.8581\n",
      "Epoch 6/10\n",
      "22233/22233 [==============================] - 188s 8ms/step - loss: 0.1572 - acc: 0.9478 - val_loss: 0.4003 - val_acc: 0.8734\n",
      "Epoch 7/10\n",
      "22233/22233 [==============================] - 178s 8ms/step - loss: 0.1404 - acc: 0.9545 - val_loss: 0.4158 - val_acc: 0.8716\n",
      "Epoch 8/10\n",
      "22233/22233 [==============================] - 194s 9ms/step - loss: 0.1262 - acc: 0.9595 - val_loss: 0.4319 - val_acc: 0.8635\n",
      "Epoch 9/10\n",
      "22233/22233 [==============================] - 202s 9ms/step - loss: 0.1195 - acc: 0.9618 - val_loss: 0.4417 - val_acc: 0.8689\n",
      "Epoch 10/10\n",
      "22233/22233 [==============================] - 179s 8ms/step - loss: 0.1109 - acc: 0.9631 - val_loss: 0.4687 - val_acc: 0.8696\n"
     ]
    }
   ],
   "source": [
    "history = model.fit(trainX, trainY, validation_split=0.20, epochs=10, batch_size=100, verbose=1)"
   ]
  },
  {
   "cell_type": "code",
   "execution_count": 127,
   "metadata": {},
   "outputs": [
    {
     "data": {
      "image/png": "[encoded data removed]",
      "text/plain": [
       "<Figure size 432x288 with 1 Axes>"
      ]
     },
     "metadata": {
      "needs_background": "light"
     },
     "output_type": "display_data"
    }
   ],
   "source": [
    "# summarize history for accuracy\n",
    "plt.plot(history.history['acc'])\n",
    "plt.plot(history.history['val_acc'])\n",
    "plt.title('model accuracy')\n",
    "plt.ylabel('accuracy')\n",
    "plt.xlabel('epoch')\n",
    "plt.legend(['train', 'test'], loc='upper left')\n",
    "plt.show()"
   ]
  },
  {
   "cell_type": "code",
   "execution_count": 128,
   "metadata": {},
   "outputs": [
    {
     "data": {
      "image/png": "[encoded data removed]",
      "text/plain": [
       "<Figure size 432x288 with 1 Axes>"
      ]
     },
     "metadata": {
      "needs_background": "light"
     },
     "output_type": "display_data"
    }
   ],
   "source": [
    "# summarize history for loss\n",
    "plt.plot()\n",
    "plt.plot(history.history['loss'])\n",
    "plt.plot(history.history['val_loss'])\n",
    "plt.title('model loss')\n",
    "plt.ylabel('loss')\n",
    "plt.xlabel('epoch')\n",
    "plt.legend(['train', 'test'], loc='upper left')\n",
    "plt.show()"
   ]
  },
  {
   "cell_type": "markdown",
   "metadata": {},
   "source": [
    "## Make predictions <a name=\"4\"></a>"
   ]
  },
  {
   "cell_type": "code",
   "execution_count": 110,
   "metadata": {},
   "outputs": [],
   "source": [
    "test_dfs={}\n",
    "for d in [dir_test_drugbank, dir_test_medline]:\n",
    "    pairs_list = []\n",
    "    for f in listdir(d):\n",
    "        tree = parse(d + \"/\" + f)\n",
    "        sentences = tree.getElementsByTagName(\"sentence\")\n",
    "        for s in sentences:\n",
    "            s_id = s.attributes[\"id\"].value\n",
    "            s_text = s.attributes[\"text\"].value\n",
    "\n",
    "            entities = {}\n",
    "            ents = s.getElementsByTagName(\"entity\")\n",
    "            for e in ents:\n",
    "                e_id = e.attributes[\"id\"].value\n",
    "                e_offs = e.attributes[\"charOffset\"].value.split(\";\")[-1].split(\"-\") # When two, offsets pick the second one\n",
    "                entities[e_id] = e_offs\n",
    "\n",
    "            pairs = s.getElementsByTagName(\"pair\")\n",
    "            for p in pairs:\n",
    "                p_id = p.attributes[\"id\"].value\n",
    "                e1_id = p.attributes[\"e1\"].value\n",
    "                e2_id = p.attributes[\"e2\"].value\n",
    "                is_ddi = p.attributes[\"ddi\"].value\n",
    "                \n",
    "                ddi = 1 if is_ddi==\"true\" else 0 \n",
    "                ddi_type = p.attributes[\"type\"].value if is_ddi==\"true\" and \"type\" in p.attributes else \"none\"\n",
    "                \n",
    "                s_dummy = 'SOS '+s_text+ ' EOS'\n",
    "                \n",
    "                pair_item = {\"p_id\":p_id, \"e1_id\":e1_id, \"e2_id\":e2_id, \"ddi\":ddi, \"ddi_type\": ddi_type, \n",
    "                             \"e1_offs\":entities[e1_id], \"e2_offs\":entities[e2_id], \"s_id\":s_id, \"s_text\":s_text,\n",
    "                             \"s_dir\":d, \"set\":d.split(\"/\")[-2], \"s_file\":f, \"s_text_dummy\": s_dummy}\n",
    "                pairs_list.append(pair_item)\n",
    "    test_dfs[d] = pairs_list\n",
    "    \n",
    "df_test_medline = pd.DataFrame(test_dfs[dir_test_medline])\n",
    "df_test_drugbank = pd.DataFrame(test_dfs[dir_test_drugbank])"
   ]
  },
  {
   "cell_type": "code",
   "execution_count": 111,
   "metadata": {},
   "outputs": [],
   "source": [
    "df_test_medline['tokens'] = df_test_medline['s_text_dummy'].apply(word_tokenize)\n",
    "df_test_drugbank['tokens'] = df_test_drugbank['s_text_dummy'].apply(word_tokenize)"
   ]
  },
  {
   "cell_type": "code",
   "execution_count": 112,
   "metadata": {},
   "outputs": [],
   "source": [
    "df_test_medline['tokens_enc'] = df_test_medline['tokens'].apply(lambda x: [model1.wv[word] if word in model1.wv.vocab else model1.wv['<UNK>'] for word in x])\n",
    "df_test_drugbank['tokens_enc'] = df_test_drugbank['tokens'].apply(lambda x: [model1.wv[word] if word in model1.wv.vocab else model1.wv['<UNK>'] for word in x])"
   ]
  },
  {
   "cell_type": "code",
   "execution_count": 113,
   "metadata": {},
   "outputs": [
    {
     "data": {
      "text/html": [
       "<div>\n",
       "<style scoped>\n",
       "    .dataframe tbody tr th:only-of-type {\n",
       "        vertical-align: middle;\n",
       "    }\n",
       "\n",
       "    .dataframe tbody tr th {\n",
       "        vertical-align: top;\n",
       "    }\n",
       "\n",
       "    .dataframe thead th {\n",
       "        text-align: right;\n",
       "    }\n",
       "</style>\n",
       "<table border=\"1\" class=\"dataframe\">\n",
       "  <thead>\n",
       "    <tr style=\"text-align: right;\">\n",
       "      <th></th>\n",
       "      <th>ddi</th>\n",
       "      <th>ddi_type</th>\n",
       "      <th>e1_id</th>\n",
       "      <th>e1_offs</th>\n",
       "      <th>e2_id</th>\n",
       "      <th>e2_offs</th>\n",
       "      <th>p_id</th>\n",
       "      <th>s_dir</th>\n",
       "      <th>s_file</th>\n",
       "      <th>s_id</th>\n",
       "      <th>s_text</th>\n",
       "      <th>s_text_dummy</th>\n",
       "      <th>set</th>\n",
       "      <th>tokens</th>\n",
       "      <th>tokens_enc</th>\n",
       "    </tr>\n",
       "  </thead>\n",
       "  <tbody>\n",
       "    <tr>\n",
       "      <th>0</th>\n",
       "      <td>0</td>\n",
       "      <td>none</td>\n",
       "      <td>DDI-MedLine.d180.s1.e0</td>\n",
       "      <td>[4, 22]</td>\n",
       "      <td>DDI-MedLine.d180.s1.e1</td>\n",
       "      <td>[25, 29]</td>\n",
       "      <td>DDI-MedLine.d180.s1.p0</td>\n",
       "      <td>/Users/lluccardoner/PycharmProjects/MET_AHLT_L...</td>\n",
       "      <td>21720561.xml</td>\n",
       "      <td>DDI-MedLine.d180.s1</td>\n",
       "      <td>The 3-Deazaneplanocin A (DZNep), one of S-aden...</td>\n",
       "      <td>SOS The 3-Deazaneplanocin A (DZNep), one of S-...</td>\n",
       "      <td>MedLine</td>\n",
       "      <td>[SOS, The, 3-Deazaneplanocin, A, (, DZNep, ), ...</td>\n",
       "      <td>[[0.5819571, 0.9497496, -1.6383795, -1.5564011...</td>\n",
       "    </tr>\n",
       "    <tr>\n",
       "      <th>1</th>\n",
       "      <td>0</td>\n",
       "      <td>none</td>\n",
       "      <td>DDI-MedLine.d180.s10.e0</td>\n",
       "      <td>[46, 50]</td>\n",
       "      <td>DDI-MedLine.d180.s10.e1</td>\n",
       "      <td>[92, 96]</td>\n",
       "      <td>DDI-MedLine.d180.s10.p0</td>\n",
       "      <td>/Users/lluccardoner/PycharmProjects/MET_AHLT_L...</td>\n",
       "      <td>21720561.xml</td>\n",
       "      <td>DDI-MedLine.d180.s10</td>\n",
       "      <td>We also found that Bcl-2 was overexpressed in ...</td>\n",
       "      <td>SOS We also found that Bcl-2 was overexpressed...</td>\n",
       "      <td>MedLine</td>\n",
       "      <td>[SOS, We, also, found, that, Bcl-2, was, overe...</td>\n",
       "      <td>[[0.5819571, 0.9497496, -1.6383795, -1.5564011...</td>\n",
       "    </tr>\n",
       "    <tr>\n",
       "      <th>2</th>\n",
       "      <td>0</td>\n",
       "      <td>none</td>\n",
       "      <td>DDI-MedLine.d180.s10.e0</td>\n",
       "      <td>[46, 50]</td>\n",
       "      <td>DDI-MedLine.d180.s10.e2</td>\n",
       "      <td>[102, 108]</td>\n",
       "      <td>DDI-MedLine.d180.s10.p1</td>\n",
       "      <td>/Users/lluccardoner/PycharmProjects/MET_AHLT_L...</td>\n",
       "      <td>21720561.xml</td>\n",
       "      <td>DDI-MedLine.d180.s10</td>\n",
       "      <td>We also found that Bcl-2 was overexpressed in ...</td>\n",
       "      <td>SOS We also found that Bcl-2 was overexpressed...</td>\n",
       "      <td>MedLine</td>\n",
       "      <td>[SOS, We, also, found, that, Bcl-2, was, overe...</td>\n",
       "      <td>[[0.5819571, 0.9497496, -1.6383795, -1.5564011...</td>\n",
       "    </tr>\n",
       "    <tr>\n",
       "      <th>3</th>\n",
       "      <td>0</td>\n",
       "      <td>none</td>\n",
       "      <td>DDI-MedLine.d180.s10.e0</td>\n",
       "      <td>[46, 50]</td>\n",
       "      <td>DDI-MedLine.d180.s10.e3</td>\n",
       "      <td>[195, 199]</td>\n",
       "      <td>DDI-MedLine.d180.s10.p2</td>\n",
       "      <td>/Users/lluccardoner/PycharmProjects/MET_AHLT_L...</td>\n",
       "      <td>21720561.xml</td>\n",
       "      <td>DDI-MedLine.d180.s10</td>\n",
       "      <td>We also found that Bcl-2 was overexpressed in ...</td>\n",
       "      <td>SOS We also found that Bcl-2 was overexpressed...</td>\n",
       "      <td>MedLine</td>\n",
       "      <td>[SOS, We, also, found, that, Bcl-2, was, overe...</td>\n",
       "      <td>[[0.5819571, 0.9497496, -1.6383795, -1.5564011...</td>\n",
       "    </tr>\n",
       "    <tr>\n",
       "      <th>4</th>\n",
       "      <td>1</td>\n",
       "      <td>effect</td>\n",
       "      <td>DDI-MedLine.d180.s10.e1</td>\n",
       "      <td>[92, 96]</td>\n",
       "      <td>DDI-MedLine.d180.s10.e2</td>\n",
       "      <td>[102, 108]</td>\n",
       "      <td>DDI-MedLine.d180.s10.p3</td>\n",
       "      <td>/Users/lluccardoner/PycharmProjects/MET_AHLT_L...</td>\n",
       "      <td>21720561.xml</td>\n",
       "      <td>DDI-MedLine.d180.s10</td>\n",
       "      <td>We also found that Bcl-2 was overexpressed in ...</td>\n",
       "      <td>SOS We also found that Bcl-2 was overexpressed...</td>\n",
       "      <td>MedLine</td>\n",
       "      <td>[SOS, We, also, found, that, Bcl-2, was, overe...</td>\n",
       "      <td>[[0.5819571, 0.9497496, -1.6383795, -1.5564011...</td>\n",
       "    </tr>\n",
       "  </tbody>\n",
       "</table>\n",
       "</div>"
      ],
      "text/plain": [
       "   ddi ddi_type                    e1_id   e1_offs                    e2_id  \\\n",
       "0    0     none   DDI-MedLine.d180.s1.e0   [4, 22]   DDI-MedLine.d180.s1.e1   \n",
       "1    0     none  DDI-MedLine.d180.s10.e0  [46, 50]  DDI-MedLine.d180.s10.e1   \n",
       "2    0     none  DDI-MedLine.d180.s10.e0  [46, 50]  DDI-MedLine.d180.s10.e2   \n",
       "3    0     none  DDI-MedLine.d180.s10.e0  [46, 50]  DDI-MedLine.d180.s10.e3   \n",
       "4    1   effect  DDI-MedLine.d180.s10.e1  [92, 96]  DDI-MedLine.d180.s10.e2   \n",
       "\n",
       "      e2_offs                     p_id  \\\n",
       "0    [25, 29]   DDI-MedLine.d180.s1.p0   \n",
       "1    [92, 96]  DDI-MedLine.d180.s10.p0   \n",
       "2  [102, 108]  DDI-MedLine.d180.s10.p1   \n",
       "3  [195, 199]  DDI-MedLine.d180.s10.p2   \n",
       "4  [102, 108]  DDI-MedLine.d180.s10.p3   \n",
       "\n",
       "                                               s_dir        s_file  \\\n",
       "0  /Users/lluccardoner/PycharmProjects/MET_AHLT_L...  21720561.xml   \n",
       "1  /Users/lluccardoner/PycharmProjects/MET_AHLT_L...  21720561.xml   \n",
       "2  /Users/lluccardoner/PycharmProjects/MET_AHLT_L...  21720561.xml   \n",
       "3  /Users/lluccardoner/PycharmProjects/MET_AHLT_L...  21720561.xml   \n",
       "4  /Users/lluccardoner/PycharmProjects/MET_AHLT_L...  21720561.xml   \n",
       "\n",
       "                   s_id                                             s_text  \\\n",
       "0   DDI-MedLine.d180.s1  The 3-Deazaneplanocin A (DZNep), one of S-aden...   \n",
       "1  DDI-MedLine.d180.s10  We also found that Bcl-2 was overexpressed in ...   \n",
       "2  DDI-MedLine.d180.s10  We also found that Bcl-2 was overexpressed in ...   \n",
       "3  DDI-MedLine.d180.s10  We also found that Bcl-2 was overexpressed in ...   \n",
       "4  DDI-MedLine.d180.s10  We also found that Bcl-2 was overexpressed in ...   \n",
       "\n",
       "                                        s_text_dummy      set  \\\n",
       "0  SOS The 3-Deazaneplanocin A (DZNep), one of S-...  MedLine   \n",
       "1  SOS We also found that Bcl-2 was overexpressed...  MedLine   \n",
       "2  SOS We also found that Bcl-2 was overexpressed...  MedLine   \n",
       "3  SOS We also found that Bcl-2 was overexpressed...  MedLine   \n",
       "4  SOS We also found that Bcl-2 was overexpressed...  MedLine   \n",
       "\n",
       "                                              tokens  \\\n",
       "0  [SOS, The, 3-Deazaneplanocin, A, (, DZNep, ), ...   \n",
       "1  [SOS, We, also, found, that, Bcl-2, was, overe...   \n",
       "2  [SOS, We, also, found, that, Bcl-2, was, overe...   \n",
       "3  [SOS, We, also, found, that, Bcl-2, was, overe...   \n",
       "4  [SOS, We, also, found, that, Bcl-2, was, overe...   \n",
       "\n",
       "                                          tokens_enc  \n",
       "0  [[0.5819571, 0.9497496, -1.6383795, -1.5564011...  \n",
       "1  [[0.5819571, 0.9497496, -1.6383795, -1.5564011...  \n",
       "2  [[0.5819571, 0.9497496, -1.6383795, -1.5564011...  \n",
       "3  [[0.5819571, 0.9497496, -1.6383795, -1.5564011...  \n",
       "4  [[0.5819571, 0.9497496, -1.6383795, -1.5564011...  "
      ]
     },
     "execution_count": 113,
     "metadata": {},
     "output_type": "execute_result"
    }
   ],
   "source": [
    "df_test_medline.head()"
   ]
  },
  {
   "cell_type": "code",
   "execution_count": 114,
   "metadata": {},
   "outputs": [
    {
     "data": {
      "text/html": [
       "<div>\n",
       "<style scoped>\n",
       "    .dataframe tbody tr th:only-of-type {\n",
       "        vertical-align: middle;\n",
       "    }\n",
       "\n",
       "    .dataframe tbody tr th {\n",
       "        vertical-align: top;\n",
       "    }\n",
       "\n",
       "    .dataframe thead th {\n",
       "        text-align: right;\n",
       "    }\n",
       "</style>\n",
       "<table border=\"1\" class=\"dataframe\">\n",
       "  <thead>\n",
       "    <tr style=\"text-align: right;\">\n",
       "      <th></th>\n",
       "      <th>ddi</th>\n",
       "      <th>ddi_type</th>\n",
       "      <th>e1_id</th>\n",
       "      <th>e1_offs</th>\n",
       "      <th>e2_id</th>\n",
       "      <th>e2_offs</th>\n",
       "      <th>p_id</th>\n",
       "      <th>s_dir</th>\n",
       "      <th>s_file</th>\n",
       "      <th>s_id</th>\n",
       "      <th>s_text</th>\n",
       "      <th>s_text_dummy</th>\n",
       "      <th>set</th>\n",
       "      <th>tokens</th>\n",
       "      <th>tokens_enc</th>\n",
       "    </tr>\n",
       "  </thead>\n",
       "  <tbody>\n",
       "    <tr>\n",
       "      <th>0</th>\n",
       "      <td>1</td>\n",
       "      <td>mechanism</td>\n",
       "      <td>DDI-DrugBank.d765.s0.e0</td>\n",
       "      <td>[19, 30]</td>\n",
       "      <td>DDI-DrugBank.d765.s0.e1</td>\n",
       "      <td>[135, 145]</td>\n",
       "      <td>DDI-DrugBank.d765.s0.p0</td>\n",
       "      <td>/Users/lluccardoner/PycharmProjects/MET_AHLT_L...</td>\n",
       "      <td>Tolterodine.xml</td>\n",
       "      <td>DDI-DrugBank.d765.s0</td>\n",
       "      <td>CYP3A4 Inhibitors: Ketoconazole, an inhibitor ...</td>\n",
       "      <td>SOS CYP3A4 Inhibitors: Ketoconazole, an inhibi...</td>\n",
       "      <td>DrugBank</td>\n",
       "      <td>[SOS, CYP3A4, Inhibitors, :, Ketoconazole, ,, ...</td>\n",
       "      <td>[[0.5819571, 0.9497496, -1.6383795, -1.5564011...</td>\n",
       "    </tr>\n",
       "    <tr>\n",
       "      <th>1</th>\n",
       "      <td>0</td>\n",
       "      <td>none</td>\n",
       "      <td>DDI-DrugBank.d765.s1.e0</td>\n",
       "      <td>[23, 34]</td>\n",
       "      <td>DDI-DrugBank.d765.s1.e1</td>\n",
       "      <td>[84, 100]</td>\n",
       "      <td>DDI-DrugBank.d765.s1.p0</td>\n",
       "      <td>/Users/lluccardoner/PycharmProjects/MET_AHLT_L...</td>\n",
       "      <td>Tolterodine.xml</td>\n",
       "      <td>DDI-DrugBank.d765.s1</td>\n",
       "      <td>For patients receiving ketoconazole or other p...</td>\n",
       "      <td>SOS For patients receiving ketoconazole or oth...</td>\n",
       "      <td>DrugBank</td>\n",
       "      <td>[SOS, For, patients, receiving, ketoconazole, ...</td>\n",
       "      <td>[[0.5819571, 0.9497496, -1.6383795, -1.5564011...</td>\n",
       "    </tr>\n",
       "    <tr>\n",
       "      <th>2</th>\n",
       "      <td>0</td>\n",
       "      <td>none</td>\n",
       "      <td>DDI-DrugBank.d765.s1.e0</td>\n",
       "      <td>[23, 34]</td>\n",
       "      <td>DDI-DrugBank.d765.s1.e2</td>\n",
       "      <td>[107, 118]</td>\n",
       "      <td>DDI-DrugBank.d765.s1.p1</td>\n",
       "      <td>/Users/lluccardoner/PycharmProjects/MET_AHLT_L...</td>\n",
       "      <td>Tolterodine.xml</td>\n",
       "      <td>DDI-DrugBank.d765.s1</td>\n",
       "      <td>For patients receiving ketoconazole or other p...</td>\n",
       "      <td>SOS For patients receiving ketoconazole or oth...</td>\n",
       "      <td>DrugBank</td>\n",
       "      <td>[SOS, For, patients, receiving, ketoconazole, ...</td>\n",
       "      <td>[[0.5819571, 0.9497496, -1.6383795, -1.5564011...</td>\n",
       "    </tr>\n",
       "    <tr>\n",
       "      <th>3</th>\n",
       "      <td>0</td>\n",
       "      <td>none</td>\n",
       "      <td>DDI-DrugBank.d765.s1.e0</td>\n",
       "      <td>[23, 34]</td>\n",
       "      <td>DDI-DrugBank.d765.s1.e3</td>\n",
       "      <td>[121, 130]</td>\n",
       "      <td>DDI-DrugBank.d765.s1.p2</td>\n",
       "      <td>/Users/lluccardoner/PycharmProjects/MET_AHLT_L...</td>\n",
       "      <td>Tolterodine.xml</td>\n",
       "      <td>DDI-DrugBank.d765.s1</td>\n",
       "      <td>For patients receiving ketoconazole or other p...</td>\n",
       "      <td>SOS For patients receiving ketoconazole or oth...</td>\n",
       "      <td>DrugBank</td>\n",
       "      <td>[SOS, For, patients, receiving, ketoconazole, ...</td>\n",
       "      <td>[[0.5819571, 0.9497496, -1.6383795, -1.5564011...</td>\n",
       "    </tr>\n",
       "    <tr>\n",
       "      <th>4</th>\n",
       "      <td>0</td>\n",
       "      <td>none</td>\n",
       "      <td>DDI-DrugBank.d765.s1.e0</td>\n",
       "      <td>[23, 34]</td>\n",
       "      <td>DDI-DrugBank.d765.s1.e4</td>\n",
       "      <td>[136, 156]</td>\n",
       "      <td>DDI-DrugBank.d765.s1.p3</td>\n",
       "      <td>/Users/lluccardoner/PycharmProjects/MET_AHLT_L...</td>\n",
       "      <td>Tolterodine.xml</td>\n",
       "      <td>DDI-DrugBank.d765.s1</td>\n",
       "      <td>For patients receiving ketoconazole or other p...</td>\n",
       "      <td>SOS For patients receiving ketoconazole or oth...</td>\n",
       "      <td>DrugBank</td>\n",
       "      <td>[SOS, For, patients, receiving, ketoconazole, ...</td>\n",
       "      <td>[[0.5819571, 0.9497496, -1.6383795, -1.5564011...</td>\n",
       "    </tr>\n",
       "  </tbody>\n",
       "</table>\n",
       "</div>"
      ],
      "text/plain": [
       "   ddi   ddi_type                    e1_id   e1_offs                    e2_id  \\\n",
       "0    1  mechanism  DDI-DrugBank.d765.s0.e0  [19, 30]  DDI-DrugBank.d765.s0.e1   \n",
       "1    0       none  DDI-DrugBank.d765.s1.e0  [23, 34]  DDI-DrugBank.d765.s1.e1   \n",
       "2    0       none  DDI-DrugBank.d765.s1.e0  [23, 34]  DDI-DrugBank.d765.s1.e2   \n",
       "3    0       none  DDI-DrugBank.d765.s1.e0  [23, 34]  DDI-DrugBank.d765.s1.e3   \n",
       "4    0       none  DDI-DrugBank.d765.s1.e0  [23, 34]  DDI-DrugBank.d765.s1.e4   \n",
       "\n",
       "      e2_offs                     p_id  \\\n",
       "0  [135, 145]  DDI-DrugBank.d765.s0.p0   \n",
       "1   [84, 100]  DDI-DrugBank.d765.s1.p0   \n",
       "2  [107, 118]  DDI-DrugBank.d765.s1.p1   \n",
       "3  [121, 130]  DDI-DrugBank.d765.s1.p2   \n",
       "4  [136, 156]  DDI-DrugBank.d765.s1.p3   \n",
       "\n",
       "                                               s_dir           s_file  \\\n",
       "0  /Users/lluccardoner/PycharmProjects/MET_AHLT_L...  Tolterodine.xml   \n",
       "1  /Users/lluccardoner/PycharmProjects/MET_AHLT_L...  Tolterodine.xml   \n",
       "2  /Users/lluccardoner/PycharmProjects/MET_AHLT_L...  Tolterodine.xml   \n",
       "3  /Users/lluccardoner/PycharmProjects/MET_AHLT_L...  Tolterodine.xml   \n",
       "4  /Users/lluccardoner/PycharmProjects/MET_AHLT_L...  Tolterodine.xml   \n",
       "\n",
       "                   s_id                                             s_text  \\\n",
       "0  DDI-DrugBank.d765.s0  CYP3A4 Inhibitors: Ketoconazole, an inhibitor ...   \n",
       "1  DDI-DrugBank.d765.s1  For patients receiving ketoconazole or other p...   \n",
       "2  DDI-DrugBank.d765.s1  For patients receiving ketoconazole or other p...   \n",
       "3  DDI-DrugBank.d765.s1  For patients receiving ketoconazole or other p...   \n",
       "4  DDI-DrugBank.d765.s1  For patients receiving ketoconazole or other p...   \n",
       "\n",
       "                                        s_text_dummy       set  \\\n",
       "0  SOS CYP3A4 Inhibitors: Ketoconazole, an inhibi...  DrugBank   \n",
       "1  SOS For patients receiving ketoconazole or oth...  DrugBank   \n",
       "2  SOS For patients receiving ketoconazole or oth...  DrugBank   \n",
       "3  SOS For patients receiving ketoconazole or oth...  DrugBank   \n",
       "4  SOS For patients receiving ketoconazole or oth...  DrugBank   \n",
       "\n",
       "                                              tokens  \\\n",
       "0  [SOS, CYP3A4, Inhibitors, :, Ketoconazole, ,, ...   \n",
       "1  [SOS, For, patients, receiving, ketoconazole, ...   \n",
       "2  [SOS, For, patients, receiving, ketoconazole, ...   \n",
       "3  [SOS, For, patients, receiving, ketoconazole, ...   \n",
       "4  [SOS, For, patients, receiving, ketoconazole, ...   \n",
       "\n",
       "                                          tokens_enc  \n",
       "0  [[0.5819571, 0.9497496, -1.6383795, -1.5564011...  \n",
       "1  [[0.5819571, 0.9497496, -1.6383795, -1.5564011...  \n",
       "2  [[0.5819571, 0.9497496, -1.6383795, -1.5564011...  \n",
       "3  [[0.5819571, 0.9497496, -1.6383795, -1.5564011...  \n",
       "4  [[0.5819571, 0.9497496, -1.6383795, -1.5564011...  "
      ]
     },
     "execution_count": 114,
     "metadata": {},
     "output_type": "execute_result"
    }
   ],
   "source": [
    "df_test_drugbank.head()"
   ]
  },
  {
   "cell_type": "code",
   "execution_count": 115,
   "metadata": {},
   "outputs": [],
   "source": [
    "Xs_enc_medline = np.array(df_test_medline['tokens_enc'].tolist())\n",
    "Xs_enc_drugbank = np.array(df_test_drugbank['tokens_enc'].tolist())"
   ]
  },
  {
   "cell_type": "code",
   "execution_count": 116,
   "metadata": {},
   "outputs": [
    {
     "name": "stdout",
     "output_type": "stream",
     "text": [
      "Medline  451 34 100\n",
      "Drugbank  5265 43 100\n"
     ]
    }
   ],
   "source": [
    "print(\"Medline \", len(Xs_enc_medline), len(Xs_enc_medline[0]), len(Xs_enc_medline[0][0]))\n",
    "print(\"Drugbank \", len(Xs_enc_drugbank), len(Xs_enc_drugbank[0]), len(Xs_enc_drugbank[0][0]))"
   ]
  },
  {
   "cell_type": "code",
   "execution_count": 117,
   "metadata": {},
   "outputs": [
    {
     "name": "stdout",
     "output_type": "stream",
     "text": [
      "Medline  Max: 71 Min: 6 Mean 32.83592017738359\n",
      "Drugbank  Max: 109 Min: 9 Mean 48.27350427350427\n"
     ]
    }
   ],
   "source": [
    "sentence_len_medline = [len(x) for x in Xs_enc_medline]\n",
    "sentence_len_drugbank = [len(x) for x in Xs_enc_drugbank]\n",
    "\n",
    "print(\"Medline \", \"Max:\", max(sentence_len_medline), \"Min:\", min(sentence_len_medline), \"Mean\", np.mean(sentence_len_medline))\n",
    "print(\"Drugbank \", \"Max:\", max(sentence_len_drugbank), \"Min:\", min(sentence_len_drugbank), \"Mean\", np.mean(sentence_len_drugbank))"
   ]
  },
  {
   "cell_type": "code",
   "execution_count": 122,
   "metadata": {},
   "outputs": [],
   "source": [
    "def lstm_predictions(data_df, text_file):\n",
    "    for index, row in data_df.iterrows():\n",
    "        id_sen = row['s_id']\n",
    "        id_drug1 = row['e1_id']\n",
    "        id_drug2 = row['e2_id']\n",
    "\n",
    "        predictX = np.zeros([1, 152, 100])\n",
    "        sentence = row['tokens_enc']\n",
    "        s= np.array(sentence)\n",
    "        shape = s.shape\n",
    "        for j in range(shape[0], 152):\n",
    "            s = np.append(s, np.zeros([1,100]), axis=0)\n",
    "        predictX[0] = s\n",
    "\n",
    "        pred = model.predict(predictX)\n",
    "\n",
    "        t_pred = np.argmax(pred)\n",
    "        \n",
    "        pred_type = le.inverse_transform(np.array(t_pred).reshape(1,-1))[0]\n",
    "\n",
    "        DDI = 0\n",
    "        if t_pred != 4:\n",
    "            DDI = 1\n",
    "\n",
    "        # idSentence|iddrug1|iddrug2|prediction|type\n",
    "        print(id_sen, id_drug1, id_drug2, DDI, pred_type, sep=\"|\", file=text_file)"
   ]
  },
  {
   "cell_type": "code",
   "execution_count": 123,
   "metadata": {},
   "outputs": [],
   "source": [
    "def save_output(data_df, file_name):\n",
    "    with open(file_name, \"w\") as text_file:\n",
    "        lstm_predictions(data_df, text_file)"
   ]
  },
  {
   "cell_type": "code",
   "execution_count": 124,
   "metadata": {},
   "outputs": [
    {
     "name": "stdout",
     "output_type": "stream",
     "text": [
      "DDI-DrugBank.d775.s11|DDI-DrugBank.d775.s11.e0|DDI-DrugBank.d775.s11.e1|0|effect\n",
      "DDI-DrugBank.d775.s11|DDI-DrugBank.d775.s11.e0|DDI-DrugBank.d775.s11.e2|0|effect\n",
      "DDI-DrugBank.d775.s11|DDI-DrugBank.d775.s11.e0|DDI-DrugBank.d775.s11.e3|0|effect\n",
      "DDI-DrugBank.d775.s11|DDI-DrugBank.d775.s11.e0|DDI-DrugBank.d775.s11.e4|0|effect\n",
      "DDI-DrugBank.d775.s11|DDI-DrugBank.d775.s11.e0|DDI-DrugBank.d775.s11.e5|0|effect\n",
      "DDI-DrugBank.d775.s11|DDI-DrugBank.d775.s11.e0|DDI-DrugBank.d775.s11.e6|0|effect\n",
      "DDI-DrugBank.d775.s11|DDI-DrugBank.d775.s11.e1|DDI-DrugBank.d775.s11.e2|0|effect\n",
      "DDI-DrugBank.d775.s11|DDI-DrugBank.d775.s11.e1|DDI-DrugBank.d775.s11.e3|0|effect\n",
      "DDI-DrugBank.d775.s11|DDI-DrugBank.d775.s11.e1|DDI-DrugBank.d775.s11.e4|0|effect\n",
      "DDI-DrugBank.d775.s11|DDI-DrugBank.d775.s11.e1|DDI-DrugBank.d775.s11.e5|0|effect\n",
      "DDI-DrugBank.d775.s11|DDI-DrugBank.d775.s11.e1|DDI-DrugBank.d775.s11.e6|0|effect\n",
      "DDI-DrugBank.d775.s11|DDI-DrugBank.d775.s11.e2|DDI-DrugBank.d775.s11.e3|0|effect\n",
      "DDI-DrugBank.d775.s11|DDI-DrugBank.d775.s11.e2|DDI-DrugBank.d775.s11.e4|0|effect\n",
      "DDI-DrugBank.d775.s11|DDI-DrugBank.d775.s11.e2|DDI-DrugBank.d775.s11.e5|0|effect\n",
      "DDI-DrugBank.d775.s11|DDI-DrugBank.d775.s11.e2|DDI-DrugBank.d775.s11.e6|0|effect\n",
      "DDI-DrugBank.d775.s11|DDI-DrugBank.d775.s11.e3|DDI-DrugBank.d775.s11.e4|0|effect\n",
      "DDI-DrugBank.d775.s11|DDI-DrugBank.d775.s11.e3|DDI-DrugBank.d775.s11.e5|0|effect\n",
      "DDI-DrugBank.d775.s11|DDI-DrugBank.d775.s11.e3|DDI-DrugBank.d775.s11.e6|0|effect\n",
      "DDI-DrugBank.d775.s11|DDI-DrugBank.d775.s11.e4|DDI-DrugBank.d775.s11.e5|0|effect\n",
      "DDI-DrugBank.d775.s11|DDI-DrugBank.d775.s11.e4|DDI-DrugBank.d775.s11.e6|0|effect\n",
      "DDI-DrugBank.d775.s11|DDI-DrugBank.d775.s11.e5|DDI-DrugBank.d775.s11.e6|0|effect\n",
      "DDI-DrugBank.d627.s0|DDI-DrugBank.d627.s0.e0|DDI-DrugBank.d627.s0.e1|0|advise\n",
      "DDI-DrugBank.d762.s2|DDI-DrugBank.d762.s2.e0|DDI-DrugBank.d762.s2.e1|0|advise\n",
      "DDI-DrugBank.d611.s1|DDI-DrugBank.d611.s1.e0|DDI-DrugBank.d611.s1.e1|0|advise\n",
      "DDI-DrugBank.d611.s1|DDI-DrugBank.d611.s1.e0|DDI-DrugBank.d611.s1.e2|0|advise\n",
      "DDI-DrugBank.d611.s1|DDI-DrugBank.d611.s1.e0|DDI-DrugBank.d611.s1.e3|0|advise\n",
      "DDI-DrugBank.d611.s1|DDI-DrugBank.d611.s1.e1|DDI-DrugBank.d611.s1.e2|0|advise\n",
      "DDI-DrugBank.d611.s1|DDI-DrugBank.d611.s1.e1|DDI-DrugBank.d611.s1.e3|0|advise\n",
      "DDI-DrugBank.d611.s1|DDI-DrugBank.d611.s1.e2|DDI-DrugBank.d611.s1.e3|0|advise\n",
      "DDI-DrugBank.d776.s17|DDI-DrugBank.d776.s17.e0|DDI-DrugBank.d776.s17.e1|0|advise\n",
      "DDI-DrugBank.d597.s30|DDI-DrugBank.d597.s30.e0|DDI-DrugBank.d597.s30.e1|0|advise\n",
      "DDI-DrugBank.d597.s30|DDI-DrugBank.d597.s30.e0|DDI-DrugBank.d597.s30.e2|0|advise\n",
      "DDI-DrugBank.d597.s30|DDI-DrugBank.d597.s30.e1|DDI-DrugBank.d597.s30.e2|0|advise\n"
     ]
    }
   ],
   "source": [
    "lstm_predictions(df_test_medline, None)\n",
    "lstm_predictions(df_test_drugbank, None)"
   ]
  },
  {
   "cell_type": "code",
   "execution_count": 44,
   "metadata": {},
   "outputs": [
    {
     "name": "stderr",
     "output_type": "stream",
     "text": [
      "/Users/lluccardoner/anaconda3/envs/AHLT-LSTM/lib/python3.6/site-packages/sklearn/preprocessing/label.py:273: DataConversionWarning: A column-vector y was passed when a 1d array was expected. Please change the shape of y to (n_samples, ), for example using ravel().\n",
      "  y = column_or_1d(y, warn=True)\n"
     ]
    }
   ],
   "source": [
    "save_output(df_test_medline, \"task9.2_LSTM_medline.txt\")\n",
    "save_output(df_test_drugbank, \"task9.2_LSTM_drugbank.txt\")"
   ]
  },
  {
   "cell_type": "code",
   "execution_count": null,
   "metadata": {},
   "outputs": [],
   "source": []
  }
 ],
 "metadata": {
  "kernelspec": {
   "display_name": "Python 3",
   "language": "python",
   "name": "python3"
  },
  "language_info": {
   "codemirror_mode": {
    "name": "ipython",
    "version": 3
   },
   "file_extension": ".py",
   "mimetype": "text/x-python",
   "name": "python",
   "nbconvert_exporter": "python",
   "pygments_lexer": "ipython3",
   "version": "3.6.8"
  }
 },
 "nbformat": 4,
 "nbformat_minor": 2
}
