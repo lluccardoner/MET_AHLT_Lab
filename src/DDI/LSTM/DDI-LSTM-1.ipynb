{
 "cells": [
  {
   "cell_type": "markdown",
   "metadata": {},
   "source": [
    "# Drug Drug Interaction \n",
    "\n",
    "For each entity in a sentence, see if it has interaction with another entitiy in the sentence and of which type."
   ]
  },
  {
   "cell_type": "markdown",
   "metadata": {},
   "source": [
    "## Table of contents\n",
    "\n",
    "1. [Anonymizing the data](#1)\n",
    "2. [Word embeding](#2)\n",
    "3. [LSTM](#3)\n",
    "4. [Make predictions](#4)"
   ]
  },
  {
   "cell_type": "code",
   "execution_count": 1,
   "metadata": {},
   "outputs": [
    {
     "name": "stderr",
     "output_type": "stream",
     "text": [
      "/Users/lluccardoner/anaconda3/envs/AHLT-LSTM/lib/python3.6/site-packages/smart_open/ssh.py:34: UserWarning: paramiko missing, opening SSH/SCP/SFTP paths will be disabled.  `pip install paramiko` to suppress\n",
      "  warnings.warn('paramiko missing, opening SSH/SCP/SFTP paths will be disabled.  `pip install paramiko` to suppress')\n",
      "Using TensorFlow backend.\n"
     ]
    },
    {
     "name": "stdout",
     "output_type": "stream",
     "text": [
      "The keras version is 2.2.4.\n",
      "The nltk version is 0.21.1.\n",
      "The gensim version is 3.4.0.\n"
     ]
    }
   ],
   "source": [
    "import sys\n",
    "from os import listdir\n",
    "import os\n",
    "\n",
    "from xml.dom.minidom import parse\n",
    "\n",
    "import pandas as pd\n",
    "import numpy as np\n",
    "\n",
    "import nltk\n",
    "from nltk.tokenize import word_tokenize\n",
    "\n",
    "import matplotlib.pyplot as plt\n",
    "\n",
    "import sklearn\n",
    "from sklearn import preprocessing\n",
    "\n",
    "import gensim \n",
    "from gensim.models import Word2Vec\n",
    "\n",
    "import keras\n",
    "from keras.models import Sequential\n",
    "from keras.layers import Dense, LSTM, Activation\n",
    "\n",
    "print('The keras version is {}.'.format(keras.__version__))\n",
    "print('The nltk version is {}.'.format(sklearn.__version__))\n",
    "print('The gensim version is {}.'.format(gensim.__version__))"
   ]
  },
  {
   "cell_type": "code",
   "execution_count": 2,
   "metadata": {},
   "outputs": [],
   "source": [
    "dir_train_medline = \"/Users/lluccardoner/PycharmProjects/MET_AHLT_Lab_2019/data/Train/MedLine/\"\n",
    "dir_train_drugbank = \"/Users/lluccardoner/PycharmProjects/MET_AHLT_Lab_2019/data/Train/DrugBank/\""
   ]
  },
  {
   "cell_type": "code",
   "execution_count": 3,
   "metadata": {},
   "outputs": [],
   "source": [
    "dir_test_medline = \"/Users/lluccardoner/PycharmProjects/MET_AHLT_Lab_2019/data/Test-DDI/MedLine/\"\n",
    "dir_test_drugbank = \"/Users/lluccardoner/PycharmProjects/MET_AHLT_Lab_2019/data/Test-DDI/DrugBank/\""
   ]
  },
  {
   "cell_type": "markdown",
   "metadata": {},
   "source": [
    "## Anonymizing the data <a name=\"1\"></a>\n",
    "\n",
    "For each pair of entities in a sentence, sustitue the entity names with dummy names."
   ]
  },
  {
   "cell_type": "code",
   "execution_count": 4,
   "metadata": {},
   "outputs": [],
   "source": [
    "def get_dummy_text(txt, ents, e1, e2, error=False, debug=False):\n",
    "    try:\n",
    "        d = txt\n",
    "        diff = 0\n",
    "        for e in ents: \n",
    "            e_start = int(ents[e][0]) - diff\n",
    "            e_end = int(ents[e][1]) - diff \n",
    "            e_len = e_end - e_start + 1\n",
    "\n",
    "            if e==e1: \n",
    "                dummy = \"drug01\"\n",
    "            elif e==e2:\n",
    "                dummy = \"drug02\"\n",
    "            else:\n",
    "                dummy= \"drug00\"\n",
    "            \n",
    "            d = d[:e_start] + dummy + d[e_end+1:]\n",
    "            if debug:\n",
    "                print(diff, e_start, e_end, e_len)\n",
    "                print(d, end = \"\\n\\n\")\n",
    "            diff = diff  + (e_len - len(dummy))\n",
    "        return d\n",
    "    except Exception as ex:\n",
    "        if error:\n",
    "            print(e + ': ' + str(ex))"
   ]
  },
  {
   "cell_type": "code",
   "execution_count": 5,
   "metadata": {},
   "outputs": [
    {
     "data": {
      "text/plain": [
       "'Pharmacokinetic properties of drug00 were not altered by the addition of either drug01 or drug00 or the combination of drug02 and drug00.'"
      ]
     },
     "execution_count": 5,
     "metadata": {},
     "output_type": "execute_result"
    }
   ],
   "source": [
    "# Test the function\n",
    "s_txt = \"Pharmacokinetic properties of abacavir were not altered by the addition of either lamivudine or zidovudine or the combination of lamivudine and zidovudine.\" \n",
    "d = {'1': ['30', '37'], '2': ['82', '91'], '3': ['96', '105'], '4': ['129', '138'], '5': ['144', '153'], } \n",
    "e1 = \"2\"\n",
    "e2 = \"4\"\n",
    "\n",
    "get_dummy_text(s_txt, d, e1, e2)"
   ]
  },
  {
   "cell_type": "code",
   "execution_count": 6,
   "metadata": {},
   "outputs": [],
   "source": [
    "pairs_list = []\n",
    "for d in [dir_train_drugbank, dir_train_medline]:\n",
    "    for f in listdir(d):\n",
    "        tree = parse(d + \"/\" + f)\n",
    "        sentences = tree.getElementsByTagName(\"sentence\")\n",
    "        for s in sentences:\n",
    "            s_id = s.attributes[\"id\"].value\n",
    "            s_text = s.attributes[\"text\"].value\n",
    "\n",
    "            entities = {}\n",
    "            ents = s.getElementsByTagName(\"entity\")\n",
    "            for e in ents:\n",
    "                e_id = e.attributes[\"id\"].value\n",
    "                e_offs = e.attributes[\"charOffset\"].value.split(\";\")[-1].split(\"-\") # When two, offsets pick the second one\n",
    "                entities[e_id] = e_offs\n",
    "\n",
    "            pairs = s.getElementsByTagName(\"pair\")\n",
    "            for p in pairs:\n",
    "                p_id = p.attributes[\"id\"].value\n",
    "                e1_id = p.attributes[\"e1\"].value\n",
    "                e2_id = p.attributes[\"e2\"].value\n",
    "                is_ddi = p.attributes[\"ddi\"].value\n",
    "                \n",
    "                ddi = 1 if is_ddi==\"true\" else 0 \n",
    "                ddi_type = p.attributes[\"type\"].value if is_ddi==\"true\" and \"type\" in p.attributes else \"null\"\n",
    "                \n",
    "                s_dummy = get_dummy_text(s_text, entities, e1_id, e2_id)\n",
    "                s_dummy = 'SOS '+s_dummy+ ' EOS'\n",
    "                \n",
    "                pair_item = {\"p_id\":p_id, \"e1_id\":e1_id, \"e2_id\":e2_id, \"ddi\":ddi, \"ddi_type\": ddi_type, \n",
    "                             \"e1_offs\":entities[e1_id], \"e2_offs\":entities[e2_id], \"s_id\":s_id, \"s_text\":s_text,\n",
    "                             \"s_dir\":d, \"set\":d.split(\"/\")[-2], \"s_file\":f,\n",
    "                             \"s_text_dummy\": s_dummy}\n",
    "                pairs_list.append(pair_item)\n",
    "        \n",
    "df_train = pd.DataFrame(pairs_list)"
   ]
  },
  {
   "cell_type": "code",
   "execution_count": 7,
   "metadata": {},
   "outputs": [
    {
     "data": {
      "text/plain": [
       "set       ddi_type \n",
       "DrugBank  none         22217\n",
       "          effect        1535\n",
       "          mechanism     1257\n",
       "          advise         818\n",
       "          int            178\n",
       "MedLine   none          1555\n",
       "          effect         152\n",
       "          mechanism       62\n",
       "          int             10\n",
       "          advise           8\n",
       "Name: ddi_type, dtype: int64"
      ]
     },
     "execution_count": 7,
     "metadata": {},
     "output_type": "execute_result"
    }
   ],
   "source": [
    "df_train[[\"ddi_type\", \"set\"]].groupby([\"set\"])['ddi_type'].value_counts()"
   ]
  },
  {
   "cell_type": "markdown",
   "metadata": {},
   "source": [
    "The parsing of the offset is not right for all elements. Some entities have an offset like [94, 97;114, 121]"
   ]
  },
  {
   "cell_type": "code",
   "execution_count": 8,
   "metadata": {
    "scrolled": false
   },
   "outputs": [
    {
     "data": {
      "text/html": [
       "<div>\n",
       "<style scoped>\n",
       "    .dataframe tbody tr th:only-of-type {\n",
       "        vertical-align: middle;\n",
       "    }\n",
       "\n",
       "    .dataframe tbody tr th {\n",
       "        vertical-align: top;\n",
       "    }\n",
       "\n",
       "    .dataframe thead th {\n",
       "        text-align: right;\n",
       "    }\n",
       "</style>\n",
       "<table border=\"1\" class=\"dataframe\">\n",
       "  <thead>\n",
       "    <tr style=\"text-align: right;\">\n",
       "      <th></th>\n",
       "      <th>ddi</th>\n",
       "      <th>ddi_type</th>\n",
       "      <th>e1_id</th>\n",
       "      <th>e1_offs</th>\n",
       "      <th>e2_id</th>\n",
       "      <th>e2_offs</th>\n",
       "      <th>p_id</th>\n",
       "      <th>s_dir</th>\n",
       "      <th>s_file</th>\n",
       "      <th>s_id</th>\n",
       "      <th>s_text</th>\n",
       "      <th>s_text_dummy</th>\n",
       "      <th>set</th>\n",
       "    </tr>\n",
       "  </thead>\n",
       "  <tbody>\n",
       "    <tr>\n",
       "      <th>2317</th>\n",
       "      <td>0</td>\n",
       "      <td>none</td>\n",
       "      <td>DDI-DrugBank.d314.s30.e2</td>\n",
       "      <td>[114, 121]</td>\n",
       "      <td>DDI-DrugBank.d314.s30.e3</td>\n",
       "      <td>[102, 121]</td>\n",
       "      <td>DDI-DrugBank.d314.s30.p5</td>\n",
       "      <td>/Users/lluccardoner/PycharmProjects/MET_AHLT_L...</td>\n",
       "      <td>Dexamethasone_ddi.xml</td>\n",
       "      <td>DDI-DrugBank.d314.s30</td>\n",
       "      <td>Vaccines: Patients on corticosteroid therapy m...</td>\n",
       "      <td>SOS drug00: Patients on drug00 therapy may exh...</td>\n",
       "      <td>DrugBank</td>\n",
       "    </tr>\n",
       "  </tbody>\n",
       "</table>\n",
       "</div>"
      ],
      "text/plain": [
       "      ddi ddi_type                     e1_id     e1_offs  \\\n",
       "2317    0     none  DDI-DrugBank.d314.s30.e2  [114, 121]   \n",
       "\n",
       "                         e2_id     e2_offs                      p_id  \\\n",
       "2317  DDI-DrugBank.d314.s30.e3  [102, 121]  DDI-DrugBank.d314.s30.p5   \n",
       "\n",
       "                                                  s_dir  \\\n",
       "2317  /Users/lluccardoner/PycharmProjects/MET_AHLT_L...   \n",
       "\n",
       "                     s_file                   s_id  \\\n",
       "2317  Dexamethasone_ddi.xml  DDI-DrugBank.d314.s30   \n",
       "\n",
       "                                                 s_text  \\\n",
       "2317  Vaccines: Patients on corticosteroid therapy m...   \n",
       "\n",
       "                                           s_text_dummy       set  \n",
       "2317  SOS drug00: Patients on drug00 therapy may exh...  DrugBank  "
      ]
     },
     "execution_count": 8,
     "metadata": {},
     "output_type": "execute_result"
    }
   ],
   "source": [
    "df_train[df_train[\"e1_id\"]==\"DDI-DrugBank.d314.s30.e2\"]"
   ]
  },
  {
   "cell_type": "code",
   "execution_count": 9,
   "metadata": {},
   "outputs": [
    {
     "data": {
      "text/plain": [
       "0"
      ]
     },
     "execution_count": 9,
     "metadata": {},
     "output_type": "execute_result"
    }
   ],
   "source": [
    "df_train[df_train['s_text_dummy'].isnull()].size"
   ]
  },
  {
   "cell_type": "markdown",
   "metadata": {},
   "source": [
    "## Word embeding <a name=\"2\"></a>\n",
    "\n",
    "Train a word2vec model with the data"
   ]
  },
  {
   "cell_type": "code",
   "execution_count": 10,
   "metadata": {
    "scrolled": true
   },
   "outputs": [],
   "source": [
    "df_train['tokens'] = df_train['s_text_dummy'].apply(word_tokenize)"
   ]
  },
  {
   "cell_type": "code",
   "execution_count": 56,
   "metadata": {},
   "outputs": [
    {
     "data": {
      "text/plain": [
       "27792"
      ]
     },
     "execution_count": 56,
     "metadata": {},
     "output_type": "execute_result"
    }
   ],
   "source": [
    "data = df_train['tokens'].tolist()\n",
    "len(data)"
   ]
  },
  {
   "cell_type": "code",
   "execution_count": 57,
   "metadata": {},
   "outputs": [],
   "source": [
    "data.append([\"<UNK>\"])"
   ]
  },
  {
   "cell_type": "code",
   "execution_count": 58,
   "metadata": {},
   "outputs": [
    {
     "data": {
      "text/plain": [
       "['<UNK>']"
      ]
     },
     "execution_count": 58,
     "metadata": {},
     "output_type": "execute_result"
    }
   ],
   "source": [
    "data[27792]"
   ]
  },
  {
   "cell_type": "code",
   "execution_count": 59,
   "metadata": {},
   "outputs": [],
   "source": [
    "# https://radimrehurek.com/gensim/models/word2vec.html#gensim.models.word2vec.Word2Vec\n",
    "model1 = Word2Vec(data, min_count = 1, window=5, size = 100)"
   ]
  },
  {
   "cell_type": "code",
   "execution_count": 60,
   "metadata": {},
   "outputs": [
    {
     "data": {
      "text/plain": [
       "array([ 2.3869809e-03,  1.2376920e-04,  4.3486245e-03,  3.8292462e-03,\n",
       "        8.7121694e-04, -1.2805533e-04, -1.0911801e-03, -1.9360705e-03,\n",
       "       -4.0022880e-03, -2.8007743e-03, -1.3052481e-03, -4.0265620e-03,\n",
       "        4.7141989e-03,  1.2727791e-03, -6.7488593e-04, -4.7864309e-03,\n",
       "        4.6974095e-03, -1.5512395e-03, -2.1847317e-03,  2.5302207e-04,\n",
       "        2.7336334e-03, -4.5072357e-03, -4.1357181e-03,  8.3149376e-04,\n",
       "       -1.6975939e-05, -5.2697869e-04,  3.0383391e-03,  7.1515277e-04,\n",
       "        5.1178798e-05, -2.6973407e-03, -8.8697980e-04,  2.6538132e-03,\n",
       "        3.8627433e-04,  3.4431613e-03,  8.4863382e-04,  4.4342233e-03,\n",
       "       -2.6590221e-03,  3.2203384e-03,  1.4458601e-03,  2.0822410e-03,\n",
       "        3.7383998e-03,  2.8564536e-03,  3.1033924e-03, -4.0607466e-04,\n",
       "       -1.5759867e-03,  1.9404349e-03,  8.4781763e-04,  3.4855308e-03,\n",
       "        3.4802717e-03,  1.9136228e-04, -4.9315384e-03, -1.9249218e-03,\n",
       "       -3.1792310e-03, -5.1656965e-04,  5.1844254e-04, -3.5956562e-03,\n",
       "        5.2326085e-04, -4.1708103e-03,  4.4170814e-03, -3.7463191e-03,\n",
       "       -4.5774779e-03, -5.0230877e-04, -4.0233713e-03, -3.4206924e-03,\n",
       "        2.1820921e-03,  3.5251053e-03, -1.9414282e-03, -2.6206572e-03,\n",
       "       -8.5938117e-04, -3.8610206e-03,  3.0440412e-04,  3.1229816e-03,\n",
       "       -3.7316070e-03,  2.7872794e-03,  2.0423257e-03, -3.4006804e-03,\n",
       "        1.7540238e-03,  4.7243913e-03, -1.4418020e-04, -6.7412038e-04,\n",
       "        4.6642774e-05,  4.3437406e-03, -7.6343131e-04, -1.9021045e-03,\n",
       "        3.1062756e-03, -2.6933183e-03,  3.0512945e-03,  3.5778468e-03,\n",
       "       -2.8461367e-03, -7.2950876e-04,  3.5455001e-03, -3.3938687e-04,\n",
       "       -2.1599641e-03, -1.0502778e-03,  4.4595124e-03, -4.5415577e-03,\n",
       "       -1.2105936e-04,  1.5797841e-03, -7.4554502e-04,  4.9932313e-04],\n",
       "      dtype=float32)"
      ]
     },
     "execution_count": 60,
     "metadata": {},
     "output_type": "execute_result"
    }
   ],
   "source": [
    "model1.wv[\"<UNK>\"]"
   ]
  },
  {
   "cell_type": "code",
   "execution_count": 61,
   "metadata": {},
   "outputs": [],
   "source": [
    "df_train['tokens_enc'] = df_train['tokens'].apply(lambda x: [model1.wv[word] for word in x])"
   ]
  },
  {
   "cell_type": "code",
   "execution_count": 62,
   "metadata": {
    "scrolled": true
   },
   "outputs": [
    {
     "data": {
      "text/html": [
       "<div>\n",
       "<style scoped>\n",
       "    .dataframe tbody tr th:only-of-type {\n",
       "        vertical-align: middle;\n",
       "    }\n",
       "\n",
       "    .dataframe tbody tr th {\n",
       "        vertical-align: top;\n",
       "    }\n",
       "\n",
       "    .dataframe thead th {\n",
       "        text-align: right;\n",
       "    }\n",
       "</style>\n",
       "<table border=\"1\" class=\"dataframe\">\n",
       "  <thead>\n",
       "    <tr style=\"text-align: right;\">\n",
       "      <th></th>\n",
       "      <th>tokens</th>\n",
       "      <th>tokens_enc</th>\n",
       "    </tr>\n",
       "  </thead>\n",
       "  <tbody>\n",
       "    <tr>\n",
       "      <th>0</th>\n",
       "      <td>[SOS, Milk, ,, milk, products, ,, and, drug01-...</td>\n",
       "      <td>[[-0.44948217, -2.0579271, -1.6558512, -2.5068...</td>\n",
       "    </tr>\n",
       "    <tr>\n",
       "      <th>1</th>\n",
       "      <td>[SOS, The, concurrent, administration, of, dru...</td>\n",
       "      <td>[[-0.44948217, -2.0579271, -1.6558512, -2.5068...</td>\n",
       "    </tr>\n",
       "  </tbody>\n",
       "</table>\n",
       "</div>"
      ],
      "text/plain": [
       "                                              tokens  \\\n",
       "0  [SOS, Milk, ,, milk, products, ,, and, drug01-...   \n",
       "1  [SOS, The, concurrent, administration, of, dru...   \n",
       "\n",
       "                                          tokens_enc  \n",
       "0  [[-0.44948217, -2.0579271, -1.6558512, -2.5068...  \n",
       "1  [[-0.44948217, -2.0579271, -1.6558512, -2.5068...  "
      ]
     },
     "execution_count": 62,
     "metadata": {},
     "output_type": "execute_result"
    }
   ],
   "source": [
    "df_train[['tokens', 'tokens_enc']].head(2)"
   ]
  },
  {
   "cell_type": "markdown",
   "metadata": {},
   "source": [
    "## LSTM <a name=\"3\"></a>\n",
    "\n",
    "Train a LSTM with the word vectors."
   ]
  },
  {
   "cell_type": "code",
   "execution_count": 63,
   "metadata": {},
   "outputs": [
    {
     "data": {
      "text/html": [
       "<div>\n",
       "<style scoped>\n",
       "    .dataframe tbody tr th:only-of-type {\n",
       "        vertical-align: middle;\n",
       "    }\n",
       "\n",
       "    .dataframe tbody tr th {\n",
       "        vertical-align: top;\n",
       "    }\n",
       "\n",
       "    .dataframe thead th {\n",
       "        text-align: right;\n",
       "    }\n",
       "</style>\n",
       "<table border=\"1\" class=\"dataframe\">\n",
       "  <thead>\n",
       "    <tr style=\"text-align: right;\">\n",
       "      <th></th>\n",
       "      <th>ddi</th>\n",
       "      <th>ddi_type</th>\n",
       "      <th>e1_id</th>\n",
       "      <th>e1_offs</th>\n",
       "      <th>e2_id</th>\n",
       "      <th>e2_offs</th>\n",
       "      <th>p_id</th>\n",
       "      <th>s_dir</th>\n",
       "      <th>s_file</th>\n",
       "      <th>s_id</th>\n",
       "      <th>s_text</th>\n",
       "      <th>s_text_dummy</th>\n",
       "      <th>set</th>\n",
       "      <th>tokens</th>\n",
       "      <th>tokens_enc</th>\n",
       "    </tr>\n",
       "  </thead>\n",
       "  <tbody>\n",
       "    <tr>\n",
       "      <th>0</th>\n",
       "      <td>1</td>\n",
       "      <td>mechanism</td>\n",
       "      <td>DDI-DrugBank.d481.s0.e0</td>\n",
       "      <td>[25, 31]</td>\n",
       "      <td>DDI-DrugBank.d481.s0.e1</td>\n",
       "      <td>[82, 86]</td>\n",
       "      <td>DDI-DrugBank.d481.s0.p0</td>\n",
       "      <td>/Users/lluccardoner/PycharmProjects/MET_AHLT_L...</td>\n",
       "      <td>Estramustine_ddi.xml</td>\n",
       "      <td>DDI-DrugBank.d481.s0</td>\n",
       "      <td>Milk, milk products, and calcium-rich foods or...</td>\n",
       "      <td>SOS Milk, milk products, and drug01-rich foods...</td>\n",
       "      <td>DrugBank</td>\n",
       "      <td>[SOS, Milk, ,, milk, products, ,, and, drug01-...</td>\n",
       "      <td>[[-0.44948217, -2.0579271, -1.6558512, -2.5068...</td>\n",
       "    </tr>\n",
       "    <tr>\n",
       "      <th>1</th>\n",
       "      <td>1</td>\n",
       "      <td>effect</td>\n",
       "      <td>DDI-DrugBank.d419.s0.e0</td>\n",
       "      <td>[33, 43]</td>\n",
       "      <td>DDI-DrugBank.d419.s0.e1</td>\n",
       "      <td>[49, 58]</td>\n",
       "      <td>DDI-DrugBank.d419.s0.p0</td>\n",
       "      <td>/Users/lluccardoner/PycharmProjects/MET_AHLT_L...</td>\n",
       "      <td>Clavulanate_ddi.xml</td>\n",
       "      <td>DDI-DrugBank.d419.s0</td>\n",
       "      <td>The concurrent administration of allopurinol a...</td>\n",
       "      <td>SOS The concurrent administration of drug01 an...</td>\n",
       "      <td>DrugBank</td>\n",
       "      <td>[SOS, The, concurrent, administration, of, dru...</td>\n",
       "      <td>[[-0.44948217, -2.0579271, -1.6558512, -2.5068...</td>\n",
       "    </tr>\n",
       "    <tr>\n",
       "      <th>2</th>\n",
       "      <td>0</td>\n",
       "      <td>none</td>\n",
       "      <td>DDI-DrugBank.d419.s0.e0</td>\n",
       "      <td>[33, 43]</td>\n",
       "      <td>DDI-DrugBank.d419.s0.e2</td>\n",
       "      <td>[175, 184]</td>\n",
       "      <td>DDI-DrugBank.d419.s0.p1</td>\n",
       "      <td>/Users/lluccardoner/PycharmProjects/MET_AHLT_L...</td>\n",
       "      <td>Clavulanate_ddi.xml</td>\n",
       "      <td>DDI-DrugBank.d419.s0</td>\n",
       "      <td>The concurrent administration of allopurinol a...</td>\n",
       "      <td>SOS The concurrent administration of drug01 an...</td>\n",
       "      <td>DrugBank</td>\n",
       "      <td>[SOS, The, concurrent, administration, of, dru...</td>\n",
       "      <td>[[-0.44948217, -2.0579271, -1.6558512, -2.5068...</td>\n",
       "    </tr>\n",
       "    <tr>\n",
       "      <th>3</th>\n",
       "      <td>0</td>\n",
       "      <td>none</td>\n",
       "      <td>DDI-DrugBank.d419.s0.e1</td>\n",
       "      <td>[49, 58]</td>\n",
       "      <td>DDI-DrugBank.d419.s0.e2</td>\n",
       "      <td>[175, 184]</td>\n",
       "      <td>DDI-DrugBank.d419.s0.p2</td>\n",
       "      <td>/Users/lluccardoner/PycharmProjects/MET_AHLT_L...</td>\n",
       "      <td>Clavulanate_ddi.xml</td>\n",
       "      <td>DDI-DrugBank.d419.s0</td>\n",
       "      <td>The concurrent administration of allopurinol a...</td>\n",
       "      <td>SOS The concurrent administration of drug00 an...</td>\n",
       "      <td>DrugBank</td>\n",
       "      <td>[SOS, The, concurrent, administration, of, dru...</td>\n",
       "      <td>[[-0.44948217, -2.0579271, -1.6558512, -2.5068...</td>\n",
       "    </tr>\n",
       "    <tr>\n",
       "      <th>4</th>\n",
       "      <td>1</td>\n",
       "      <td>effect</td>\n",
       "      <td>DDI-DrugBank.d419.s1.e0</td>\n",
       "      <td>[45, 54]</td>\n",
       "      <td>DDI-DrugBank.d419.s1.e1</td>\n",
       "      <td>[73, 83]</td>\n",
       "      <td>DDI-DrugBank.d419.s1.p0</td>\n",
       "      <td>/Users/lluccardoner/PycharmProjects/MET_AHLT_L...</td>\n",
       "      <td>Clavulanate_ddi.xml</td>\n",
       "      <td>DDI-DrugBank.d419.s1</td>\n",
       "      <td>It is not known whether this potentiation of a...</td>\n",
       "      <td>SOS It is not known whether this potentiation ...</td>\n",
       "      <td>DrugBank</td>\n",
       "      <td>[SOS, It, is, not, known, whether, this, poten...</td>\n",
       "      <td>[[-0.44948217, -2.0579271, -1.6558512, -2.5068...</td>\n",
       "    </tr>\n",
       "  </tbody>\n",
       "</table>\n",
       "</div>"
      ],
      "text/plain": [
       "   ddi   ddi_type                    e1_id   e1_offs                    e2_id  \\\n",
       "0    1  mechanism  DDI-DrugBank.d481.s0.e0  [25, 31]  DDI-DrugBank.d481.s0.e1   \n",
       "1    1     effect  DDI-DrugBank.d419.s0.e0  [33, 43]  DDI-DrugBank.d419.s0.e1   \n",
       "2    0       none  DDI-DrugBank.d419.s0.e0  [33, 43]  DDI-DrugBank.d419.s0.e2   \n",
       "3    0       none  DDI-DrugBank.d419.s0.e1  [49, 58]  DDI-DrugBank.d419.s0.e2   \n",
       "4    1     effect  DDI-DrugBank.d419.s1.e0  [45, 54]  DDI-DrugBank.d419.s1.e1   \n",
       "\n",
       "      e2_offs                     p_id  \\\n",
       "0    [82, 86]  DDI-DrugBank.d481.s0.p0   \n",
       "1    [49, 58]  DDI-DrugBank.d419.s0.p0   \n",
       "2  [175, 184]  DDI-DrugBank.d419.s0.p1   \n",
       "3  [175, 184]  DDI-DrugBank.d419.s0.p2   \n",
       "4    [73, 83]  DDI-DrugBank.d419.s1.p0   \n",
       "\n",
       "                                               s_dir                s_file  \\\n",
       "0  /Users/lluccardoner/PycharmProjects/MET_AHLT_L...  Estramustine_ddi.xml   \n",
       "1  /Users/lluccardoner/PycharmProjects/MET_AHLT_L...   Clavulanate_ddi.xml   \n",
       "2  /Users/lluccardoner/PycharmProjects/MET_AHLT_L...   Clavulanate_ddi.xml   \n",
       "3  /Users/lluccardoner/PycharmProjects/MET_AHLT_L...   Clavulanate_ddi.xml   \n",
       "4  /Users/lluccardoner/PycharmProjects/MET_AHLT_L...   Clavulanate_ddi.xml   \n",
       "\n",
       "                   s_id                                             s_text  \\\n",
       "0  DDI-DrugBank.d481.s0  Milk, milk products, and calcium-rich foods or...   \n",
       "1  DDI-DrugBank.d419.s0  The concurrent administration of allopurinol a...   \n",
       "2  DDI-DrugBank.d419.s0  The concurrent administration of allopurinol a...   \n",
       "3  DDI-DrugBank.d419.s0  The concurrent administration of allopurinol a...   \n",
       "4  DDI-DrugBank.d419.s1  It is not known whether this potentiation of a...   \n",
       "\n",
       "                                        s_text_dummy       set  \\\n",
       "0  SOS Milk, milk products, and drug01-rich foods...  DrugBank   \n",
       "1  SOS The concurrent administration of drug01 an...  DrugBank   \n",
       "2  SOS The concurrent administration of drug01 an...  DrugBank   \n",
       "3  SOS The concurrent administration of drug00 an...  DrugBank   \n",
       "4  SOS It is not known whether this potentiation ...  DrugBank   \n",
       "\n",
       "                                              tokens  \\\n",
       "0  [SOS, Milk, ,, milk, products, ,, and, drug01-...   \n",
       "1  [SOS, The, concurrent, administration, of, dru...   \n",
       "2  [SOS, The, concurrent, administration, of, dru...   \n",
       "3  [SOS, The, concurrent, administration, of, dru...   \n",
       "4  [SOS, It, is, not, known, whether, this, poten...   \n",
       "\n",
       "                                          tokens_enc  \n",
       "0  [[-0.44948217, -2.0579271, -1.6558512, -2.5068...  \n",
       "1  [[-0.44948217, -2.0579271, -1.6558512, -2.5068...  \n",
       "2  [[-0.44948217, -2.0579271, -1.6558512, -2.5068...  \n",
       "3  [[-0.44948217, -2.0579271, -1.6558512, -2.5068...  \n",
       "4  [[-0.44948217, -2.0579271, -1.6558512, -2.5068...  "
      ]
     },
     "execution_count": 63,
     "metadata": {},
     "output_type": "execute_result"
    }
   ],
   "source": [
    "df_train.head(5)"
   ]
  },
  {
   "cell_type": "code",
   "execution_count": 64,
   "metadata": {},
   "outputs": [
    {
     "data": {
      "text/plain": [
       "(27792,)"
      ]
     },
     "execution_count": 64,
     "metadata": {},
     "output_type": "execute_result"
    }
   ],
   "source": [
    "Ys = df_train['ddi_type']\n",
    "Ys.shape"
   ]
  },
  {
   "cell_type": "code",
   "execution_count": 65,
   "metadata": {},
   "outputs": [
    {
     "name": "stdout",
     "output_type": "stream",
     "text": [
      "Classes: ['advise' 'effect' 'int' 'mechanism' 'none']\n"
     ]
    }
   ],
   "source": [
    "le = preprocessing.LabelEncoder()\n",
    "le.fit(Ys)\n",
    "print(\"Classes:\",le.classes_)"
   ]
  },
  {
   "cell_type": "code",
   "execution_count": 66,
   "metadata": {},
   "outputs": [],
   "source": [
    "df_train['ddi_type_enc'] = df_train['ddi_type'].apply(lambda x: le.transform([x]) )"
   ]
  },
  {
   "cell_type": "code",
   "execution_count": 67,
   "metadata": {},
   "outputs": [
    {
     "data": {
      "text/html": [
       "<div>\n",
       "<style scoped>\n",
       "    .dataframe tbody tr th:only-of-type {\n",
       "        vertical-align: middle;\n",
       "    }\n",
       "\n",
       "    .dataframe tbody tr th {\n",
       "        vertical-align: top;\n",
       "    }\n",
       "\n",
       "    .dataframe thead th {\n",
       "        text-align: right;\n",
       "    }\n",
       "</style>\n",
       "<table border=\"1\" class=\"dataframe\">\n",
       "  <thead>\n",
       "    <tr style=\"text-align: right;\">\n",
       "      <th></th>\n",
       "      <th>ddi</th>\n",
       "      <th>ddi_type</th>\n",
       "      <th>e1_id</th>\n",
       "      <th>e1_offs</th>\n",
       "      <th>e2_id</th>\n",
       "      <th>e2_offs</th>\n",
       "      <th>p_id</th>\n",
       "      <th>s_dir</th>\n",
       "      <th>s_file</th>\n",
       "      <th>s_id</th>\n",
       "      <th>s_text</th>\n",
       "      <th>s_text_dummy</th>\n",
       "      <th>set</th>\n",
       "      <th>tokens</th>\n",
       "      <th>tokens_enc</th>\n",
       "      <th>ddi_type_enc</th>\n",
       "    </tr>\n",
       "  </thead>\n",
       "  <tbody>\n",
       "    <tr>\n",
       "      <th>0</th>\n",
       "      <td>1</td>\n",
       "      <td>mechanism</td>\n",
       "      <td>DDI-DrugBank.d481.s0.e0</td>\n",
       "      <td>[25, 31]</td>\n",
       "      <td>DDI-DrugBank.d481.s0.e1</td>\n",
       "      <td>[82, 86]</td>\n",
       "      <td>DDI-DrugBank.d481.s0.p0</td>\n",
       "      <td>/Users/lluccardoner/PycharmProjects/MET_AHLT_L...</td>\n",
       "      <td>Estramustine_ddi.xml</td>\n",
       "      <td>DDI-DrugBank.d481.s0</td>\n",
       "      <td>Milk, milk products, and calcium-rich foods or...</td>\n",
       "      <td>SOS Milk, milk products, and drug01-rich foods...</td>\n",
       "      <td>DrugBank</td>\n",
       "      <td>[SOS, Milk, ,, milk, products, ,, and, drug01-...</td>\n",
       "      <td>[[-0.44948217, -2.0579271, -1.6558512, -2.5068...</td>\n",
       "      <td>[3]</td>\n",
       "    </tr>\n",
       "  </tbody>\n",
       "</table>\n",
       "</div>"
      ],
      "text/plain": [
       "   ddi   ddi_type                    e1_id   e1_offs                    e2_id  \\\n",
       "0    1  mechanism  DDI-DrugBank.d481.s0.e0  [25, 31]  DDI-DrugBank.d481.s0.e1   \n",
       "\n",
       "    e2_offs                     p_id  \\\n",
       "0  [82, 86]  DDI-DrugBank.d481.s0.p0   \n",
       "\n",
       "                                               s_dir                s_file  \\\n",
       "0  /Users/lluccardoner/PycharmProjects/MET_AHLT_L...  Estramustine_ddi.xml   \n",
       "\n",
       "                   s_id                                             s_text  \\\n",
       "0  DDI-DrugBank.d481.s0  Milk, milk products, and calcium-rich foods or...   \n",
       "\n",
       "                                        s_text_dummy       set  \\\n",
       "0  SOS Milk, milk products, and drug01-rich foods...  DrugBank   \n",
       "\n",
       "                                              tokens  \\\n",
       "0  [SOS, Milk, ,, milk, products, ,, and, drug01-...   \n",
       "\n",
       "                                          tokens_enc ddi_type_enc  \n",
       "0  [[-0.44948217, -2.0579271, -1.6558512, -2.5068...          [3]  "
      ]
     },
     "execution_count": 67,
     "metadata": {},
     "output_type": "execute_result"
    }
   ],
   "source": [
    "df_train.head(1)"
   ]
  },
  {
   "cell_type": "code",
   "execution_count": 68,
   "metadata": {},
   "outputs": [
    {
     "name": "stdout",
     "output_type": "stream",
     "text": [
      "(27792,) (27792, 1)\n"
     ]
    }
   ],
   "source": [
    "Xs_enc = np.array(df_train['tokens_enc'].tolist())\n",
    "Ys_enc = np.array(df_train['ddi_type_enc'].tolist())\n",
    "print(Xs_enc.shape, Ys_enc.shape)"
   ]
  },
  {
   "cell_type": "code",
   "execution_count": 69,
   "metadata": {},
   "outputs": [
    {
     "name": "stdout",
     "output_type": "stream",
     "text": [
      "27792 19 100\n"
     ]
    }
   ],
   "source": [
    "# Xs_enc = [sentence1 , sentence2, ...]\n",
    "# Xs_enc[i] = [word1, word2, ...]\n",
    "# Xs_enc[i][j] = [vector]\n",
    "# Xs_enc = [[[vector], [vector], ...] , [[vector], [vector], ...], ...]\n",
    "# reshape input to be [sentence, words, features]\n",
    "print(len(Xs_enc), len(Xs_enc[0]), len(Xs_enc[0][0]))"
   ]
  },
  {
   "cell_type": "code",
   "execution_count": 70,
   "metadata": {},
   "outputs": [
    {
     "name": "stdout",
     "output_type": "stream",
     "text": [
      "Max: 152 Min: 3 Mean 54.08822682786413\n"
     ]
    }
   ],
   "source": [
    "sentence_len = [len(x) for x in Xs_enc]\n",
    "print(\"Max:\", max(sentence_len), \"Min:\", min(sentence_len), \"Mean\", np.mean(sentence_len))"
   ]
  },
  {
   "cell_type": "code",
   "execution_count": 71,
   "metadata": {},
   "outputs": [
    {
     "name": "stdout",
     "output_type": "stream",
     "text": [
      "<class 'numpy.ndarray'> (27792, 152, 100)\n"
     ]
    }
   ],
   "source": [
    "trainX = np.zeros([27792, 152, 100])\n",
    "\n",
    "for i, s in enumerate(Xs_enc):\n",
    "    s = np.array(s)\n",
    "    shape = s.shape\n",
    "    for j in range(shape[0], 152):\n",
    "        s = np.append(s, np.zeros([1,100]), axis=0)\n",
    "    trainX[i] = s\n",
    "    \n",
    "print( type(trainX), trainX.shape)"
   ]
  },
  {
   "cell_type": "code",
   "execution_count": 72,
   "metadata": {
    "scrolled": false
   },
   "outputs": [
    {
     "name": "stdout",
     "output_type": "stream",
     "text": [
      "Categories:  [array([0., 1., 2., 3., 4.])]\n"
     ]
    },
    {
     "name": "stderr",
     "output_type": "stream",
     "text": [
      "/Users/lluccardoner/anaconda3/envs/AHLT-LSTM/lib/python3.6/site-packages/sklearn/preprocessing/_encoders.py:414: FutureWarning: The handling of integer data will change in version 0.22. Currently, the categories are determined based on the range [0, max(values)], while in the future they will be determined based on the unique values.\n",
      "If you want the future behaviour and silence this warning, you can specify \"categories='auto'\".\n",
      "In case you used a LabelEncoder before this OneHotEncoder to convert the categories to integers, then you can now use the OneHotEncoder directly.\n",
      "  warnings.warn(msg, FutureWarning)\n"
     ]
    }
   ],
   "source": [
    "enc = preprocessing.OneHotEncoder(sparse=False)\n",
    "enc.fit(Ys_enc)\n",
    "print(\"Categories: \",enc.categories_)"
   ]
  },
  {
   "cell_type": "code",
   "execution_count": 103,
   "metadata": {},
   "outputs": [
    {
     "data": {
      "text/plain": [
       "array([[0., 0., 0., 0., 1.]])"
      ]
     },
     "execution_count": 103,
     "metadata": {},
     "output_type": "execute_result"
    }
   ],
   "source": [
    "enc.transform(np.array([0]).reshape((1, -1)))\n",
    "enc.transform(np.array([1]).reshape((1, -1)))\n",
    "enc.transform(np.array([2]).reshape((1, -1)))\n",
    "enc.transform(np.array([3]).reshape((1, -1)))\n",
    "enc.transform(np.array([4]).reshape((1, -1)))"
   ]
  },
  {
   "cell_type": "code",
   "execution_count": 73,
   "metadata": {},
   "outputs": [
    {
     "name": "stdout",
     "output_type": "stream",
     "text": [
      "<class 'numpy.ndarray'> (27792, 5)\n"
     ]
    }
   ],
   "source": [
    "trainY = np.zeros([27792, 5]) #5 classes\n",
    "\n",
    "for i, l in enumerate(Ys_enc):\n",
    "    l_enc = enc.transform(l.reshape(1, -1))\n",
    "    trainY[i] = np.array(l_enc)\n",
    "    \n",
    "print(type(trainY), trainY.shape)"
   ]
  },
  {
   "cell_type": "code",
   "execution_count": 74,
   "metadata": {
    "scrolled": false
   },
   "outputs": [
    {
     "name": "stdout",
     "output_type": "stream",
     "text": [
      "WARNING:tensorflow:From /Users/lluccardoner/anaconda3/envs/AHLT-LSTM/lib/python3.6/site-packages/tensorflow/python/framework/op_def_library.py:263: colocate_with (from tensorflow.python.framework.ops) is deprecated and will be removed in a future version.\n",
      "Instructions for updating:\n",
      "Colocations handled automatically by placer.\n"
     ]
    }
   ],
   "source": [
    "model = Sequential()\n",
    "model.add(LSTM(52, input_shape=(152, 100)))\n",
    "model.add(Dense(5))\n",
    "model.add(Activation('softmax'))\n",
    "model.compile(loss='categorical_crossentropy', optimizer='adam', metrics=['accuracy'])"
   ]
  },
  {
   "cell_type": "code",
   "execution_count": 75,
   "metadata": {},
   "outputs": [
    {
     "name": "stdout",
     "output_type": "stream",
     "text": [
      "WARNING:tensorflow:From /Users/lluccardoner/anaconda3/envs/AHLT-LSTM/lib/python3.6/site-packages/tensorflow/python/ops/math_ops.py:3066: to_int32 (from tensorflow.python.ops.math_ops) is deprecated and will be removed in a future version.\n",
      "Instructions for updating:\n",
      "Use tf.cast instead.\n",
      "Epoch 1/3\n",
      "27792/27792 [==============================] - 120s 4ms/step - loss: 0.6316 - acc: 0.8526\n",
      "Epoch 2/3\n",
      "27792/27792 [==============================] - 114s 4ms/step - loss: 0.5471 - acc: 0.8554\n",
      "Epoch 3/3\n",
      "27792/27792 [==============================] - 118s 4ms/step - loss: 0.5271 - acc: 0.8554\n"
     ]
    }
   ],
   "source": [
    "history = model.fit(trainX, trainY, epochs=3, batch_size=100, verbose=1)"
   ]
  },
  {
   "cell_type": "code",
   "execution_count": 76,
   "metadata": {},
   "outputs": [
    {
     "data": {
      "image/png": "[encoded data removed]",
      "text/plain": [
       "<Figure size 432x288 with 1 Axes>"
      ]
     },
     "metadata": {
      "needs_background": "light"
     },
     "output_type": "display_data"
    }
   ],
   "source": [
    "# summarize history for accuracy\n",
    "plt.plot(history.history['acc'])\n",
    "# plt.plot(history.history['val_acc'])\n",
    "plt.title('model accuracy')\n",
    "plt.ylabel('accuracy')\n",
    "plt.xlabel('epoch')\n",
    "plt.legend(['train', 'test'], loc='upper left')\n",
    "plt.show()"
   ]
  },
  {
   "cell_type": "code",
   "execution_count": 77,
   "metadata": {},
   "outputs": [
    {
     "data": {
      "image/png": "[encoded data removed]",
      "text/plain": [
       "<Figure size 432x288 with 1 Axes>"
      ]
     },
     "metadata": {
      "needs_background": "light"
     },
     "output_type": "display_data"
    }
   ],
   "source": [
    "# summarize history for loss\n",
    "plt.plot()\n",
    "plt.plot(history.history['loss'])\n",
    "# plt.plot(history.history['val_loss'])\n",
    "plt.title('model loss')\n",
    "plt.ylabel('loss')\n",
    "plt.xlabel('epoch')\n",
    "plt.legend(['train', 'test'], loc='upper left')\n",
    "plt.show()"
   ]
  },
  {
   "cell_type": "markdown",
   "metadata": {},
   "source": [
    "## Make predictions <a name=\"4\"></a>\n",
    "\n",
    "Train a LSTM with the word vectors."
   ]
  },
  {
   "cell_type": "code",
   "execution_count": 78,
   "metadata": {},
   "outputs": [],
   "source": [
    "test_dfs={}\n",
    "for d in [dir_test_drugbank, dir_test_medline]:\n",
    "    pairs_list = []\n",
    "    for f in listdir(d):\n",
    "        tree = parse(d + \"/\" + f)\n",
    "        sentences = tree.getElementsByTagName(\"sentence\")\n",
    "        for s in sentences:\n",
    "            s_id = s.attributes[\"id\"].value\n",
    "            s_text = s.attributes[\"text\"].value\n",
    "\n",
    "            entities = {}\n",
    "            ents = s.getElementsByTagName(\"entity\")\n",
    "            for e in ents:\n",
    "                e_id = e.attributes[\"id\"].value\n",
    "                e_offs = e.attributes[\"charOffset\"].value.split(\";\")[-1].split(\"-\") # When two, offsets pick the second one\n",
    "                entities[e_id] = e_offs\n",
    "\n",
    "            pairs = s.getElementsByTagName(\"pair\")\n",
    "            for p in pairs:\n",
    "                p_id = p.attributes[\"id\"].value\n",
    "                e1_id = p.attributes[\"e1\"].value\n",
    "                e2_id = p.attributes[\"e2\"].value\n",
    "                is_ddi = p.attributes[\"ddi\"].value\n",
    "                \n",
    "                ddi = 1 if is_ddi==\"true\" else 0 \n",
    "                ddi_type = p.attributes[\"type\"].value if is_ddi==\"true\" and \"type\" in p.attributes else \"none\"\n",
    "                \n",
    "                s_dummy = 'SOS '+s_text+ ' EOS'\n",
    "                \n",
    "                pair_item = {\"p_id\":p_id, \"e1_id\":e1_id, \"e2_id\":e2_id, \"ddi\":ddi, \"ddi_type\": ddi_type, \n",
    "                             \"e1_offs\":entities[e1_id], \"e2_offs\":entities[e2_id], \"s_id\":s_id, \"s_text\":s_text,\n",
    "                             \"s_dir\":d, \"set\":d.split(\"/\")[-2], \"s_file\":f, \"s_text_dummy\": s_dummy}\n",
    "                pairs_list.append(pair_item)\n",
    "    test_dfs[d] = pairs_list\n",
    "    \n",
    "df_test_medline = pd.DataFrame(test_dfs[dir_test_medline])\n",
    "df_test_drugbank = pd.DataFrame(test_dfs[dir_test_drugbank])"
   ]
  },
  {
   "cell_type": "code",
   "execution_count": 79,
   "metadata": {},
   "outputs": [],
   "source": [
    "df_test_medline['tokens'] = df_test_medline['s_text_dummy'].apply(word_tokenize)\n",
    "df_test_drugbank['tokens'] = df_test_drugbank['s_text_dummy'].apply(word_tokenize)"
   ]
  },
  {
   "cell_type": "code",
   "execution_count": 80,
   "metadata": {},
   "outputs": [],
   "source": [
    "df_test_medline['tokens_enc'] = df_test_medline['tokens'].apply(lambda x: [model1.wv[word] if word in model1.wv.vocab else model1.wv['<UNK>'] for word in x])\n",
    "df_test_drugbank['tokens_enc'] = df_test_drugbank['tokens'].apply(lambda x: [model1.wv[word] if word in model1.wv.vocab else model1.wv['<UNK>'] for word in x])"
   ]
  },
  {
   "cell_type": "code",
   "execution_count": 81,
   "metadata": {},
   "outputs": [
    {
     "data": {
      "text/html": [
       "<div>\n",
       "<style scoped>\n",
       "    .dataframe tbody tr th:only-of-type {\n",
       "        vertical-align: middle;\n",
       "    }\n",
       "\n",
       "    .dataframe tbody tr th {\n",
       "        vertical-align: top;\n",
       "    }\n",
       "\n",
       "    .dataframe thead th {\n",
       "        text-align: right;\n",
       "    }\n",
       "</style>\n",
       "<table border=\"1\" class=\"dataframe\">\n",
       "  <thead>\n",
       "    <tr style=\"text-align: right;\">\n",
       "      <th></th>\n",
       "      <th>ddi</th>\n",
       "      <th>ddi_type</th>\n",
       "      <th>e1_id</th>\n",
       "      <th>e1_offs</th>\n",
       "      <th>e2_id</th>\n",
       "      <th>e2_offs</th>\n",
       "      <th>p_id</th>\n",
       "      <th>s_dir</th>\n",
       "      <th>s_file</th>\n",
       "      <th>s_id</th>\n",
       "      <th>s_text</th>\n",
       "      <th>s_text_dummy</th>\n",
       "      <th>set</th>\n",
       "      <th>tokens</th>\n",
       "      <th>tokens_enc</th>\n",
       "    </tr>\n",
       "  </thead>\n",
       "  <tbody>\n",
       "    <tr>\n",
       "      <th>0</th>\n",
       "      <td>0</td>\n",
       "      <td>none</td>\n",
       "      <td>DDI-MedLine.d180.s1.e0</td>\n",
       "      <td>[4, 22]</td>\n",
       "      <td>DDI-MedLine.d180.s1.e1</td>\n",
       "      <td>[25, 29]</td>\n",
       "      <td>DDI-MedLine.d180.s1.p0</td>\n",
       "      <td>/Users/lluccardoner/PycharmProjects/MET_AHLT_L...</td>\n",
       "      <td>21720561.xml</td>\n",
       "      <td>DDI-MedLine.d180.s1</td>\n",
       "      <td>The 3-Deazaneplanocin A (DZNep), one of S-aden...</td>\n",
       "      <td>SOS The 3-Deazaneplanocin A (DZNep), one of S-...</td>\n",
       "      <td>MedLine</td>\n",
       "      <td>[SOS, The, 3-Deazaneplanocin, A, (, DZNep, ), ...</td>\n",
       "      <td>[[-0.44948217, -2.0579271, -1.6558512, -2.5068...</td>\n",
       "    </tr>\n",
       "    <tr>\n",
       "      <th>1</th>\n",
       "      <td>0</td>\n",
       "      <td>none</td>\n",
       "      <td>DDI-MedLine.d180.s10.e0</td>\n",
       "      <td>[46, 50]</td>\n",
       "      <td>DDI-MedLine.d180.s10.e1</td>\n",
       "      <td>[92, 96]</td>\n",
       "      <td>DDI-MedLine.d180.s10.p0</td>\n",
       "      <td>/Users/lluccardoner/PycharmProjects/MET_AHLT_L...</td>\n",
       "      <td>21720561.xml</td>\n",
       "      <td>DDI-MedLine.d180.s10</td>\n",
       "      <td>We also found that Bcl-2 was overexpressed in ...</td>\n",
       "      <td>SOS We also found that Bcl-2 was overexpressed...</td>\n",
       "      <td>MedLine</td>\n",
       "      <td>[SOS, We, also, found, that, Bcl-2, was, overe...</td>\n",
       "      <td>[[-0.44948217, -2.0579271, -1.6558512, -2.5068...</td>\n",
       "    </tr>\n",
       "    <tr>\n",
       "      <th>2</th>\n",
       "      <td>0</td>\n",
       "      <td>none</td>\n",
       "      <td>DDI-MedLine.d180.s10.e0</td>\n",
       "      <td>[46, 50]</td>\n",
       "      <td>DDI-MedLine.d180.s10.e2</td>\n",
       "      <td>[102, 108]</td>\n",
       "      <td>DDI-MedLine.d180.s10.p1</td>\n",
       "      <td>/Users/lluccardoner/PycharmProjects/MET_AHLT_L...</td>\n",
       "      <td>21720561.xml</td>\n",
       "      <td>DDI-MedLine.d180.s10</td>\n",
       "      <td>We also found that Bcl-2 was overexpressed in ...</td>\n",
       "      <td>SOS We also found that Bcl-2 was overexpressed...</td>\n",
       "      <td>MedLine</td>\n",
       "      <td>[SOS, We, also, found, that, Bcl-2, was, overe...</td>\n",
       "      <td>[[-0.44948217, -2.0579271, -1.6558512, -2.5068...</td>\n",
       "    </tr>\n",
       "    <tr>\n",
       "      <th>3</th>\n",
       "      <td>0</td>\n",
       "      <td>none</td>\n",
       "      <td>DDI-MedLine.d180.s10.e0</td>\n",
       "      <td>[46, 50]</td>\n",
       "      <td>DDI-MedLine.d180.s10.e3</td>\n",
       "      <td>[195, 199]</td>\n",
       "      <td>DDI-MedLine.d180.s10.p2</td>\n",
       "      <td>/Users/lluccardoner/PycharmProjects/MET_AHLT_L...</td>\n",
       "      <td>21720561.xml</td>\n",
       "      <td>DDI-MedLine.d180.s10</td>\n",
       "      <td>We also found that Bcl-2 was overexpressed in ...</td>\n",
       "      <td>SOS We also found that Bcl-2 was overexpressed...</td>\n",
       "      <td>MedLine</td>\n",
       "      <td>[SOS, We, also, found, that, Bcl-2, was, overe...</td>\n",
       "      <td>[[-0.44948217, -2.0579271, -1.6558512, -2.5068...</td>\n",
       "    </tr>\n",
       "    <tr>\n",
       "      <th>4</th>\n",
       "      <td>1</td>\n",
       "      <td>effect</td>\n",
       "      <td>DDI-MedLine.d180.s10.e1</td>\n",
       "      <td>[92, 96]</td>\n",
       "      <td>DDI-MedLine.d180.s10.e2</td>\n",
       "      <td>[102, 108]</td>\n",
       "      <td>DDI-MedLine.d180.s10.p3</td>\n",
       "      <td>/Users/lluccardoner/PycharmProjects/MET_AHLT_L...</td>\n",
       "      <td>21720561.xml</td>\n",
       "      <td>DDI-MedLine.d180.s10</td>\n",
       "      <td>We also found that Bcl-2 was overexpressed in ...</td>\n",
       "      <td>SOS We also found that Bcl-2 was overexpressed...</td>\n",
       "      <td>MedLine</td>\n",
       "      <td>[SOS, We, also, found, that, Bcl-2, was, overe...</td>\n",
       "      <td>[[-0.44948217, -2.0579271, -1.6558512, -2.5068...</td>\n",
       "    </tr>\n",
       "  </tbody>\n",
       "</table>\n",
       "</div>"
      ],
      "text/plain": [
       "   ddi ddi_type                    e1_id   e1_offs                    e2_id  \\\n",
       "0    0     none   DDI-MedLine.d180.s1.e0   [4, 22]   DDI-MedLine.d180.s1.e1   \n",
       "1    0     none  DDI-MedLine.d180.s10.e0  [46, 50]  DDI-MedLine.d180.s10.e1   \n",
       "2    0     none  DDI-MedLine.d180.s10.e0  [46, 50]  DDI-MedLine.d180.s10.e2   \n",
       "3    0     none  DDI-MedLine.d180.s10.e0  [46, 50]  DDI-MedLine.d180.s10.e3   \n",
       "4    1   effect  DDI-MedLine.d180.s10.e1  [92, 96]  DDI-MedLine.d180.s10.e2   \n",
       "\n",
       "      e2_offs                     p_id  \\\n",
       "0    [25, 29]   DDI-MedLine.d180.s1.p0   \n",
       "1    [92, 96]  DDI-MedLine.d180.s10.p0   \n",
       "2  [102, 108]  DDI-MedLine.d180.s10.p1   \n",
       "3  [195, 199]  DDI-MedLine.d180.s10.p2   \n",
       "4  [102, 108]  DDI-MedLine.d180.s10.p3   \n",
       "\n",
       "                                               s_dir        s_file  \\\n",
       "0  /Users/lluccardoner/PycharmProjects/MET_AHLT_L...  21720561.xml   \n",
       "1  /Users/lluccardoner/PycharmProjects/MET_AHLT_L...  21720561.xml   \n",
       "2  /Users/lluccardoner/PycharmProjects/MET_AHLT_L...  21720561.xml   \n",
       "3  /Users/lluccardoner/PycharmProjects/MET_AHLT_L...  21720561.xml   \n",
       "4  /Users/lluccardoner/PycharmProjects/MET_AHLT_L...  21720561.xml   \n",
       "\n",
       "                   s_id                                             s_text  \\\n",
       "0   DDI-MedLine.d180.s1  The 3-Deazaneplanocin A (DZNep), one of S-aden...   \n",
       "1  DDI-MedLine.d180.s10  We also found that Bcl-2 was overexpressed in ...   \n",
       "2  DDI-MedLine.d180.s10  We also found that Bcl-2 was overexpressed in ...   \n",
       "3  DDI-MedLine.d180.s10  We also found that Bcl-2 was overexpressed in ...   \n",
       "4  DDI-MedLine.d180.s10  We also found that Bcl-2 was overexpressed in ...   \n",
       "\n",
       "                                        s_text_dummy      set  \\\n",
       "0  SOS The 3-Deazaneplanocin A (DZNep), one of S-...  MedLine   \n",
       "1  SOS We also found that Bcl-2 was overexpressed...  MedLine   \n",
       "2  SOS We also found that Bcl-2 was overexpressed...  MedLine   \n",
       "3  SOS We also found that Bcl-2 was overexpressed...  MedLine   \n",
       "4  SOS We also found that Bcl-2 was overexpressed...  MedLine   \n",
       "\n",
       "                                              tokens  \\\n",
       "0  [SOS, The, 3-Deazaneplanocin, A, (, DZNep, ), ...   \n",
       "1  [SOS, We, also, found, that, Bcl-2, was, overe...   \n",
       "2  [SOS, We, also, found, that, Bcl-2, was, overe...   \n",
       "3  [SOS, We, also, found, that, Bcl-2, was, overe...   \n",
       "4  [SOS, We, also, found, that, Bcl-2, was, overe...   \n",
       "\n",
       "                                          tokens_enc  \n",
       "0  [[-0.44948217, -2.0579271, -1.6558512, -2.5068...  \n",
       "1  [[-0.44948217, -2.0579271, -1.6558512, -2.5068...  \n",
       "2  [[-0.44948217, -2.0579271, -1.6558512, -2.5068...  \n",
       "3  [[-0.44948217, -2.0579271, -1.6558512, -2.5068...  \n",
       "4  [[-0.44948217, -2.0579271, -1.6558512, -2.5068...  "
      ]
     },
     "execution_count": 81,
     "metadata": {},
     "output_type": "execute_result"
    }
   ],
   "source": [
    "df_test_medline.head()"
   ]
  },
  {
   "cell_type": "code",
   "execution_count": 82,
   "metadata": {},
   "outputs": [
    {
     "data": {
      "text/html": [
       "<div>\n",
       "<style scoped>\n",
       "    .dataframe tbody tr th:only-of-type {\n",
       "        vertical-align: middle;\n",
       "    }\n",
       "\n",
       "    .dataframe tbody tr th {\n",
       "        vertical-align: top;\n",
       "    }\n",
       "\n",
       "    .dataframe thead th {\n",
       "        text-align: right;\n",
       "    }\n",
       "</style>\n",
       "<table border=\"1\" class=\"dataframe\">\n",
       "  <thead>\n",
       "    <tr style=\"text-align: right;\">\n",
       "      <th></th>\n",
       "      <th>ddi</th>\n",
       "      <th>ddi_type</th>\n",
       "      <th>e1_id</th>\n",
       "      <th>e1_offs</th>\n",
       "      <th>e2_id</th>\n",
       "      <th>e2_offs</th>\n",
       "      <th>p_id</th>\n",
       "      <th>s_dir</th>\n",
       "      <th>s_file</th>\n",
       "      <th>s_id</th>\n",
       "      <th>s_text</th>\n",
       "      <th>s_text_dummy</th>\n",
       "      <th>set</th>\n",
       "      <th>tokens</th>\n",
       "      <th>tokens_enc</th>\n",
       "    </tr>\n",
       "  </thead>\n",
       "  <tbody>\n",
       "    <tr>\n",
       "      <th>0</th>\n",
       "      <td>1</td>\n",
       "      <td>mechanism</td>\n",
       "      <td>DDI-DrugBank.d765.s0.e0</td>\n",
       "      <td>[19, 30]</td>\n",
       "      <td>DDI-DrugBank.d765.s0.e1</td>\n",
       "      <td>[135, 145]</td>\n",
       "      <td>DDI-DrugBank.d765.s0.p0</td>\n",
       "      <td>/Users/lluccardoner/PycharmProjects/MET_AHLT_L...</td>\n",
       "      <td>Tolterodine.xml</td>\n",
       "      <td>DDI-DrugBank.d765.s0</td>\n",
       "      <td>CYP3A4 Inhibitors: Ketoconazole, an inhibitor ...</td>\n",
       "      <td>SOS CYP3A4 Inhibitors: Ketoconazole, an inhibi...</td>\n",
       "      <td>DrugBank</td>\n",
       "      <td>[SOS, CYP3A4, Inhibitors, :, Ketoconazole, ,, ...</td>\n",
       "      <td>[[-0.44948217, -2.0579271, -1.6558512, -2.5068...</td>\n",
       "    </tr>\n",
       "    <tr>\n",
       "      <th>1</th>\n",
       "      <td>0</td>\n",
       "      <td>none</td>\n",
       "      <td>DDI-DrugBank.d765.s1.e0</td>\n",
       "      <td>[23, 34]</td>\n",
       "      <td>DDI-DrugBank.d765.s1.e1</td>\n",
       "      <td>[84, 100]</td>\n",
       "      <td>DDI-DrugBank.d765.s1.p0</td>\n",
       "      <td>/Users/lluccardoner/PycharmProjects/MET_AHLT_L...</td>\n",
       "      <td>Tolterodine.xml</td>\n",
       "      <td>DDI-DrugBank.d765.s1</td>\n",
       "      <td>For patients receiving ketoconazole or other p...</td>\n",
       "      <td>SOS For patients receiving ketoconazole or oth...</td>\n",
       "      <td>DrugBank</td>\n",
       "      <td>[SOS, For, patients, receiving, ketoconazole, ...</td>\n",
       "      <td>[[-0.44948217, -2.0579271, -1.6558512, -2.5068...</td>\n",
       "    </tr>\n",
       "    <tr>\n",
       "      <th>2</th>\n",
       "      <td>0</td>\n",
       "      <td>none</td>\n",
       "      <td>DDI-DrugBank.d765.s1.e0</td>\n",
       "      <td>[23, 34]</td>\n",
       "      <td>DDI-DrugBank.d765.s1.e2</td>\n",
       "      <td>[107, 118]</td>\n",
       "      <td>DDI-DrugBank.d765.s1.p1</td>\n",
       "      <td>/Users/lluccardoner/PycharmProjects/MET_AHLT_L...</td>\n",
       "      <td>Tolterodine.xml</td>\n",
       "      <td>DDI-DrugBank.d765.s1</td>\n",
       "      <td>For patients receiving ketoconazole or other p...</td>\n",
       "      <td>SOS For patients receiving ketoconazole or oth...</td>\n",
       "      <td>DrugBank</td>\n",
       "      <td>[SOS, For, patients, receiving, ketoconazole, ...</td>\n",
       "      <td>[[-0.44948217, -2.0579271, -1.6558512, -2.5068...</td>\n",
       "    </tr>\n",
       "    <tr>\n",
       "      <th>3</th>\n",
       "      <td>0</td>\n",
       "      <td>none</td>\n",
       "      <td>DDI-DrugBank.d765.s1.e0</td>\n",
       "      <td>[23, 34]</td>\n",
       "      <td>DDI-DrugBank.d765.s1.e3</td>\n",
       "      <td>[121, 130]</td>\n",
       "      <td>DDI-DrugBank.d765.s1.p2</td>\n",
       "      <td>/Users/lluccardoner/PycharmProjects/MET_AHLT_L...</td>\n",
       "      <td>Tolterodine.xml</td>\n",
       "      <td>DDI-DrugBank.d765.s1</td>\n",
       "      <td>For patients receiving ketoconazole or other p...</td>\n",
       "      <td>SOS For patients receiving ketoconazole or oth...</td>\n",
       "      <td>DrugBank</td>\n",
       "      <td>[SOS, For, patients, receiving, ketoconazole, ...</td>\n",
       "      <td>[[-0.44948217, -2.0579271, -1.6558512, -2.5068...</td>\n",
       "    </tr>\n",
       "    <tr>\n",
       "      <th>4</th>\n",
       "      <td>0</td>\n",
       "      <td>none</td>\n",
       "      <td>DDI-DrugBank.d765.s1.e0</td>\n",
       "      <td>[23, 34]</td>\n",
       "      <td>DDI-DrugBank.d765.s1.e4</td>\n",
       "      <td>[136, 156]</td>\n",
       "      <td>DDI-DrugBank.d765.s1.p3</td>\n",
       "      <td>/Users/lluccardoner/PycharmProjects/MET_AHLT_L...</td>\n",
       "      <td>Tolterodine.xml</td>\n",
       "      <td>DDI-DrugBank.d765.s1</td>\n",
       "      <td>For patients receiving ketoconazole or other p...</td>\n",
       "      <td>SOS For patients receiving ketoconazole or oth...</td>\n",
       "      <td>DrugBank</td>\n",
       "      <td>[SOS, For, patients, receiving, ketoconazole, ...</td>\n",
       "      <td>[[-0.44948217, -2.0579271, -1.6558512, -2.5068...</td>\n",
       "    </tr>\n",
       "  </tbody>\n",
       "</table>\n",
       "</div>"
      ],
      "text/plain": [
       "   ddi   ddi_type                    e1_id   e1_offs                    e2_id  \\\n",
       "0    1  mechanism  DDI-DrugBank.d765.s0.e0  [19, 30]  DDI-DrugBank.d765.s0.e1   \n",
       "1    0       none  DDI-DrugBank.d765.s1.e0  [23, 34]  DDI-DrugBank.d765.s1.e1   \n",
       "2    0       none  DDI-DrugBank.d765.s1.e0  [23, 34]  DDI-DrugBank.d765.s1.e2   \n",
       "3    0       none  DDI-DrugBank.d765.s1.e0  [23, 34]  DDI-DrugBank.d765.s1.e3   \n",
       "4    0       none  DDI-DrugBank.d765.s1.e0  [23, 34]  DDI-DrugBank.d765.s1.e4   \n",
       "\n",
       "      e2_offs                     p_id  \\\n",
       "0  [135, 145]  DDI-DrugBank.d765.s0.p0   \n",
       "1   [84, 100]  DDI-DrugBank.d765.s1.p0   \n",
       "2  [107, 118]  DDI-DrugBank.d765.s1.p1   \n",
       "3  [121, 130]  DDI-DrugBank.d765.s1.p2   \n",
       "4  [136, 156]  DDI-DrugBank.d765.s1.p3   \n",
       "\n",
       "                                               s_dir           s_file  \\\n",
       "0  /Users/lluccardoner/PycharmProjects/MET_AHLT_L...  Tolterodine.xml   \n",
       "1  /Users/lluccardoner/PycharmProjects/MET_AHLT_L...  Tolterodine.xml   \n",
       "2  /Users/lluccardoner/PycharmProjects/MET_AHLT_L...  Tolterodine.xml   \n",
       "3  /Users/lluccardoner/PycharmProjects/MET_AHLT_L...  Tolterodine.xml   \n",
       "4  /Users/lluccardoner/PycharmProjects/MET_AHLT_L...  Tolterodine.xml   \n",
       "\n",
       "                   s_id                                             s_text  \\\n",
       "0  DDI-DrugBank.d765.s0  CYP3A4 Inhibitors: Ketoconazole, an inhibitor ...   \n",
       "1  DDI-DrugBank.d765.s1  For patients receiving ketoconazole or other p...   \n",
       "2  DDI-DrugBank.d765.s1  For patients receiving ketoconazole or other p...   \n",
       "3  DDI-DrugBank.d765.s1  For patients receiving ketoconazole or other p...   \n",
       "4  DDI-DrugBank.d765.s1  For patients receiving ketoconazole or other p...   \n",
       "\n",
       "                                        s_text_dummy       set  \\\n",
       "0  SOS CYP3A4 Inhibitors: Ketoconazole, an inhibi...  DrugBank   \n",
       "1  SOS For patients receiving ketoconazole or oth...  DrugBank   \n",
       "2  SOS For patients receiving ketoconazole or oth...  DrugBank   \n",
       "3  SOS For patients receiving ketoconazole or oth...  DrugBank   \n",
       "4  SOS For patients receiving ketoconazole or oth...  DrugBank   \n",
       "\n",
       "                                              tokens  \\\n",
       "0  [SOS, CYP3A4, Inhibitors, :, Ketoconazole, ,, ...   \n",
       "1  [SOS, For, patients, receiving, ketoconazole, ...   \n",
       "2  [SOS, For, patients, receiving, ketoconazole, ...   \n",
       "3  [SOS, For, patients, receiving, ketoconazole, ...   \n",
       "4  [SOS, For, patients, receiving, ketoconazole, ...   \n",
       "\n",
       "                                          tokens_enc  \n",
       "0  [[-0.44948217, -2.0579271, -1.6558512, -2.5068...  \n",
       "1  [[-0.44948217, -2.0579271, -1.6558512, -2.5068...  \n",
       "2  [[-0.44948217, -2.0579271, -1.6558512, -2.5068...  \n",
       "3  [[-0.44948217, -2.0579271, -1.6558512, -2.5068...  \n",
       "4  [[-0.44948217, -2.0579271, -1.6558512, -2.5068...  "
      ]
     },
     "execution_count": 82,
     "metadata": {},
     "output_type": "execute_result"
    }
   ],
   "source": [
    "df_test_drugbank.head()"
   ]
  },
  {
   "cell_type": "code",
   "execution_count": 83,
   "metadata": {},
   "outputs": [],
   "source": [
    "Xs_enc_medline = np.array(df_test_medline['tokens_enc'].tolist())\n",
    "Xs_enc_drugbank = np.array(df_test_drugbank['tokens_enc'].tolist())"
   ]
  },
  {
   "cell_type": "code",
   "execution_count": 84,
   "metadata": {},
   "outputs": [
    {
     "name": "stdout",
     "output_type": "stream",
     "text": [
      "Medline  451 34 100\n",
      "Drugbank  5265 43 100\n"
     ]
    }
   ],
   "source": [
    "print(\"Medline \", len(Xs_enc_medline), len(Xs_enc_medline[0]), len(Xs_enc_medline[0][0]))\n",
    "print(\"Drugbank \", len(Xs_enc_drugbank), len(Xs_enc_drugbank[0]), len(Xs_enc_drugbank[0][0]))"
   ]
  },
  {
   "cell_type": "code",
   "execution_count": 85,
   "metadata": {},
   "outputs": [
    {
     "name": "stdout",
     "output_type": "stream",
     "text": [
      "Medline  Max: 71 Min: 6 Mean 32.83592017738359\n",
      "Drugbank  Max: 109 Min: 9 Mean 48.27350427350427\n"
     ]
    }
   ],
   "source": [
    "sentence_len_medline = [len(x) for x in Xs_enc_medline]\n",
    "sentence_len_drugbank = [len(x) for x in Xs_enc_drugbank]\n",
    "\n",
    "print(\"Medline \", \"Max:\", max(sentence_len_medline), \"Min:\", min(sentence_len_medline), \"Mean\", np.mean(sentence_len_medline))\n",
    "print(\"Drugbank \", \"Max:\", max(sentence_len_drugbank), \"Min:\", min(sentence_len_drugbank), \"Mean\", np.mean(sentence_len_drugbank))"
   ]
  },
  {
   "cell_type": "code",
   "execution_count": 110,
   "metadata": {},
   "outputs": [],
   "source": [
    "def lstm_predictions(data_df, text_file):\n",
    "    for index, row in data_df.iterrows():\n",
    "        id_sen = row['s_id']\n",
    "        id_drug1 = row['e1_id']\n",
    "        id_drug2 = row['e2_id']\n",
    "\n",
    "        predictX = np.zeros([1, 152, 100])\n",
    "        sentence = row['tokens_enc']\n",
    "        s= np.array(sentence)\n",
    "        shape = s.shape\n",
    "        for j in range(shape[0], 152):\n",
    "            s = np.append(s, np.zeros([1,100]), axis=0)\n",
    "        predictX[0] = s\n",
    "\n",
    "        pred = model.predict(predictX)\n",
    "        t_pred = np.argmax(pred)\n",
    "\n",
    "        pred_type = le.inverse_transform(np.array(t_pred).reshape(1,-1))[0]\n",
    "\n",
    "        DDI = 0\n",
    "        DDItype = 'null'\n",
    "        if t_pred != 4:\n",
    "            DDI = 1\n",
    "            DDItype = pred_type\n",
    "\n",
    "        # idSentence|iddrug1|iddrug2|prediction|type\n",
    "        print(id_sen, id_drug1, id_drug2, DDI, DDItype, sep=\"|\", file=text_file)"
   ]
  },
  {
   "cell_type": "code",
   "execution_count": 111,
   "metadata": {},
   "outputs": [],
   "source": [
    "def save_output(data_df, file_name):\n",
    "    with open(file_name, \"w\") as text_file:\n",
    "        lstm_predictions(data_df, text_file)"
   ]
  },
  {
   "cell_type": "code",
   "execution_count": 112,
   "metadata": {},
   "outputs": [],
   "source": [
    "save_output(df_test_medline, \"task9.2_LSTM_medline.txt\")\n",
    "save_output(df_test_drugbank, \"task9.2_LSTM_drugbank.txt\")"
   ]
  },
  {
   "cell_type": "code",
   "execution_count": null,
   "metadata": {},
   "outputs": [],
   "source": []
  }
 ],
 "metadata": {
  "kernelspec": {
   "display_name": "Python 3",
   "language": "python",
   "name": "python3"
  },
  "language_info": {
   "codemirror_mode": {
    "name": "ipython",
    "version": 3
   },
   "file_extension": ".py",
   "mimetype": "text/x-python",
   "name": "python",
   "nbconvert_exporter": "python",
   "pygments_lexer": "ipython3",
   "version": "3.6.8"
  }
 },
 "nbformat": 4,
 "nbformat_minor": 2
}
