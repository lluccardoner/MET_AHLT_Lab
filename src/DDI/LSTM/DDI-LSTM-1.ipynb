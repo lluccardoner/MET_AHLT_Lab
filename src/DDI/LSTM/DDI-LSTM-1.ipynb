{
 "cells": [
  {
   "cell_type": "markdown",
   "metadata": {},
   "source": [
    "# Drug Drug Interaction \n",
    "\n",
    "For each entity in a sentence, see if it has interaction with another entitiy in the sentence and of which type."
   ]
  },
  {
   "cell_type": "markdown",
   "metadata": {},
   "source": [
    "## Table of contents\n",
    "\n",
    "1. [Anonymizing the data](#1)\n",
    "2. [Word embeding](#2)\n",
    "3. [LSTM](#3)"
   ]
  },
  {
   "cell_type": "code",
   "execution_count": 27,
   "metadata": {},
   "outputs": [
    {
     "name": "stdout",
     "output_type": "stream",
     "text": [
      "The keras version is 2.2.4.\n",
      "The nltk version is 0.21.1.\n",
      "The gensim version is 3.4.0.\n"
     ]
    }
   ],
   "source": [
    "import sys\n",
    "from os import listdir\n",
    "import os\n",
    "\n",
    "from xml.dom.minidom import parse\n",
    "\n",
    "import pandas as pd\n",
    "import numpy as np\n",
    "\n",
    "import nltk\n",
    "from nltk.tokenize import word_tokenize\n",
    "\n",
    "import matplotlib.pyplot as plt\n",
    "\n",
    "import sklearn\n",
    "from sklearn import preprocessing\n",
    "\n",
    "import gensim \n",
    "from gensim.models import Word2Vec\n",
    "\n",
    "import keras\n",
    "from keras.models import Sequential\n",
    "from keras.layers import Dense, LSTM, Activation\n",
    "\n",
    "print('The keras version is {}.'.format(keras.__version__))\n",
    "print('The nltk version is {}.'.format(sklearn.__version__))\n",
    "print('The gensim version is {}.'.format(gensim.__version__))"
   ]
  },
  {
   "cell_type": "code",
   "execution_count": 2,
   "metadata": {},
   "outputs": [],
   "source": [
    "dir_train_medline = \"/Users/lluccardoner/PycharmProjects/MET_AHLT_Lab_2019/data/Train/MedLine/\"\n",
    "dir_train_drugbank = \"/Users/lluccardoner/PycharmProjects/MET_AHLT_Lab_2019/data/Train/DrugBank/\""
   ]
  },
  {
   "cell_type": "code",
   "execution_count": 3,
   "metadata": {},
   "outputs": [],
   "source": [
    "dir_test_medline = \"/Users/lluccardoner/PycharmProjects/MET_AHLT_Lab_2019/data/Test-DDI/MedLine/\"\n",
    "dir_test_drugbank = \"/Users/lluccardoner/PycharmProjects/MET_AHLT_Lab_2019/data/Test-DDI/DrugBank/\""
   ]
  },
  {
   "cell_type": "markdown",
   "metadata": {},
   "source": [
    "## Anonymizing the data <a name=\"1\"></a>\n",
    "\n",
    "For each pair of entities in a sentence, sustitue the entity names with dummy names."
   ]
  },
  {
   "cell_type": "code",
   "execution_count": 4,
   "metadata": {},
   "outputs": [],
   "source": [
    "def get_dummy_text(txt, ents, e1, e2, error=False, debug=False):\n",
    "    try:\n",
    "        d = txt\n",
    "        diff = 0\n",
    "        for e in ents: \n",
    "            e_start = int(ents[e][0]) - diff\n",
    "            e_end = int(ents[e][1]) - diff \n",
    "            e_len = e_end - e_start + 1\n",
    "\n",
    "            if e==e1: \n",
    "                dummy = \"drug01\"\n",
    "            elif e==e2:\n",
    "                dummy = \"drug02\"\n",
    "            else:\n",
    "                dummy= \"drug00\"\n",
    "            \n",
    "            d = d[:e_start] + dummy + d[e_end+1:]\n",
    "            if debug:\n",
    "                print(diff, e_start, e_end, e_len)\n",
    "                print(d, end = \"\\n\\n\")\n",
    "            diff = diff  + (e_len - len(dummy))\n",
    "        return d\n",
    "    except Exception as ex:\n",
    "        if error:\n",
    "            print(e + ': ' + str(ex))"
   ]
  },
  {
   "cell_type": "code",
   "execution_count": 5,
   "metadata": {},
   "outputs": [
    {
     "data": {
      "text/plain": [
       "'Pharmacokinetic properties of drug00 were not altered by the addition of either drug01 or drug00 or the combination of drug02 and drug00.'"
      ]
     },
     "execution_count": 5,
     "metadata": {},
     "output_type": "execute_result"
    }
   ],
   "source": [
    "# Test the function\n",
    "s_txt = \"Pharmacokinetic properties of abacavir were not altered by the addition of either lamivudine or zidovudine or the combination of lamivudine and zidovudine.\" \n",
    "d = {'1': ['30', '37'], '2': ['82', '91'], '3': ['96', '105'], '4': ['129', '138'], '5': ['144', '153'], } \n",
    "e1 = \"2\"\n",
    "e2 = \"4\"\n",
    "\n",
    "get_dummy_text(s_txt, d, e1, e2)"
   ]
  },
  {
   "cell_type": "code",
   "execution_count": 6,
   "metadata": {},
   "outputs": [],
   "source": [
    "pairs_list = []\n",
    "for d in [dir_train_drugbank, dir_train_medline]:\n",
    "    for f in listdir(d):\n",
    "        tree = parse(d + \"/\" + f)\n",
    "        sentences = tree.getElementsByTagName(\"sentence\")\n",
    "        for s in sentences:\n",
    "            s_id = s.attributes[\"id\"].value\n",
    "            s_text = s.attributes[\"text\"].value\n",
    "\n",
    "            entities = {}\n",
    "            ents = s.getElementsByTagName(\"entity\")\n",
    "            for e in ents:\n",
    "                e_id = e.attributes[\"id\"].value\n",
    "                e_offs = e.attributes[\"charOffset\"].value.split(\";\")[-1].split(\"-\") # When two, offsets pick the second one\n",
    "                entities[e_id] = e_offs\n",
    "\n",
    "            pairs = s.getElementsByTagName(\"pair\")\n",
    "            for p in pairs:\n",
    "                p_id = p.attributes[\"id\"].value\n",
    "                e1_id = p.attributes[\"e1\"].value\n",
    "                e2_id = p.attributes[\"e2\"].value\n",
    "                is_ddi = p.attributes[\"ddi\"].value\n",
    "                \n",
    "                ddi = 1 if is_ddi==\"true\" else 0 \n",
    "                ddi_type = p.attributes[\"type\"].value if is_ddi==\"true\" and \"type\" in p.attributes else \"none\"\n",
    "                \n",
    "                s_dummy = get_dummy_text(s_text, entities, e1_id, e2_id)\n",
    "                s_dummy = 'SOS '+s_dummy+ ' EOS'\n",
    "                \n",
    "                pair_item = {\"p_id\":p_id, \"e1_id\":e1_id, \"e2_id\":e2_id, \"ddi\":ddi, \"ddi_type\": ddi_type, \n",
    "                             \"e1_offs\":entities[e1_id], \"e2_offs\":entities[e2_id], \"s_id\":s_id, \"s_text\":s_text,\n",
    "                             \"s_dir\":d, \"set\":d.split(\"/\")[-2], \"s_file\":f,\n",
    "                             \"s_text_dummy\": s_dummy}\n",
    "                pairs_list.append(pair_item)\n",
    "        \n",
    "df_train = pd.DataFrame(pairs_list)"
   ]
  },
  {
   "cell_type": "code",
   "execution_count": 7,
   "metadata": {},
   "outputs": [
    {
     "data": {
      "text/plain": [
       "set       ddi_type \n",
       "DrugBank  none         22217\n",
       "          effect        1535\n",
       "          mechanism     1257\n",
       "          advise         818\n",
       "          int            178\n",
       "MedLine   none          1555\n",
       "          effect         152\n",
       "          mechanism       62\n",
       "          int             10\n",
       "          advise           8\n",
       "Name: ddi_type, dtype: int64"
      ]
     },
     "execution_count": 7,
     "metadata": {},
     "output_type": "execute_result"
    }
   ],
   "source": [
    "df_train[[\"ddi_type\", \"set\"]].groupby([\"set\"])['ddi_type'].value_counts()"
   ]
  },
  {
   "cell_type": "markdown",
   "metadata": {},
   "source": [
    "The parsing of the offset is not right for all elements. Some entities have an offset like [94, 97;114, 121]"
   ]
  },
  {
   "cell_type": "code",
   "execution_count": 8,
   "metadata": {
    "scrolled": false
   },
   "outputs": [
    {
     "data": {
      "text/html": [
       "<div>\n",
       "<style scoped>\n",
       "    .dataframe tbody tr th:only-of-type {\n",
       "        vertical-align: middle;\n",
       "    }\n",
       "\n",
       "    .dataframe tbody tr th {\n",
       "        vertical-align: top;\n",
       "    }\n",
       "\n",
       "    .dataframe thead th {\n",
       "        text-align: right;\n",
       "    }\n",
       "</style>\n",
       "<table border=\"1\" class=\"dataframe\">\n",
       "  <thead>\n",
       "    <tr style=\"text-align: right;\">\n",
       "      <th></th>\n",
       "      <th>ddi</th>\n",
       "      <th>ddi_type</th>\n",
       "      <th>e1_id</th>\n",
       "      <th>e1_offs</th>\n",
       "      <th>e2_id</th>\n",
       "      <th>e2_offs</th>\n",
       "      <th>p_id</th>\n",
       "      <th>s_dir</th>\n",
       "      <th>s_file</th>\n",
       "      <th>s_id</th>\n",
       "      <th>s_text</th>\n",
       "      <th>s_text_dummy</th>\n",
       "      <th>set</th>\n",
       "    </tr>\n",
       "  </thead>\n",
       "  <tbody>\n",
       "    <tr>\n",
       "      <th>2317</th>\n",
       "      <td>0</td>\n",
       "      <td>none</td>\n",
       "      <td>DDI-DrugBank.d314.s30.e2</td>\n",
       "      <td>[114, 121]</td>\n",
       "      <td>DDI-DrugBank.d314.s30.e3</td>\n",
       "      <td>[102, 121]</td>\n",
       "      <td>DDI-DrugBank.d314.s30.p5</td>\n",
       "      <td>/Users/lluccardoner/PycharmProjects/MET_AHLT_L...</td>\n",
       "      <td>Dexamethasone_ddi.xml</td>\n",
       "      <td>DDI-DrugBank.d314.s30</td>\n",
       "      <td>Vaccines: Patients on corticosteroid therapy m...</td>\n",
       "      <td>SOS drug00: Patients on drug00 therapy may exh...</td>\n",
       "      <td>DrugBank</td>\n",
       "    </tr>\n",
       "  </tbody>\n",
       "</table>\n",
       "</div>"
      ],
      "text/plain": [
       "      ddi ddi_type                     e1_id     e1_offs  \\\n",
       "2317    0     none  DDI-DrugBank.d314.s30.e2  [114, 121]   \n",
       "\n",
       "                         e2_id     e2_offs                      p_id  \\\n",
       "2317  DDI-DrugBank.d314.s30.e3  [102, 121]  DDI-DrugBank.d314.s30.p5   \n",
       "\n",
       "                                                  s_dir  \\\n",
       "2317  /Users/lluccardoner/PycharmProjects/MET_AHLT_L...   \n",
       "\n",
       "                     s_file                   s_id  \\\n",
       "2317  Dexamethasone_ddi.xml  DDI-DrugBank.d314.s30   \n",
       "\n",
       "                                                 s_text  \\\n",
       "2317  Vaccines: Patients on corticosteroid therapy m...   \n",
       "\n",
       "                                           s_text_dummy       set  \n",
       "2317  SOS drug00: Patients on drug00 therapy may exh...  DrugBank  "
      ]
     },
     "execution_count": 8,
     "metadata": {},
     "output_type": "execute_result"
    }
   ],
   "source": [
    "df_train[df_train[\"e1_id\"]==\"DDI-DrugBank.d314.s30.e2\"]"
   ]
  },
  {
   "cell_type": "code",
   "execution_count": 9,
   "metadata": {},
   "outputs": [
    {
     "data": {
      "text/plain": [
       "0"
      ]
     },
     "execution_count": 9,
     "metadata": {},
     "output_type": "execute_result"
    }
   ],
   "source": [
    "df_train[df_train['s_text_dummy'].isnull()].size"
   ]
  },
  {
   "cell_type": "markdown",
   "metadata": {},
   "source": [
    "## Word embeding <a name=\"2\"></a>\n",
    "\n",
    "Train a word2vec model with the data"
   ]
  },
  {
   "cell_type": "code",
   "execution_count": 10,
   "metadata": {
    "scrolled": true
   },
   "outputs": [],
   "source": [
    "df_train['tokens'] = df_train['s_text_dummy'].apply(word_tokenize)"
   ]
  },
  {
   "cell_type": "code",
   "execution_count": 11,
   "metadata": {},
   "outputs": [
    {
     "data": {
      "text/plain": [
       "27792"
      ]
     },
     "execution_count": 11,
     "metadata": {},
     "output_type": "execute_result"
    }
   ],
   "source": [
    "data = df_train['tokens'].values\n",
    "data.size"
   ]
  },
  {
   "cell_type": "code",
   "execution_count": 12,
   "metadata": {},
   "outputs": [],
   "source": [
    "# https://radimrehurek.com/gensim/models/word2vec.html#gensim.models.word2vec.Word2Vec\n",
    "model1 = Word2Vec(data, min_count = 1, size = 100, window = 5)"
   ]
  },
  {
   "cell_type": "code",
   "execution_count": 13,
   "metadata": {},
   "outputs": [],
   "source": [
    "df_train['tokens_enc'] = df_train['tokens'].apply(lambda x: [model1.wv[word] for word in x])"
   ]
  },
  {
   "cell_type": "code",
   "execution_count": 14,
   "metadata": {
    "scrolled": true
   },
   "outputs": [
    {
     "data": {
      "text/html": [
       "<div>\n",
       "<style scoped>\n",
       "    .dataframe tbody tr th:only-of-type {\n",
       "        vertical-align: middle;\n",
       "    }\n",
       "\n",
       "    .dataframe tbody tr th {\n",
       "        vertical-align: top;\n",
       "    }\n",
       "\n",
       "    .dataframe thead th {\n",
       "        text-align: right;\n",
       "    }\n",
       "</style>\n",
       "<table border=\"1\" class=\"dataframe\">\n",
       "  <thead>\n",
       "    <tr style=\"text-align: right;\">\n",
       "      <th></th>\n",
       "      <th>tokens</th>\n",
       "      <th>tokens_enc</th>\n",
       "    </tr>\n",
       "  </thead>\n",
       "  <tbody>\n",
       "    <tr>\n",
       "      <th>0</th>\n",
       "      <td>[SOS, Milk, ,, milk, products, ,, and, drug01-...</td>\n",
       "      <td>[[-1.4499204, -1.0749171, 0.59493756, -0.75476...</td>\n",
       "    </tr>\n",
       "    <tr>\n",
       "      <th>1</th>\n",
       "      <td>[SOS, The, concurrent, administration, of, dru...</td>\n",
       "      <td>[[-1.4499204, -1.0749171, 0.59493756, -0.75476...</td>\n",
       "    </tr>\n",
       "  </tbody>\n",
       "</table>\n",
       "</div>"
      ],
      "text/plain": [
       "                                              tokens  \\\n",
       "0  [SOS, Milk, ,, milk, products, ,, and, drug01-...   \n",
       "1  [SOS, The, concurrent, administration, of, dru...   \n",
       "\n",
       "                                          tokens_enc  \n",
       "0  [[-1.4499204, -1.0749171, 0.59493756, -0.75476...  \n",
       "1  [[-1.4499204, -1.0749171, 0.59493756, -0.75476...  "
      ]
     },
     "execution_count": 14,
     "metadata": {},
     "output_type": "execute_result"
    }
   ],
   "source": [
    "df_train[['tokens', 'tokens_enc']].head(2)"
   ]
  },
  {
   "cell_type": "markdown",
   "metadata": {},
   "source": [
    "## LSTM <a name=\"3\"></a>\n",
    "\n",
    "Train a LSTM with the word vectors."
   ]
  },
  {
   "cell_type": "code",
   "execution_count": 15,
   "metadata": {},
   "outputs": [
    {
     "data": {
      "text/html": [
       "<div>\n",
       "<style scoped>\n",
       "    .dataframe tbody tr th:only-of-type {\n",
       "        vertical-align: middle;\n",
       "    }\n",
       "\n",
       "    .dataframe tbody tr th {\n",
       "        vertical-align: top;\n",
       "    }\n",
       "\n",
       "    .dataframe thead th {\n",
       "        text-align: right;\n",
       "    }\n",
       "</style>\n",
       "<table border=\"1\" class=\"dataframe\">\n",
       "  <thead>\n",
       "    <tr style=\"text-align: right;\">\n",
       "      <th></th>\n",
       "      <th>ddi</th>\n",
       "      <th>ddi_type</th>\n",
       "      <th>e1_id</th>\n",
       "      <th>e1_offs</th>\n",
       "      <th>e2_id</th>\n",
       "      <th>e2_offs</th>\n",
       "      <th>p_id</th>\n",
       "      <th>s_dir</th>\n",
       "      <th>s_file</th>\n",
       "      <th>s_id</th>\n",
       "      <th>s_text</th>\n",
       "      <th>s_text_dummy</th>\n",
       "      <th>set</th>\n",
       "      <th>tokens</th>\n",
       "      <th>tokens_enc</th>\n",
       "    </tr>\n",
       "  </thead>\n",
       "  <tbody>\n",
       "    <tr>\n",
       "      <th>0</th>\n",
       "      <td>1</td>\n",
       "      <td>mechanism</td>\n",
       "      <td>DDI-DrugBank.d481.s0.e0</td>\n",
       "      <td>[25, 31]</td>\n",
       "      <td>DDI-DrugBank.d481.s0.e1</td>\n",
       "      <td>[82, 86]</td>\n",
       "      <td>DDI-DrugBank.d481.s0.p0</td>\n",
       "      <td>/Users/lluccardoner/PycharmProjects/MET_AHLT_L...</td>\n",
       "      <td>Estramustine_ddi.xml</td>\n",
       "      <td>DDI-DrugBank.d481.s0</td>\n",
       "      <td>Milk, milk products, and calcium-rich foods or...</td>\n",
       "      <td>SOS Milk, milk products, and drug01-rich foods...</td>\n",
       "      <td>DrugBank</td>\n",
       "      <td>[SOS, Milk, ,, milk, products, ,, and, drug01-...</td>\n",
       "      <td>[[-1.4499204, -1.0749171, 0.59493756, -0.75476...</td>\n",
       "    </tr>\n",
       "    <tr>\n",
       "      <th>1</th>\n",
       "      <td>1</td>\n",
       "      <td>effect</td>\n",
       "      <td>DDI-DrugBank.d419.s0.e0</td>\n",
       "      <td>[33, 43]</td>\n",
       "      <td>DDI-DrugBank.d419.s0.e1</td>\n",
       "      <td>[49, 58]</td>\n",
       "      <td>DDI-DrugBank.d419.s0.p0</td>\n",
       "      <td>/Users/lluccardoner/PycharmProjects/MET_AHLT_L...</td>\n",
       "      <td>Clavulanate_ddi.xml</td>\n",
       "      <td>DDI-DrugBank.d419.s0</td>\n",
       "      <td>The concurrent administration of allopurinol a...</td>\n",
       "      <td>SOS The concurrent administration of drug01 an...</td>\n",
       "      <td>DrugBank</td>\n",
       "      <td>[SOS, The, concurrent, administration, of, dru...</td>\n",
       "      <td>[[-1.4499204, -1.0749171, 0.59493756, -0.75476...</td>\n",
       "    </tr>\n",
       "    <tr>\n",
       "      <th>2</th>\n",
       "      <td>0</td>\n",
       "      <td>none</td>\n",
       "      <td>DDI-DrugBank.d419.s0.e0</td>\n",
       "      <td>[33, 43]</td>\n",
       "      <td>DDI-DrugBank.d419.s0.e2</td>\n",
       "      <td>[175, 184]</td>\n",
       "      <td>DDI-DrugBank.d419.s0.p1</td>\n",
       "      <td>/Users/lluccardoner/PycharmProjects/MET_AHLT_L...</td>\n",
       "      <td>Clavulanate_ddi.xml</td>\n",
       "      <td>DDI-DrugBank.d419.s0</td>\n",
       "      <td>The concurrent administration of allopurinol a...</td>\n",
       "      <td>SOS The concurrent administration of drug01 an...</td>\n",
       "      <td>DrugBank</td>\n",
       "      <td>[SOS, The, concurrent, administration, of, dru...</td>\n",
       "      <td>[[-1.4499204, -1.0749171, 0.59493756, -0.75476...</td>\n",
       "    </tr>\n",
       "    <tr>\n",
       "      <th>3</th>\n",
       "      <td>0</td>\n",
       "      <td>none</td>\n",
       "      <td>DDI-DrugBank.d419.s0.e1</td>\n",
       "      <td>[49, 58]</td>\n",
       "      <td>DDI-DrugBank.d419.s0.e2</td>\n",
       "      <td>[175, 184]</td>\n",
       "      <td>DDI-DrugBank.d419.s0.p2</td>\n",
       "      <td>/Users/lluccardoner/PycharmProjects/MET_AHLT_L...</td>\n",
       "      <td>Clavulanate_ddi.xml</td>\n",
       "      <td>DDI-DrugBank.d419.s0</td>\n",
       "      <td>The concurrent administration of allopurinol a...</td>\n",
       "      <td>SOS The concurrent administration of drug00 an...</td>\n",
       "      <td>DrugBank</td>\n",
       "      <td>[SOS, The, concurrent, administration, of, dru...</td>\n",
       "      <td>[[-1.4499204, -1.0749171, 0.59493756, -0.75476...</td>\n",
       "    </tr>\n",
       "    <tr>\n",
       "      <th>4</th>\n",
       "      <td>1</td>\n",
       "      <td>effect</td>\n",
       "      <td>DDI-DrugBank.d419.s1.e0</td>\n",
       "      <td>[45, 54]</td>\n",
       "      <td>DDI-DrugBank.d419.s1.e1</td>\n",
       "      <td>[73, 83]</td>\n",
       "      <td>DDI-DrugBank.d419.s1.p0</td>\n",
       "      <td>/Users/lluccardoner/PycharmProjects/MET_AHLT_L...</td>\n",
       "      <td>Clavulanate_ddi.xml</td>\n",
       "      <td>DDI-DrugBank.d419.s1</td>\n",
       "      <td>It is not known whether this potentiation of a...</td>\n",
       "      <td>SOS It is not known whether this potentiation ...</td>\n",
       "      <td>DrugBank</td>\n",
       "      <td>[SOS, It, is, not, known, whether, this, poten...</td>\n",
       "      <td>[[-1.4499204, -1.0749171, 0.59493756, -0.75476...</td>\n",
       "    </tr>\n",
       "  </tbody>\n",
       "</table>\n",
       "</div>"
      ],
      "text/plain": [
       "   ddi   ddi_type                    e1_id   e1_offs                    e2_id  \\\n",
       "0    1  mechanism  DDI-DrugBank.d481.s0.e0  [25, 31]  DDI-DrugBank.d481.s0.e1   \n",
       "1    1     effect  DDI-DrugBank.d419.s0.e0  [33, 43]  DDI-DrugBank.d419.s0.e1   \n",
       "2    0       none  DDI-DrugBank.d419.s0.e0  [33, 43]  DDI-DrugBank.d419.s0.e2   \n",
       "3    0       none  DDI-DrugBank.d419.s0.e1  [49, 58]  DDI-DrugBank.d419.s0.e2   \n",
       "4    1     effect  DDI-DrugBank.d419.s1.e0  [45, 54]  DDI-DrugBank.d419.s1.e1   \n",
       "\n",
       "      e2_offs                     p_id  \\\n",
       "0    [82, 86]  DDI-DrugBank.d481.s0.p0   \n",
       "1    [49, 58]  DDI-DrugBank.d419.s0.p0   \n",
       "2  [175, 184]  DDI-DrugBank.d419.s0.p1   \n",
       "3  [175, 184]  DDI-DrugBank.d419.s0.p2   \n",
       "4    [73, 83]  DDI-DrugBank.d419.s1.p0   \n",
       "\n",
       "                                               s_dir                s_file  \\\n",
       "0  /Users/lluccardoner/PycharmProjects/MET_AHLT_L...  Estramustine_ddi.xml   \n",
       "1  /Users/lluccardoner/PycharmProjects/MET_AHLT_L...   Clavulanate_ddi.xml   \n",
       "2  /Users/lluccardoner/PycharmProjects/MET_AHLT_L...   Clavulanate_ddi.xml   \n",
       "3  /Users/lluccardoner/PycharmProjects/MET_AHLT_L...   Clavulanate_ddi.xml   \n",
       "4  /Users/lluccardoner/PycharmProjects/MET_AHLT_L...   Clavulanate_ddi.xml   \n",
       "\n",
       "                   s_id                                             s_text  \\\n",
       "0  DDI-DrugBank.d481.s0  Milk, milk products, and calcium-rich foods or...   \n",
       "1  DDI-DrugBank.d419.s0  The concurrent administration of allopurinol a...   \n",
       "2  DDI-DrugBank.d419.s0  The concurrent administration of allopurinol a...   \n",
       "3  DDI-DrugBank.d419.s0  The concurrent administration of allopurinol a...   \n",
       "4  DDI-DrugBank.d419.s1  It is not known whether this potentiation of a...   \n",
       "\n",
       "                                        s_text_dummy       set  \\\n",
       "0  SOS Milk, milk products, and drug01-rich foods...  DrugBank   \n",
       "1  SOS The concurrent administration of drug01 an...  DrugBank   \n",
       "2  SOS The concurrent administration of drug01 an...  DrugBank   \n",
       "3  SOS The concurrent administration of drug00 an...  DrugBank   \n",
       "4  SOS It is not known whether this potentiation ...  DrugBank   \n",
       "\n",
       "                                              tokens  \\\n",
       "0  [SOS, Milk, ,, milk, products, ,, and, drug01-...   \n",
       "1  [SOS, The, concurrent, administration, of, dru...   \n",
       "2  [SOS, The, concurrent, administration, of, dru...   \n",
       "3  [SOS, The, concurrent, administration, of, dru...   \n",
       "4  [SOS, It, is, not, known, whether, this, poten...   \n",
       "\n",
       "                                          tokens_enc  \n",
       "0  [[-1.4499204, -1.0749171, 0.59493756, -0.75476...  \n",
       "1  [[-1.4499204, -1.0749171, 0.59493756, -0.75476...  \n",
       "2  [[-1.4499204, -1.0749171, 0.59493756, -0.75476...  \n",
       "3  [[-1.4499204, -1.0749171, 0.59493756, -0.75476...  \n",
       "4  [[-1.4499204, -1.0749171, 0.59493756, -0.75476...  "
      ]
     },
     "execution_count": 15,
     "metadata": {},
     "output_type": "execute_result"
    }
   ],
   "source": [
    "df_train.head(5)"
   ]
  },
  {
   "cell_type": "code",
   "execution_count": 16,
   "metadata": {},
   "outputs": [
    {
     "data": {
      "text/plain": [
       "(27792,)"
      ]
     },
     "execution_count": 16,
     "metadata": {},
     "output_type": "execute_result"
    }
   ],
   "source": [
    "Ys = df_train['ddi_type']\n",
    "Ys.shape"
   ]
  },
  {
   "cell_type": "code",
   "execution_count": 17,
   "metadata": {},
   "outputs": [
    {
     "name": "stdout",
     "output_type": "stream",
     "text": [
      "Classes: ['advise' 'effect' 'int' 'mechanism' 'none']\n"
     ]
    }
   ],
   "source": [
    "le = preprocessing.LabelEncoder()\n",
    "le.fit(Ys)\n",
    "print(\"Classes:\",le.classes_)"
   ]
  },
  {
   "cell_type": "code",
   "execution_count": 18,
   "metadata": {},
   "outputs": [],
   "source": [
    "df_train['ddi_type_enc'] = df_train['ddi_type'].apply(lambda x: le.transform([x]) )"
   ]
  },
  {
   "cell_type": "code",
   "execution_count": 46,
   "metadata": {},
   "outputs": [
    {
     "data": {
      "text/html": [
       "<div>\n",
       "<style scoped>\n",
       "    .dataframe tbody tr th:only-of-type {\n",
       "        vertical-align: middle;\n",
       "    }\n",
       "\n",
       "    .dataframe tbody tr th {\n",
       "        vertical-align: top;\n",
       "    }\n",
       "\n",
       "    .dataframe thead th {\n",
       "        text-align: right;\n",
       "    }\n",
       "</style>\n",
       "<table border=\"1\" class=\"dataframe\">\n",
       "  <thead>\n",
       "    <tr style=\"text-align: right;\">\n",
       "      <th></th>\n",
       "      <th>ddi</th>\n",
       "      <th>ddi_type</th>\n",
       "      <th>e1_id</th>\n",
       "      <th>e1_offs</th>\n",
       "      <th>e2_id</th>\n",
       "      <th>e2_offs</th>\n",
       "      <th>p_id</th>\n",
       "      <th>s_dir</th>\n",
       "      <th>s_file</th>\n",
       "      <th>s_id</th>\n",
       "      <th>s_text</th>\n",
       "      <th>s_text_dummy</th>\n",
       "      <th>set</th>\n",
       "      <th>tokens</th>\n",
       "      <th>tokens_enc</th>\n",
       "      <th>ddi_type_enc</th>\n",
       "    </tr>\n",
       "  </thead>\n",
       "  <tbody>\n",
       "    <tr>\n",
       "      <th>0</th>\n",
       "      <td>1</td>\n",
       "      <td>mechanism</td>\n",
       "      <td>DDI-DrugBank.d481.s0.e0</td>\n",
       "      <td>[25, 31]</td>\n",
       "      <td>DDI-DrugBank.d481.s0.e1</td>\n",
       "      <td>[82, 86]</td>\n",
       "      <td>DDI-DrugBank.d481.s0.p0</td>\n",
       "      <td>/Users/lluccardoner/PycharmProjects/MET_AHLT_L...</td>\n",
       "      <td>Estramustine_ddi.xml</td>\n",
       "      <td>DDI-DrugBank.d481.s0</td>\n",
       "      <td>Milk, milk products, and calcium-rich foods or...</td>\n",
       "      <td>SOS Milk, milk products, and drug01-rich foods...</td>\n",
       "      <td>DrugBank</td>\n",
       "      <td>[SOS, Milk, ,, milk, products, ,, and, drug01-...</td>\n",
       "      <td>[[-1.4499204, -1.0749171, 0.59493756, -0.75476...</td>\n",
       "      <td>[3]</td>\n",
       "    </tr>\n",
       "  </tbody>\n",
       "</table>\n",
       "</div>"
      ],
      "text/plain": [
       "   ddi   ddi_type                    e1_id   e1_offs                    e2_id  \\\n",
       "0    1  mechanism  DDI-DrugBank.d481.s0.e0  [25, 31]  DDI-DrugBank.d481.s0.e1   \n",
       "\n",
       "    e2_offs                     p_id  \\\n",
       "0  [82, 86]  DDI-DrugBank.d481.s0.p0   \n",
       "\n",
       "                                               s_dir                s_file  \\\n",
       "0  /Users/lluccardoner/PycharmProjects/MET_AHLT_L...  Estramustine_ddi.xml   \n",
       "\n",
       "                   s_id                                             s_text  \\\n",
       "0  DDI-DrugBank.d481.s0  Milk, milk products, and calcium-rich foods or...   \n",
       "\n",
       "                                        s_text_dummy       set  \\\n",
       "0  SOS Milk, milk products, and drug01-rich foods...  DrugBank   \n",
       "\n",
       "                                              tokens  \\\n",
       "0  [SOS, Milk, ,, milk, products, ,, and, drug01-...   \n",
       "\n",
       "                                          tokens_enc ddi_type_enc  \n",
       "0  [[-1.4499204, -1.0749171, 0.59493756, -0.75476...          [3]  "
      ]
     },
     "execution_count": 46,
     "metadata": {},
     "output_type": "execute_result"
    }
   ],
   "source": [
    "df_train.head(1)"
   ]
  },
  {
   "cell_type": "code",
   "execution_count": 19,
   "metadata": {},
   "outputs": [
    {
     "name": "stdout",
     "output_type": "stream",
     "text": [
      "(27792,) (27792,)\n"
     ]
    }
   ],
   "source": [
    "Xs_enc = np.array(df_train['tokens_enc'].tolist())\n",
    "Ys_enc = np.array(df_train['ddi_type_enc'].values)\n",
    "print(Xs_enc.shape, Ys_enc.shape)"
   ]
  },
  {
   "cell_type": "code",
   "execution_count": 20,
   "metadata": {},
   "outputs": [
    {
     "name": "stdout",
     "output_type": "stream",
     "text": [
      "27792 19 100\n"
     ]
    }
   ],
   "source": [
    "# Xs_enc = [sentence1 , sentence2, ...]\n",
    "# Xs_enc[i] = [word1, word2, ...]\n",
    "# Xs_enc[i][j] = [vector]\n",
    "# Xs_enc = [[[vector], [vector], ...] , [[vector], [vector], ...], ...]\n",
    "# reshape input to be [sentence, words, features]\n",
    "print(len(Xs_enc), len(Xs_enc[0]), len(Xs_enc[0][0]))"
   ]
  },
  {
   "cell_type": "code",
   "execution_count": 21,
   "metadata": {},
   "outputs": [
    {
     "name": "stdout",
     "output_type": "stream",
     "text": [
      "Max: 152 Min: 3 Mean 54.08822682786413\n"
     ]
    }
   ],
   "source": [
    "sentence_len = [len(x) for x in Xs_enc]\n",
    "print(\"Max:\", max(sentence_len), \"Min:\", min(sentence_len), \"Mean\", np.mean(sentence_len))"
   ]
  },
  {
   "cell_type": "code",
   "execution_count": 23,
   "metadata": {},
   "outputs": [],
   "source": [
    "trainX = np.zeros([27792, 152, 100])\n",
    "\n",
    "for i, s in enumerate(Xs_enc):\n",
    "    s = np.array(s)\n",
    "    shape = s.shape\n",
    "    for j in range(shape[0], 152):\n",
    "        s = np.append(s, np.zeros([1,100]), axis=0)\n",
    "    trainX[i] = s\n",
    "    \n",
    "print( type(trainX), trainX.shape)"
   ]
  },
  {
   "cell_type": "code",
   "execution_count": 44,
   "metadata": {},
   "outputs": [
    {
     "data": {
      "text/plain": [
       "array([0., 0., 0., 0., 0., 1.], dtype=float32)"
      ]
     },
     "execution_count": 44,
     "metadata": {},
     "output_type": "execute_result"
    }
   ],
   "source": [
    "to_categorical(5)"
   ]
  },
  {
   "cell_type": "code",
   "execution_count": 50,
   "metadata": {},
   "outputs": [
    {
     "name": "stdout",
     "output_type": "stream",
     "text": [
      "[0. 0. 0. 1.]\n",
      "<class 'numpy.ndarray'> (27792, 5)\n"
     ]
    }
   ],
   "source": [
    "from keras.utils import to_categorical\n",
    "\n",
    "trainY = np.zeros([27792, 5]) #5 classes\n",
    "\n",
    "for i, l in enumerate(Ys_enc):\n",
    "    print(to_categorical(l[0]))\n",
    "    break\n",
    "    #trainY[i] = np.array(to_categorical(l[0]))\n",
    "    \n",
    "print(type(trainY), trainY.shape)"
   ]
  },
  {
   "cell_type": "code",
   "execution_count": 34,
   "metadata": {
    "scrolled": false
   },
   "outputs": [],
   "source": [
    "model = Sequential()\n",
    "model.add(LSTM(52, input_shape=(152, 100)))\n",
    "model.add(Dense(1))\n",
    "model.add(Activation('softmax'))\n",
    "model.compile(loss='categorical_crossentropy', optimizer='adam', metrics=['accuracy'])"
   ]
  },
  {
   "cell_type": "code",
   "execution_count": 35,
   "metadata": {},
   "outputs": [
    {
     "ename": "ValueError",
     "evalue": "You are passing a target array of shape (27792, 1) while using as loss `categorical_crossentropy`. `categorical_crossentropy` expects targets to be binary matrices (1s and 0s) of shape (samples, classes). If your targets are integer classes, you can convert them to the expected format via:\n```\nfrom keras.utils import to_categorical\ny_binary = to_categorical(y_int)\n```\n\nAlternatively, you can use the loss function `sparse_categorical_crossentropy` instead, which does expect integer targets.",
     "output_type": "error",
     "traceback": [
      "\u001b[0;31m---------------------------------------------------------------------------\u001b[0m",
      "\u001b[0;31mValueError\u001b[0m                                Traceback (most recent call last)",
      "\u001b[0;32m<ipython-input-35-d100a8b769dc>\u001b[0m in \u001b[0;36m<module>\u001b[0;34m\u001b[0m\n\u001b[0;32m----> 1\u001b[0;31m \u001b[0mhistory\u001b[0m \u001b[0;34m=\u001b[0m \u001b[0mmodel\u001b[0m\u001b[0;34m.\u001b[0m\u001b[0mfit\u001b[0m\u001b[0;34m(\u001b[0m\u001b[0mtrainX\u001b[0m\u001b[0;34m,\u001b[0m \u001b[0mtrainY\u001b[0m\u001b[0;34m,\u001b[0m \u001b[0mepochs\u001b[0m\u001b[0;34m=\u001b[0m\u001b[0;36m1\u001b[0m\u001b[0;34m,\u001b[0m \u001b[0mbatch_size\u001b[0m\u001b[0;34m=\u001b[0m\u001b[0;36m100\u001b[0m\u001b[0;34m,\u001b[0m \u001b[0mverbose\u001b[0m\u001b[0;34m=\u001b[0m\u001b[0;36m1\u001b[0m\u001b[0;34m)\u001b[0m\u001b[0;34m\u001b[0m\u001b[0;34m\u001b[0m\u001b[0m\n\u001b[0m",
      "\u001b[0;32m~/anaconda3/envs/AHLT-LSTM/lib/python3.6/site-packages/keras/engine/training.py\u001b[0m in \u001b[0;36mfit\u001b[0;34m(self, x, y, batch_size, epochs, verbose, callbacks, validation_split, validation_data, shuffle, class_weight, sample_weight, initial_epoch, steps_per_epoch, validation_steps, **kwargs)\u001b[0m\n\u001b[1;32m    950\u001b[0m             \u001b[0msample_weight\u001b[0m\u001b[0;34m=\u001b[0m\u001b[0msample_weight\u001b[0m\u001b[0;34m,\u001b[0m\u001b[0;34m\u001b[0m\u001b[0;34m\u001b[0m\u001b[0m\n\u001b[1;32m    951\u001b[0m             \u001b[0mclass_weight\u001b[0m\u001b[0;34m=\u001b[0m\u001b[0mclass_weight\u001b[0m\u001b[0;34m,\u001b[0m\u001b[0;34m\u001b[0m\u001b[0;34m\u001b[0m\u001b[0m\n\u001b[0;32m--> 952\u001b[0;31m             batch_size=batch_size)\n\u001b[0m\u001b[1;32m    953\u001b[0m         \u001b[0;31m# Prepare validation data.\u001b[0m\u001b[0;34m\u001b[0m\u001b[0;34m\u001b[0m\u001b[0;34m\u001b[0m\u001b[0m\n\u001b[1;32m    954\u001b[0m         \u001b[0mdo_validation\u001b[0m \u001b[0;34m=\u001b[0m \u001b[0;32mFalse\u001b[0m\u001b[0;34m\u001b[0m\u001b[0;34m\u001b[0m\u001b[0m\n",
      "\u001b[0;32m~/anaconda3/envs/AHLT-LSTM/lib/python3.6/site-packages/keras/engine/training.py\u001b[0m in \u001b[0;36m_standardize_user_data\u001b[0;34m(self, x, y, sample_weight, class_weight, check_array_lengths, batch_size)\u001b[0m\n\u001b[1;32m    807\u001b[0m                 \u001b[0;31m# using improper loss fns.\u001b[0m\u001b[0;34m\u001b[0m\u001b[0;34m\u001b[0m\u001b[0;34m\u001b[0m\u001b[0m\n\u001b[1;32m    808\u001b[0m                 check_loss_and_target_compatibility(\n\u001b[0;32m--> 809\u001b[0;31m                     y, self._feed_loss_fns, feed_output_shapes)\n\u001b[0m\u001b[1;32m    810\u001b[0m         \u001b[0;32melse\u001b[0m\u001b[0;34m:\u001b[0m\u001b[0;34m\u001b[0m\u001b[0;34m\u001b[0m\u001b[0m\n\u001b[1;32m    811\u001b[0m             \u001b[0my\u001b[0m \u001b[0;34m=\u001b[0m \u001b[0;34m[\u001b[0m\u001b[0;34m]\u001b[0m\u001b[0;34m\u001b[0m\u001b[0;34m\u001b[0m\u001b[0m\n",
      "\u001b[0;32m~/anaconda3/envs/AHLT-LSTM/lib/python3.6/site-packages/keras/engine/training_utils.py\u001b[0m in \u001b[0;36mcheck_loss_and_target_compatibility\u001b[0;34m(targets, loss_fns, output_shapes)\u001b[0m\n\u001b[1;32m    271\u001b[0m                 raise ValueError(\n\u001b[1;32m    272\u001b[0m                     \u001b[0;34m'You are passing a target array of shape '\u001b[0m \u001b[0;34m+\u001b[0m \u001b[0mstr\u001b[0m\u001b[0;34m(\u001b[0m\u001b[0my\u001b[0m\u001b[0;34m.\u001b[0m\u001b[0mshape\u001b[0m\u001b[0;34m)\u001b[0m \u001b[0;34m+\u001b[0m\u001b[0;34m\u001b[0m\u001b[0;34m\u001b[0m\u001b[0m\n\u001b[0;32m--> 273\u001b[0;31m                     \u001b[0;34m' while using as loss `categorical_crossentropy`. '\u001b[0m\u001b[0;34m\u001b[0m\u001b[0;34m\u001b[0m\u001b[0m\n\u001b[0m\u001b[1;32m    274\u001b[0m                     \u001b[0;34m'`categorical_crossentropy` expects '\u001b[0m\u001b[0;34m\u001b[0m\u001b[0;34m\u001b[0m\u001b[0m\n\u001b[1;32m    275\u001b[0m                     \u001b[0;34m'targets to be binary matrices (1s and 0s) '\u001b[0m\u001b[0;34m\u001b[0m\u001b[0;34m\u001b[0m\u001b[0m\n",
      "\u001b[0;31mValueError\u001b[0m: You are passing a target array of shape (27792, 1) while using as loss `categorical_crossentropy`. `categorical_crossentropy` expects targets to be binary matrices (1s and 0s) of shape (samples, classes). If your targets are integer classes, you can convert them to the expected format via:\n```\nfrom keras.utils import to_categorical\ny_binary = to_categorical(y_int)\n```\n\nAlternatively, you can use the loss function `sparse_categorical_crossentropy` instead, which does expect integer targets."
     ]
    }
   ],
   "source": [
    "history = model.fit(trainX, trainY, epochs=1, batch_size=100, verbose=1)"
   ]
  },
  {
   "cell_type": "code",
   "execution_count": null,
   "metadata": {},
   "outputs": [],
   "source": []
  }
 ],
 "metadata": {
  "kernelspec": {
   "display_name": "Python 3",
   "language": "python",
   "name": "python3"
  },
  "language_info": {
   "codemirror_mode": {
    "name": "ipython",
    "version": 3
   },
   "file_extension": ".py",
   "mimetype": "text/x-python",
   "name": "python",
   "nbconvert_exporter": "python",
   "pygments_lexer": "ipython3",
   "version": "3.6.8"
  }
 },
 "nbformat": 4,
 "nbformat_minor": 2
}
